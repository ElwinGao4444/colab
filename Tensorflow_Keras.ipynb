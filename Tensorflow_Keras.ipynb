{
  "nbformat": 4,
  "nbformat_minor": 0,
  "metadata": {
    "colab": {
      "provenance": [],
      "toc_visible": true,
      "authorship_tag": "ABX9TyNmeZhCRf0Nn93Mf4k310fn",
      "include_colab_link": true
    },
    "kernelspec": {
      "name": "python3",
      "display_name": "Python 3"
    },
    "language_info": {
      "name": "python"
    }
  },
  "cells": [
    {
      "cell_type": "markdown",
      "metadata": {
        "id": "view-in-github",
        "colab_type": "text"
      },
      "source": [
        "<a href=\"https://colab.research.google.com/github/ElwinGao4444/colab/blob/main/Tensorflow_Keras.ipynb\" target=\"_parent\"><img src=\"https://colab.research.google.com/assets/colab-badge.svg\" alt=\"Open In Colab\"/></a>"
      ]
    },
    {
      "cell_type": "code",
      "execution_count": 1,
      "metadata": {
        "id": "Ey2cOQWHuFV0"
      },
      "outputs": [],
      "source": [
        "import tensorflow as tf\n",
        "import keras\n",
        "from keras import layers"
      ]
    },
    {
      "cell_type": "markdown",
      "source": [
        "# Sequential模型"
      ],
      "metadata": {
        "id": "2FhnZD5Zudpj"
      }
    },
    {
      "cell_type": "markdown",
      "source": [
        "## 模型初始化"
      ],
      "metadata": {
        "id": "LiFKmY-zRXxI"
      }
    },
    {
      "cell_type": "code",
      "source": [
        "# Define Sequential model with 3 layers\n",
        "model = keras.Sequential(\n",
        "    [   # 每个layers都可以当\"函数\"使用\n",
        "        layers.Dense(2, activation=\"relu\", name=\"layer1\"),\n",
        "        layers.Dense(3, activation=\"relu\", name=\"layer2\"),\n",
        "        layers.Dense(4, name=\"layer3\"),\n",
        "    ]\n",
        ")\n",
        "# Call model on a test input\n",
        "x = tf.ones((3, 3))\n",
        "y = model(x)"
      ],
      "metadata": {
        "id": "3KL-KEgLOvh2"
      },
      "execution_count": 3,
      "outputs": []
    },
    {
      "cell_type": "markdown",
      "source": [
        "## 模型修改"
      ],
      "metadata": {
        "id": "mdaP2mqdRcgg"
      }
    },
    {
      "cell_type": "code",
      "source": [
        "model = keras.Sequential(name=\"my_sequential\")  # 初始化一个空Sequential模型\n",
        "model.add(layers.Dense(2, activation=\"relu\"))   # 通过add方法，追加layer\n",
        "model.add(layers.Dense(3, activation=\"relu\"))\n",
        "model.add(layers.Dense(4))\n",
        "model.pop() # 通过pop方法，删除layer\n",
        "print(len(model.layers))"
      ],
      "metadata": {
        "colab": {
          "base_uri": "https://localhost:8080/"
        },
        "id": "jbmXlq3CRfQo",
        "outputId": "4c5e8e5f-28c0-4d4c-aba9-fa42c3d4b8a7"
      },
      "execution_count": 7,
      "outputs": [
        {
          "output_type": "stream",
          "name": "stdout",
          "text": [
            "2\n"
          ]
        }
      ]
    },
    {
      "cell_type": "markdown",
      "source": [
        "## 动态weight初始化"
      ],
      "metadata": {
        "id": "Q00fu38-SRjs"
      }
    },
    {
      "cell_type": "code",
      "source": [
        "layer = layers.Dense(3) # layer输出feature数为3（?行3列）\n",
        "print(layer.weights)    # 定义时，不初始化weight，因为不知道输入的feature数\n",
        "x = tf.ones((1, 4))     # layer输入的样本数为1，feature数为4(1行4列)\n",
        "y = layer(x)            # 第一次执行时，才知道输入的feature数，才能初始化weight\n",
        "print(layer.weights)    # 4行3列，代表输入feature是4，输出feature是3"
      ],
      "metadata": {
        "colab": {
          "base_uri": "https://localhost:8080/"
        },
        "id": "OgYwORP_STXJ",
        "outputId": "e2a9d832-11e8-448c-811d-69b786390955"
      },
      "execution_count": 8,
      "outputs": [
        {
          "output_type": "stream",
          "name": "stdout",
          "text": [
            "[]\n",
            "[<tf.Variable 'dense_8/kernel:0' shape=(4, 3) dtype=float32, numpy=\n",
            "array([[ 0.85171616,  0.44975972,  0.10505223],\n",
            "       [ 0.19646275, -0.36972088,  0.14572906],\n",
            "       [ 0.746668  , -0.28941393, -0.16611195],\n",
            "       [-0.27370858, -0.31808668, -0.6035128 ]], dtype=float32)>, <tf.Variable 'dense_8/bias:0' shape=(3,) dtype=float32, numpy=array([0., 0., 0.], dtype=float32)>]\n"
          ]
        }
      ]
    },
    {
      "cell_type": "code",
      "source": [
        "model = keras.Sequential(\n",
        "    [\n",
        "        layers.Dense(2, activation=\"relu\"),\n",
        "        layers.Dense(3, activation=\"relu\"),\n",
        "        layers.Dense(4),\n",
        "    ]\n",
        ")   # 此时无法summary，因为所有weight都未初始化\n",
        "x = tf.ones((1, 4))\n",
        "y = model(x)\n",
        "model.summary() # 通过一次调用，所有参数初始化完成，可以看到model的完整结构"
      ],
      "metadata": {
        "colab": {
          "base_uri": "https://localhost:8080/"
        },
        "id": "G8CU0S-RV4Q2",
        "outputId": "b15c42ba-dff8-4979-b905-559270260f0d"
      },
      "execution_count": 11,
      "outputs": [
        {
          "output_type": "stream",
          "name": "stdout",
          "text": [
            "Model: \"sequential_5\"\n",
            "_________________________________________________________________\n",
            " Layer (type)                Output Shape              Param #   \n",
            "=================================================================\n",
            " dense_15 (Dense)            (1, 2)                    10        \n",
            "                                                                 \n",
            " dense_16 (Dense)            (1, 3)                    9         \n",
            "                                                                 \n",
            " dense_17 (Dense)            (1, 4)                    16        \n",
            "                                                                 \n",
            "=================================================================\n",
            "Total params: 35 (140.00 Byte)\n",
            "Trainable params: 35 (140.00 Byte)\n",
            "Non-trainable params: 0 (0.00 Byte)\n",
            "_________________________________________________________________\n"
          ]
        }
      ]
    },
    {
      "cell_type": "markdown",
      "source": [
        "## 静态weight初始化"
      ],
      "metadata": {
        "id": "s7WhufJpW8EE"
      }
    },
    {
      "cell_type": "code",
      "source": [
        "model = keras.Sequential(\n",
        "    [   # 前置一个Input对象，可以静态初始化model的结构\n",
        "        keras.Input(shape=(4,)),    # Input并不是一个layer，所以不会在结构中显示\n",
        "        layers.Dense(2, activation=\"relu\"),\n",
        "        layers.Dense(3, activation=\"relu\"),\n",
        "        layers.Dense(4),\n",
        "    ]\n",
        ")\n",
        "\n",
        "model.summary()"
      ],
      "metadata": {
        "colab": {
          "base_uri": "https://localhost:8080/"
        },
        "id": "jsTPs7vyXD0k",
        "outputId": "b1ac17ea-9b1d-478e-eb5e-e1ce302bf86a"
      },
      "execution_count": 14,
      "outputs": [
        {
          "output_type": "stream",
          "name": "stdout",
          "text": [
            "Model: \"sequential_8\"\n",
            "_________________________________________________________________\n",
            " Layer (type)                Output Shape              Param #   \n",
            "=================================================================\n",
            " dense_24 (Dense)            (None, 2)                 10        \n",
            "                                                                 \n",
            " dense_25 (Dense)            (None, 3)                 9         \n",
            "                                                                 \n",
            " dense_26 (Dense)            (None, 4)                 16        \n",
            "                                                                 \n",
            "=================================================================\n",
            "Total params: 35 (140.00 Byte)\n",
            "Trainable params: 35 (140.00 Byte)\n",
            "Non-trainable params: 0 (0.00 Byte)\n",
            "_________________________________________________________________\n"
          ]
        }
      ]
    },
    {
      "cell_type": "code",
      "source": [
        "model = keras.Sequential(\n",
        "    [   # 也可以通过在首个layer上增加input_shape参数来指定输入feature数\n",
        "        layers.Dense(2, activation=\"relu\", input_shape=(4,)),\n",
        "        layers.Dense(3, activation=\"relu\"),\n",
        "        layers.Dense(4),\n",
        "    ]\n",
        ")\n",
        "\n",
        "model.summary()"
      ],
      "metadata": {
        "colab": {
          "base_uri": "https://localhost:8080/"
        },
        "id": "ZNnfo9OTX44K",
        "outputId": "22fc945f-3fcb-4848-f712-1335057a39f2"
      },
      "execution_count": 16,
      "outputs": [
        {
          "output_type": "stream",
          "name": "stdout",
          "text": [
            "Model: \"sequential_10\"\n",
            "_________________________________________________________________\n",
            " Layer (type)                Output Shape              Param #   \n",
            "=================================================================\n",
            " dense_30 (Dense)            (None, 2)                 10        \n",
            "                                                                 \n",
            " dense_31 (Dense)            (None, 3)                 9         \n",
            "                                                                 \n",
            " dense_32 (Dense)            (None, 4)                 16        \n",
            "                                                                 \n",
            "=================================================================\n",
            "Total params: 35 (140.00 Byte)\n",
            "Trainable params: 35 (140.00 Byte)\n",
            "Non-trainable params: 0 (0.00 Byte)\n",
            "_________________________________________________________________\n"
          ]
        }
      ]
    },
    {
      "cell_type": "markdown",
      "source": [
        "## 特征提取"
      ],
      "metadata": {
        "id": "liENa9CUhh9Q"
      }
    },
    {
      "cell_type": "code",
      "source": [
        "initial_model = keras.Sequential(\n",
        "    [\n",
        "        keras.Input(shape=(250, 250, 3)),\n",
        "        layers.Conv2D(32, 5, strides=2, activation=\"relu\"),\n",
        "        layers.Conv2D(32, 3, activation=\"relu\", name=\"my_intermediate_layer\"),\n",
        "        layers.Conv2D(32, 3, activation=\"relu\"),\n",
        "    ]\n",
        ")\n",
        "\n",
        "# 提取全部特征参数\n",
        "feature_extractor = keras.Model(\n",
        "    inputs=initial_model.inputs,\n",
        "    outputs=[layer.output for layer in initial_model.layers],\n",
        ")\n",
        "x = tf.ones((1, 250, 250, 3))\n",
        "features = feature_extractor(x)\n",
        "\n",
        "# 提取指定layer的特征参数\n",
        "feature_extractor = keras.Model(\n",
        "    inputs=initial_model.inputs,\n",
        "    outputs=initial_model.get_layer(name=\"my_intermediate_layer\").output,\n",
        ")\n",
        "x = tf.ones((1, 250, 250, 3))\n",
        "features = feature_extractor(x)"
      ],
      "metadata": {
        "id": "K1rj3Fhvhkjc"
      },
      "execution_count": 19,
      "outputs": []
    },
    {
      "cell_type": "markdown",
      "source": [
        "## 迁移学习"
      ],
      "metadata": {
        "id": "-n_T3y8zh-5n"
      }
    },
    {
      "cell_type": "code",
      "source": [
        "model = keras.Sequential([\n",
        "    keras.Input(shape=(784)),\n",
        "    layers.Dense(32, activation='relu'),\n",
        "    layers.Dense(32, activation='relu'),\n",
        "    layers.Dense(32, activation='relu'),\n",
        "    layers.Dense(10),\n",
        "])\n",
        "model.save_weights('my_checkpoint')\n",
        "\n",
        "# Presumably you would want to first load pre-trained weights.\n",
        "model.load_weights('my_checkpoint')\n",
        "\n",
        "# Freeze all layers except the last one.\n",
        "for layer in model.layers[:-1]:\n",
        "  layer.trainable = False\n",
        "\n",
        "# Recompile and train (this will only update the weights of the last layer).\n",
        "# model.compile(...)\n",
        "# model.fit(...)"
      ],
      "metadata": {
        "id": "FP8tgRNtiA5i"
      },
      "execution_count": 20,
      "outputs": []
    }
  ]
}