{
  "nbformat": 4,
  "nbformat_minor": 0,
  "metadata": {
    "colab": {
      "provenance": [],
      "toc_visible": true,
      "authorship_tag": "ABX9TyOF1s/LEFK85pM1/yRABfIW",
      "include_colab_link": true
    },
    "kernelspec": {
      "name": "python3",
      "display_name": "Python 3"
    },
    "language_info": {
      "name": "python"
    }
  },
  "cells": [
    {
      "cell_type": "markdown",
      "metadata": {
        "id": "view-in-github",
        "colab_type": "text"
      },
      "source": [
        "<a href=\"https://colab.research.google.com/github/ElwinGao4444/colab/blob/main/NumPy.ipynb\" target=\"_parent\"><img src=\"https://colab.research.google.com/assets/colab-badge.svg\" alt=\"Open In Colab\"/></a>"
      ]
    },
    {
      "cell_type": "markdown",
      "source": [
        "# Numpy介绍\n",
        "\n",
        "NumPy是一个数学库，主要用于数组计算\n",
        "\n",
        "NumPy与SciPy和MatPlotLib\n",
        "\n",
        "(官方文档：https://numpy.org/doc/stable/)"
      ],
      "metadata": {
        "id": "KrrpShmPZV8c"
      }
    },
    {
      "cell_type": "markdown",
      "source": [],
      "metadata": {
        "id": "90vKoE-7ZANE"
      }
    },
    {
      "cell_type": "code",
      "execution_count": null,
      "metadata": {
        "id": "S2P9fo0_guv_"
      },
      "outputs": [],
      "source": [
        "import numpy as np"
      ]
    },
    {
      "cell_type": "markdown",
      "source": [
        "# 基础数据结构与用法\n",
        "Numpy的核心数据结构为：ndarray"
      ],
      "metadata": {
        "id": "tlgsAR_xX5dk"
      }
    },
    {
      "cell_type": "markdown",
      "source": [
        "## 基本数据结构\n",
        "\n",
        "（官方文档：https://numpy.org/doc/stable/user/basics.types.html）"
      ],
      "metadata": {
        "id": "bsceQjDBc4Gz"
      }
    },
    {
      "cell_type": "code",
      "source": [
        "# python内置的数据结构，都可以直接转化为numpy的数据结构\n",
        "print(np.dtype((str,64))) # '<'表示小端模式\n",
        "print(np.dtype(int))\n",
        "print(np.dtype(float))"
      ],
      "metadata": {
        "colab": {
          "base_uri": "https://localhost:8080/"
        },
        "id": "E7-UpDmQc6Oe",
        "outputId": "931912b9-67f1-44e1-c9b2-d794942f1ffc"
      },
      "execution_count": null,
      "outputs": [
        {
          "output_type": "stream",
          "name": "stdout",
          "text": [
            "<U64\n",
            "int64\n",
            "float64\n"
          ]
        }
      ]
    },
    {
      "cell_type": "code",
      "source": [
        "# 更常用的方法，是用dtype指定numpy的数据类型\n",
        "print(np.dtype((np.str_,32)))\n",
        "print(np.dtype(np.int32))\n",
        "print(np.dtype(np.float32))"
      ],
      "metadata": {
        "colab": {
          "base_uri": "https://localhost:8080/"
        },
        "id": "aX2soMPG_afJ",
        "outputId": "b3f5a494-123d-4cf9-82e9-3003f650cde3"
      },
      "execution_count": null,
      "outputs": [
        {
          "output_type": "stream",
          "name": "stdout",
          "text": [
            "<U32\n",
            "int32\n",
            "float32\n"
          ]
        }
      ]
    },
    {
      "cell_type": "code",
      "source": [
        "# 也可以用前缀字母直接指定numpy内置数据类型\n",
        "print(np.dtype(\"S16\"))  # '|'表示多种类型（不是很确定）\n",
        "print(np.dtype(\"i2\"))\n",
        "print(np.dtype('f2'))"
      ],
      "metadata": {
        "colab": {
          "base_uri": "https://localhost:8080/"
        },
        "id": "lxr0JGFu_dCS",
        "outputId": "2fe20012-9607-4680-a7c7-8ea8ea25ef2a"
      },
      "execution_count": null,
      "outputs": [
        {
          "output_type": "stream",
          "name": "stdout",
          "text": [
            "|S16\n",
            "int16\n",
            "float16\n"
          ]
        }
      ]
    },
    {
      "cell_type": "code",
      "source": [
        "# numpy通过dtype来指定和获取数据类型\n",
        "z = np.arange(3, dtype=np.uint8)\n",
        "print(z.dtype)"
      ],
      "metadata": {
        "colab": {
          "base_uri": "https://localhost:8080/"
        },
        "id": "rDmOxCQjhZbs",
        "outputId": "97c7d1f5-3c7e-496e-e42f-cc3d09511574"
      },
      "execution_count": null,
      "outputs": [
        {
          "output_type": "stream",
          "name": "stdout",
          "text": [
            "uint8\n"
          ]
        }
      ]
    },
    {
      "cell_type": "markdown",
      "source": [
        "## 数据初始化\n",
        "\n",
        "说明：numpy的数组，要求元素类型必须统一\n",
        "\n",
        "（官方文档：https://numpy.org/doc/stable/user/basics.creation.html）"
      ],
      "metadata": {
        "id": "-IOeU8diYwYM"
      }
    },
    {
      "cell_type": "markdown",
      "source": [
        "### 直接初始化"
      ],
      "metadata": {
        "id": "m3kaonfL4HEq"
      }
    },
    {
      "cell_type": "code",
      "source": [
        "# array方法\n",
        "print('创建一维数组：', np.array([1,2,3]))\n",
        "print('创建二维数组：', np.array([[1,2,3],[4,5,6]]))\n",
        "print('创建数组时指定最小维度：', np.array([1,2,3], ndmin=2))  # 数组至少是二维的\n",
        "print('创建数组时指定数据类型：', np.array([1,2,3], dtype=float)) # dtype支持数据结构的三种表达方式（详见上节）"
      ],
      "metadata": {
        "colab": {
          "base_uri": "https://localhost:8080/"
        },
        "id": "Ax9ULNgZX-sL",
        "outputId": "1e0fb8d6-b39e-4558-e60f-15c0fca43b04"
      },
      "execution_count": null,
      "outputs": [
        {
          "output_type": "stream",
          "name": "stdout",
          "text": [
            "创建一维数组： [1 2 3]\n",
            "创建二维数组： [[1 2 3]\n",
            " [4 5 6]]\n",
            "创建数组时指定最小维度： [[1 2 3]]\n",
            "创建数组时指定数据类型： [1. 2. 3.]\n"
          ]
        }
      ]
    },
    {
      "cell_type": "code",
      "source": [
        "# 构造结构体数组\n",
        "student = np.dtype([('name',(str,10)), ('age',int), ('score',np.float32)])  # 使用dtype定义结构体\n",
        "print('创建结构体数组：', np.array([('a',1,99),('b',2,98),('c',3,97)], dtype=student))\n",
        "print('创建结构体数组（简单方式）：', np.array([('a',1,99),('b',2,98),('c',3,97)], dtype=('S16, i, f')))  # S默认是bytes类型，我们习惯上的字符串用U表示\n",
        "np.array(['a','b','c'])"
      ],
      "metadata": {
        "colab": {
          "base_uri": "https://localhost:8080/"
        },
        "id": "9VRBq0S9DeDl",
        "outputId": "251de2e5-c1aa-4582-fc37-81579510d9a1"
      },
      "execution_count": null,
      "outputs": [
        {
          "output_type": "stream",
          "name": "stdout",
          "text": [
            "创建结构体数组： [('a', 1, 99.) ('b', 2, 98.) ('c', 3, 97.)]\n",
            "创建结构体数组（简单方式）： [(b'a', 1, 99.) (b'b', 2, 98.) (b'c', 3, 97.)]\n"
          ]
        },
        {
          "output_type": "execute_result",
          "data": {
            "text/plain": [
              "array(['a', 'b', 'c'], dtype='<U1')"
            ]
          },
          "metadata": {},
          "execution_count": 317
        }
      ]
    },
    {
      "cell_type": "code",
      "source": [
        "# asarray方法\n",
        "# asarray和array用法非常相似\n",
        "# 二者最重要的区别为，asarray在转化ndarray时会共用内存，而array会新建内存\n",
        "print('使用asarray对将现有结构转化为ndarray：', np.asarray([1,2,3]))"
      ],
      "metadata": {
        "colab": {
          "base_uri": "https://localhost:8080/"
        },
        "id": "DzE9db2R_lDB",
        "outputId": "cd1bcc17-2bcb-4a04-9bfd-ee225cc73302"
      },
      "execution_count": null,
      "outputs": [
        {
          "output_type": "stream",
          "name": "stdout",
          "text": [
            "使用asarray对将现有结构转化为ndarray： [1 2 3]\n"
          ]
        }
      ]
    },
    {
      "cell_type": "markdown",
      "source": [
        "### 结构初始化"
      ],
      "metadata": {
        "id": "n2npdE0n4Vjj"
      }
    },
    {
      "cell_type": "code",
      "source": [
        "# empty用于创建未初始化的数组（未初始化不代表全0）\n",
        "print('创建一个1维空数组：', np.empty(3, dtype=int))\n",
        "print('创建一个2行3列的空数组：\\n', np.empty([3,2], dtype=int))"
      ],
      "metadata": {
        "colab": {
          "base_uri": "https://localhost:8080/"
        },
        "id": "gPtzBVX64Xwq",
        "outputId": "941342ae-1db7-4fe0-de38-434bb83f6a05"
      },
      "execution_count": null,
      "outputs": [
        {
          "output_type": "stream",
          "name": "stdout",
          "text": [
            "创建一个1维空数组： [0 0 0]\n",
            "创建一个2行3列的空数组：\n",
            " [[0 0]\n",
            " [0 0]\n",
            " [0 0]]\n"
          ]
        }
      ]
    },
    {
      "cell_type": "code",
      "source": [
        "# zeros用于创建初始化为0的数组\n",
        "print('创建一个1维零数组：', np.zeros(3, dtype=int))\n",
        "print('创建一个2行3列的零数组：\\n', np.zeros([3,2], dtype=int))"
      ],
      "metadata": {
        "colab": {
          "base_uri": "https://localhost:8080/"
        },
        "id": "AEViGhjN_sTL",
        "outputId": "c0c43c0f-ccde-4dff-e21d-75259ed556cd"
      },
      "execution_count": null,
      "outputs": [
        {
          "output_type": "stream",
          "name": "stdout",
          "text": [
            "创建一个1维零数组： [0 0 0]\n",
            "创建一个2行3列的零数组：\n",
            " [[0 0]\n",
            " [0 0]\n",
            " [0 0]]\n"
          ]
        }
      ]
    },
    {
      "cell_type": "code",
      "source": [
        "# ones用于创建初始化为1的数组\n",
        "print('创建一个1维一数组：', np.ones(3, dtype=int))\n",
        "print('创建一个2行3列的一数组：\\n', np.ones([3,2], dtype=int))"
      ],
      "metadata": {
        "colab": {
          "base_uri": "https://localhost:8080/"
        },
        "id": "rtdzfe5T_xgJ",
        "outputId": "d0bd082b-96c4-4c1f-e078-2c4c30420a81"
      },
      "execution_count": null,
      "outputs": [
        {
          "output_type": "stream",
          "name": "stdout",
          "text": [
            "创建一个1维一数组： [1 1 1]\n",
            "创建一个2行3列的一数组：\n",
            " [[1 1]\n",
            " [1 1]\n",
            " [1 1]]\n"
          ]
        }
      ]
    },
    {
      "cell_type": "code",
      "source": [
        "# full用于创建初始化为指定值的数组\n",
        "print('创建一个1维一数组：', np.full(3, 4, dtype=int))\n",
        "print('创建一个2行3列的一数组：\\n', np.full([3,2], fill_value=5, dtype=int))"
      ],
      "metadata": {
        "colab": {
          "base_uri": "https://localhost:8080/"
        },
        "id": "Md9tR8OH_2_B",
        "outputId": "fb18bd8f-ee09-42ec-84b2-2a0c36476e7d"
      },
      "execution_count": null,
      "outputs": [
        {
          "output_type": "stream",
          "name": "stdout",
          "text": [
            "创建一个1维一数组： [4 4 4]\n",
            "创建一个2行3列的一数组：\n",
            " [[5 5]\n",
            " [5 5]\n",
            " [5 5]]\n"
          ]
        }
      ]
    },
    {
      "cell_type": "code",
      "source": [
        "# eye用于创建对角线为1其他位置为0的矩阵\n",
        "print('创建一个10*10的：\\n', np.eye(10, 10, dtype=int)) # 列参数（第二个参数）可以省略，默认与行参数相同生成方阵"
      ],
      "metadata": {
        "colab": {
          "base_uri": "https://localhost:8080/"
        },
        "id": "jzOnb8Ht_7xj",
        "outputId": "9559d31e-d24f-4882-99b9-1308b1c3a183"
      },
      "execution_count": null,
      "outputs": [
        {
          "output_type": "stream",
          "name": "stdout",
          "text": [
            "创建一个10*10的：\n",
            " [[1 0 0 0 0 0 0 0 0 0]\n",
            " [0 1 0 0 0 0 0 0 0 0]\n",
            " [0 0 1 0 0 0 0 0 0 0]\n",
            " [0 0 0 1 0 0 0 0 0 0]\n",
            " [0 0 0 0 1 0 0 0 0 0]\n",
            " [0 0 0 0 0 1 0 0 0 0]\n",
            " [0 0 0 0 0 0 1 0 0 0]\n",
            " [0 0 0 0 0 0 0 1 0 0]\n",
            " [0 0 0 0 0 0 0 0 1 0]\n",
            " [0 0 0 0 0 0 0 0 0 1]]\n"
          ]
        }
      ]
    },
    {
      "cell_type": "markdown",
      "source": [
        "### 序列初始化"
      ],
      "metadata": {
        "id": "_0RaVO1W8BLz"
      }
    },
    {
      "cell_type": "code",
      "source": [
        "# arange用于按照自然数递增的顺序生成一个有序一维数组\n",
        "print('创建一个自然数序列：', np.arange(0, 10, 2, dtype=int))  # 0开始，10结束（不包含），步长为2的等差数列\n",
        "print('创建一个自然数序列（简单方法）：', np.arange(10)) # 起始位置默认为0，步长默认为1"
      ],
      "metadata": {
        "colab": {
          "base_uri": "https://localhost:8080/"
        },
        "id": "t3aBRnwl8E9L",
        "outputId": "b0b4aca8-2905-4ae4-d08d-a73c2bcc61f8"
      },
      "execution_count": null,
      "outputs": [
        {
          "output_type": "stream",
          "name": "stdout",
          "text": [
            "创建一个自然数序列： [0 2 4 6 8]\n",
            "创建一个自然数序列（简单方法）： [0 1 2 3 4 5 6 7 8 9]\n"
          ]
        }
      ]
    },
    {
      "cell_type": "code",
      "source": [
        "# 等差数列\n",
        "# linspace和arange的最大区别，就是linspace是否包含结尾值是可选的（默认包含），而arange不包含\n",
        "print('创建一个等差数列：', np.linspace(0, 10, 6, dtype=int))  # 0开始，10结束（包含），6个样本值"
      ],
      "metadata": {
        "colab": {
          "base_uri": "https://localhost:8080/"
        },
        "id": "jsh25EWgABVJ",
        "outputId": "eea53657-1e9b-4965-d0db-01e8ec6fd84d"
      },
      "execution_count": null,
      "outputs": [
        {
          "output_type": "stream",
          "name": "stdout",
          "text": [
            "创建一个等差数列： [ 0  2  4  6  8 10]\n"
          ]
        }
      ]
    },
    {
      "cell_type": "code",
      "source": [
        "# 等比数列\n",
        "# logspace的start和stop两个函数，指的分别是以base为底数的几次幂，而不是实际值\n",
        "print('创建一个等比数列：', np.logspace(0, 2, 3, base=10, dtype=float))  # base^0开始，base^10结束（包含），3个样本值"
      ],
      "metadata": {
        "colab": {
          "base_uri": "https://localhost:8080/"
        },
        "id": "yWHc2t-OAKaJ",
        "outputId": "e78ca97b-9b1e-404e-aa87-dffe80f0001e"
      },
      "execution_count": null,
      "outputs": [
        {
          "output_type": "stream",
          "name": "stdout",
          "text": [
            "创建一个等比数列： [  1.  10. 100.]\n"
          ]
        }
      ]
    },
    {
      "cell_type": "markdown",
      "source": [
        "### 批量初始化"
      ],
      "metadata": {
        "id": "da00z0dq83i8"
      }
    },
    {
      "cell_type": "code",
      "source": [
        "# frombuffer用于以流的形式读入数据，并转化为ndarray对象，例如：读文件\n",
        "s = b'hello world'  # numpy的字符串对应python的bytes类型\n",
        "print('流式读取一个buffer：', np.frombuffer(s, dtype='S1')) # 按字节读取一个流\n",
        "print('流式读取一个buffer（指定起始位置和长度）：', np.frombuffer(s, dtype='S1', count=5, offset=6))"
      ],
      "metadata": {
        "colab": {
          "base_uri": "https://localhost:8080/"
        },
        "id": "Hsv4aofA85qS",
        "outputId": "c52e2507-47f0-41ee-c0aa-955fcd39504e"
      },
      "execution_count": null,
      "outputs": [
        {
          "output_type": "stream",
          "name": "stdout",
          "text": [
            "流式读取一个buffer： [b'h' b'e' b'l' b'l' b'o' b' ' b'w' b'o' b'r' b'l' b'd']\n",
            "流式读取一个buffer（指定起始位置和长度）： [b'w' b'o' b'r' b'l' b'd']\n"
          ]
        }
      ]
    },
    {
      "cell_type": "code",
      "source": [
        "# fromiter用于使用迭代对象创建一个一维数组\n",
        "print('读取一个迭代对象：', np.fromiter(iter([1,2,3,4]), dtype=int))\n",
        "print('读取一个迭代对象（读取指定个数）：', np.fromiter(iter([1,2,3,4]), dtype=int, count=3)) # 只读出3个值"
      ],
      "metadata": {
        "colab": {
          "base_uri": "https://localhost:8080/"
        },
        "id": "6FKPOw1kAPXi",
        "outputId": "870de13b-a732-45a7-9061-ae305b92fdfe"
      },
      "execution_count": null,
      "outputs": [
        {
          "output_type": "stream",
          "name": "stdout",
          "text": [
            "读取一个迭代对象： [1 2 3 4]\n",
            "读取一个迭代对象（读取指定个数）： [1 2 3]\n"
          ]
        }
      ]
    },
    {
      "cell_type": "markdown",
      "source": [
        "### 随机初始化"
      ],
      "metadata": {
        "id": "WaPouBGdCxON"
      }
    },
    {
      "cell_type": "code",
      "source": [
        "# rand用于生成0-1之间的随机数序列（均匀分布）\n",
        "print('生成一个0-1随机数：', np.random.rand())\n",
        "print('生成一个0-1的一维随机数序列：', np.random.rand(3))\n",
        "print('生成一个0-1的二维随机数序列：\\n', np.random.rand(3,2))"
      ],
      "metadata": {
        "colab": {
          "base_uri": "https://localhost:8080/"
        },
        "id": "d9K96KnYC2hF",
        "outputId": "9148f1e6-03f6-4872-d5c7-6f7dfe3b604c"
      },
      "execution_count": null,
      "outputs": [
        {
          "output_type": "stream",
          "name": "stdout",
          "text": [
            "生成一个0-1随机数： 0.9965107901594218\n",
            "生成一个0-1的一维随机数序列： [0.72765165 0.82431191 0.28215474]\n",
            "生成一个0-1的二维随机数序列：\n",
            " [[0.96451593 0.76874759]\n",
            " [0.81082382 0.0727731 ]\n",
            " [0.85677529 0.20022166]]\n"
          ]
        }
      ]
    },
    {
      "cell_type": "code",
      "source": [
        "# random和rand的区别，在于生成高维随机数的时候，rand使用参数列表，而random使用元组\n",
        "print('生成一个0-1的二维随机数序列：\\n', np.random.random((3,2)))"
      ],
      "metadata": {
        "colab": {
          "base_uri": "https://localhost:8080/"
        },
        "id": "xFdAdxSPAVY6",
        "outputId": "339b0a8b-287e-4f0c-c611-a4974b745f16"
      },
      "execution_count": null,
      "outputs": [
        {
          "output_type": "stream",
          "name": "stdout",
          "text": [
            "生成一个0-1的二维随机数序列：\n",
            " [[0.98746516 0.93536111]\n",
            " [0.66831794 0.9842695 ]\n",
            " [0.90449035 0.66969608]]\n"
          ]
        }
      ]
    },
    {
      "cell_type": "code",
      "source": [
        "# randint用于生成整型随机数（均匀分布）\n",
        "print('生成一个随机整数：', np.random.randint(0,10))\n",
        "print('生成一组随机整数序列：', np.random.randint(low=0,high=10,size=3))"
      ],
      "metadata": {
        "colab": {
          "base_uri": "https://localhost:8080/"
        },
        "id": "U9-8sFmYAZSF",
        "outputId": "955f11d2-193b-40df-9254-b1a19dbc6b5a"
      },
      "execution_count": null,
      "outputs": [
        {
          "output_type": "stream",
          "name": "stdout",
          "text": [
            "生成一个随机整数： 7\n",
            "生成一组随机整数序列： [1 0 6]\n"
          ]
        }
      ]
    },
    {
      "cell_type": "code",
      "source": [
        "# randn用于生成满足均值为0，标准差为1的正态分布的随机数样本\n",
        "print('生成一个满足正态分布的随机数：', np.random.randn())\n",
        "print('生成一组满足正态分布的一维随机数序列：', np.random.randn(3))\n",
        "print('生成一组满足正态分布的二维随机数序列：\\n', np.random.randn(3,2))"
      ],
      "metadata": {
        "colab": {
          "base_uri": "https://localhost:8080/"
        },
        "id": "NaSHk8qzAcgM",
        "outputId": "99bd558f-4f5e-47ee-b2da-3218bbc6c400"
      },
      "execution_count": null,
      "outputs": [
        {
          "output_type": "stream",
          "name": "stdout",
          "text": [
            "生成一个满足正态分布的随机数： 0.7111286380370515\n",
            "生成一组满足正态分布的一维随机数序列： [0.00487664 2.01400243 0.30938427]\n",
            "生成一组满足正态分布的二维随机数序列：\n",
            " [[-0.44163294 -0.24773796]\n",
            " [-1.16732361 -0.07546173]\n",
            " [ 0.14603447  0.56767803]]\n"
          ]
        }
      ]
    },
    {
      "cell_type": "code",
      "source": [
        "# normal相比randn，可以自己指定均值和标准差\n",
        "print('生成一个满足正态分布的随机数：', np.random.normal())  # 默认以0为均值，1为标准差\n",
        "print('生成一组满足正态分布的一维随机数序列：', np.random.normal(100,10,3))\n",
        "print('生成一组满足正态分布的二维随机数序列：\\n', np.random.normal(loc=100,scale=10,size=(3,2)))"
      ],
      "metadata": {
        "colab": {
          "base_uri": "https://localhost:8080/"
        },
        "id": "DqEBfnLJAiRh",
        "outputId": "39c06aa3-858a-4092-e9b4-9553651c8ce6"
      },
      "execution_count": null,
      "outputs": [
        {
          "output_type": "stream",
          "name": "stdout",
          "text": [
            "生成一个满足正态分布的随机数： 1.1042150044165944\n",
            "生成一组满足正态分布的一维随机数序列： [ 99.26892508 107.18049011  99.19827444]\n",
            "生成一组满足正态分布的二维随机数序列：\n",
            " [[117.96978084  88.81451795]\n",
            " [ 92.02562663 101.12138408]\n",
            " [102.39928343  99.34266857]]\n"
          ]
        }
      ]
    },
    {
      "cell_type": "markdown",
      "source": [
        "## 基础用法"
      ],
      "metadata": {
        "id": "2SnVmkHlR_B3"
      }
    },
    {
      "cell_type": "markdown",
      "source": [
        "### 基本属性"
      ],
      "metadata": {
        "id": "LQ_bc-zOVgl5"
      }
    },
    {
      "cell_type": "code",
      "source": [
        "# ndim表示数组的秩，也就是维数\n",
        "# shape表示每一维度的长度\n",
        "# size表示总元素个数\n",
        "# itemsize表示每个元素的字节数\n",
        "# dtype表示数据类型\n",
        "arr = np.arange(24)\n",
        "print(arr.ndim, arr.shape, arr.size, arr.itemsize, arr.dtype, arr)"
      ],
      "metadata": {
        "colab": {
          "base_uri": "https://localhost:8080/"
        },
        "id": "2YD1xlkiSDUB",
        "outputId": "c1cf5c05-e4cd-474a-daef-987dbe5951d6"
      },
      "execution_count": null,
      "outputs": [
        {
          "output_type": "stream",
          "name": "stdout",
          "text": [
            "1 (24,) 24 8 int64 [ 0  1  2  3  4  5  6  7  8  9 10 11 12 13 14 15 16 17 18 19 20 21 22 23]\n"
          ]
        }
      ]
    },
    {
      "cell_type": "code",
      "source": [
        "# 通过reshape来修改数组的结构\n",
        "arr = np.arange(24)\n",
        "arr = arr.reshape(2,3,4)  # 也可以直接赋值arr.shape=(2,3,4)，效果是一样的\n",
        "print(arr.ndim, arr.shape, arr.size, arr.itemsize, arr.dtype)\n",
        "print(arr)"
      ],
      "metadata": {
        "colab": {
          "base_uri": "https://localhost:8080/"
        },
        "id": "USxk_r7wAoe6",
        "outputId": "483df60b-82c8-41d0-be68-459c85542291"
      },
      "execution_count": null,
      "outputs": [
        {
          "output_type": "stream",
          "name": "stdout",
          "text": [
            "3 (2, 3, 4) 24 8 int64\n",
            "[[[ 0  1  2  3]\n",
            "  [ 4  5  6  7]\n",
            "  [ 8  9 10 11]]\n",
            "\n",
            " [[12 13 14 15]\n",
            "  [16 17 18 19]\n",
            "  [20 21 22 23]]]\n"
          ]
        }
      ]
    },
    {
      "cell_type": "markdown",
      "source": [
        "### 切片操作"
      ],
      "metadata": {
        "id": "tS6Bef29VwfQ"
      }
    },
    {
      "cell_type": "code",
      "source": [
        "# 一维数组切片和索引\n",
        "arr = np.arange(10)\n",
        "print('使用slice函数做切片：', arr[slice(2,8,2)])\n",
        "print('使用冒号形式做切片：', arr[2:8:2])"
      ],
      "metadata": {
        "colab": {
          "base_uri": "https://localhost:8080/"
        },
        "id": "WR2Ixx9JVy6A",
        "outputId": "3bb28397-8ba0-4c61-c9d1-85a6792ab788"
      },
      "execution_count": null,
      "outputs": [
        {
          "output_type": "stream",
          "name": "stdout",
          "text": [
            "使用slice函数做切片： [2 4 6]\n",
            "使用冒号形式做切片： [2 4 6]\n"
          ]
        }
      ]
    },
    {
      "cell_type": "code",
      "source": [
        "# 二维数组的切片与索引\n",
        "arr = np.arange(15).reshape(5,3)\n",
        "print('取二维数组元素的两种方式：', arr[0,0], arr[0][0])\n",
        "print('使用切片操作二维数组：\\n', arr[0:5:2]) # 将二维数组看作元素是一维数组的一维数组\n",
        "print('通过逗号分隔，对两个维度同时切片：\\n', arr[0:3:1,0:2:1]) # 取矩阵左上角3行2列的子矩阵\n",
        "print('只对一个维度切片：\\n', arr[::,0:2:1])\n",
        "print('使用省略号化简双冒号：\\n', arr[...,0:2:1])"
      ],
      "metadata": {
        "colab": {
          "base_uri": "https://localhost:8080/"
        },
        "id": "EfBWNTcVAsPz",
        "outputId": "9248ffba-c991-4fb8-8b39-45194dcaeddf"
      },
      "execution_count": null,
      "outputs": [
        {
          "output_type": "stream",
          "name": "stdout",
          "text": [
            "取二维数组元素的两种方式： 0 0\n",
            "使用切片操作二维数组：\n",
            " [[ 0  1  2]\n",
            " [ 6  7  8]\n",
            " [12 13 14]]\n",
            "通过逗号分隔，对两个维度同时切片：\n",
            " [[0 1]\n",
            " [3 4]\n",
            " [6 7]]\n",
            "只对一个维度切片：\n",
            " [[ 0  1]\n",
            " [ 3  4]\n",
            " [ 6  7]\n",
            " [ 9 10]\n",
            " [12 13]]\n",
            "使用省略号化简双冒号：\n",
            " [[ 0  1]\n",
            " [ 3  4]\n",
            " [ 6  7]\n",
            " [ 9 10]\n",
            " [12 13]]\n"
          ]
        }
      ]
    },
    {
      "cell_type": "code",
      "source": [
        "# 三维数组的切片与索引\n",
        "arr = np.arange(24).reshape(2,3,4)\n",
        "print('逗号分隔也可用于多维数组：\\n', arr[::,::,::])\n",
        "print('多维数组中的省略号表达，只能使用1次：\\n', arr[::,...,::])"
      ],
      "metadata": {
        "colab": {
          "base_uri": "https://localhost:8080/"
        },
        "id": "mzxZx9TnAuUk",
        "outputId": "453907fc-85a1-4f5b-8e13-1f054d54e674"
      },
      "execution_count": null,
      "outputs": [
        {
          "output_type": "stream",
          "name": "stdout",
          "text": [
            "逗号分隔也可用于多维数组：\n",
            " [[[ 0  1  2  3]\n",
            "  [ 4  5  6  7]\n",
            "  [ 8  9 10 11]]\n",
            "\n",
            " [[12 13 14 15]\n",
            "  [16 17 18 19]\n",
            "  [20 21 22 23]]]\n",
            "多维数组中的省略号表达，只能使用1次：\n",
            " [[[ 0  1  2  3]\n",
            "  [ 4  5  6  7]\n",
            "  [ 8  9 10 11]]\n",
            "\n",
            " [[12 13 14 15]\n",
            "  [16 17 18 19]\n",
            "  [20 21 22 23]]]\n"
          ]
        }
      ]
    },
    {
      "cell_type": "markdown",
      "source": [
        "### 高级索引操作"
      ],
      "metadata": {
        "id": "JvVfweREeMgS"
      }
    },
    {
      "cell_type": "code",
      "source": [
        "# 整数数组索引\n",
        "\n",
        "# 使用整数数组作为下标进行索引\n",
        "arr = np.arange(10)\n",
        "print('使用下标数组进行索引：', arr[[2,4,6,8]])\n",
        "print('使用下标数组进行索引，并定义结果的shape：\\n', arr[np.array([[2,4],[6,8]])])\n",
        "\n",
        "# 二维数组定点取值\n",
        "# 使用zip是为了让取值直观\n",
        "arr = np.arange(15).reshape(5,3)\n",
        "print('通过索引下标进行定点批量取值（直观方法）：', arr[tuple(zip([0,0],[1,1],[2,2]))]) # 取下标为[0,0][1,1][2,2]三个位置的去值\n",
        "\n",
        "# 更标准的做法，应该是\n",
        "row = np.array([0,1,2]) # 每个元素行的下标\n",
        "col = np.array([0,1,2]) # 每个元素列的下标\n",
        "print('通过索引下标进行定点批量取值（标准方法）：', arr[row,col])"
      ],
      "metadata": {
        "colab": {
          "base_uri": "https://localhost:8080/"
        },
        "id": "mSoqoU8_eRC0",
        "outputId": "2e7c4d85-27bb-4db8-f058-f570364384cf"
      },
      "execution_count": null,
      "outputs": [
        {
          "output_type": "stream",
          "name": "stdout",
          "text": [
            "使用下标数组进行索引： [2 4 6 8]\n",
            "使用下标数组进行索引，并定义结果的shape：\n",
            " [[2 4]\n",
            " [6 8]]\n",
            "通过索引下标进行定点批量取值（直观方法）： [0 4 8]\n",
            "通过索引下标进行定点批量取值（标准方法）： [0 4 8]\n"
          ]
        }
      ]
    },
    {
      "cell_type": "code",
      "source": [
        "# 把行和列分开，虽然不够直观，但当结果集需要复杂shape的时候，就表现出了它的优势\n",
        "arr = np.arange(15).reshape(5,3)\n",
        "rows = np.array([[0,0],[3,3]])  # rows说明了结果集的shape，与每个位置的行坐标\n",
        "cols = np.array([[0,2],[0,2]])  # cols需要保持一样的shape，并说明每一个列坐标\n",
        "print('通过下标取四个角元素：\\n', arr[rows,cols]) # arr的取值分rows与cols是因为arr本身是二维"
      ],
      "metadata": {
        "colab": {
          "base_uri": "https://localhost:8080/"
        },
        "id": "GoAMAcWjA09k",
        "outputId": "393aef01-cbbf-47a0-cb0e-2313a1d2e056"
      },
      "execution_count": null,
      "outputs": [
        {
          "output_type": "stream",
          "name": "stdout",
          "text": [
            "通过下标取四个角元素：\n",
            " [[ 0  2]\n",
            " [ 9 11]]\n"
          ]
        }
      ]
    },
    {
      "cell_type": "code",
      "source": [
        "# 布尔索引\n",
        "arr = np.arange(15).reshape(5,3)\n",
        "print('通过布尔索引进行取值：', arr[arr>10])\n",
        "print('过滤数组中的空值：', arr[~np.isnan(arr)])"
      ],
      "metadata": {
        "colab": {
          "base_uri": "https://localhost:8080/"
        },
        "id": "-gl6Z_4HA2eL",
        "outputId": "e29cbc36-c5b1-4e79-bfa8-bb4cc03f18c3"
      },
      "execution_count": null,
      "outputs": [
        {
          "output_type": "stream",
          "name": "stdout",
          "text": [
            "通过布尔索引进行取值： [11 12 13 14]\n",
            "过滤数组中的空值： [ 0  1  2  3  4  5  6  7  8  9 10 11 12 13 14]\n"
          ]
        }
      ]
    },
    {
      "cell_type": "markdown",
      "source": [
        "### 广播"
      ],
      "metadata": {
        "id": "3TK85RzgssQt"
      }
    },
    {
      "cell_type": "code",
      "source": [
        "# 广播\n",
        "x = np.ones([4,4])\n",
        "y = np.arange(4)\n",
        "print('通过广播机制，对shape比较小的数组进行平铺：\\n', x+y)"
      ],
      "metadata": {
        "colab": {
          "base_uri": "https://localhost:8080/"
        },
        "id": "Spnklmp8s1dF",
        "outputId": "e105deba-d2cd-4e7d-8ef4-572a77e1856e"
      },
      "execution_count": null,
      "outputs": [
        {
          "output_type": "stream",
          "name": "stdout",
          "text": [
            "通过广播机制，对shape比较小的数组进行平铺：\n",
            " [[1. 2. 3. 4.]\n",
            " [1. 2. 3. 4.]\n",
            " [1. 2. 3. 4.]\n",
            " [1. 2. 3. 4.]]\n"
          ]
        }
      ]
    },
    {
      "cell_type": "code",
      "source": [
        "# 对y的平铺过程，有专门的函数可以体现\n",
        "x = np.ones([4,4])\n",
        "y = np.arange(4)\n",
        "print('通过tile函数来观察y平铺：\\n', np.tile(y,(4,1)))  # 按行平铺4次，按列平铺1次"
      ],
      "metadata": {
        "colab": {
          "base_uri": "https://localhost:8080/"
        },
        "id": "PFPdS-BHCmQj",
        "outputId": "8f6d7246-a86a-4077-d520-0496a303ab16"
      },
      "execution_count": null,
      "outputs": [
        {
          "output_type": "stream",
          "name": "stdout",
          "text": [
            "通过tile函数来观察y平铺：\n",
            " [[0 1 2 3]\n",
            " [0 1 2 3]\n",
            " [0 1 2 3]\n",
            " [0 1 2 3]]\n"
          ]
        }
      ]
    },
    {
      "cell_type": "markdown",
      "source": [
        "### 迭代"
      ],
      "metadata": {
        "id": "6pJhcfq6u6GO"
      }
    },
    {
      "cell_type": "code",
      "source": [
        "# 对ndarray进行遍历与shape无关，numpy只会按数据的内存顺序进行迭代\n",
        "arr = np.arange(15).reshape(5,3)\n",
        "for i in np.nditer(arr):\n",
        "  print(i, end=',')\n",
        "print('')\n",
        "\n",
        "# 可以通过指定order参数，来切换行列优先的模式\n",
        "for i in np.nditer(arr, order='F'):\n",
        "  print(i, end=',')\n",
        "print('')\n",
        "\n",
        "# 在遍历的时候进行修改\n",
        "for i in np.nditer(arr, op_flags=['readwrite']):\n",
        "  i[...] = i * 2  # 这种赋值方法没见过，原生python也不能真么用，感觉像是numpy的语法糖\n",
        "print(arr)\n",
        "\n",
        "# 广播迭代（将广播和迭代组合使用）\n",
        "x = np.ones([4,4])\n",
        "y = np.arange(4)\n",
        "for i,j in np.nditer([x,y]):\n",
        "  print('(%d, %d)' % (i,j), end=',')"
      ],
      "metadata": {
        "colab": {
          "base_uri": "https://localhost:8080/"
        },
        "id": "jR-24CgXu7f9",
        "outputId": "2bbf5b8e-17b0-41df-b2b9-78286818b866"
      },
      "execution_count": null,
      "outputs": [
        {
          "output_type": "stream",
          "name": "stdout",
          "text": [
            "0,1,2,3,4,5,6,7,8,9,10,11,12,13,14,\n",
            "0,3,6,9,12,1,4,7,10,13,2,5,8,11,14,\n",
            "[[ 0  2  4]\n",
            " [ 6  8 10]\n",
            " [12 14 16]\n",
            " [18 20 22]\n",
            " [24 26 28]]\n",
            "(1, 0),(1, 1),(1, 2),(1, 3),(1, 0),(1, 1),(1, 2),(1, 3),(1, 0),(1, 1),(1, 2),(1, 3),(1, 0),(1, 1),(1, 2),(1, 3),"
          ]
        }
      ]
    },
    {
      "cell_type": "markdown",
      "source": [
        "# 常用库函数"
      ],
      "metadata": {
        "id": "5xfTM6IhX990"
      }
    },
    {
      "cell_type": "markdown",
      "source": [
        "## 数组操作"
      ],
      "metadata": {
        "id": "mKn0R5ItzCif"
      }
    },
    {
      "cell_type": "markdown",
      "source": [
        "### 修改数组形状"
      ],
      "metadata": {
        "id": "TjvayLRN_N14"
      }
    },
    {
      "cell_type": "code",
      "source": [
        "# 修改数组的形状\n",
        "arr = np.arange(9).reshape(3,3)\n",
        "print('使用reshape修改数组的形状：\\n', arr)"
      ],
      "metadata": {
        "colab": {
          "base_uri": "https://localhost:8080/"
        },
        "id": "GJvlp-1BYCkT",
        "outputId": "875c0fd0-d77b-4379-8601-41317c527007"
      },
      "execution_count": null,
      "outputs": [
        {
          "output_type": "stream",
          "name": "stdout",
          "text": [
            "使用reshape修改数组的形状：\n",
            " [[0 1 2]\n",
            " [3 4 5]\n",
            " [6 7 8]]\n"
          ]
        }
      ]
    },
    {
      "cell_type": "code",
      "source": [
        "# flat函数可以将任何shape平坦化（一维化）\n",
        "arr = np.arange(9).reshape(3,3)\n",
        "print('使用flat修改数组的形状：')\n",
        "for i in arr.flat:\n",
        "  print(i, end=',')\n",
        "print('')"
      ],
      "metadata": {
        "colab": {
          "base_uri": "https://localhost:8080/"
        },
        "id": "jIl_pa-RCJBD",
        "outputId": "bcfef8d0-7973-444f-a5a6-c07b42a0faaf"
      },
      "execution_count": null,
      "outputs": [
        {
          "output_type": "stream",
          "name": "stdout",
          "text": [
            "使用flat修改数组的形状：\n",
            "0,1,2,3,4,5,6,7,8,\n"
          ]
        }
      ]
    },
    {
      "cell_type": "code",
      "source": [
        "# flatten会生成原数据的拷贝，不会对原数据产生影响\n",
        "# flatten函数可以将任何shape平坦化（可调整行列优先）\n",
        "arr = np.arange(9).reshape(3,3)\n",
        "print('使用flatten修改数组的形状：', arr.flatten(order='F'))"
      ],
      "metadata": {
        "colab": {
          "base_uri": "https://localhost:8080/"
        },
        "id": "dxvxgcyICMma",
        "outputId": "0b27d305-0fdc-461b-f884-0466bf9d03da"
      },
      "execution_count": null,
      "outputs": [
        {
          "output_type": "stream",
          "name": "stdout",
          "text": [
            "使用flatten修改数组的形状： [0 3 6 1 4 7 2 5 8]\n"
          ]
        }
      ]
    },
    {
      "cell_type": "code",
      "source": [
        "# ravel会返回原数据的视图（引用），其他与flatten相似\n",
        "arr = np.arange(9).reshape(3,3)\n",
        "print('使用ravel修改数组的形状：', arr.ravel(order='F'))"
      ],
      "metadata": {
        "colab": {
          "base_uri": "https://localhost:8080/"
        },
        "id": "qEa2s4ZiCPZ9",
        "outputId": "035d854a-bd0b-41a0-c30b-22e19c8d6d35"
      },
      "execution_count": null,
      "outputs": [
        {
          "output_type": "stream",
          "name": "stdout",
          "text": [
            "使用ravel修改数组的形状： [0 3 6 1 4 7 2 5 8]\n"
          ]
        }
      ]
    },
    {
      "cell_type": "markdown",
      "source": [
        "### 翻转数组"
      ],
      "metadata": {
        "id": "A14bGzGWBLfz"
      }
    },
    {
      "cell_type": "code",
      "source": [
        "arr = np.arange(9).reshape(3,3)\n",
        "print('使用transpose对矩阵进行转置：\\n', arr.transpose())"
      ],
      "metadata": {
        "colab": {
          "base_uri": "https://localhost:8080/"
        },
        "id": "dCQ-lMK0BPMk",
        "outputId": "9abb40c7-2a92-42f0-fb22-ff1afecdaa3f"
      },
      "execution_count": null,
      "outputs": [
        {
          "output_type": "stream",
          "name": "stdout",
          "text": [
            "对矩阵进行转置：\n",
            " [[0 3 6]\n",
            " [1 4 7]\n",
            " [2 5 8]]\n"
          ]
        }
      ]
    },
    {
      "cell_type": "code",
      "source": [
        "arr = np.arange(9).reshape(3,3)\n",
        "print('使用T成员变量对矩阵进行转置：\\n', arr.T)"
      ],
      "metadata": {
        "colab": {
          "base_uri": "https://localhost:8080/"
        },
        "id": "KPJ5G6XlBpPL",
        "outputId": "d75b9c49-0534-431e-9f11-a45b2014cec2"
      },
      "execution_count": null,
      "outputs": [
        {
          "output_type": "stream",
          "name": "stdout",
          "text": [
            "使用T成员变量对矩阵进行转置：\n",
            " [[0 3 6]\n",
            " [1 4 7]\n",
            " [2 5 8]]\n"
          ]
        }
      ]
    },
    {
      "cell_type": "code",
      "source": [
        "# 第二个参数axis，即表示roll第几个维度\n",
        "# 这里所谓的roll更像是\"插入\"的含义\n",
        "arr = np.arange(9).reshape(3,3)\n",
        "print('使用rollaxis方法对矩阵进行转置：\\n', np.rollaxis(arr, 1))"
      ],
      "metadata": {
        "colab": {
          "base_uri": "https://localhost:8080/"
        },
        "id": "YQ64mPe6DoRa",
        "outputId": "ef8eb32f-4efa-4894-f801-8a519ccbcdcd"
      },
      "execution_count": null,
      "outputs": [
        {
          "output_type": "stream",
          "name": "stdout",
          "text": [
            "使用T成员变量对矩阵进行转置：\n",
            " [[0 3 6]\n",
            " [1 4 7]\n",
            " [2 5 8]]\n"
          ]
        }
      ]
    },
    {
      "cell_type": "markdown",
      "source": [
        "在高维数组中使用转置，从几何上来想象，其实是比较困难的，所以并不常用，更常用的还是在二维数组上的转置操作"
      ],
      "metadata": {
        "id": "zePB_apRGePj"
      }
    },
    {
      "cell_type": "code",
      "source": [
        "# 在多维数组中更能看清rollaxis的本质\n",
        "# rollaxis本质就是将axis（第二个参数）放到start参数的位置，从start开始，维数依次向后挪动\n",
        "arr = np.arange(24).reshape(2,3,4)\n",
        "print('使用rollaxis方法转置3维数组：\\n', np.rollaxis(arr, 2, start=0).shape)"
      ],
      "metadata": {
        "colab": {
          "base_uri": "https://localhost:8080/"
        },
        "id": "bLAprJRWEV-E",
        "outputId": "f51155ed-eead-4178-aedb-22be65687707"
      },
      "execution_count": null,
      "outputs": [
        {
          "output_type": "stream",
          "name": "stdout",
          "text": [
            "使用rollaxis方法转置3维数组：\n",
            " (4, 2, 3)\n"
          ]
        }
      ]
    },
    {
      "cell_type": "code",
      "source": [
        "# 对照rollaxis进行比较，swapaxes表达的是\"交换\"的含义\n",
        "arr = np.arange(24).reshape(2,3,4)\n",
        "print('使用swapaxes方法转置3维数组：\\n', np.swapaxes(arr, 1, 2).shape)"
      ],
      "metadata": {
        "colab": {
          "base_uri": "https://localhost:8080/"
        },
        "id": "aihKg7wCFk1c",
        "outputId": "4ad92352-3610-47c8-f895-519a0e5e611b"
      },
      "execution_count": null,
      "outputs": [
        {
          "output_type": "stream",
          "name": "stdout",
          "text": [
            "使用swapaxes方法转置3维数组：\n",
            " (2, 4, 3)\n"
          ]
        }
      ]
    },
    {
      "cell_type": "markdown",
      "source": [
        "### 修改数组维度"
      ],
      "metadata": {
        "id": "nMu-J45FJUlV"
      }
    },
    {
      "cell_type": "code",
      "source": [
        "# 使用广播对数组维度进行扩展\n",
        "x = np.array([[1],[2],[3]])\n",
        "y = np.array([1,2,3])\n",
        "x,y = np.broadcast(x,y).iters\n",
        "print('使用广播对数组维度进行扩展：\\n', np.fromiter(x, dtype=int).reshape(3,3))"
      ],
      "metadata": {
        "colab": {
          "base_uri": "https://localhost:8080/"
        },
        "id": "iaBFnxUIJXCF",
        "outputId": "4c57412f-9ba3-4850-afd2-f0a1b6403cb2"
      },
      "execution_count": null,
      "outputs": [
        {
          "output_type": "stream",
          "name": "stdout",
          "text": [
            "使用广播对数组维度进行扩展：\n",
            " [[1 1 1]\n",
            " [2 2 2]\n",
            " [3 3 3]]\n"
          ]
        }
      ]
    },
    {
      "cell_type": "code",
      "source": [
        "# 指定维度进行广播\n",
        "arr = np.array([[1],[2],[3]])\n",
        "print('指定维度进行广播：\\n', np.broadcast_to(arr, (3,3)))"
      ],
      "metadata": {
        "colab": {
          "base_uri": "https://localhost:8080/"
        },
        "id": "e1T6vHHJLcLU",
        "outputId": "8bcec79c-1582-4d8c-f15d-182c5f1bcba2"
      },
      "execution_count": null,
      "outputs": [
        {
          "output_type": "stream",
          "name": "stdout",
          "text": [
            "指定维度进行广播：\n",
            " [[1 1 1]\n",
            " [2 2 2]\n",
            " [3 3 3]]\n"
          ]
        }
      ]
    },
    {
      "cell_type": "code",
      "source": [
        "# 给数组增加一个新的维度（但不做数据扩充）\n",
        "# 与广播不同expand_dims只增加了维度，但没有增加数据量\n",
        "arr = np.arange(9).reshape(3,3)\n",
        "print('增加一个新维度：', np.expand_dims(arr, axis=0).shape)"
      ],
      "metadata": {
        "colab": {
          "base_uri": "https://localhost:8080/"
        },
        "id": "8XI5Mj2NL5u9",
        "outputId": "f2cb870f-2acd-4078-a4f2-62103f027bb0"
      },
      "execution_count": null,
      "outputs": [
        {
          "output_type": "stream",
          "name": "stdout",
          "text": [
            "增加一个新维度：\n",
            " (1, 3, 3)\n"
          ]
        }
      ]
    },
    {
      "cell_type": "code",
      "source": [
        "# 与expand_dims相反的操作，删除数组中的一个维度\n",
        "# 需要注意，只有维度的size为1的时候，才能删除\n",
        "arr = np.arange(9).reshape(3,3)\n",
        "arr = np.expand_dims(arr, axis=0)\n",
        "print('删除一个维度：', np.squeeze(arr, axis=0).shape)"
      ],
      "metadata": {
        "colab": {
          "base_uri": "https://localhost:8080/"
        },
        "id": "rn4TobCPNfdd",
        "outputId": "f719d301-46dd-4027-f3aa-57d77af9c9c3"
      },
      "execution_count": null,
      "outputs": [
        {
          "output_type": "stream",
          "name": "stdout",
          "text": [
            "删除一个维度： (3, 3)\n"
          ]
        }
      ]
    },
    {
      "cell_type": "markdown",
      "source": [
        "### 连接数组"
      ],
      "metadata": {
        "id": "xBbchxAdOtYm"
      }
    },
    {
      "cell_type": "code",
      "source": [
        "# 使用concatenate进行数据连接（形状必须相同）\n",
        "x = np.zeros([2,2])\n",
        "y = np.ones([2,2])\n",
        "print('竖向连接：\\n', np.concatenate((x,y), axis=0))\n",
        "print('横向连接：\\n', np.concatenate((x,y), axis=1))"
      ],
      "metadata": {
        "colab": {
          "base_uri": "https://localhost:8080/"
        },
        "id": "LHSsKCCTOvm2",
        "outputId": "7cd90357-0774-4b51-f36a-09ca834565ff"
      },
      "execution_count": null,
      "outputs": [
        {
          "output_type": "stream",
          "name": "stdout",
          "text": [
            "竖向连接：\n",
            " [[0. 0.]\n",
            " [0. 0.]\n",
            " [1. 1.]\n",
            " [1. 1.]]\n",
            "横向连接：\n",
            " [[0. 0. 1. 1.]\n",
            " [0. 0. 1. 1.]]\n"
          ]
        }
      ]
    },
    {
      "cell_type": "code",
      "source": [
        "# 使用stack进行数据堆叠（形状必须相同）\n",
        "# stack与concatenate最大的不同是，stack会增加新的维度，而concatenate是在原有维度上扩充\n",
        "x = np.zeros([2,2])\n",
        "y = np.ones([2,2])\n",
        "print('行优先堆叠：\\n', np.stack((x,y), axis=0))\n",
        "print('列优先堆叠：\\n', np.stack((x,y), axis=1))"
      ],
      "metadata": {
        "colab": {
          "base_uri": "https://localhost:8080/"
        },
        "id": "vD-mxZnzP4Ve",
        "outputId": "03733f1d-17b9-4ff5-c820-c965638359d5"
      },
      "execution_count": null,
      "outputs": [
        {
          "output_type": "stream",
          "name": "stdout",
          "text": [
            "行优先堆叠：\n",
            " [[[0. 0.]\n",
            "  [0. 0.]]\n",
            "\n",
            " [[1. 1.]\n",
            "  [1. 1.]]]\n",
            "列优先堆叠：\n",
            " [[[0. 0.]\n",
            "  [1. 1.]]\n",
            "\n",
            " [[0. 0.]\n",
            "  [1. 1.]]]\n"
          ]
        }
      ]
    },
    {
      "cell_type": "code",
      "source": [
        "# 使用hstack进行数据水平堆叠（形状必须相同）\n",
        "# 效果和concatenate的横向连接效果相同\n",
        "x = np.zeros([2,2])\n",
        "y = np.ones([2,2])\n",
        "print('水平堆叠：\\n', np.hstack((x,y)))"
      ],
      "metadata": {
        "colab": {
          "base_uri": "https://localhost:8080/"
        },
        "id": "ZDq9FGDGQuuG",
        "outputId": "f0d20bda-e08d-4007-fc61-8eb584662426"
      },
      "execution_count": null,
      "outputs": [
        {
          "output_type": "stream",
          "name": "stdout",
          "text": [
            "水平堆叠：\n",
            " [[0. 0. 1. 1.]\n",
            " [0. 0. 1. 1.]]\n"
          ]
        }
      ]
    },
    {
      "cell_type": "code",
      "source": [
        "# 使用vstack进行数据竖直堆叠（形状必须相同）\n",
        "# 效果和concatenate的纵向连接效果相同\n",
        "x = np.zeros([2,2])\n",
        "y = np.ones([2,2])\n",
        "print('水平堆叠：\\n', np.vstack((x,y)))"
      ],
      "metadata": {
        "colab": {
          "base_uri": "https://localhost:8080/"
        },
        "id": "AMX0xlg7RVu7",
        "outputId": "01c4fd00-89c8-43b3-cd43-7cb44cbbd14d"
      },
      "execution_count": null,
      "outputs": [
        {
          "output_type": "stream",
          "name": "stdout",
          "text": [
            "水平堆叠：\n",
            " [[0. 0.]\n",
            " [0. 0.]\n",
            " [1. 1.]\n",
            " [1. 1.]]\n"
          ]
        }
      ]
    },
    {
      "cell_type": "markdown",
      "source": [
        "### 分割数组"
      ],
      "metadata": {
        "id": "6Klp_wepRlAW"
      }
    },
    {
      "cell_type": "code",
      "source": [
        "# 分割一维数组\n",
        "arr = np.arange(9)\n",
        "print('分割一维数组：\\n', np.split(arr, 3))\n",
        "\n",
        "# 不均等分割(数组用于指定分割点)\n",
        "arr = np.arange(9)\n",
        "print('不均等分割：\\n', np.split(arr, [2,5,8]))"
      ],
      "metadata": {
        "colab": {
          "base_uri": "https://localhost:8080/"
        },
        "id": "fNlA1V4HSyFm",
        "outputId": "a283343d-8b63-45c1-e767-4ced93a68c30"
      },
      "execution_count": null,
      "outputs": [
        {
          "output_type": "stream",
          "name": "stdout",
          "text": [
            "分割一维数组：\n",
            " [array([0, 1, 2]), array([3, 4, 5]), array([6, 7, 8])]\n",
            "不均等分割：\n",
            " [array([0, 1]), array([2, 3, 4]), array([5, 6, 7]), array([8])]\n"
          ]
        }
      ]
    },
    {
      "cell_type": "code",
      "source": [
        "# 沿两个轴进行分隔\n",
        "# 这里对照hsplit和vsplit定义的横向和纵向，形状与叫法有一些反直觉\n",
        "# 所谓的横与纵，不要理解成生活中切菜的横与纵\n",
        "# 而是分割完以后，数据是横向排列，还是纵向排列\n",
        "arr = np.arange(12).reshape(3,4)\n",
        "print('竖向分割：\\n', np.split(arr, 3, axis=0))\n",
        "print('横向分割：\\n', np.split(arr, 4, axis=1))"
      ],
      "metadata": {
        "colab": {
          "base_uri": "https://localhost:8080/"
        },
        "id": "H8rl2PySRnc2",
        "outputId": "a01f670b-4c32-4ee9-ae4d-dd7171fb0487"
      },
      "execution_count": null,
      "outputs": [
        {
          "output_type": "stream",
          "name": "stdout",
          "text": [
            "竖向分割：\n",
            " [array([[0, 1, 2, 3]]), array([[4, 5, 6, 7]]), array([[ 8,  9, 10, 11]])]\n",
            "横向分割：\n",
            " [array([[0],\n",
            "       [4],\n",
            "       [8]]), array([[1],\n",
            "       [5],\n",
            "       [9]]), array([[ 2],\n",
            "       [ 6],\n",
            "       [10]]), array([[ 3],\n",
            "       [ 7],\n",
            "       [11]])]\n"
          ]
        }
      ]
    },
    {
      "cell_type": "code",
      "source": [
        "# hsplit与split(axis=1)等效\n",
        "arr = np.arange(12).reshape(3,4)\n",
        "print('横向分割：\\n', np.hsplit(arr, 4))"
      ],
      "metadata": {
        "colab": {
          "base_uri": "https://localhost:8080/"
        },
        "id": "8iT_9QW7USa3",
        "outputId": "87f144b0-0c5f-492a-9e24-0f3d6f5ec8f2"
      },
      "execution_count": null,
      "outputs": [
        {
          "output_type": "stream",
          "name": "stdout",
          "text": [
            "横向分割：\n",
            " [array([[0],\n",
            "       [4],\n",
            "       [8]]), array([[1],\n",
            "       [5],\n",
            "       [9]]), array([[ 2],\n",
            "       [ 6],\n",
            "       [10]]), array([[ 3],\n",
            "       [ 7],\n",
            "       [11]])]\n"
          ]
        }
      ]
    },
    {
      "cell_type": "code",
      "source": [
        "# vsplit与split(axis=0)等效\n",
        "arr = np.arange(12).reshape(3,4)\n",
        "print('纵向分割：\\n', np.vsplit(arr, 3))"
      ],
      "metadata": {
        "colab": {
          "base_uri": "https://localhost:8080/"
        },
        "id": "emYepjF9Urj2",
        "outputId": "069bd4c6-d1a8-4139-9d66-1055073e1e3d"
      },
      "execution_count": null,
      "outputs": [
        {
          "output_type": "stream",
          "name": "stdout",
          "text": [
            "纵向分割：\n",
            " [array([[0, 1, 2, 3]]), array([[4, 5, 6, 7]]), array([[ 8,  9, 10, 11]])]\n"
          ]
        }
      ]
    },
    {
      "cell_type": "markdown",
      "source": [
        "### 数组元组操作"
      ],
      "metadata": {
        "id": "x1cMIgo-XmRg"
      }
    },
    {
      "cell_type": "code",
      "source": [
        "# resize和reshape的区别在于，resize可以扩充数组大小\n",
        "# 新增数据不做初始化\n",
        "arr = np.arange(6)\n",
        "arr.resize(3,3)\n",
        "print(\"使用resize生成一个新数组：\\n\", arr)\n",
        "print(\"使用resize生成一个新数组：\\n\", np.resize(arr, (3,4)))"
      ],
      "metadata": {
        "colab": {
          "base_uri": "https://localhost:8080/"
        },
        "id": "le45Jn3bXpU7",
        "outputId": "bf3727df-4217-4ea0-8aee-39ea05780713"
      },
      "execution_count": null,
      "outputs": [
        {
          "output_type": "stream",
          "name": "stdout",
          "text": [
            "使用resize生成一个新数组：\n",
            " [[0 1 2]\n",
            " [3 4 5]\n",
            " [0 0 0]]\n",
            "使用resize生成一个新数组：\n",
            " [[0 1 2 3]\n",
            " [4 5 0 0]\n",
            " [0 0 1 2]]\n"
          ]
        }
      ]
    },
    {
      "cell_type": "code",
      "source": [
        "# 使用append进行横向和纵向追加\n",
        "arr = np.arange(9).reshape(3,3)\n",
        "print(\"纵向追加：\\n\", np.append(arr, np.zeros([1,3]), axis=0))\n",
        "print(\"横向追加：\\n\", np.append(arr, np.zeros([3,1]), axis=1))"
      ],
      "metadata": {
        "colab": {
          "base_uri": "https://localhost:8080/"
        },
        "id": "9MQriPFtaMVE",
        "outputId": "cc75f1a7-8d3f-425f-dbf5-9255c9e0001c"
      },
      "execution_count": null,
      "outputs": [
        {
          "output_type": "stream",
          "name": "stdout",
          "text": [
            "纵向追加：\n",
            " [[0. 1. 2.]\n",
            " [3. 4. 5.]\n",
            " [6. 7. 8.]\n",
            " [0. 0. 0.]]\n",
            "横向追加：\n",
            " [[0. 1. 2. 0.]\n",
            " [3. 4. 5. 0.]\n",
            " [6. 7. 8. 0.]]\n"
          ]
        }
      ]
    },
    {
      "cell_type": "code",
      "source": [
        "# 使用insert进行插入，获得新数组（插入无法原地操作）\n",
        "arr = np.arange(9).reshape(3,3)\n",
        "print(\"展开插入：\\n\", np.insert(arr, 2, np.zeros([1,1])))\n",
        "print(\"纵向插入：\\n\", np.insert(arr, 2, np.zeros([1,3]), axis=0))\n",
        "print(\"横向插入：\\n\", np.insert(arr, 2, np.zeros([1,3]), axis=1)) # 这里用[1,3]就很反直觉"
      ],
      "metadata": {
        "colab": {
          "base_uri": "https://localhost:8080/"
        },
        "id": "TFyjza88bpUr",
        "outputId": "42b4e24c-ab3b-409a-cb89-39e7fadc368b"
      },
      "execution_count": null,
      "outputs": [
        {
          "output_type": "stream",
          "name": "stdout",
          "text": [
            "展开插入：\n",
            " [0 1 0 2 3 4 5 6 7 8]\n",
            "纵向插入：\n",
            " [[0 1 2]\n",
            " [3 4 5]\n",
            " [0 0 0]\n",
            " [6 7 8]]\n",
            "横向插入：\n",
            " [[0 1 0 2]\n",
            " [3 4 0 5]\n",
            " [6 7 0 8]]\n"
          ]
        }
      ]
    },
    {
      "cell_type": "code",
      "source": [
        "# 使用delete删除数组元素\n",
        "arr = np.arange(9).reshape(3,3)\n",
        "print(\"展开删除：\\n\", np.delete(arr, 2))\n",
        "print(\"纵向删除：\\n\", np.delete(arr, 2, axis=0))\n",
        "print(\"横向删除：\\n\", np.delete(arr, 2, axis=1))"
      ],
      "metadata": {
        "colab": {
          "base_uri": "https://localhost:8080/"
        },
        "id": "kQ1w7gRxdcPS",
        "outputId": "609c28d0-02f6-44d7-8b76-960b8798157f"
      },
      "execution_count": null,
      "outputs": [
        {
          "output_type": "stream",
          "name": "stdout",
          "text": [
            "展开删除：\n",
            " [0 1 3 4 5 6 7 8]\n",
            "纵向删除：\n",
            " [[0 1 2]\n",
            " [3 4 5]]\n",
            "横向删除：\n",
            " [[0 1]\n",
            " [3 4]\n",
            " [6 7]]\n"
          ]
        }
      ]
    },
    {
      "cell_type": "code",
      "source": [
        "# 通过unique去掉数组中重复的元素\n",
        "arr = np.array([1,1,2,2,3,3,4,4])\n",
        "print(\"数组去重：\\n\", np.unique(arr))\n",
        "print(\"数组去重（并返回元素在原数组中的下标）：\\n\", np.unique(arr, return_index=True))\n",
        "print(\"数组去重（全部旧列表元素在新列表中的下标）：\\n\", np.unique(arr, return_inverse=True))\n",
        "print(\"数组去重（并返回元素的重复数量）：\\n\", np.unique(arr, return_counts=True))"
      ],
      "metadata": {
        "colab": {
          "base_uri": "https://localhost:8080/"
        },
        "id": "CQTOL3hXeHNp",
        "outputId": "d0950250-d35e-41a4-e773-df6256be9313"
      },
      "execution_count": null,
      "outputs": [
        {
          "output_type": "stream",
          "name": "stdout",
          "text": [
            "数组去重：\n",
            " [1 2 3 4]\n",
            "数组去重（并返回元素在原数组中的下标）：\n",
            " (array([1, 2, 3, 4]), array([0, 2, 4, 6]))\n",
            "数组去重（全部旧列表元素在新列表中的下标）：\n",
            " (array([1, 2, 3, 4]), array([0, 0, 1, 1, 2, 2, 3, 3]))\n",
            "数组去重（并返回元素的重复数量）：\n",
            " (array([1, 2, 3, 4]), array([2, 2, 2, 2]))\n"
          ]
        }
      ]
    },
    {
      "cell_type": "markdown",
      "source": [
        "## 常用函数"
      ],
      "metadata": {
        "id": "pYd28nCkfs72"
      }
    },
    {
      "cell_type": "markdown",
      "source": [
        "### 字符串函数"
      ],
      "metadata": {
        "id": "yr3le9il7EPK"
      }
    },
    {
      "cell_type": "code",
      "source": [
        "# numpy的字符串处理和python原生的字符串处理，最大的区别是\n",
        "# numpy即支持普通字符串操作，也支持字符串数组的操作\n",
        "print('字符串连接：', np.char.add(['hello', 'a'], ['world', 'b']))\n",
        "print('字符串重复：', np.char.multiply(['hello'], 3))\n",
        "print('字符串居中并填充：', np.char.center(['hello', 'world'], 10, fillchar='*'))\n",
        "print('字符串首字母大写：', np.char.capitalize(['hello world']))\n",
        "print('字符串每个单词首字母大写：', np.char.title(['hello world']))\n",
        "print('字符串转小写：', np.char.lower(['Hello', 'World']))\n",
        "print('字符串转大写：', np.char.upper(['Hello', 'World']))\n",
        "print('字符串按词分割：', np.char.split(['hello world']))\n",
        "print('字符串按行分割：', np.char.splitlines(['hello \\n world']))\n",
        "print('字符串移除首尾字符：', np.char.strip(['***hello', 'world***'], '*'))\n",
        "print('字符串通过分隔符连接：', np.char.join(['-', ':'], ['hello', 'world']))  # 这个join和python原生的join区别很大\n",
        "print('字符串转替换：', np.char.replace(['Hello', 'World'], 'o', 'x'))\n",
        "origin_str = ['Hello', 'World']\n",
        "encode_str = np.char.encode(origin_str, 'utf-8')\n",
        "print('字符串转编码：', np.char.encode(origin_str, 'utf-8'))\n",
        "print('字符串转解码：', np.char.decode(encode_str, 'utf-8'))"
      ],
      "metadata": {
        "colab": {
          "base_uri": "https://localhost:8080/"
        },
        "id": "JO50c1cx7F-S",
        "outputId": "12d023ac-94ad-471a-b5cc-de873ede7751"
      },
      "execution_count": null,
      "outputs": [
        {
          "output_type": "stream",
          "name": "stdout",
          "text": [
            "字符串连接： ['helloworld' 'ab']\n",
            "字符串重复： ['hellohellohello']\n",
            "字符串居中并填充： ['**hello***' '**world***']\n",
            "字符串首字母大写： ['Hello world']\n",
            "字符串每个单词首字母大写： ['Hello World']\n",
            "字符串转小写： ['hello' 'world']\n",
            "字符串转大写： ['HELLO' 'WORLD']\n",
            "字符串按词分割： [list(['hello', 'world'])]\n",
            "字符串按行分割： [list(['hello ', ' world'])]\n",
            "字符串移除首尾字符： ['hello' 'world']\n",
            "字符串通过分隔符连接： ['h-e-l-l-o' 'w:o:r:l:d']\n",
            "字符串转替换： ['Hellx' 'Wxrld']\n",
            "字符串转编码： [b'Hello' b'World']\n",
            "字符串转解码： ['Hello' 'World']\n"
          ]
        }
      ]
    },
    {
      "cell_type": "markdown",
      "source": [
        "### 数学函数"
      ],
      "metadata": {
        "id": "0F2ajVuN_yKW"
      }
    },
    {
      "cell_type": "code",
      "source": [
        "# 数据的舍入\n",
        "print('四舍五入：', np.around([1.1, 1.3, 1.5, 1.8]))\n",
        "print('四舍五入（保留1位小数）：', np.around([1.11, 1.33, 1.55, 1.88], decimals=1))\n",
        "print('向下取整：', np.floor([1.1, 1.3, 1.5, 1.8]))\n",
        "print('向上取整：', np.ceil([1.1, 1.3, 1.5, 1.8]))"
      ],
      "metadata": {
        "colab": {
          "base_uri": "https://localhost:8080/"
        },
        "id": "BIkBUKpeBUoP",
        "outputId": "95b4d99f-42b3-493b-8783-39512698f7d6"
      },
      "execution_count": null,
      "outputs": [
        {
          "output_type": "stream",
          "name": "stdout",
          "text": [
            "四舍五入： [1. 1. 2. 2.]\n",
            "四舍五入（保留1位小数）： [1.1 1.3 1.6 1.9]\n",
            "向下取整： [1. 1. 1. 1.]\n",
            "向上取整： [2. 2. 2. 2.]\n"
          ]
        }
      ]
    },
    {
      "cell_type": "code",
      "source": [
        "# 三角函数（此处只简单介绍最常用的3个，其他略）\n",
        "angle = np.array([0, 15, 30, 45, 60, 90], dtype=float)\n",
        "print('正弦函数：', np.sin(angle * np.pi / 180))\n",
        "print('余弦函数：', np.cos(angle * np.pi / 180))\n",
        "print('正切函数：', np.tan(angle * np.pi / 180))"
      ],
      "metadata": {
        "colab": {
          "base_uri": "https://localhost:8080/"
        },
        "id": "NOEK_blm_0nU",
        "outputId": "6da48f7e-8f23-4f33-e192-dd570663a0db"
      },
      "execution_count": null,
      "outputs": [
        {
          "output_type": "stream",
          "name": "stdout",
          "text": [
            "正弦函数： [0.         0.25881905 0.5        0.70710678 0.8660254  1.        ]\n",
            "余弦函数： [1.00000000e+00 9.65925826e-01 8.66025404e-01 7.07106781e-01\n",
            " 5.00000000e-01 6.12323400e-17]\n",
            "正切函数： [0.00000000e+00 2.67949192e-01 5.77350269e-01 1.00000000e+00\n",
            " 1.73205081e+00 1.63312394e+16]\n"
          ]
        }
      ]
    },
    {
      "cell_type": "markdown",
      "source": [
        "### 算数函数"
      ],
      "metadata": {
        "id": "ajBMNitgCnaf"
      }
    },
    {
      "cell_type": "code",
      "source": [
        "# 四则运算\n",
        "x = np.arange(1, 9)\n",
        "y = np.arange(1, 9)\n",
        "print('加法', np.add(x, y)) # 也可简写成：x+y\n",
        "print('减法', np.subtract(x, y)) # 也可简写成：x-y\n",
        "print('乘法', np.multiply(x, y)) # 也可简写成：x*y\n",
        "print('除法', np.divide(x, y)) # 也可简写成：x/y\n",
        "print('求倒数', np.reciprocal([0.25, 0.5, 1, 10]))\n",
        "print('求指数', np.power([2, 2, 2], [2, 3, 4]))\n",
        "print('求模', np.mod([10, 10, 10], [2, 3, 4]))  # 不懂为什么同一个东西要写2遍\n",
        "print('求余', np.remainder([10, 10, 10], [2, 3, 4]))"
      ],
      "metadata": {
        "colab": {
          "base_uri": "https://localhost:8080/"
        },
        "id": "hfq9uCpbCo2C",
        "outputId": "4222b436-5a70-406f-e1f2-a087e997553a"
      },
      "execution_count": null,
      "outputs": [
        {
          "output_type": "stream",
          "name": "stdout",
          "text": [
            "加法 [ 2  4  6  8 10 12 14 16]\n",
            "减法 [0 0 0 0 0 0 0 0]\n",
            "乘法 [ 1  4  9 16 25 36 49 64]\n",
            "除法 [1. 1. 1. 1. 1. 1. 1. 1.]\n",
            "求倒数 [4.  2.  1.  0.1]\n",
            "求指数 [ 4  8 16]\n",
            "求模 [0 1 2]\n",
            "求余 [0 1 2]\n"
          ]
        }
      ]
    },
    {
      "cell_type": "markdown",
      "source": [
        "### 统计函数"
      ],
      "metadata": {
        "id": "D66-cTtIEqPm"
      }
    },
    {
      "cell_type": "code",
      "source": [
        "# 找最值\n",
        "# axis默认位None，即全局找最值\n",
        "arr = np.arange(9).reshape(3,3)\n",
        "print('求最小值：', np.amin(arr, axis=0))\n",
        "print('求最大值：', np.amin(arr, axis=1))"
      ],
      "metadata": {
        "colab": {
          "base_uri": "https://localhost:8080/"
        },
        "id": "H8_0e3vqErmR",
        "outputId": "e7f9622f-8314-48c0-9ac4-f81994d5dd8a"
      },
      "execution_count": null,
      "outputs": [
        {
          "output_type": "stream",
          "name": "stdout",
          "text": [
            "求最小值： [0 1 2]\n",
            "求最大值： [0 3 6]\n"
          ]
        }
      ]
    },
    {
      "cell_type": "code",
      "source": [
        "# 求最大差值\n",
        "arr = np.arange(9).reshape(3,3)\n",
        "print('求最大差值：', np.ptp(arr))\n",
        "print('求最大差值：', np.ptp(arr, axis=0))"
      ],
      "metadata": {
        "colab": {
          "base_uri": "https://localhost:8080/"
        },
        "id": "cO4JZ6odFrTh",
        "outputId": "cc6c617a-fd0c-42d8-9ddc-0e873baefdc2"
      },
      "execution_count": null,
      "outputs": [
        {
          "output_type": "stream",
          "name": "stdout",
          "text": [
            "求最大差值： 8\n",
            "求最大差值： [6 6 6]\n"
          ]
        }
      ]
    },
    {
      "cell_type": "code",
      "source": [
        "# 计算分位点\n",
        "arr = np.arange(100).reshape(10,10)\n",
        "print('求中位数：', np.median(arr))\n",
        "print('求90分位点：', np.percentile(arr, 90, axis=0))\n",
        "print('求95分位点：', np.percentile(arr, 95, axis=1))"
      ],
      "metadata": {
        "colab": {
          "base_uri": "https://localhost:8080/"
        },
        "id": "iVc0TELpGEFm",
        "outputId": "85e516f5-043b-47b3-c11b-a317f237171d"
      },
      "execution_count": null,
      "outputs": [
        {
          "output_type": "stream",
          "name": "stdout",
          "text": [
            "求中位数： 49.5\n",
            "求90分位点： [81. 82. 83. 84. 85. 86. 87. 88. 89. 90.]\n",
            "求95分位点： [ 8.55 18.55 28.55 38.55 48.55 58.55 68.55 78.55 88.55 98.55]\n"
          ]
        }
      ]
    },
    {
      "cell_type": "code",
      "source": [
        "# 求均值与方差\n",
        "# 所有求均值和方差的方法，都可以指定axis\n",
        "arr = np.arange(100).reshape(10,10)\n",
        "print('求算数平均值：', np.mean(arr))\n",
        "print('求加权平均值：', np.average(arr, weights=[9,8,7,6,5,4,3,2,1,0], axis=0))\n",
        "print('求标准差：', np.std(arr, axis=0))\n",
        "print('求方差：', np.var(arr, axis=1))"
      ],
      "metadata": {
        "colab": {
          "base_uri": "https://localhost:8080/"
        },
        "id": "0i-kZ2AKKmfQ",
        "outputId": "599ac9f3-d9fc-4795-b814-0a9b621127ab"
      },
      "execution_count": null,
      "outputs": [
        {
          "output_type": "stream",
          "name": "stdout",
          "text": [
            "求算数平均值： 49.5\n",
            "求加权平均值： [26.66666667 27.66666667 28.66666667 29.66666667 30.66666667 31.66666667\n",
            " 32.66666667 33.66666667 34.66666667 35.66666667]\n",
            "求标准差： [28.72281323 28.72281323 28.72281323 28.72281323 28.72281323 28.72281323\n",
            " 28.72281323 28.72281323 28.72281323 28.72281323]\n",
            "求方差： [8.25 8.25 8.25 8.25 8.25 8.25 8.25 8.25 8.25 8.25]\n"
          ]
        }
      ]
    },
    {
      "cell_type": "markdown",
      "source": [
        "### 排序函数"
      ],
      "metadata": {
        "id": "6hVUjrKhMZ06"
      }
    },
    {
      "cell_type": "code",
      "source": [
        "# 直接排序\n",
        "arr = np.random.randint(0, 1000, 100).reshape(10, 10)\n",
        "print('快速排序：\\n', np.sort(arr, kind='quicksort')) # 速度最快，最快情况短板（默认kind）\n",
        "print('归并排序：\\n', np.sort(arr, kind='mergesort', axis=0)) # 速度居中，消耗空间，排序稳定\n",
        "print('堆排序：\\n', np.sort(arr, kind='heapsort', axis=1))  # 速度最慢，最为均衡"
      ],
      "metadata": {
        "colab": {
          "base_uri": "https://localhost:8080/"
        },
        "id": "b9-vv5eHMuuB",
        "outputId": "9f490893-b8a2-4742-daa9-1ab51d8d6fe0"
      },
      "execution_count": null,
      "outputs": [
        {
          "output_type": "stream",
          "name": "stdout",
          "text": [
            "快速排序：\n",
            " [[ 57  59 133 136 148 341 545 638 926 975]\n",
            " [229 313 388 545 788 828 852 875 977 992]\n",
            " [128 162 231 305 480 511 592 635 894 987]\n",
            " [ 18  59 136 177 221 253 370 386 405 981]\n",
            " [269 336 530 582 630 690 752 796 806 909]\n",
            " [ 49 291 296 298 327 425 509 529 741 941]\n",
            " [ 64  95 249 265 474 537 596 844 935 987]\n",
            " [ 32  57 274 300 304 444 592 891 905 965]\n",
            " [ 98  99 321 334 597 689 705 876 964 982]\n",
            " [132 316 373 626 642 693 704 785 867 999]]\n",
            "归并排序：\n",
            " [[ 95  18 132  49 177  59  32  57  57 162]\n",
            " [229 148 133 136 296 253  99  64  59 304]\n",
            " [298 231 249 370 300 305 221  98 128 327]\n",
            " [334 509 274 592 511 336 265 136 269 405]\n",
            " [386 545 530 689 704 444 313 291 316 537]\n",
            " [480 582 635 844 705 474 373 388 321 597]\n",
            " [592 596 741 852 796 529 425 690 341 693]\n",
            " [626 642 964 905 875 785 545 867 828 752]\n",
            " [638 891 981 909 926 876 630 894 935 788]\n",
            " [806 982 992 999 987 977 987 965 941 975]]\n",
            "堆排序：\n",
            " [[ 57  59 133 136 148 341 545 638 926 975]\n",
            " [229 313 388 545 788 828 852 875 977 992]\n",
            " [128 162 231 305 480 511 592 635 894 987]\n",
            " [ 18  59 136 177 221 253 370 386 405 981]\n",
            " [269 336 530 582 630 690 752 796 806 909]\n",
            " [ 49 291 296 298 327 425 509 529 741 941]\n",
            " [ 64  95 249 265 474 537 596 844 935 987]\n",
            " [ 32  57 274 300 304 444 592 891 905 965]\n",
            " [ 98  99 321 334 597 689 705 876 964 982]\n",
            " [132 316 373 626 642 693 704 785 867 999]]\n"
          ]
        }
      ]
    },
    {
      "cell_type": "code",
      "source": [
        "# 指定字段排序\n",
        "dt = np.dtype([('name', (str, 10)), ('age', int)])\n",
        "arr = np.array([('b', 30), ('a', 20), ('c', 10)], dtype=dt)\n",
        "print('指定排序字段：\\n', np.sort(arr, order='name'))\n",
        "print('指定排序字段：\\n', np.sort(arr, order='age'))"
      ],
      "metadata": {
        "colab": {
          "base_uri": "https://localhost:8080/"
        },
        "id": "PKZxOKHVQa16",
        "outputId": "fac28075-6ddf-4c2e-ed07-0dd6354424e2"
      },
      "execution_count": null,
      "outputs": [
        {
          "output_type": "stream",
          "name": "stdout",
          "text": [
            "指定排序字段：\n",
            " [('a', 20) ('b', 30) ('c', 10)]\n",
            "指定排序字段：\n",
            " [('c', 10) ('a', 20) ('b', 30)]\n"
          ]
        }
      ]
    },
    {
      "cell_type": "code",
      "source": [
        "# 间接排序\n",
        "arr = np.random.randint(0, 100, 10)\n",
        "print(arr)\n",
        "s = np.argsort(arr)\n",
        "print(s)\n",
        "print('通过排序索引数组，进行间接排序：', arr[s])"
      ],
      "metadata": {
        "colab": {
          "base_uri": "https://localhost:8080/"
        },
        "id": "EZb9NwrnQg70",
        "outputId": "248a08a3-fb8f-45f2-eb6a-25eacca07afc"
      },
      "execution_count": null,
      "outputs": [
        {
          "output_type": "stream",
          "name": "stdout",
          "text": [
            "[ 3 29 68 76 34 91 33 62 20 85]\n",
            "[0 8 1 6 4 7 2 3 9 5]\n",
            "通过排序索引数组，进行间接排序： [ 3 20 29 33 34 62 68 76 85 91]\n"
          ]
        }
      ]
    },
    {
      "cell_type": "code",
      "source": [
        "# 多级排序\n",
        "a = np.array([2,5,8,4,3,7,6])\n",
        "b = np.array([9,4,0,4,0,2,1])\n",
        "c = np.stack([a,b], axis=0)\n",
        "index = np.lexsort((a,b))\n",
        "print('多级排序索引：', index)\n",
        "print('多级排序结果：\\n', c[...,index])"
      ],
      "metadata": {
        "colab": {
          "base_uri": "https://localhost:8080/"
        },
        "id": "FQLOSccbR3bs",
        "outputId": "6e8ba7e6-7560-4ed6-d24e-1c55a94c9508"
      },
      "execution_count": null,
      "outputs": [
        {
          "output_type": "stream",
          "name": "stdout",
          "text": [
            "多级排序索引： [4 2 6 5 3 1 0]\n",
            "多级排序结果：\n",
            " [[3 8 6 7 4 5 2]\n",
            " [0 0 1 2 4 4 9]]\n"
          ]
        }
      ]
    },
    {
      "cell_type": "code",
      "source": [
        "# 按指定数字作为分割将数据分区\n",
        "print('二分：', np.partition(np.random.randint(0,10,10), 5))\n",
        "print('指定分区：', np.partition(np.random.randint(0,10,10), (3,6)))"
      ],
      "metadata": {
        "colab": {
          "base_uri": "https://localhost:8080/"
        },
        "id": "L85IexfsVDMt",
        "outputId": "4401dac2-da6e-4996-a924-11e4630b728e"
      },
      "execution_count": null,
      "outputs": [
        {
          "output_type": "stream",
          "name": "stdout",
          "text": [
            "二分： [0 2 2 1 3 5 6 8 9 9]\n",
            "指定分区： [2 2 3 4 5 6 7 8 9 9]\n"
          ]
        }
      ]
    },
    {
      "cell_type": "markdown",
      "source": [
        "### 搜索函数"
      ],
      "metadata": {
        "id": "6goM5WuDWkHG"
      }
    },
    {
      "cell_type": "code",
      "source": [
        "# 根据官方文档的说明：amin is an alias of min\n",
        "arr = np.random.randint(0, 100, 9).reshape(3,3)\n",
        "print(arr)\n",
        "print('数组展开：', arr.flatten())\n",
        "print('搜索最小值：', np.min(arr))\n",
        "print('搜索最小值（返回索引）：', np.argmin(arr))\n",
        "print('搜索最大值：', np.max(arr))\n",
        "print('搜索最大值（返回索引）：', np.argmax(arr))\n",
        "print('返回非0元素的索引：', np.nonzero(arr))\n",
        "print('返回满足条件的索引：', np.where(np.mod(arr,2)==0)) # 返回索引\n",
        "print('返回满足条件的索引：', np.extract(np.mod(arr,2)==0, arr))  # 返回值"
      ],
      "metadata": {
        "colab": {
          "base_uri": "https://localhost:8080/"
        },
        "id": "Pf33QrDUWlk1",
        "outputId": "be78d99b-bdc8-403a-b04c-f725644aa198"
      },
      "execution_count": null,
      "outputs": [
        {
          "output_type": "stream",
          "name": "stdout",
          "text": [
            "[[68  9 62]\n",
            " [94 88 22]\n",
            " [44 26 33]]\n",
            "数组展开： [68  9 62 94 88 22 44 26 33]\n",
            "搜索最小值： 9\n",
            "搜索最小值（返回索引）： 1\n",
            "搜索最大值： 94\n",
            "搜索最大值（返回索引）： 3\n",
            "返回非0元素的索引： (array([0, 0, 0, 1, 1, 1, 2, 2, 2]), array([0, 1, 2, 0, 1, 2, 0, 1, 2]))\n",
            "返回满足条件的索引： (array([0, 0, 1, 1, 1, 2, 2]), array([0, 2, 0, 1, 2, 0, 1]))\n",
            "返回满足条件的索引： [68 62 94 88 22 44 26]\n"
          ]
        }
      ]
    },
    {
      "cell_type": "markdown",
      "source": [
        "# 高级用法"
      ],
      "metadata": {
        "id": "CetSuRPVYCsL"
      }
    },
    {
      "cell_type": "markdown",
      "source": [
        "## 赋值、视图和副本"
      ],
      "metadata": {
        "id": "esI8S72iagIm"
      }
    },
    {
      "cell_type": "code",
      "source": [
        "# 赋值（直接引用）\n",
        "a = np.arange(10)\n",
        "b = a\n",
        "print('赋值不改变id：', id(a), id(b), id(a)==id(b))"
      ],
      "metadata": {
        "id": "FYi1iapiYFAE",
        "colab": {
          "base_uri": "https://localhost:8080/"
        },
        "outputId": "1145d3a3-83b4-49a5-c2d7-d2d4f38808a7"
      },
      "execution_count": null,
      "outputs": [
        {
          "output_type": "stream",
          "name": "stdout",
          "text": [
            "赋值不改变id： 138784847965680 138784847965680 True\n"
          ]
        }
      ]
    },
    {
      "cell_type": "code",
      "source": [
        "# 视图（浅拷贝）\n",
        "# 切片操作返回的是视图\n",
        "# reshape返回的是视图\n",
        "# arr.view()方法专门用于返回视图\n",
        "a = np.arange(10)\n",
        "b = a[:]\n",
        "print('切片改变id：', id(a), id(b), id(a)==id(b))\n",
        "a[0] = 10\n",
        "print('切片共享内存：', a==b)"
      ],
      "metadata": {
        "colab": {
          "base_uri": "https://localhost:8080/"
        },
        "id": "s7uJqzUObCaG",
        "outputId": "b6890afa-135b-4216-8ef3-d8d1f2acdeea"
      },
      "execution_count": null,
      "outputs": [
        {
          "output_type": "stream",
          "name": "stdout",
          "text": [
            "切片改变id： 138784847966352 138784847964336 False\n",
            "[10  1  2  3  4  5  6  7  8  9]\n",
            "[10  1  2  3  4  5  6  7  8  9]\n",
            "切片共享内存： [ True  True  True  True  True  True  True  True  True  True]\n"
          ]
        }
      ]
    },
    {
      "cell_type": "code",
      "source": [
        "# 副本（深拷贝）\n",
        "# numpy的copy()方法专门用于返回副本\n",
        "# python的切片返回副本（特别注意，python的切片和numpy的切片，行为是完全不同的）\n",
        "# python的deepCopy()方法专门用于返回副本\n",
        "a = np.arange(10)\n",
        "b = a.copy()\n",
        "a[0] = 10\n",
        "print('切片共享内存：', a==b)"
      ],
      "metadata": {
        "colab": {
          "base_uri": "https://localhost:8080/"
        },
        "id": "8lve8kvBcUJ_",
        "outputId": "51064e6f-5eeb-4249-be1c-dfe7e82ff55e"
      },
      "execution_count": null,
      "outputs": [
        {
          "output_type": "stream",
          "name": "stdout",
          "text": [
            "切片共享内存： [False  True  True  True  True  True  True  True  True  True]\n"
          ]
        }
      ]
    },
    {
      "cell_type": "markdown",
      "source": [
        "## IO函数"
      ],
      "metadata": {
        "id": "dmQfuAUkdAqv"
      }
    },
    {
      "cell_type": "code",
      "source": [
        "# 保存到文件\n",
        "# 单个数组默认扩展名位npy\n",
        "arr = np.random.randint(0,1000,100).reshape(10,10)\n",
        "np.save('arr.npy', arr, allow_pickle=True, fix_imports=True)\n",
        "\n",
        "import os\n",
        "print(os.popen('ls').read())"
      ],
      "metadata": {
        "colab": {
          "base_uri": "https://localhost:8080/"
        },
        "id": "S93B7-03dE0G",
        "outputId": "7884e9c1-0078-4e15-c664-ade9b3b2fea2"
      },
      "execution_count": null,
      "outputs": [
        {
          "output_type": "stream",
          "name": "stdout",
          "text": [
            "arr.npy\n",
            "arr.npz.npy\n",
            "sample_data\n",
            "xyz.npy.npz\n",
            "xyz.npz\n",
            "\n"
          ]
        }
      ]
    },
    {
      "cell_type": "code",
      "source": [
        "# 保存多个数组到文件\n",
        "# 多个数组默认扩展名位npz\n",
        "x = np.array([1,2,3])\n",
        "y = np.array([4,5,6])\n",
        "z = np.array([7,8,9])\n",
        "np.savez('xyz.npz', x, y, sin_arr=z)"
      ],
      "metadata": {
        "id": "X5r5v7v7eCGn"
      },
      "execution_count": null,
      "outputs": []
    },
    {
      "cell_type": "code",
      "source": [
        "# 读取单数组文件\n",
        "file = np.load('arr.npy')\n",
        "print(file)"
      ],
      "metadata": {
        "colab": {
          "base_uri": "https://localhost:8080/"
        },
        "id": "vo2LUS5_ecr3",
        "outputId": "161124e8-aed0-483b-e1fb-26ec0d0767f9"
      },
      "execution_count": null,
      "outputs": [
        {
          "output_type": "stream",
          "name": "stdout",
          "text": [
            "[[983 168 881 182 584 643 541 364 576 648]\n",
            " [544 238 620 777 457 401 661  59 413 476]\n",
            " [819 803 635 595 380 943 677 408 212 185]\n",
            " [  2 424 794 637 627 154 383 672 575 491]\n",
            " [232 565  43 157 573 236 253 566 276 303]\n",
            " [674 705   4  43 760 423 385 602 499 297]\n",
            " [969 568 966 790 319 350 605 610 277  84]\n",
            " [ 53 937 176 156   9 376  33  84 417 146]\n",
            " [835 866 481 688 989 517 539 760  23 189]\n",
            " [810 598   6 184 830 794  32 292 129 916]]\n"
          ]
        }
      ]
    },
    {
      "cell_type": "code",
      "source": [
        "# 读取多数组文件\n",
        "file = np.load('xyz.npz')\n",
        "print(file)\n",
        "print(file['arr_0'])\n",
        "print(file['arr_1'])\n",
        "print(file['sin_arr'])"
      ],
      "metadata": {
        "colab": {
          "base_uri": "https://localhost:8080/"
        },
        "id": "hqow-h9yew5z",
        "outputId": "d46b25c4-b531-49d9-922b-dd6461f90de8"
      },
      "execution_count": null,
      "outputs": [
        {
          "output_type": "stream",
          "name": "stdout",
          "text": [
            "<numpy.lib.npyio.NpzFile object at 0x7e397aa6c1c0>\n",
            "[1 2 3]\n",
            "[4 5 6]\n",
            "[7 8 9]\n"
          ]
        }
      ]
    }
  ]
}