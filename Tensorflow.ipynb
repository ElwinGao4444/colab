{
  "nbformat": 4,
  "nbformat_minor": 0,
  "metadata": {
    "colab": {
      "provenance": [],
      "toc_visible": true,
      "authorship_tag": "ABX9TyPgqciSXjA0o9TJvoy5YpdM",
      "include_colab_link": true
    },
    "kernelspec": {
      "name": "python3",
      "display_name": "Python 3"
    },
    "language_info": {
      "name": "python"
    }
  },
  "cells": [
    {
      "cell_type": "markdown",
      "metadata": {
        "id": "view-in-github",
        "colab_type": "text"
      },
      "source": [
        "<a href=\"https://colab.research.google.com/github/ElwinGao4444/colab/blob/main/Tensorflow.ipynb\" target=\"_parent\"><img src=\"https://colab.research.google.com/assets/colab-badge.svg\" alt=\"Open In Colab\"/></a>"
      ]
    },
    {
      "cell_type": "markdown",
      "source": [
        "# Tensorflow介绍\n",
        "\n",
        "官方教程：https://www.tensorflow.org/tutorials\n",
        "\n",
        "官方指南：https://www.tensorflow.org/guide\n",
        "\n",
        "官方API文档：https://www.tensorflow.org/api_docs/python/tf"
      ],
      "metadata": {
        "id": "6iG3d13xhRTx"
      }
    },
    {
      "cell_type": "code",
      "execution_count": 2,
      "metadata": {
        "id": "wS7sfyYthPpA"
      },
      "outputs": [],
      "source": [
        "import numpy as np\n",
        "import pandas as pd\n",
        "import tensorflow as tf"
      ]
    },
    {
      "cell_type": "markdown",
      "source": [
        "# Tensorflow基础"
      ],
      "metadata": {
        "id": "a1m-vIF5NaN7"
      }
    },
    {
      "cell_type": "markdown",
      "source": [
        "## 张量\n",
        "\n",
        "张量在使用上和numpy的用法非常相似，可以相互借鉴学习"
      ],
      "metadata": {
        "id": "CJjNdmV5khb3"
      }
    },
    {
      "cell_type": "markdown",
      "source": [
        "### 初始化"
      ],
      "metadata": {
        "id": "fLQ-z8xqp39E"
      }
    },
    {
      "cell_type": "markdown",
      "source": [
        "#### 直接初始化"
      ],
      "metadata": {
        "id": "nFsyIYpQpRyV"
      }
    },
    {
      "cell_type": "code",
      "source": [
        "print('标量：', tf.constant(0))\n",
        "print('秩为1的张量（向量）：', tf.constant([1,2,3]))\n",
        "print('秩为2的张量（矩阵）：', tf.reshape(tf.range(0,4,1), [2,2]))"
      ],
      "metadata": {
        "colab": {
          "base_uri": "https://localhost:8080/"
        },
        "id": "fwY1xMAKkt7y",
        "outputId": "86f8404a-928c-4f76-928d-91c1d94448d2"
      },
      "execution_count": 3,
      "outputs": [
        {
          "output_type": "stream",
          "name": "stdout",
          "text": [
            "标量： tf.Tensor(0, shape=(), dtype=int32)\n",
            "秩为1的张量（向量）： tf.Tensor([1 2 3], shape=(3,), dtype=int32)\n",
            "秩为2的张量（矩阵）： tf.Tensor(\n",
            "[[0 1]\n",
            " [2 3]], shape=(2, 2), dtype=int32)\n"
          ]
        }
      ]
    },
    {
      "cell_type": "markdown",
      "source": [
        "#### 结构初始化"
      ],
      "metadata": {
        "id": "koWsu_gqpU7Y"
      }
    },
    {
      "cell_type": "code",
      "source": [
        "print('全0/1初始化（标量）：', tf.zeros([]), tf.ones([]))\n",
        "print('全0/1初始化（向量）：', tf.zeros([5]), tf.ones([5]))\n",
        "print('全0/1初始化（矩阵）：', tf.zeros([2,2]), tf.ones([2,2]))\n",
        "arr = np.arange(8).reshape(2,2,2)\n",
        "print('全0/1初始化（like）：', tf.zeros_like(arr), tf.ones_like(arr))  # 这里用list，ndarray，tensor都可以\n",
        "\n",
        "print('填充指定值：', tf.fill([2,2],9))"
      ],
      "metadata": {
        "colab": {
          "base_uri": "https://localhost:8080/"
        },
        "id": "FUyTfhQQqKkn",
        "outputId": "2391e58c-df8e-4542-e970-9dfc05307d62"
      },
      "execution_count": 4,
      "outputs": [
        {
          "output_type": "stream",
          "name": "stdout",
          "text": [
            "全0/1初始化（标量）： tf.Tensor(0.0, shape=(), dtype=float32) tf.Tensor(1.0, shape=(), dtype=float32)\n",
            "全0/1初始化（向量）： tf.Tensor([0. 0. 0. 0. 0.], shape=(5,), dtype=float32) tf.Tensor([1. 1. 1. 1. 1.], shape=(5,), dtype=float32)\n",
            "全0/1初始化（矩阵）： tf.Tensor(\n",
            "[[0. 0.]\n",
            " [0. 0.]], shape=(2, 2), dtype=float32) tf.Tensor(\n",
            "[[1. 1.]\n",
            " [1. 1.]], shape=(2, 2), dtype=float32)\n",
            "全0/1初始化（like）： tf.Tensor(\n",
            "[[[0 0]\n",
            "  [0 0]]\n",
            "\n",
            " [[0 0]\n",
            "  [0 0]]], shape=(2, 2, 2), dtype=int64) tf.Tensor(\n",
            "[[[1 1]\n",
            "  [1 1]]\n",
            "\n",
            " [[1 1]\n",
            "  [1 1]]], shape=(2, 2, 2), dtype=int64)\n",
            "填充指定值： tf.Tensor(\n",
            "[[9 9]\n",
            " [9 9]], shape=(2, 2), dtype=int32)\n"
          ]
        }
      ]
    },
    {
      "cell_type": "markdown",
      "source": [
        "#### 随机初始化"
      ],
      "metadata": {
        "id": "eZ3_aK0usQr9"
      }
    },
    {
      "cell_type": "code",
      "source": [
        "print('使用均匀分布采用的随机初始化：', tf.random.uniform([2, 2], minval=0, maxval=100))\n",
        "print('使用高斯分布采用的随机初始化：', tf.random.normal([2, 2], mean=0, stddev=1))"
      ],
      "metadata": {
        "colab": {
          "base_uri": "https://localhost:8080/"
        },
        "id": "GvRHFakOsR7v",
        "outputId": "34436181-4b1e-4f09-8787-08e15fce11c0"
      },
      "execution_count": 5,
      "outputs": [
        {
          "output_type": "stream",
          "name": "stdout",
          "text": [
            "使用均匀分布采用的随机初始化： tf.Tensor(\n",
            "[[56.264126 21.665632]\n",
            " [90.035866 91.46288 ]], shape=(2, 2), dtype=float32)\n",
            "使用高斯分布采用的随机初始化： tf.Tensor(\n",
            "[[ 0.4487123  -0.18055418]\n",
            " [-2.4952445  -0.7741364 ]], shape=(2, 2), dtype=float32)\n"
          ]
        }
      ]
    },
    {
      "cell_type": "markdown",
      "source": [
        "### 类型转换"
      ],
      "metadata": {
        "id": "vLlhyip6pZFV"
      }
    },
    {
      "cell_type": "code",
      "source": [
        "print('ndarray转tensor：', tf.convert_to_tensor(np.arange(3)))\n",
        "print('tensor转ndarray：', np.array(tf.constant([1,2,3])))\n",
        "print('tensor转ndarray：', tf.constant([1,2,3]).numpy())"
      ],
      "metadata": {
        "colab": {
          "base_uri": "https://localhost:8080/"
        },
        "id": "ZY1FsssCpARH",
        "outputId": "ddcfeb5f-0f4a-4e58-be4e-320c2e9aaa8c"
      },
      "execution_count": 6,
      "outputs": [
        {
          "output_type": "stream",
          "name": "stdout",
          "text": [
            "ndarray转tensor： tf.Tensor([0 1 2], shape=(3,), dtype=int64)\n",
            "tensor转ndarray： [1 2 3]\n",
            "tensor转ndarray： [1 2 3]\n"
          ]
        }
      ]
    },
    {
      "cell_type": "code",
      "source": [
        "np.arange(8).reshape(2,2,2)"
      ],
      "metadata": {
        "colab": {
          "base_uri": "https://localhost:8080/"
        },
        "id": "Db29k3n8npbP",
        "outputId": "b31165f4-fda2-43a6-ef23-8221f2e82819"
      },
      "execution_count": 7,
      "outputs": [
        {
          "output_type": "execute_result",
          "data": {
            "text/plain": [
              "array([[[0, 1],\n",
              "        [2, 3]],\n",
              "\n",
              "       [[4, 5],\n",
              "        [6, 7]]])"
            ]
          },
          "metadata": {},
          "execution_count": 7
        }
      ]
    },
    {
      "cell_type": "markdown",
      "source": [
        "### 张量运算"
      ],
      "metadata": {
        "id": "pg_HhmG0tIMu"
      }
    },
    {
      "cell_type": "code",
      "source": [
        "a = tf.constant([[1,2],[3,4]], dtype=tf.double)\n",
        "b = tf.constant([[2,4],[6,8]], dtype=tf.double)\n",
        "\n",
        "print('加法运算：', tf.add(a, b))\n",
        "print('逐项相乘：', tf.multiply(a, b))\n",
        "print('矩阵乘法：', tf.matmul(a, b))\n",
        "\n",
        "print('加法运算：', a + b)\n",
        "print('逐项相乘：', a * b)\n",
        "print('矩阵乘法：', a @ b)\n",
        "\n",
        "print('寻找张量中最大的元素', tf.reduce_max(a))\n",
        "print('寻找张量中最大的元素位置', tf.math.argmax(a))\n",
        "print('计算SoftMax', tf.nn.softmax(a))"
      ],
      "metadata": {
        "colab": {
          "base_uri": "https://localhost:8080/"
        },
        "id": "aEzcKZ2ytKaN",
        "outputId": "86a821f7-c66f-4174-b694-943593a4183a"
      },
      "execution_count": 8,
      "outputs": [
        {
          "output_type": "stream",
          "name": "stdout",
          "text": [
            "加法运算： tf.Tensor(\n",
            "[[ 3.  6.]\n",
            " [ 9. 12.]], shape=(2, 2), dtype=float64)\n",
            "逐项相乘： tf.Tensor(\n",
            "[[ 2.  8.]\n",
            " [18. 32.]], shape=(2, 2), dtype=float64)\n",
            "矩阵乘法： tf.Tensor(\n",
            "[[14. 20.]\n",
            " [30. 44.]], shape=(2, 2), dtype=float64)\n",
            "加法运算： tf.Tensor(\n",
            "[[ 3.  6.]\n",
            " [ 9. 12.]], shape=(2, 2), dtype=float64)\n",
            "逐项相乘： tf.Tensor(\n",
            "[[ 2.  8.]\n",
            " [18. 32.]], shape=(2, 2), dtype=float64)\n",
            "矩阵乘法： tf.Tensor(\n",
            "[[14. 20.]\n",
            " [30. 44.]], shape=(2, 2), dtype=float64)\n",
            "寻找张量中最大的元素 tf.Tensor(4.0, shape=(), dtype=float64)\n",
            "寻找张量中最大的元素位置 tf.Tensor([1 1], shape=(2,), dtype=int64)\n",
            "计算SoftMax tf.Tensor(\n",
            "[[0.26894142 0.73105858]\n",
            " [0.26894142 0.73105858]], shape=(2, 2), dtype=float64)\n"
          ]
        }
      ]
    },
    {
      "cell_type": "markdown",
      "source": [
        "### 形状操作"
      ],
      "metadata": {
        "id": "XhNIbgdgnzZI"
      }
    },
    {
      "cell_type": "code",
      "source": [
        "print('修改形状：', tf.reshape([[1],[2],[3]], [1, -1]))\n",
        "print('展平张量：', tf.reshape([[1],[2],[3]], [-1]))"
      ],
      "metadata": {
        "colab": {
          "base_uri": "https://localhost:8080/"
        },
        "id": "poRDotgPn1Dp",
        "outputId": "b52beef9-9ee8-469e-f300-99bf7b446645"
      },
      "execution_count": 9,
      "outputs": [
        {
          "output_type": "stream",
          "name": "stdout",
          "text": [
            "修改形状： tf.Tensor([[1 2 3]], shape=(1, 3), dtype=int32)\n",
            "展平张量： tf.Tensor([1 2 3], shape=(3,), dtype=int32)\n"
          ]
        }
      ]
    },
    {
      "cell_type": "markdown",
      "source": [
        "### 类型转换"
      ],
      "metadata": {
        "id": "9GQjGWHDo1Rs"
      }
    },
    {
      "cell_type": "code",
      "source": [
        "the_f64_tensor = tf.constant([2.2, 3.3, 4.4], dtype=tf.float64)\n",
        "print('float64类型：', the_f64_tensor)\n",
        "the_f16_tensor = tf.cast(the_f64_tensor, dtype=tf.float16)\n",
        "print('float16类型：', the_f16_tensor)"
      ],
      "metadata": {
        "colab": {
          "base_uri": "https://localhost:8080/"
        },
        "id": "wSSWVLRXo5RX",
        "outputId": "e1fc7397-f43b-407f-e557-91d324f9bfb1"
      },
      "execution_count": 10,
      "outputs": [
        {
          "output_type": "stream",
          "name": "stdout",
          "text": [
            "float64类型： tf.Tensor([2.2 3.3 4.4], shape=(3,), dtype=float64)\n",
            "float16类型： tf.Tensor([2.2 3.3 4.4], shape=(3,), dtype=float16)\n"
          ]
        }
      ]
    },
    {
      "cell_type": "markdown",
      "source": [
        "### 不规则张量"
      ],
      "metadata": {
        "id": "cDigfVtkpHRX"
      }
    },
    {
      "cell_type": "code",
      "source": [
        "# 不规则张量不能直接构建\n",
        "ragged_list = [\n",
        "    [0, 1, 2, 3],\n",
        "    [4, 5],\n",
        "    [6, 7, 8],\n",
        "    [9]]\n",
        "try:\n",
        "  tensor = tf.constant(ragged_list)\n",
        "except Exception as e:\n",
        "  print(f\"{type(e).__name__}: {e}\")\n",
        "\n",
        "# 不规则张量需要使用：tf.ragged.RaggedTensor进行构建\n",
        "print('构建不规则张量：', tf.ragged.constant(ragged_list))"
      ],
      "metadata": {
        "colab": {
          "base_uri": "https://localhost:8080/"
        },
        "id": "KcY49P5SpI7b",
        "outputId": "c2a1b052-6270-4967-838e-8fdac385dd52"
      },
      "execution_count": 11,
      "outputs": [
        {
          "output_type": "stream",
          "name": "stdout",
          "text": [
            "ValueError: Can't convert non-rectangular Python sequence to Tensor.\n",
            "构建不规则张量： <tf.RaggedTensor [[0, 1, 2, 3], [4, 5], [6, 7, 8], [9]]>\n"
          ]
        }
      ]
    },
    {
      "cell_type": "markdown",
      "source": [
        "### 字符串张量\n",
        "（官方文档：https://www.tensorflow.org/api_docs/python/tf/strings）"
      ],
      "metadata": {
        "id": "FttbfhZdps54"
      }
    },
    {
      "cell_type": "code",
      "source": [
        "print('构建字符串标量：', tf.constant(\"Gray wolf\"))\n",
        "print('构建字符串向量：', tf.constant([\"Gray wolf\",\"Quick brown fox\",\"Lazy dog\"]))"
      ],
      "metadata": {
        "colab": {
          "base_uri": "https://localhost:8080/"
        },
        "id": "ZHnPfcIWpqPS",
        "outputId": "101f3f8b-86b8-4469-d919-41ab2ab34467"
      },
      "execution_count": 12,
      "outputs": [
        {
          "output_type": "stream",
          "name": "stdout",
          "text": [
            "构建字符串标量： tf.Tensor(b'Gray wolf', shape=(), dtype=string)\n",
            "构建字符串向量： tf.Tensor([b'Gray wolf' b'Quick brown fox' b'Lazy dog'], shape=(3,), dtype=string)\n"
          ]
        }
      ]
    },
    {
      "cell_type": "markdown",
      "source": [
        "### 稀疏张量"
      ],
      "metadata": {
        "id": "x_g4kFPrqzdU"
      }
    },
    {
      "cell_type": "code",
      "source": [
        "# 构建在[0,0]和[1,2]两个位置，值为1和2的，3行4列的稀疏矩阵\n",
        "print('构建稀疏张量：', tf.sparse.SparseTensor(indices=[[0, 0], [1, 2]], values=[1, 2], dense_shape=[3, 4]))"
      ],
      "metadata": {
        "colab": {
          "base_uri": "https://localhost:8080/"
        },
        "id": "HQUAWMPBq1_C",
        "outputId": "11d5278d-e81e-4b92-af9c-29007501c573"
      },
      "execution_count": 13,
      "outputs": [
        {
          "output_type": "stream",
          "name": "stdout",
          "text": [
            "构建稀疏张量： SparseTensor(indices=tf.Tensor(\n",
            "[[0 0]\n",
            " [1 2]], shape=(2, 2), dtype=int64), values=tf.Tensor([1 2], shape=(2,), dtype=int32), dense_shape=tf.Tensor([3 4], shape=(2,), dtype=int64))\n"
          ]
        }
      ]
    },
    {
      "cell_type": "markdown",
      "source": [
        "## 变量\n",
        "张量是只读的，变量是可变的"
      ],
      "metadata": {
        "id": "zFcvG3kOknEF"
      }
    },
    {
      "cell_type": "markdown",
      "source": [
        "### 变量与张量\n",
        "大部分张量的操作，都可以用于变量"
      ],
      "metadata": {
        "id": "_TBWrFqeXuIH"
      }
    },
    {
      "cell_type": "code",
      "source": [
        "print('使用list初始化变量：', tf.Variable([1,2,3]))\n",
        "print('使用ndarray初始化变量：', tf.Variable(np.arange(10)))\n",
        "print('使用tensor初始化变量：', tf.Variable(tf.constant(0)))\n",
        "# tf.reshape(tf.Variable([1,2,3]), [1,4]) # Variable是无法reshape的"
      ],
      "metadata": {
        "id": "yycIZKt3V-L_",
        "colab": {
          "base_uri": "https://localhost:8080/"
        },
        "outputId": "92123ea1-ea88-4787-faaa-8e3f1afa808a"
      },
      "execution_count": 14,
      "outputs": [
        {
          "output_type": "stream",
          "name": "stdout",
          "text": [
            "使用list初始化变量： <tf.Variable 'Variable:0' shape=(3,) dtype=int32, numpy=array([1, 2, 3], dtype=int32)>\n",
            "使用ndarray初始化变量： <tf.Variable 'Variable:0' shape=(10,) dtype=int64, numpy=array([0, 1, 2, 3, 4, 5, 6, 7, 8, 9])>\n",
            "使用tensor初始化变量： <tf.Variable 'Variable:0' shape=() dtype=int32, numpy=0>\n"
          ]
        }
      ]
    },
    {
      "cell_type": "markdown",
      "source": [
        "### 变量的赋值"
      ],
      "metadata": {
        "id": "Qr7KUG6eYQch"
      }
    },
    {
      "cell_type": "code",
      "source": [
        "v = tf.Variable([2.0, 3.0])\n",
        "print('对变量进行赋值：', v.assign([1, 2]))\n",
        "try:\n",
        "  v.assign([1.0, 2.0, 3.0]) # 变量\n",
        "except Exception as e:\n",
        "  print(f\"{type(e).__name__}: {e}\")"
      ],
      "metadata": {
        "colab": {
          "base_uri": "https://localhost:8080/"
        },
        "id": "4XPCJTYvXKrY",
        "outputId": "547ebae3-0e08-422f-da17-8acfffc46d66"
      },
      "execution_count": 15,
      "outputs": [
        {
          "output_type": "stream",
          "name": "stdout",
          "text": [
            "对变量进行赋值： <tf.Variable 'UnreadVariable' shape=(2,) dtype=float32, numpy=array([1., 2.], dtype=float32)>\n",
            "ValueError: Cannot assign value to variable ' Variable:0': Shape mismatch.The variable shape (2,), and the assigned value shape (3,) are incompatible.\n"
          ]
        }
      ]
    },
    {
      "cell_type": "markdown",
      "source": [
        "### 变量的复制"
      ],
      "metadata": {
        "id": "6Pvr4uvsYk0f"
      }
    },
    {
      "cell_type": "code",
      "source": [
        "# 用一个变量初始化另一个变量，会进行变量的复制\n",
        "a = tf.Variable([2.0, 3.0])\n",
        "b = tf.Variable(a)\n",
        "\n",
        "a.assign([5, 6])\n",
        "# 复制对象产生新的存储空间，不与原变量共享空间\n",
        "print(a.numpy())\n",
        "print(b.numpy())"
      ],
      "metadata": {
        "colab": {
          "base_uri": "https://localhost:8080/"
        },
        "id": "tox1dkQvYmho",
        "outputId": "806e8efa-b4aa-4900-a514-59f8262258c8"
      },
      "execution_count": 16,
      "outputs": [
        {
          "output_type": "stream",
          "name": "stdout",
          "text": [
            "[5. 6.]\n",
            "[2. 3.]\n"
          ]
        }
      ]
    },
    {
      "cell_type": "markdown",
      "source": [
        "### 变量的运算"
      ],
      "metadata": {
        "id": "T3mbhK9xZJbA"
      }
    },
    {
      "cell_type": "code",
      "source": [
        "print(a.assign_add([2,3]).numpy())  # [7. 9.]\n",
        "print(a.assign_sub([7,9]).numpy())  # [0. 0.]"
      ],
      "metadata": {
        "colab": {
          "base_uri": "https://localhost:8080/"
        },
        "id": "oHbY0bqjYxAw",
        "outputId": "ed32ffa6-9ae0-4392-bb78-a77d96e5a952"
      },
      "execution_count": 17,
      "outputs": [
        {
          "output_type": "stream",
          "name": "stdout",
          "text": [
            "[7. 9.]\n",
            "[0. 0.]\n"
          ]
        }
      ]
    },
    {
      "cell_type": "markdown",
      "source": [
        "### 命名与监视"
      ],
      "metadata": {
        "id": "vChYhvi2aAs4"
      }
    },
    {
      "cell_type": "code",
      "source": [
        "print('通过对变量进行命名，方便调试：', tf.Variable([0], name=\"Mark\"))\n",
        "print('通过设置trainable打开/关闭梯度计算', tf.Variable(1, trainable=False))"
      ],
      "metadata": {
        "colab": {
          "base_uri": "https://localhost:8080/"
        },
        "id": "btHgnLG-aC__",
        "outputId": "c3ee4139-cd5a-4d55-8fff-d15f17a4f28c"
      },
      "execution_count": 18,
      "outputs": [
        {
          "output_type": "stream",
          "name": "stdout",
          "text": [
            "通过对变量进行命名，方便调试： <tf.Variable 'Mark:0' shape=(1,) dtype=int32, numpy=array([0], dtype=int32)>\n",
            "通过设置trainable打开/关闭梯度计算 <tf.Variable 'Variable:0' shape=() dtype=int32, numpy=1>\n"
          ]
        }
      ]
    },
    {
      "cell_type": "markdown",
      "source": [
        "### 指定运算设备"
      ],
      "metadata": {
        "id": "kMrf6ITdadVp"
      }
    },
    {
      "cell_type": "code",
      "source": [
        "# 由于 tf.config.set_soft_device_placement 默认处于打开状态，所以，即使在没有 GPU 的设备上运行此代码，它也会运行，只不过乘法步骤会在 CPU 上执行\n",
        "with tf.device('CPU:0'):\n",
        "  a = tf.Variable([[1.0, 2.0, 3.0], [4.0, 5.0, 6.0]])\n",
        "  b = tf.Variable([[1.0, 2.0, 3.0]])\n",
        "\n",
        "with tf.device('GPU:0'):\n",
        "  # Element-wise multiply\n",
        "  k = a * b\n",
        "\n",
        "print(k)"
      ],
      "metadata": {
        "colab": {
          "base_uri": "https://localhost:8080/"
        },
        "id": "U9yJz9JxakE4",
        "outputId": "6339472b-08d0-4d7f-c9aa-faac182a9189"
      },
      "execution_count": 19,
      "outputs": [
        {
          "output_type": "stream",
          "name": "stdout",
          "text": [
            "tf.Tensor(\n",
            "[[ 1.  4.  9.]\n",
            " [ 4. 10. 18.]], shape=(2, 3), dtype=float32)\n"
          ]
        }
      ]
    },
    {
      "cell_type": "markdown",
      "source": [
        "## 自动微分\n",
        "（官方文档：https://www.tensorflow.org/guide/autodiff）"
      ],
      "metadata": {
        "id": "SbV2GTGCMZUy"
      }
    },
    {
      "cell_type": "markdown",
      "source": [
        "### 计算梯度"
      ],
      "metadata": {
        "id": "VeBDPpvVa1w_"
      }
    },
    {
      "cell_type": "markdown",
      "source": [
        "### 标量的梯度"
      ],
      "metadata": {
        "id": "MlPQJHG9bMfQ"
      }
    },
    {
      "cell_type": "code",
      "source": [
        "# 一元方程的梯度，其实就是导数\n",
        "x = tf.Variable(3.0)\n",
        "\n",
        "with tf.GradientTape() as tape:\n",
        "  y = x**2\n",
        "\n",
        "dy_dx = tape.gradient(y, x) # 计算y对x的导数\n",
        "dy_dx.numpy()"
      ],
      "metadata": {
        "colab": {
          "base_uri": "https://localhost:8080/"
        },
        "id": "emizwCdma3yJ",
        "outputId": "04250242-8440-4c8a-fa87-2b6e4a5b9e00"
      },
      "execution_count": 20,
      "outputs": [
        {
          "output_type": "execute_result",
          "data": {
            "text/plain": [
              "6.0"
            ]
          },
          "metadata": {},
          "execution_count": 20
        }
      ]
    },
    {
      "cell_type": "markdown",
      "source": [
        "### 张量的梯度"
      ],
      "metadata": {
        "id": "DCxvPb58bUDi"
      }
    },
    {
      "cell_type": "code",
      "source": [
        "w = tf.Variable(tf.random.normal((3, 2)), name='w')\n",
        "b = tf.Variable(tf.zeros(2, dtype=tf.float32), name='b')\n",
        "x = [[1., 2., 3.]]\n",
        "\n",
        "with tf.GradientTape(persistent=True) as tape:\n",
        "  y = x @ w + b\n",
        "  loss = tf.reduce_mean(y**2)\n",
        "\n",
        "[dl_dw, dl_db] = tape.gradient(loss, [w, b])  # 计算loss函数对[w,b]的梯度\n",
        "\n",
        "dl_dw, dl_db"
      ],
      "metadata": {
        "colab": {
          "base_uri": "https://localhost:8080/"
        },
        "id": "9vQo6I_UbWX4",
        "outputId": "e60965ce-7a47-4060-8b86-978db035d72d"
      },
      "execution_count": 21,
      "outputs": [
        {
          "output_type": "execute_result",
          "data": {
            "text/plain": [
              "(<tf.Tensor: shape=(3, 2), dtype=float32, numpy=\n",
              " array([[ 4.239339 ,  4.0397477],\n",
              "        [ 8.478678 ,  8.079495 ],\n",
              "        [12.718017 , 12.119244 ]], dtype=float32)>,\n",
              " <tf.Tensor: shape=(2,), dtype=float32, numpy=array([4.239339 , 4.0397477], dtype=float32)>)"
            ]
          },
          "metadata": {},
          "execution_count": 21
        }
      ]
    },
    {
      "cell_type": "code",
      "source": [
        "w = tf.Variable(tf.random.normal((3, 2)), name='w')\n",
        "b = tf.Variable(tf.zeros(1, dtype=tf.float32), name='b')\n",
        "x = [[1., 2., 3.]]\n",
        "\n",
        "with tf.GradientTape(persistent=True) as tape:\n",
        "  y = x @ w + b\n",
        "  loss = tf.reduce_mean(y**2)\n",
        "\n",
        "[dl_dw, dl_db] = tape.gradient(loss, [w, b])  # 计算loss函数对[w,b]的梯度\n",
        "\n",
        "dl_dw, dl_db"
      ],
      "metadata": {
        "colab": {
          "base_uri": "https://localhost:8080/"
        },
        "id": "2dYd-1VOb7OR",
        "outputId": "17887f75-22d7-44a3-e168-7de4ce348647"
      },
      "execution_count": 22,
      "outputs": [
        {
          "output_type": "execute_result",
          "data": {
            "text/plain": [
              "(<tf.Tensor: shape=(3, 2), dtype=float32, numpy=\n",
              " array([[-0.47757268, -0.6778281 ],\n",
              "        [-0.95514536, -1.3556561 ],\n",
              "        [-1.432718  , -2.0334842 ]], dtype=float32)>,\n",
              " <tf.Tensor: shape=(1,), dtype=float32, numpy=array([-1.1554008], dtype=float32)>)"
            ]
          },
          "metadata": {},
          "execution_count": 22
        }
      ]
    },
    {
      "cell_type": "markdown",
      "source": [
        "### 相对于模型的梯度"
      ],
      "metadata": {
        "id": "ysfwph3Ne_OS"
      }
    },
    {
      "cell_type": "code",
      "source": [
        "# TODO"
      ],
      "metadata": {
        "id": "Y4mksINsOs02"
      },
      "execution_count": 23,
      "outputs": []
    },
    {
      "cell_type": "markdown",
      "source": [
        "# Keras"
      ],
      "metadata": {
        "id": "g06QhduDNLjE"
      }
    },
    {
      "cell_type": "markdown",
      "source": [
        "## Sequential模型"
      ],
      "metadata": {
        "id": "wfLQx0y1O_YU"
      }
    },
    {
      "cell_type": "markdown",
      "source": [
        "### 一个最简单的模型"
      ],
      "metadata": {
        "id": "05J_tHVzPQib"
      }
    },
    {
      "cell_type": "code",
      "source": [
        "# model可以直接作为函数使用\n",
        "# 当如此使用的时候，它就是在求解Sequential所代表的复合函数\n",
        "# 对于一个输出长度为1的Dense层来说，它所表达的就是求解多元线性函数\n",
        "model = tf.keras.Sequential() # 定义一个Sequential模型\n",
        "model.add(tf.keras.layers.Dense(1,  # 输出向量长度为1的线性函数\n",
        "                kernel_initializer=tf.keras.initializers.Ones(),  # w系数初始化为全1\n",
        "                bias_initializer=tf.keras.initializers.Ones(),   # b系数初始化为1\n",
        "                ))  # Dense层在被首次使用的时候，会动态适配输入参数的元数\n",
        "model(tf.constant([[1]])) # 1个样本，每个样本元数为1，也就是最常见的y=wx+b"
      ],
      "metadata": {
        "id": "7y0v6FEIfAgD",
        "colab": {
          "base_uri": "https://localhost:8080/"
        },
        "outputId": "d581475e-cbf5-4a73-abbf-873e29024e35"
      },
      "execution_count": 24,
      "outputs": [
        {
          "output_type": "execute_result",
          "data": {
            "text/plain": [
              "<tf.Tensor: shape=(1, 1), dtype=float32, numpy=array([[2.]], dtype=float32)>"
            ]
          },
          "metadata": {},
          "execution_count": 24
        }
      ]
    },
    {
      "cell_type": "markdown",
      "source": [
        "## 简单的训练模型"
      ],
      "metadata": {
        "id": "dDWHwHKxQ9-G"
      }
    },
    {
      "cell_type": "code",
      "source": [
        "# 加载数据集\n",
        "mnist = tf.keras.datasets.mnist\n",
        "\n",
        "(x_train, y_train), (x_test, y_test) = mnist.load_data()\n",
        "x_train, x_test = x_train / 255.0, x_test / 255.0"
      ],
      "metadata": {
        "id": "mT507Cv3RDEw"
      },
      "execution_count": 25,
      "outputs": []
    },
    {
      "cell_type": "code",
      "source": [
        "# 定义模型\n",
        "\n",
        "model = tf.keras.models.Sequential([\n",
        "  tf.keras.layers.Flatten(input_shape=(28, 28)),\n",
        "  tf.keras.layers.Dense(128, activation='relu'),\n",
        "  tf.keras.layers.Dropout(0.2),\n",
        "  tf.keras.layers.Dense(10)\n",
        "])\n",
        "\n",
        "# 模型(model)可以简单的理解为一个复合函数，参数就是自变量(向量)集合，返回值就是对应的y值集合\n",
        "predictions = model(x_train[:1])    # 输入位1个28x28的数据，输出为1个size为10的一维向量\n",
        "tf.nn.softmax(predictions).numpy()  # 将model输出的向量，进行softmax操作，转化为相加为1的概率"
      ],
      "metadata": {
        "id": "W26m2owHRcoQ",
        "colab": {
          "base_uri": "https://localhost:8080/"
        },
        "outputId": "70d21574-1c93-4eba-b6f3-c0d4e8c13d03"
      },
      "execution_count": 26,
      "outputs": [
        {
          "output_type": "execute_result",
          "data": {
            "text/plain": [
              "array([[0.12111802, 0.04578268, 0.13099717, 0.12942888, 0.04601212,\n",
              "        0.08861547, 0.09765826, 0.110091  , 0.1337643 , 0.09653221]],\n",
              "      dtype=float32)"
            ]
          },
          "metadata": {},
          "execution_count": 26
        }
      ]
    },
    {
      "cell_type": "code",
      "source": [
        "# 不在model里增加一个softmax层，而是使用SparseCategoricalCrossentropy的from_logits参数\n",
        "# 主要原因就是softmax做指数运算，交叉熵做对数运算，二者合并运算，可以简化计算，并防止数值越界\n",
        "# 自己做softmax，然后令from_logits=False(默认为False)，可得到相同的计算结果\n",
        "loss_fn = tf.keras.losses.SparseCategoricalCrossentropy(from_logits=True)\n",
        "loss_fn(y_train[:1], predictions).numpy()"
      ],
      "metadata": {
        "colab": {
          "base_uri": "https://localhost:8080/"
        },
        "id": "gbe4f472d-cy",
        "outputId": "040ddae9-7976-49e8-a3c9-4ba6add10de4"
      },
      "execution_count": 27,
      "outputs": [
        {
          "output_type": "execute_result",
          "data": {
            "text/plain": [
              "2.423449"
            ]
          },
          "metadata": {},
          "execution_count": 27
        }
      ]
    },
    {
      "cell_type": "markdown",
      "source": [
        "### 封装版"
      ],
      "metadata": {
        "id": "7JcTUYTfoiFB"
      }
    },
    {
      "cell_type": "code",
      "source": [
        "# 通过compile指定损失函数，优化器\n",
        "# metrics=['accuracy'] 指定要为模型评估的指标\n",
        "model.compile(optimizer='adam', loss=loss_fn, metrics=['accuracy'])"
      ],
      "metadata": {
        "id": "Wdd0TKvwnj_x"
      },
      "execution_count": 28,
      "outputs": []
    },
    {
      "cell_type": "code",
      "source": [
        "# 执行训练过程\n",
        "model.fit(x_train, y_train, epochs=1)"
      ],
      "metadata": {
        "colab": {
          "base_uri": "https://localhost:8080/"
        },
        "id": "xjN94VquoEKs",
        "outputId": "0d2fa855-d747-4169-e55f-ca1b1be72f8a"
      },
      "execution_count": 29,
      "outputs": [
        {
          "output_type": "stream",
          "name": "stdout",
          "text": [
            "1875/1875 [==============================] - 16s 8ms/step - loss: 0.2967 - accuracy: 0.9133\n"
          ]
        },
        {
          "output_type": "execute_result",
          "data": {
            "text/plain": [
              "<keras.callbacks.History at 0x7e41fc57bac0>"
            ]
          },
          "metadata": {},
          "execution_count": 29
        }
      ]
    },
    {
      "cell_type": "code",
      "source": [
        "# 检查模型性能\n",
        "model.evaluate(x_test,  y_test, verbose=2)"
      ],
      "metadata": {
        "colab": {
          "base_uri": "https://localhost:8080/"
        },
        "id": "sBcz6vnroLaV",
        "outputId": "f518ff7f-83c3-411d-f43f-18e10aeec7cc"
      },
      "execution_count": 30,
      "outputs": [
        {
          "output_type": "stream",
          "name": "stdout",
          "text": [
            "313/313 - 1s - loss: 0.1438 - accuracy: 0.9567 - 843ms/epoch - 3ms/step\n"
          ]
        },
        {
          "output_type": "execute_result",
          "data": {
            "text/plain": [
              "[0.14384114742279053, 0.9567000269889832]"
            ]
          },
          "metadata": {},
          "execution_count": 30
        }
      ]
    },
    {
      "cell_type": "markdown",
      "source": [
        "### 手写版"
      ],
      "metadata": {
        "id": "4ClgQYtmolGc"
      }
    },
    {
      "cell_type": "code",
      "source": [
        "batch_size = 32\n",
        "\n",
        "def train(x, y, model, loss_fn, trainer):\n",
        "  counter = 0\n",
        "  data = (x, y)\n",
        "  train_iter = tf.data.Dataset.from_tensor_slices(data).batch(batch_size).shuffle(len(data[0]))\n",
        "  for x, y in train_iter:\n",
        "    counter = counter + 1\n",
        "    with tf.GradientTape() as tape:\n",
        "      y_hat = model(x)\n",
        "      l = loss_fn(y, y_hat)\n",
        "      params = model.trainable_variables\n",
        "      grads = tape.gradient(l, params)\n",
        "      trainer.apply_gradients(zip(grads, params))\n",
        "      print('\\r', end='')\n",
        "      print('train loss[%d]: %s' % (counter, l), end='')\n",
        "  return l"
      ],
      "metadata": {
        "id": "1DaQOnU3onui"
      },
      "execution_count": 31,
      "outputs": []
    },
    {
      "cell_type": "code",
      "source": [
        "trainer = tf.keras.optimizers.Adam()\n",
        "train(x_train[:3200], y_train[:3200], model, loss_fn, trainer)"
      ],
      "metadata": {
        "colab": {
          "base_uri": "https://localhost:8080/"
        },
        "id": "DLh-OtHuqP6s",
        "outputId": "9ca492ac-8d27-4b40-e016-ebce0e862c40"
      },
      "execution_count": 35,
      "outputs": [
        {
          "output_type": "stream",
          "name": "stdout",
          "text": [
            "train loss[100]: tf.Tensor(0.060847662, shape=(), dtype=float32)"
          ]
        },
        {
          "output_type": "execute_result",
          "data": {
            "text/plain": [
              "<tf.Tensor: shape=(), dtype=float32, numpy=0.060847662>"
            ]
          },
          "metadata": {},
          "execution_count": 35
        }
      ]
    },
    {
      "cell_type": "code",
      "source": [
        "def predict(model, x, y):\n",
        "  y_hat = tf.argmax(model(x), axis=1).numpy()\n",
        "  right = np.count_nonzero(y==y_hat)\n",
        "  return right / len(y)"
      ],
      "metadata": {
        "id": "TPs5QSIm9_LX"
      },
      "execution_count": 33,
      "outputs": []
    },
    {
      "cell_type": "code",
      "source": [
        "predict(model, x_test[:3200], y_test[:3200])"
      ],
      "metadata": {
        "colab": {
          "base_uri": "https://localhost:8080/"
        },
        "id": "G41ntzTT-cnK",
        "outputId": "7c0cf3f9-f1ea-4227-eb97-1f8eb09e1f26"
      },
      "execution_count": 34,
      "outputs": [
        {
          "output_type": "execute_result",
          "data": {
            "text/plain": [
              "0.9384375"
            ]
          },
          "metadata": {},
          "execution_count": 34
        }
      ]
    }
  ]
}