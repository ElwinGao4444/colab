{
  "nbformat": 4,
  "nbformat_minor": 0,
  "metadata": {
    "colab": {
      "provenance": [],
      "toc_visible": true,
      "authorship_tag": "ABX9TyOO8E+GcpUSWCfzYnLwaSZ7",
      "include_colab_link": true
    },
    "kernelspec": {
      "name": "python3",
      "display_name": "Python 3"
    },
    "language_info": {
      "name": "python"
    }
  },
  "cells": [
    {
      "cell_type": "markdown",
      "metadata": {
        "id": "view-in-github",
        "colab_type": "text"
      },
      "source": [
        "<a href=\"https://colab.research.google.com/github/ElwinGao4444/colab/blob/main/Tensorflow.ipynb\" target=\"_parent\"><img src=\"https://colab.research.google.com/assets/colab-badge.svg\" alt=\"Open In Colab\"/></a>"
      ]
    },
    {
      "cell_type": "markdown",
      "source": [
        "# Tensorflow介绍\n",
        "\n",
        "官方教程：https://www.tensorflow.org/tutorials\n",
        "\n",
        "官方指南：https://www.tensorflow.org/guide\n",
        "\n",
        "官方API文档：https://www.tensorflow.org/api_docs/python/tf"
      ],
      "metadata": {
        "id": "6iG3d13xhRTx"
      }
    },
    {
      "cell_type": "code",
      "execution_count": 2,
      "metadata": {
        "id": "wS7sfyYthPpA"
      },
      "outputs": [],
      "source": [
        "import numpy as np\n",
        "import pandas as pd\n",
        "import tensorflow as tf\n",
        "import matplotlib.pyplot as plt"
      ]
    },
    {
      "cell_type": "markdown",
      "source": [
        "# Tensorflow基础"
      ],
      "metadata": {
        "id": "a1m-vIF5NaN7"
      }
    },
    {
      "cell_type": "markdown",
      "source": [
        "## 张量\n",
        "\n",
        "张量在使用上和numpy的用法非常相似，可以相互借鉴学习"
      ],
      "metadata": {
        "id": "CJjNdmV5khb3"
      }
    },
    {
      "cell_type": "markdown",
      "source": [
        "### 初始化"
      ],
      "metadata": {
        "id": "fLQ-z8xqp39E"
      }
    },
    {
      "cell_type": "markdown",
      "source": [
        "#### 直接初始化"
      ],
      "metadata": {
        "id": "nFsyIYpQpRyV"
      }
    },
    {
      "cell_type": "code",
      "source": [
        "print('标量：', tf.constant(0))\n",
        "print('秩为1的张量（向量）：', tf.constant([1,2,3]))\n",
        "print('秩为2的张量（矩阵）：', tf.reshape(tf.range(0,4,1), [2,2]))"
      ],
      "metadata": {
        "colab": {
          "base_uri": "https://localhost:8080/"
        },
        "id": "fwY1xMAKkt7y",
        "outputId": "51d8d73e-3bd0-4780-fb17-31cba88cd327"
      },
      "execution_count": 3,
      "outputs": [
        {
          "output_type": "stream",
          "name": "stdout",
          "text": [
            "标量： tf.Tensor(0, shape=(), dtype=int32)\n",
            "秩为1的张量（向量）： tf.Tensor([1 2 3], shape=(3,), dtype=int32)\n",
            "秩为2的张量（矩阵）： tf.Tensor(\n",
            "[[0 1]\n",
            " [2 3]], shape=(2, 2), dtype=int32)\n"
          ]
        }
      ]
    },
    {
      "cell_type": "markdown",
      "source": [
        "#### 结构初始化"
      ],
      "metadata": {
        "id": "koWsu_gqpU7Y"
      }
    },
    {
      "cell_type": "code",
      "source": [
        "print('全0/1初始化（标量）：', tf.zeros([]), tf.ones([]))\n",
        "print('全0/1初始化（向量）：', tf.zeros([5]), tf.ones([5]))\n",
        "print('全0/1初始化（矩阵）：', tf.zeros([2,2]), tf.ones([2,2]))\n",
        "arr = np.arange(8).reshape(2,2,2)\n",
        "print('全0/1初始化（like）：', tf.zeros_like(arr), tf.ones_like(arr))  # 这里用list，ndarray，tensor都可以\n",
        "\n",
        "print('填充指定值：', tf.fill([2,2],9))"
      ],
      "metadata": {
        "colab": {
          "base_uri": "https://localhost:8080/"
        },
        "id": "FUyTfhQQqKkn",
        "outputId": "cf4c3247-1cd3-4441-c7b5-9ad60ee7e7ba"
      },
      "execution_count": 4,
      "outputs": [
        {
          "output_type": "stream",
          "name": "stdout",
          "text": [
            "全0/1初始化（标量）： tf.Tensor(0.0, shape=(), dtype=float32) tf.Tensor(1.0, shape=(), dtype=float32)\n",
            "全0/1初始化（向量）： tf.Tensor([0. 0. 0. 0. 0.], shape=(5,), dtype=float32) tf.Tensor([1. 1. 1. 1. 1.], shape=(5,), dtype=float32)\n",
            "全0/1初始化（矩阵）： tf.Tensor(\n",
            "[[0. 0.]\n",
            " [0. 0.]], shape=(2, 2), dtype=float32) tf.Tensor(\n",
            "[[1. 1.]\n",
            " [1. 1.]], shape=(2, 2), dtype=float32)\n",
            "全0/1初始化（like）： tf.Tensor(\n",
            "[[[0 0]\n",
            "  [0 0]]\n",
            "\n",
            " [[0 0]\n",
            "  [0 0]]], shape=(2, 2, 2), dtype=int64) tf.Tensor(\n",
            "[[[1 1]\n",
            "  [1 1]]\n",
            "\n",
            " [[1 1]\n",
            "  [1 1]]], shape=(2, 2, 2), dtype=int64)\n",
            "填充指定值： tf.Tensor(\n",
            "[[9 9]\n",
            " [9 9]], shape=(2, 2), dtype=int32)\n"
          ]
        }
      ]
    },
    {
      "cell_type": "markdown",
      "source": [
        "#### 随机初始化"
      ],
      "metadata": {
        "id": "eZ3_aK0usQr9"
      }
    },
    {
      "cell_type": "code",
      "source": [
        "print('使用均匀分布采用的随机初始化：', tf.random.uniform([2, 2], minval=0, maxval=100))\n",
        "print('使用高斯分布采用的随机初始化：', tf.random.normal([2, 2], mean=0, stddev=1))"
      ],
      "metadata": {
        "colab": {
          "base_uri": "https://localhost:8080/"
        },
        "id": "GvRHFakOsR7v",
        "outputId": "2aa6c7f9-c2c6-4143-9f75-d97aaed7c0f8"
      },
      "execution_count": 5,
      "outputs": [
        {
          "output_type": "stream",
          "name": "stdout",
          "text": [
            "使用均匀分布采用的随机初始化： tf.Tensor(\n",
            "[[87.480354  7.753718]\n",
            " [25.178814 58.403385]], shape=(2, 2), dtype=float32)\n",
            "使用高斯分布采用的随机初始化： tf.Tensor(\n",
            "[[ 1.3672357  -0.33339462]\n",
            " [ 0.4449688   1.0676976 ]], shape=(2, 2), dtype=float32)\n"
          ]
        }
      ]
    },
    {
      "cell_type": "markdown",
      "source": [
        "### 类型转换"
      ],
      "metadata": {
        "id": "vLlhyip6pZFV"
      }
    },
    {
      "cell_type": "code",
      "source": [
        "print('ndarray转tensor：', tf.convert_to_tensor(np.arange(3)))\n",
        "print('tensor转ndarray：', np.array(tf.constant([1,2,3])))\n",
        "print('tensor转ndarray：', tf.constant([1,2,3]).numpy())"
      ],
      "metadata": {
        "colab": {
          "base_uri": "https://localhost:8080/"
        },
        "id": "ZY1FsssCpARH",
        "outputId": "9785842b-0342-445e-996a-5e60e24bfb16"
      },
      "execution_count": 6,
      "outputs": [
        {
          "output_type": "stream",
          "name": "stdout",
          "text": [
            "ndarray转tensor： tf.Tensor([0 1 2], shape=(3,), dtype=int64)\n",
            "tensor转ndarray： [1 2 3]\n",
            "tensor转ndarray： [1 2 3]\n"
          ]
        }
      ]
    },
    {
      "cell_type": "code",
      "source": [
        "np.arange(8).reshape(2,2,2)"
      ],
      "metadata": {
        "colab": {
          "base_uri": "https://localhost:8080/"
        },
        "id": "Db29k3n8npbP",
        "outputId": "af19c0de-c502-4430-f370-b444fa16bf29"
      },
      "execution_count": 7,
      "outputs": [
        {
          "output_type": "execute_result",
          "data": {
            "text/plain": [
              "array([[[0, 1],\n",
              "        [2, 3]],\n",
              "\n",
              "       [[4, 5],\n",
              "        [6, 7]]])"
            ]
          },
          "metadata": {},
          "execution_count": 7
        }
      ]
    },
    {
      "cell_type": "markdown",
      "source": [
        "### 张量运算"
      ],
      "metadata": {
        "id": "pg_HhmG0tIMu"
      }
    },
    {
      "cell_type": "code",
      "source": [
        "a = tf.constant([[1,2],[3,4]], dtype=tf.double)\n",
        "b = tf.constant([[2,4],[6,8]], dtype=tf.double)\n",
        "\n",
        "print('加法运算：', tf.add(a, b))\n",
        "print('逐项相乘：', tf.multiply(a, b))\n",
        "print('矩阵乘法：', tf.matmul(a, b))\n",
        "\n",
        "print('加法运算：', a + b)\n",
        "print('逐项相乘：', a * b)\n",
        "print('矩阵乘法：', a @ b)\n",
        "\n",
        "print('寻找张量中最大的元素', tf.reduce_max(a))\n",
        "print('寻找张量中最大的元素位置', tf.math.argmax(a))\n",
        "print('计算SoftMax', tf.nn.softmax(a))"
      ],
      "metadata": {
        "colab": {
          "base_uri": "https://localhost:8080/"
        },
        "id": "aEzcKZ2ytKaN",
        "outputId": "c9ccb003-b421-4814-bd42-2aa137e39317"
      },
      "execution_count": 8,
      "outputs": [
        {
          "output_type": "stream",
          "name": "stdout",
          "text": [
            "加法运算： tf.Tensor(\n",
            "[[ 3.  6.]\n",
            " [ 9. 12.]], shape=(2, 2), dtype=float64)\n",
            "逐项相乘： tf.Tensor(\n",
            "[[ 2.  8.]\n",
            " [18. 32.]], shape=(2, 2), dtype=float64)\n",
            "矩阵乘法： tf.Tensor(\n",
            "[[14. 20.]\n",
            " [30. 44.]], shape=(2, 2), dtype=float64)\n",
            "加法运算： tf.Tensor(\n",
            "[[ 3.  6.]\n",
            " [ 9. 12.]], shape=(2, 2), dtype=float64)\n",
            "逐项相乘： tf.Tensor(\n",
            "[[ 2.  8.]\n",
            " [18. 32.]], shape=(2, 2), dtype=float64)\n",
            "矩阵乘法： tf.Tensor(\n",
            "[[14. 20.]\n",
            " [30. 44.]], shape=(2, 2), dtype=float64)\n",
            "寻找张量中最大的元素 tf.Tensor(4.0, shape=(), dtype=float64)\n",
            "寻找张量中最大的元素位置 tf.Tensor([1 1], shape=(2,), dtype=int64)\n",
            "计算SoftMax tf.Tensor(\n",
            "[[0.26894142 0.73105858]\n",
            " [0.26894142 0.73105858]], shape=(2, 2), dtype=float64)\n"
          ]
        }
      ]
    },
    {
      "cell_type": "markdown",
      "source": [
        "### 形状操作"
      ],
      "metadata": {
        "id": "XhNIbgdgnzZI"
      }
    },
    {
      "cell_type": "code",
      "source": [
        "print('修改形状：', tf.reshape([[1],[2],[3]], [1, -1]))\n",
        "print('展平张量：', tf.reshape([[1],[2],[3]], [-1]))"
      ],
      "metadata": {
        "colab": {
          "base_uri": "https://localhost:8080/"
        },
        "id": "poRDotgPn1Dp",
        "outputId": "67d48834-e934-4b91-8fa8-daf733ee54cf"
      },
      "execution_count": 9,
      "outputs": [
        {
          "output_type": "stream",
          "name": "stdout",
          "text": [
            "修改形状： tf.Tensor([[1 2 3]], shape=(1, 3), dtype=int32)\n",
            "展平张量： tf.Tensor([1 2 3], shape=(3,), dtype=int32)\n"
          ]
        }
      ]
    },
    {
      "cell_type": "markdown",
      "source": [
        "### 类型转换"
      ],
      "metadata": {
        "id": "9GQjGWHDo1Rs"
      }
    },
    {
      "cell_type": "code",
      "source": [
        "the_f64_tensor = tf.constant([2.2, 3.3, 4.4], dtype=tf.float64)\n",
        "print('float64类型：', the_f64_tensor)\n",
        "the_f16_tensor = tf.cast(the_f64_tensor, dtype=tf.float16)\n",
        "print('float16类型：', the_f16_tensor)"
      ],
      "metadata": {
        "colab": {
          "base_uri": "https://localhost:8080/"
        },
        "id": "wSSWVLRXo5RX",
        "outputId": "0151b6ba-9195-4401-a682-b0b5db206df8"
      },
      "execution_count": 10,
      "outputs": [
        {
          "output_type": "stream",
          "name": "stdout",
          "text": [
            "float64类型： tf.Tensor([2.2 3.3 4.4], shape=(3,), dtype=float64)\n",
            "float16类型： tf.Tensor([2.2 3.3 4.4], shape=(3,), dtype=float16)\n"
          ]
        }
      ]
    },
    {
      "cell_type": "markdown",
      "source": [
        "### 不规则张量"
      ],
      "metadata": {
        "id": "cDigfVtkpHRX"
      }
    },
    {
      "cell_type": "code",
      "source": [
        "# 不规则张量不能直接构建\n",
        "ragged_list = [\n",
        "    [0, 1, 2, 3],\n",
        "    [4, 5],\n",
        "    [6, 7, 8],\n",
        "    [9]]\n",
        "try:\n",
        "  tensor = tf.constant(ragged_list)\n",
        "except Exception as e:\n",
        "  print(f\"{type(e).__name__}: {e}\")\n",
        "\n",
        "# 不规则张量需要使用：tf.ragged.RaggedTensor进行构建\n",
        "print('构建不规则张量：', tf.ragged.constant(ragged_list))"
      ],
      "metadata": {
        "colab": {
          "base_uri": "https://localhost:8080/"
        },
        "id": "KcY49P5SpI7b",
        "outputId": "fcd1c660-4524-464c-eab3-4a60290cbffc"
      },
      "execution_count": 11,
      "outputs": [
        {
          "output_type": "stream",
          "name": "stdout",
          "text": [
            "ValueError: Can't convert non-rectangular Python sequence to Tensor.\n",
            "构建不规则张量： <tf.RaggedTensor [[0, 1, 2, 3], [4, 5], [6, 7, 8], [9]]>\n"
          ]
        }
      ]
    },
    {
      "cell_type": "markdown",
      "source": [
        "### 字符串张量\n",
        "（官方文档：https://www.tensorflow.org/api_docs/python/tf/strings）"
      ],
      "metadata": {
        "id": "FttbfhZdps54"
      }
    },
    {
      "cell_type": "code",
      "source": [
        "print('构建字符串标量：', tf.constant(\"Gray wolf\"))\n",
        "print('构建字符串向量：', tf.constant([\"Gray wolf\",\"Quick brown fox\",\"Lazy dog\"]))"
      ],
      "metadata": {
        "colab": {
          "base_uri": "https://localhost:8080/"
        },
        "id": "ZHnPfcIWpqPS",
        "outputId": "6e8d5e34-0b2b-4218-b726-8054d789a7ed"
      },
      "execution_count": 12,
      "outputs": [
        {
          "output_type": "stream",
          "name": "stdout",
          "text": [
            "构建字符串标量： tf.Tensor(b'Gray wolf', shape=(), dtype=string)\n",
            "构建字符串向量： tf.Tensor([b'Gray wolf' b'Quick brown fox' b'Lazy dog'], shape=(3,), dtype=string)\n"
          ]
        }
      ]
    },
    {
      "cell_type": "markdown",
      "source": [
        "### 稀疏张量"
      ],
      "metadata": {
        "id": "x_g4kFPrqzdU"
      }
    },
    {
      "cell_type": "code",
      "source": [
        "# 构建在[0,0]和[1,2]两个位置，值为1和2的，3行4列的稀疏矩阵\n",
        "print('构建稀疏张量：', tf.sparse.SparseTensor(indices=[[0, 0], [1, 2]], values=[1, 2], dense_shape=[3, 4]))"
      ],
      "metadata": {
        "colab": {
          "base_uri": "https://localhost:8080/"
        },
        "id": "HQUAWMPBq1_C",
        "outputId": "5180662a-cbc5-44dc-97d4-7d87ef308da4"
      },
      "execution_count": 13,
      "outputs": [
        {
          "output_type": "stream",
          "name": "stdout",
          "text": [
            "构建稀疏张量： SparseTensor(indices=tf.Tensor(\n",
            "[[0 0]\n",
            " [1 2]], shape=(2, 2), dtype=int64), values=tf.Tensor([1 2], shape=(2,), dtype=int32), dense_shape=tf.Tensor([3 4], shape=(2,), dtype=int64))\n"
          ]
        }
      ]
    },
    {
      "cell_type": "markdown",
      "source": [
        "## 变量\n",
        "张量是只读的，变量是可变的"
      ],
      "metadata": {
        "id": "zFcvG3kOknEF"
      }
    },
    {
      "cell_type": "markdown",
      "source": [
        "### 变量与张量\n",
        "大部分张量的操作，都可以用于变量"
      ],
      "metadata": {
        "id": "_TBWrFqeXuIH"
      }
    },
    {
      "cell_type": "code",
      "source": [
        "print('使用list初始化变量：', tf.Variable([1,2,3]))\n",
        "print('使用ndarray初始化变量：', tf.Variable(np.arange(10)))\n",
        "print('使用tensor初始化变量：', tf.Variable(tf.constant(0)))\n",
        "# tf.reshape(tf.Variable([1,2,3]), [1,4]) # Variable是无法reshape的"
      ],
      "metadata": {
        "id": "yycIZKt3V-L_",
        "colab": {
          "base_uri": "https://localhost:8080/"
        },
        "outputId": "669f9258-a99b-436a-cc42-618dfba9c6cb"
      },
      "execution_count": 14,
      "outputs": [
        {
          "output_type": "stream",
          "name": "stdout",
          "text": [
            "使用list初始化变量： <tf.Variable 'Variable:0' shape=(3,) dtype=int32, numpy=array([1, 2, 3], dtype=int32)>\n",
            "使用ndarray初始化变量： <tf.Variable 'Variable:0' shape=(10,) dtype=int64, numpy=array([0, 1, 2, 3, 4, 5, 6, 7, 8, 9])>\n",
            "使用tensor初始化变量： <tf.Variable 'Variable:0' shape=() dtype=int32, numpy=0>\n"
          ]
        }
      ]
    },
    {
      "cell_type": "markdown",
      "source": [
        "### 变量的赋值"
      ],
      "metadata": {
        "id": "Qr7KUG6eYQch"
      }
    },
    {
      "cell_type": "code",
      "source": [
        "v = tf.Variable([2.0, 3.0])\n",
        "print('对变量进行赋值：', v.assign([1, 2]))\n",
        "try:\n",
        "  v.assign([1.0, 2.0, 3.0]) # 变量\n",
        "except Exception as e:\n",
        "  print(f\"{type(e).__name__}: {e}\")"
      ],
      "metadata": {
        "colab": {
          "base_uri": "https://localhost:8080/"
        },
        "id": "4XPCJTYvXKrY",
        "outputId": "175204fd-291d-4da0-bbfe-a7872d637a70"
      },
      "execution_count": 15,
      "outputs": [
        {
          "output_type": "stream",
          "name": "stdout",
          "text": [
            "对变量进行赋值： <tf.Variable 'UnreadVariable' shape=(2,) dtype=float32, numpy=array([1., 2.], dtype=float32)>\n",
            "ValueError: Cannot assign value to variable ' Variable:0': Shape mismatch.The variable shape (2,), and the assigned value shape (3,) are incompatible.\n"
          ]
        }
      ]
    },
    {
      "cell_type": "markdown",
      "source": [
        "### 变量的复制"
      ],
      "metadata": {
        "id": "6Pvr4uvsYk0f"
      }
    },
    {
      "cell_type": "code",
      "source": [
        "# 用一个变量初始化另一个变量，会进行变量的复制\n",
        "a = tf.Variable([2.0, 3.0])\n",
        "b = tf.Variable(a)\n",
        "\n",
        "a.assign([5, 6])\n",
        "# 复制对象产生新的存储空间，不与原变量共享空间\n",
        "print(a.numpy())\n",
        "print(b.numpy())"
      ],
      "metadata": {
        "colab": {
          "base_uri": "https://localhost:8080/"
        },
        "id": "tox1dkQvYmho",
        "outputId": "3f2be693-9c5a-4231-d2fe-f5657b11cfb6"
      },
      "execution_count": 16,
      "outputs": [
        {
          "output_type": "stream",
          "name": "stdout",
          "text": [
            "[5. 6.]\n",
            "[2. 3.]\n"
          ]
        }
      ]
    },
    {
      "cell_type": "markdown",
      "source": [
        "### 变量的运算"
      ],
      "metadata": {
        "id": "T3mbhK9xZJbA"
      }
    },
    {
      "cell_type": "code",
      "source": [
        "print(a.assign_add([2,3]).numpy())  # [7. 9.]\n",
        "print(a.assign_sub([7,9]).numpy())  # [0. 0.]"
      ],
      "metadata": {
        "colab": {
          "base_uri": "https://localhost:8080/"
        },
        "id": "oHbY0bqjYxAw",
        "outputId": "809585a2-dce1-4b70-9999-11467071b76d"
      },
      "execution_count": 17,
      "outputs": [
        {
          "output_type": "stream",
          "name": "stdout",
          "text": [
            "[7. 9.]\n",
            "[0. 0.]\n"
          ]
        }
      ]
    },
    {
      "cell_type": "markdown",
      "source": [
        "### 命名与监视"
      ],
      "metadata": {
        "id": "vChYhvi2aAs4"
      }
    },
    {
      "cell_type": "code",
      "source": [
        "print('通过对变量进行命名，方便调试：', tf.Variable([0], name=\"Mark\"))\n",
        "print('通过设置trainable打开/关闭梯度计算', tf.Variable(1, trainable=False))"
      ],
      "metadata": {
        "colab": {
          "base_uri": "https://localhost:8080/"
        },
        "id": "btHgnLG-aC__",
        "outputId": "39928671-529b-433b-d5a1-f82bf361ed09"
      },
      "execution_count": 18,
      "outputs": [
        {
          "output_type": "stream",
          "name": "stdout",
          "text": [
            "通过对变量进行命名，方便调试： <tf.Variable 'Mark:0' shape=(1,) dtype=int32, numpy=array([0], dtype=int32)>\n",
            "通过设置trainable打开/关闭梯度计算 <tf.Variable 'Variable:0' shape=() dtype=int32, numpy=1>\n"
          ]
        }
      ]
    },
    {
      "cell_type": "markdown",
      "source": [
        "### 指定运算设备"
      ],
      "metadata": {
        "id": "kMrf6ITdadVp"
      }
    },
    {
      "cell_type": "code",
      "source": [
        "# 由于 tf.config.set_soft_device_placement 默认处于打开状态，所以，即使在没有 GPU 的设备上运行此代码，它也会运行，只不过乘法步骤会在 CPU 上执行\n",
        "with tf.device('CPU:0'):\n",
        "  a = tf.Variable([[1.0, 2.0, 3.0], [4.0, 5.0, 6.0]])\n",
        "  b = tf.Variable([[1.0, 2.0, 3.0]])\n",
        "\n",
        "with tf.device('GPU:0'):\n",
        "  # Element-wise multiply\n",
        "  k = a * b\n",
        "\n",
        "print(k)"
      ],
      "metadata": {
        "colab": {
          "base_uri": "https://localhost:8080/"
        },
        "id": "U9yJz9JxakE4",
        "outputId": "16ee8f80-6524-408c-9b74-33982fbad5ea"
      },
      "execution_count": 19,
      "outputs": [
        {
          "output_type": "stream",
          "name": "stdout",
          "text": [
            "tf.Tensor(\n",
            "[[ 1.  4.  9.]\n",
            " [ 4. 10. 18.]], shape=(2, 3), dtype=float32)\n"
          ]
        }
      ]
    },
    {
      "cell_type": "markdown",
      "source": [
        "## 自动微分\n",
        "（官方文档：https://www.tensorflow.org/guide/autodiff）"
      ],
      "metadata": {
        "id": "SbV2GTGCMZUy"
      }
    },
    {
      "cell_type": "markdown",
      "source": [
        "### 计算梯度"
      ],
      "metadata": {
        "id": "VeBDPpvVa1w_"
      }
    },
    {
      "cell_type": "markdown",
      "source": [
        "#### 标量的梯度"
      ],
      "metadata": {
        "id": "MlPQJHG9bMfQ"
      }
    },
    {
      "cell_type": "code",
      "source": [
        "# 一元方程的梯度，其实就是导数\n",
        "x = tf.Variable(3.0)\n",
        "\n",
        "with tf.GradientTape() as tape:\n",
        "  y = x**2\n",
        "\n",
        "dy_dx = tape.gradient(y, x) # 计算y对x的导数\n",
        "dy_dx.numpy()"
      ],
      "metadata": {
        "colab": {
          "base_uri": "https://localhost:8080/"
        },
        "id": "emizwCdma3yJ",
        "outputId": "188638da-2beb-4abc-9102-79b474cf2df7"
      },
      "execution_count": 20,
      "outputs": [
        {
          "output_type": "execute_result",
          "data": {
            "text/plain": [
              "6.0"
            ]
          },
          "metadata": {},
          "execution_count": 20
        }
      ]
    },
    {
      "cell_type": "markdown",
      "source": [
        "#### 张量的梯度"
      ],
      "metadata": {
        "id": "DCxvPb58bUDi"
      }
    },
    {
      "cell_type": "code",
      "source": [
        "w = tf.Variable(tf.random.normal((3, 2)), name='w')\n",
        "b = tf.Variable(tf.zeros(2, dtype=tf.float32), name='b')\n",
        "x = [[1., 2., 3.]]\n",
        "\n",
        "with tf.GradientTape(persistent=True) as tape:\n",
        "  y = x @ w + b\n",
        "  loss = tf.reduce_mean(y**2)\n",
        "\n",
        "[dl_dw, dl_db] = tape.gradient(loss, [w, b])  # 计算loss函数对[w,b]的梯度\n",
        "\n",
        "dl_dw, dl_db"
      ],
      "metadata": {
        "colab": {
          "base_uri": "https://localhost:8080/"
        },
        "id": "9vQo6I_UbWX4",
        "outputId": "93109320-0138-4a73-e3f8-adbb9ec5b38f"
      },
      "execution_count": 21,
      "outputs": [
        {
          "output_type": "execute_result",
          "data": {
            "text/plain": [
              "(<tf.Tensor: shape=(3, 2), dtype=float32, numpy=\n",
              " array([[ 1.9597007, -0.7849556],\n",
              "        [ 3.9194014, -1.5699112],\n",
              "        [ 5.879102 , -2.354867 ]], dtype=float32)>,\n",
              " <tf.Tensor: shape=(2,), dtype=float32, numpy=array([ 1.9597007, -0.7849556], dtype=float32)>)"
            ]
          },
          "metadata": {},
          "execution_count": 21
        }
      ]
    },
    {
      "cell_type": "code",
      "source": [
        "w = tf.Variable(tf.random.normal((3, 2)), name='w')         # 每列代表一组参数集合，逻辑上对应的是一个\"感知机\"\n",
        "b = tf.Variable(tf.zeros(1, dtype=tf.float32), name='b')    # b只有1行1列，但是实际运算时，会通过广播机制扩展为1行2列\n",
        "x = [[1., 2., 3.]]\n",
        "\n",
        "with tf.GradientTape(persistent=True) as tape:\n",
        "  y = x @ w + b # @表示矩阵乘法运算\n",
        "  loss = tf.reduce_mean(y**2)\n",
        "\n",
        "[dl_dw, dl_db] = tape.gradient(loss, [w, b])  # 计算loss函数对[w,b]的梯度\n",
        "\n",
        "dl_dw, dl_db"
      ],
      "metadata": {
        "colab": {
          "base_uri": "https://localhost:8080/"
        },
        "id": "2dYd-1VOb7OR",
        "outputId": "807fc152-12eb-4328-ccb7-00db06a79457"
      },
      "execution_count": 22,
      "outputs": [
        {
          "output_type": "execute_result",
          "data": {
            "text/plain": [
              "(<tf.Tensor: shape=(3, 2), dtype=float32, numpy=\n",
              " array([[ 5.065355 , -2.9760623],\n",
              "        [10.13071  , -5.9521246],\n",
              "        [15.196064 , -8.928186 ]], dtype=float32)>,\n",
              " <tf.Tensor: shape=(1,), dtype=float32, numpy=array([2.0892925], dtype=float32)>)"
            ]
          },
          "metadata": {},
          "execution_count": 22
        }
      ]
    },
    {
      "cell_type": "markdown",
      "source": [
        "### 相对于模型的梯度"
      ],
      "metadata": {
        "id": "EbThDvNjsYPU"
      }
    },
    {
      "cell_type": "code",
      "source": [
        "# 通常将 tf.Variables 收集到 tf.Module 或其子类之一（layers.Layer、keras.Model）中，用于设置检查点和导出。\n",
        "layer = tf.keras.layers.Dense(2, activation='relu')     # 构建一个层，包含2个感知机\n",
        "x = tf.constant([[1., 2., 3.]])\n",
        "\n",
        "with tf.GradientTape() as tape:\n",
        "    # Forward pass\n",
        "    y = layer(x)\n",
        "    loss = tf.reduce_mean(y**2)\n",
        "grad = tape.gradient(loss, layer.trainable_variables)\n",
        "\n",
        "for var, g in zip(layer.trainable_variables, grad):\n",
        "    print(f'{var.name}, shape: {g.shape}')"
      ],
      "metadata": {
        "colab": {
          "base_uri": "https://localhost:8080/"
        },
        "id": "-9g-YZP-skJI",
        "outputId": "f43ee19c-05ef-4d14-8ddd-ca0feefb0f47"
      },
      "execution_count": 23,
      "outputs": [
        {
          "output_type": "stream",
          "name": "stdout",
          "text": [
            "dense/kernel:0, shape: (3, 2)\n",
            "dense/bias:0, shape: (2,)\n"
          ]
        }
      ]
    },
    {
      "cell_type": "markdown",
      "source": [
        "### 控制梯度带监视的内容"
      ],
      "metadata": {
        "id": "NJZVa4OP0wk9"
      }
    },
    {
      "cell_type": "code",
      "source": [
        "# 默认情况下 tf.Tensor 无法被“监视”，并且 tf.Variable如果设置trainable=False，也不可被训练\n",
        "\n",
        "# A trainable variable\n",
        "x0 = tf.Variable(3.0, name='x0')\n",
        "# Not trainable\n",
        "x1 = tf.Variable(3.0, name='x1', trainable=False)\n",
        "# Not a Variable: A variable + tensor returns a tensor.\n",
        "x2 = tf.Variable(2.0, name='x2') + 1.0\n",
        "# Not a variable\n",
        "x3 = tf.constant(3.0, name='x3')\n",
        "\n",
        "with tf.GradientTape() as tape:\n",
        "  y = (x0**2) + (x1**2) + (x2**2) + (x3**2)\n",
        "\n",
        "grad = tape.gradient(y, [x0, x1, x2, x3])\n",
        "\n",
        "for g in grad:\n",
        "  print(g)\n",
        "\n",
        "[var.name for var in tape.watched_variables()]"
      ],
      "metadata": {
        "colab": {
          "base_uri": "https://localhost:8080/"
        },
        "id": "im06Sy440xjO",
        "outputId": "ccf16d90-bf93-4ccd-cfff-0035e2df9e01"
      },
      "execution_count": 24,
      "outputs": [
        {
          "output_type": "stream",
          "name": "stdout",
          "text": [
            "tf.Tensor(6.0, shape=(), dtype=float32)\n",
            "None\n",
            "None\n",
            "None\n"
          ]
        },
        {
          "output_type": "execute_result",
          "data": {
            "text/plain": [
              "['x0:0']"
            ]
          },
          "metadata": {},
          "execution_count": 24
        }
      ]
    },
    {
      "cell_type": "code",
      "source": [
        "# 通过watch方法，来监视原本无法监视的数据\n",
        "x = tf.constant(3.0)\n",
        "with tf.GradientTape() as tape:\n",
        "  tape.watch(x)\n",
        "  y = x**2\n",
        "\n",
        "# dy = 2x * dx\n",
        "dy_dx = tape.gradient(y, x)\n",
        "print(dy_dx.numpy())"
      ],
      "metadata": {
        "colab": {
          "base_uri": "https://localhost:8080/"
        },
        "id": "24NYcAtBQquy",
        "outputId": "d4b6f337-c368-434d-8b06-36146d740309"
      },
      "execution_count": 25,
      "outputs": [
        {
          "output_type": "stream",
          "name": "stdout",
          "text": [
            "6.0\n"
          ]
        }
      ]
    },
    {
      "cell_type": "code",
      "source": [
        "# 通过设置watch_accessed_variables=False，停用所有默认监视的行为\n",
        "x0 = tf.Variable(0.0)\n",
        "x1 = tf.Variable(10.0)\n",
        "\n",
        "with tf.GradientTape(watch_accessed_variables=False) as tape:\n",
        "  tape.watch(x1)\n",
        "  y0 = tf.math.sin(x0)\n",
        "  y1 = tf.nn.softplus(x1)\n",
        "  y = y0 + y1\n",
        "  ys = tf.reduce_sum(y)\n",
        "\n",
        "# dys/dx1 = exp(x1) / (1 + exp(x1)) = sigmoid(x1)\n",
        "grad = tape.gradient(ys, {'x0': x0, 'x1': x1})\n",
        "\n",
        "print('dy/dx0:', grad['x0'])\n",
        "print('dy/dx1:', grad['x1'].numpy())"
      ],
      "metadata": {
        "colab": {
          "base_uri": "https://localhost:8080/"
        },
        "id": "zqFAwxndQ5IX",
        "outputId": "e172e4ff-eeea-4711-f6e9-3b18b6f38a06"
      },
      "execution_count": 26,
      "outputs": [
        {
          "output_type": "stream",
          "name": "stdout",
          "text": [
            "dy/dx0: None\n",
            "dy/dx1: 0.9999546\n"
          ]
        }
      ]
    },
    {
      "cell_type": "markdown",
      "source": [
        "### 中间结果"
      ],
      "metadata": {
        "id": "TECZczvwRaAL"
      }
    },
    {
      "cell_type": "code",
      "source": [
        "x = tf.constant(3.0)\n",
        "\n",
        "with tf.GradientTape() as tape:\n",
        "  tape.watch(x)\n",
        "  y = x * x\n",
        "  z = y * y\n",
        "\n",
        "# Use the tape to compute the gradient of z with respect to the\n",
        "# intermediate value y.\n",
        "# dz_dy = 2 * y and y = x ** 2 = 9\n",
        "print(tape.gradient(z, y).numpy())"
      ],
      "metadata": {
        "colab": {
          "base_uri": "https://localhost:8080/"
        },
        "id": "Gk-Mpk3qRa20",
        "outputId": "eb1f68bc-8203-41c5-f25f-59134b7e3618"
      },
      "execution_count": 27,
      "outputs": [
        {
          "output_type": "stream",
          "name": "stdout",
          "text": [
            "18.0\n"
          ]
        }
      ]
    },
    {
      "cell_type": "code",
      "source": [
        "# 默认情况下，只要调用 GradientTape.gradient 方法，就会释放 GradientTape 保存的资源。\n",
        "# 要在同一计算中计算多个梯度，需要使用persistent=True参数。\n",
        "x = tf.constant([1, 3.0])\n",
        "with tf.GradientTape(persistent=True) as tape:\n",
        "  tape.watch(x)\n",
        "  y = x * x\n",
        "  z = y * y\n",
        "\n",
        "print(tape.gradient(z, x).numpy())  # [4.0, 108.0] (4 * x**3 at x = [1.0, 3.0])\n",
        "print(tape.gradient(y, x).numpy())  # [2.0, 6.0] (2 * x at x = [1.0, 3.0])"
      ],
      "metadata": {
        "colab": {
          "base_uri": "https://localhost:8080/"
        },
        "id": "2ahh-IO7Rxjt",
        "outputId": "c85287b5-fd83-4ccd-da66-a457cf7ae85f"
      },
      "execution_count": 28,
      "outputs": [
        {
          "output_type": "stream",
          "name": "stdout",
          "text": [
            "[  4. 108.]\n",
            "[2. 6.]\n"
          ]
        }
      ]
    },
    {
      "cell_type": "markdown",
      "source": [
        "### 非标量目标的梯度"
      ],
      "metadata": {
        "id": "uRMOH1HDUmaW"
      }
    },
    {
      "cell_type": "code",
      "source": [
        "# 如果需要多个目标的梯度，则最终结果等于每个目标的梯度总和\n",
        "x = tf.Variable(2.0)\n",
        "with tf.GradientTape(persistent=True) as tape:\n",
        "  y0 = x**2\n",
        "  y1 = 1 / x\n",
        "\n",
        "print(tape.gradient(y0, x).numpy())\n",
        "print(tape.gradient(y1, x).numpy())\n",
        "print(tape.gradient({'y0': y0, 'y1': y1}, x).numpy())"
      ],
      "metadata": {
        "colab": {
          "base_uri": "https://localhost:8080/"
        },
        "id": "zlBLcgHgUnL6",
        "outputId": "aad69783-d953-45d8-d224-12e8e334867f"
      },
      "execution_count": 29,
      "outputs": [
        {
          "output_type": "stream",
          "name": "stdout",
          "text": [
            "4.0\n",
            "-0.25\n",
            "3.75\n"
          ]
        }
      ]
    },
    {
      "cell_type": "code",
      "source": [
        "# 如果目标不是标量，则计算总和的梯度\n",
        "x = tf.Variable(2.)\n",
        "\n",
        "with tf.GradientTape() as tape:\n",
        "  y = x * [3., 4.]\n",
        "\n",
        "print(tape.gradient(y, x).numpy())"
      ],
      "metadata": {
        "colab": {
          "base_uri": "https://localhost:8080/"
        },
        "id": "ZEHSDKuhVHqo",
        "outputId": "9b022bec-8934-42dd-bb7b-1a649005c753"
      },
      "execution_count": 30,
      "outputs": [
        {
          "output_type": "stream",
          "name": "stdout",
          "text": [
            "7.0\n"
          ]
        }
      ]
    },
    {
      "cell_type": "code",
      "source": [
        "# 向量的梯度还是向量\n",
        "x = tf.linspace(-10.0, 10.0, 200+1)\n",
        "with tf.GradientTape() as tape:\n",
        "  tape.watch(x)\n",
        "  y = tf.nn.sigmoid(x)\n",
        "\n",
        "dy_dx = tape.gradient(y, x)\n",
        "\n",
        "plt.plot(x, y, label='y')\n",
        "plt.plot(x, dy_dx, label='dy/dx')\n",
        "plt.legend()\n",
        "_ = plt.xlabel('x')"
      ],
      "metadata": {
        "colab": {
          "base_uri": "https://localhost:8080/",
          "height": 449
        },
        "id": "vXT1I5iuX1bE",
        "outputId": "e6fcdae3-9c10-4b6b-9619-a40f02ae8257"
      },
      "execution_count": 31,
      "outputs": [
        {
          "output_type": "display_data",
          "data": {
            "text/plain": [
              "<Figure size 640x480 with 1 Axes>"
            ],
            "image/png": "[encoded data removed]"
          },
          "metadata": {}
        }
      ]
    },
    {
      "cell_type": "markdown",
      "source": [
        "### 控制流"
      ],
      "metadata": {
        "id": "77NN0W9FZO8N"
      }
    },
    {
      "cell_type": "code",
      "source": [
        "# 在执行运算时，会自然地处理 Python 控制流（例如 if 和 while 语句）\n",
        "\n",
        "x = tf.constant(1.0)\n",
        "\n",
        "v0 = tf.Variable(2.0)\n",
        "v1 = tf.Variable(2.0)\n",
        "\n",
        "with tf.GradientTape(persistent=True) as tape:\n",
        "  tape.watch(x)\n",
        "  if x > 0.0:\n",
        "    result = v0\n",
        "  else:\n",
        "    result = v1**2\n",
        "\n",
        "dv0, dv1 = tape.gradient(result, [v0, v1])\n",
        "\n",
        "print(dv0)\n",
        "print(dv1)"
      ],
      "metadata": {
        "colab": {
          "base_uri": "https://localhost:8080/"
        },
        "id": "abCIkyy_ZP2-",
        "outputId": "37ca614c-1bef-453a-a8e1-a2dc1399fd60"
      },
      "execution_count": 32,
      "outputs": [
        {
          "output_type": "stream",
          "name": "stdout",
          "text": [
            "tf.Tensor(1.0, shape=(), dtype=float32)\n",
            "None\n"
          ]
        }
      ]
    },
    {
      "cell_type": "markdown",
      "source": [
        "### gradient 返回 None 的情况"
      ],
      "metadata": {
        "id": "5nN8vZLEanBe"
      }
    },
    {
      "cell_type": "markdown",
      "source": [
        "#### 使用张量替换变量"
      ],
      "metadata": {
        "id": "BnkRNAxiapep"
      }
    },
    {
      "cell_type": "code",
      "source": [
        "# Variable不能用=进行赋值操作\n",
        "x = tf.Variable(2.0)\n",
        "\n",
        "for epoch in range(2):\n",
        "  with tf.GradientTape() as tape:\n",
        "    y = x+1\n",
        "\n",
        "  print(type(x).__name__, \":\", tape.gradient(y, x))\n",
        "  x = x + 1   # This should be `x.assign_add(1)`"
      ],
      "metadata": {
        "colab": {
          "base_uri": "https://localhost:8080/"
        },
        "id": "BTAPMApLaqRt",
        "outputId": "0b5810a4-e433-4c38-9961-93d2a2906367"
      },
      "execution_count": 33,
      "outputs": [
        {
          "output_type": "stream",
          "name": "stdout",
          "text": [
            "ResourceVariable : tf.Tensor(1.0, shape=(), dtype=float32)\n",
            "EagerTensor : None\n"
          ]
        }
      ]
    },
    {
      "cell_type": "markdown",
      "source": [
        "#### 在 TensorFlow 之外进行了计算"
      ],
      "metadata": {
        "id": "JtPD3vFOayht"
      }
    },
    {
      "cell_type": "code",
      "source": [
        "# 不能再GradientTape中用其他库函数进行运算\n",
        "\n",
        "x = tf.Variable([[1.0, 2.0],\n",
        "                 [3.0, 4.0]], dtype=tf.float32)\n",
        "\n",
        "with tf.GradientTape() as tape:\n",
        "  x2 = x**2\n",
        "\n",
        "  # This step is calculated with NumPy\n",
        "  y = np.mean(x2, axis=0)\n",
        "\n",
        "  # Like most ops, reduce_mean will cast the NumPy array to a constant tensor\n",
        "  # using `tf.convert_to_tensor`.\n",
        "  y = tf.reduce_mean(y, axis=0)\n",
        "\n",
        "print(tape.gradient(y, x))"
      ],
      "metadata": {
        "colab": {
          "base_uri": "https://localhost:8080/"
        },
        "id": "7-_GoYR_a0dU",
        "outputId": "3a71e086-c64a-47f7-f37b-fe394ae23adf"
      },
      "execution_count": 34,
      "outputs": [
        {
          "output_type": "stream",
          "name": "stdout",
          "text": [
            "None\n"
          ]
        }
      ]
    },
    {
      "cell_type": "markdown",
      "source": [
        "#### 通过整数或字符串获取梯度"
      ],
      "metadata": {
        "id": "B3Qs6T-HbCH0"
      }
    },
    {
      "cell_type": "code",
      "source": [
        "# 整数和字符串不可微分\n",
        "\n",
        "x = tf.constant(10)\n",
        "\n",
        "with tf.GradientTape() as g:\n",
        "  g.watch(x)\n",
        "  y = x * x\n",
        "\n",
        "print(g.gradient(y, x))"
      ],
      "metadata": {
        "colab": {
          "base_uri": "https://localhost:8080/"
        },
        "id": "AC0tVUjobDLH",
        "outputId": "1a1b9851-b8ec-44cb-9b23-d8f980c1bf7c"
      },
      "execution_count": 35,
      "outputs": [
        {
          "output_type": "stream",
          "name": "stderr",
          "text": [
            "WARNING:tensorflow:The dtype of the watched tensor must be floating (e.g. tf.float32), got tf.int32\n"
          ]
        },
        {
          "output_type": "stream",
          "name": "stdout",
          "text": [
            "None\n"
          ]
        }
      ]
    },
    {
      "cell_type": "markdown",
      "source": [
        "#### 通过有状态对象获取梯度"
      ],
      "metadata": {
        "id": "yD17dphTbjqt"
      }
    },
    {
      "cell_type": "code",
      "source": [
        "# 这个地方不是很懂，感觉就是在GradientTape中的Varuable不能使用assign\n",
        "x0 = tf.Variable(3.0)\n",
        "x1 = tf.Variable(0.0)\n",
        "\n",
        "with tf.GradientTape() as tape:\n",
        "  # Update x1 = x1 + x0.\n",
        "  x1.assign_add(x0)\n",
        "  # The tape starts recording from x1.\n",
        "  y = x1**2   # y = (x1 + x0)**2\n",
        "\n",
        "# This doesn't work.\n",
        "print(tape.gradient(y, x0))   #dy/dx0 = 2*(x1 + x0)"
      ],
      "metadata": {
        "id": "ZEAA4UKLbv-V",
        "colab": {
          "base_uri": "https://localhost:8080/"
        },
        "outputId": "bae2faf0-bfb8-425f-ce2d-2c269401a93f"
      },
      "execution_count": 36,
      "outputs": [
        {
          "output_type": "stream",
          "name": "stdout",
          "text": [
            "None\n"
          ]
        }
      ]
    },
    {
      "cell_type": "markdown",
      "source": [
        "### 未注册梯度"
      ],
      "metadata": {
        "id": "z948_Vi5W2rV"
      }
    },
    {
      "cell_type": "code",
      "source": [
        "# 并非所有Operation都可以计算梯度\n",
        "# tf.raw_ops 显示了哪些低级运算已经注册梯度\n",
        "tf.raw_ops"
      ],
      "metadata": {
        "colab": {
          "base_uri": "https://localhost:8080/"
        },
        "id": "cjq9bBPnW3m7",
        "outputId": "5a8fc8fb-0c57-4218-9977-eb369f36f705"
      },
      "execution_count": 50,
      "outputs": [
        {
          "output_type": "execute_result",
          "data": {
            "text/plain": [
              "<module 'tensorflow._api.v2.raw_ops' from '/usr/local/lib/python3.10/dist-packages/tensorflow/_api/v2/raw_ops/__init__.py'>"
            ]
          },
          "metadata": {},
          "execution_count": 50
        }
      ]
    },
    {
      "cell_type": "markdown",
      "source": [
        "## 计算图和 tf.function 简介\n"
      ],
      "metadata": {
        "id": "Mtud6v3WYHAp"
      }
    },
    {
      "cell_type": "markdown",
      "source": [
        "# Keras"
      ],
      "metadata": {
        "id": "g06QhduDNLjE"
      }
    },
    {
      "cell_type": "markdown",
      "source": [
        "## Sequential模型"
      ],
      "metadata": {
        "id": "wfLQx0y1O_YU"
      }
    },
    {
      "cell_type": "markdown",
      "source": [
        "### 一个最简单的模型"
      ],
      "metadata": {
        "id": "05J_tHVzPQib"
      }
    },
    {
      "cell_type": "code",
      "source": [
        "# model可以直接作为函数使用\n",
        "# 当如此使用的时候，它就是在求解Sequential所代表的复合函数\n",
        "# 对于一个输出长度为1的Dense层来说，它所表达的就是求解多元线性函数\n",
        "model = tf.keras.Sequential() # 定义一个Sequential模型\n",
        "model.add(tf.keras.layers.Dense(1,  # 输出向量长度为1的线性函数\n",
        "                kernel_initializer=tf.keras.initializers.Ones(),  # w系数初始化为全1\n",
        "                bias_initializer=tf.keras.initializers.Ones(),   # b系数初始化为1\n",
        "                ))  # Dense层在被首次使用的时候，会动态适配输入参数的元数\n",
        "model(tf.constant([[1]])) # 1个样本，每个样本元数为1，也就是最常见的y=wx+b"
      ],
      "metadata": {
        "id": "7y0v6FEIfAgD",
        "colab": {
          "base_uri": "https://localhost:8080/"
        },
        "outputId": "5e47e5ae-6658-46a8-e955-32a81f9a440e"
      },
      "execution_count": 38,
      "outputs": [
        {
          "output_type": "execute_result",
          "data": {
            "text/plain": [
              "<tf.Tensor: shape=(1, 1), dtype=float32, numpy=array([[2.]], dtype=float32)>"
            ]
          },
          "metadata": {},
          "execution_count": 38
        }
      ]
    },
    {
      "cell_type": "markdown",
      "source": [
        "## 简单的训练模型"
      ],
      "metadata": {
        "id": "dDWHwHKxQ9-G"
      }
    },
    {
      "cell_type": "code",
      "source": [
        "# 加载数据集\n",
        "mnist = tf.keras.datasets.mnist\n",
        "\n",
        "(x_train, y_train), (x_test, y_test) = mnist.load_data()\n",
        "x_train, x_test = x_train / 255.0, x_test / 255.0"
      ],
      "metadata": {
        "id": "mT507Cv3RDEw",
        "colab": {
          "base_uri": "https://localhost:8080/"
        },
        "outputId": "e076633f-167c-4956-ef7c-91a0a8e0a1aa"
      },
      "execution_count": 39,
      "outputs": [
        {
          "output_type": "stream",
          "name": "stdout",
          "text": [
            "Downloading data from https://storage.googleapis.com/tensorflow/tf-keras-datasets/mnist.npz\n",
            "11490434/11490434 [==============================] - 0s 0us/step\n"
          ]
        }
      ]
    },
    {
      "cell_type": "code",
      "source": [
        "# 定义模型\n",
        "\n",
        "model = tf.keras.models.Sequential([\n",
        "  tf.keras.layers.Flatten(input_shape=(28, 28)),\n",
        "  tf.keras.layers.Dense(128, activation='relu'),\n",
        "  tf.keras.layers.Dropout(0.2),\n",
        "  tf.keras.layers.Dense(10)\n",
        "])\n",
        "\n",
        "# 模型(model)可以简单的理解为一个复合函数，参数就是自变量(向量)集合，返回值就是对应的y值集合\n",
        "predictions = model(x_train[:1])    # 输入位1个28x28的数据，输出为1个size为10的一维向量\n",
        "tf.nn.softmax(predictions).numpy()  # 将model输出的向量，进行softmax操作，转化为相加为1的概率"
      ],
      "metadata": {
        "id": "W26m2owHRcoQ",
        "colab": {
          "base_uri": "https://localhost:8080/"
        },
        "outputId": "f7a894f4-cea1-4646-d0af-086bbd80925a"
      },
      "execution_count": 40,
      "outputs": [
        {
          "output_type": "execute_result",
          "data": {
            "text/plain": [
              "array([[0.13130797, 0.06175844, 0.05405818, 0.04427799, 0.0945149 ,\n",
              "        0.12471174, 0.1831107 , 0.10094436, 0.06601766, 0.13929805]],\n",
              "      dtype=float32)"
            ]
          },
          "metadata": {},
          "execution_count": 40
        }
      ]
    },
    {
      "cell_type": "code",
      "source": [
        "# 不在model里增加一个softmax层，而是使用SparseCategoricalCrossentropy的from_logits参数\n",
        "# 主要原因就是softmax做指数运算，交叉熵做对数运算，二者合并运算，可以简化计算，并防止数值越界\n",
        "# 自己做softmax，然后令from_logits=False(默认为False)，可得到相同的计算结果\n",
        "loss_fn = tf.keras.losses.SparseCategoricalCrossentropy(from_logits=True)\n",
        "loss_fn(y_train[:1], predictions).numpy()"
      ],
      "metadata": {
        "colab": {
          "base_uri": "https://localhost:8080/"
        },
        "id": "gbe4f472d-cy",
        "outputId": "253daf3b-c1af-4351-9e98-6a91943f6c11"
      },
      "execution_count": 41,
      "outputs": [
        {
          "output_type": "execute_result",
          "data": {
            "text/plain": [
              "2.0817502"
            ]
          },
          "metadata": {},
          "execution_count": 41
        }
      ]
    },
    {
      "cell_type": "markdown",
      "source": [
        "### 封装版"
      ],
      "metadata": {
        "id": "7JcTUYTfoiFB"
      }
    },
    {
      "cell_type": "code",
      "source": [
        "# 通过compile指定损失函数，优化器\n",
        "# metrics=['accuracy'] 指定要为模型评估的指标\n",
        "model.compile(optimizer='adam', loss=loss_fn, metrics=['accuracy'])"
      ],
      "metadata": {
        "id": "Wdd0TKvwnj_x"
      },
      "execution_count": 42,
      "outputs": []
    },
    {
      "cell_type": "code",
      "source": [
        "# 执行训练过程\n",
        "model.fit(x_train, y_train, epochs=1)"
      ],
      "metadata": {
        "colab": {
          "base_uri": "https://localhost:8080/"
        },
        "id": "xjN94VquoEKs",
        "outputId": "0d850fd5-f3e5-4274-d984-620ae29fcba0"
      },
      "execution_count": 43,
      "outputs": [
        {
          "output_type": "stream",
          "name": "stdout",
          "text": [
            "1875/1875 [==============================] - 9s 4ms/step - loss: 0.3000 - accuracy: 0.9124\n"
          ]
        },
        {
          "output_type": "execute_result",
          "data": {
            "text/plain": [
              "<keras.src.callbacks.History at 0x7debfd651ba0>"
            ]
          },
          "metadata": {},
          "execution_count": 43
        }
      ]
    },
    {
      "cell_type": "code",
      "source": [
        "# 检查模型性能\n",
        "model.evaluate(x_test,  y_test, verbose=2)"
      ],
      "metadata": {
        "colab": {
          "base_uri": "https://localhost:8080/"
        },
        "id": "sBcz6vnroLaV",
        "outputId": "a6dec76e-7d3a-4385-d215-f4885550edc4"
      },
      "execution_count": 44,
      "outputs": [
        {
          "output_type": "stream",
          "name": "stdout",
          "text": [
            "313/313 - 1s - loss: 0.1486 - accuracy: 0.9544 - 650ms/epoch - 2ms/step\n"
          ]
        },
        {
          "output_type": "execute_result",
          "data": {
            "text/plain": [
              "[0.14856824278831482, 0.9544000029563904]"
            ]
          },
          "metadata": {},
          "execution_count": 44
        }
      ]
    },
    {
      "cell_type": "markdown",
      "source": [
        "### 手写版"
      ],
      "metadata": {
        "id": "4ClgQYtmolGc"
      }
    },
    {
      "cell_type": "code",
      "source": [
        "batch_size = 32\n",
        "\n",
        "def train(x, y, model, loss_fn, trainer):\n",
        "  counter = 0\n",
        "  data = (x, y)\n",
        "  train_iter = tf.data.Dataset.from_tensor_slices(data).batch(batch_size).shuffle(len(data[0]))\n",
        "  for x, y in train_iter:\n",
        "    counter = counter + 1\n",
        "    with tf.GradientTape() as tape:\n",
        "      y_hat = model(x)\n",
        "      l = loss_fn(y, y_hat)\n",
        "      params = model.trainable_variables\n",
        "      grads = tape.gradient(l, params)\n",
        "      trainer.apply_gradients(zip(grads, params))\n",
        "      print('\\r', end='')\n",
        "      print('train loss[%d]: %s' % (counter, l), end='')\n",
        "  return l"
      ],
      "metadata": {
        "id": "1DaQOnU3onui"
      },
      "execution_count": 45,
      "outputs": []
    },
    {
      "cell_type": "code",
      "source": [
        "trainer = tf.keras.optimizers.Adam()\n",
        "train(x_train[:3200], y_train[:3200], model, loss_fn, trainer)"
      ],
      "metadata": {
        "colab": {
          "base_uri": "https://localhost:8080/"
        },
        "id": "DLh-OtHuqP6s",
        "outputId": "d79bb825-077b-4000-b735-2d0231acd239"
      },
      "execution_count": 46,
      "outputs": [
        {
          "output_type": "stream",
          "name": "stdout",
          "text": [
            "train loss[100]: tf.Tensor(0.050364908, shape=(), dtype=float32)"
          ]
        },
        {
          "output_type": "execute_result",
          "data": {
            "text/plain": [
              "<tf.Tensor: shape=(), dtype=float32, numpy=0.050364908>"
            ]
          },
          "metadata": {},
          "execution_count": 46
        }
      ]
    },
    {
      "cell_type": "code",
      "source": [
        "def predict(model, x, y):\n",
        "  y_hat = tf.argmax(model(x), axis=1).numpy()\n",
        "  right = np.count_nonzero(y==y_hat)\n",
        "  return right / len(y)"
      ],
      "metadata": {
        "id": "TPs5QSIm9_LX"
      },
      "execution_count": 47,
      "outputs": []
    },
    {
      "cell_type": "code",
      "source": [
        "predict(model, x_test[:3200], y_test[:3200])"
      ],
      "metadata": {
        "colab": {
          "base_uri": "https://localhost:8080/"
        },
        "id": "G41ntzTT-cnK",
        "outputId": "d13ed693-07b5-4bce-a5bd-4de19989f2f9"
      },
      "execution_count": 48,
      "outputs": [
        {
          "output_type": "execute_result",
          "data": {
            "text/plain": [
              "0.935625"
            ]
          },
          "metadata": {},
          "execution_count": 48
        }
      ]
    }
  ]
}