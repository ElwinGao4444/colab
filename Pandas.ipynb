{
  "cells": [
    {
      "cell_type": "markdown",
      "metadata": {
        "id": "view-in-github",
        "colab_type": "text"
      },
      "source": [
        "<a href=\"https://colab.research.google.com/github/ElwinGao4444/colab/blob/main/Pandas.ipynb\" target=\"_parent\"><img src=\"https://colab.research.google.com/assets/colab-badge.svg\" alt=\"Open In Colab\"/></a>"
      ]
    },
    {
      "cell_type": "markdown",
      "metadata": {
        "id": "2NZCIVRKhJFM"
      },
      "source": [
        "# Pandas介绍\n",
        "(官方文档：https://pandas.pydata.org/docs/)"
      ]
    },
    {
      "cell_type": "code",
      "execution_count": 2,
      "metadata": {
        "id": "4QJ1t0MkhGlL"
      },
      "outputs": [],
      "source": [
        "import numpy as np\n",
        "import pandas as pd\n",
        "import matplotlib.pyplot as plt"
      ]
    },
    {
      "cell_type": "markdown",
      "metadata": {
        "id": "SXywvSnMjCFB"
      },
      "source": [
        "# 基础数据结构与用法"
      ]
    },
    {
      "cell_type": "markdown",
      "metadata": {
        "id": "Wgq9qzjKfcsh"
      },
      "source": [
        "## Series"
      ]
    },
    {
      "cell_type": "markdown",
      "metadata": {
        "id": "T7ESyrermNT6"
      },
      "source": [
        "### Series初始化"
      ]
    },
    {
      "cell_type": "code",
      "execution_count": null,
      "metadata": {
        "colab": {
          "base_uri": "https://localhost:8080/"
        },
        "id": "gk-FNIVcmP-a",
        "outputId": "e962a197-7f5d-4e67-b357-06ac541a5a72"
      },
      "outputs": [
        {
          "output_type": "stream",
          "name": "stdout",
          "text": [
            "使用list初始化：\n",
            " 0    a\n",
            "1    b\n",
            "2    c\n",
            "dtype: object\n",
            "使用ndarray初始化：\n",
            " 0    a\n",
            "1    b\n",
            "2    c\n",
            "dtype: object\n",
            "初始化并指定索引：\n",
            " 1    a\n",
            "2    b\n",
            "3    c\n",
            "dtype: object\n",
            "索引可以是任意类型：\n",
            " a    1\n",
            "b    2\n",
            "c    3\n",
            "dtype: int64\n"
          ]
        }
      ],
      "source": [
        "print('使用list初始化：\\n', pd.Series(['a','b','c']))\n",
        "print('使用ndarray初始化：\\n', pd.Series(data=np.array(['a','b','c'])))\n",
        "print('初始化并指定索引：\\n', pd.Series(data=['a','b','c'], index=[1,2,3]))\n",
        "print('索引可以是任意类型：\\n', pd.Series(data=[1,2,3], index=['a','b','c']))"
      ]
    },
    {
      "cell_type": "markdown",
      "metadata": {
        "id": "Fbf_bg-nnglj"
      },
      "source": [
        "### Series索引操作"
      ]
    },
    {
      "cell_type": "code",
      "execution_count": null,
      "metadata": {
        "colab": {
          "base_uri": "https://localhost:8080/"
        },
        "id": "Wf-Tyi6RnjEq",
        "outputId": "4b9c98a4-d2f3-44cb-a0dd-1ad47fc7a41b"
      },
      "outputs": [
        {
          "output_type": "stream",
          "name": "stdout",
          "text": [
            "索引下标取值： a\n",
            "索引下标批量取值：\n",
            " 0    a\n",
            "2    c\n",
            "dtype: object\n",
            "索引下标切片取值（位置索引）：\n",
            " 1    b\n",
            "dtype: object\n",
            "索引下标切片取值（值索引）：\n",
            " b    2\n",
            "c    3\n",
            "dtype: int64\n",
            "获取索引值列表： RangeIndex(start=0, stop=3, step=1) Index(['a', 'b', 'c'], dtype='object')\n"
          ]
        }
      ],
      "source": [
        "s1 = pd.Series(['a','b','c'])\n",
        "s2 = pd.Series(data=[1,2,3], index=['a','b','c'])\n",
        "print('索引下标取值：', s1[0])\n",
        "print('索引下标批量取值：\\n', s1[[0,2]]) # 类似numpy的用法\n",
        "print('索引下标切片取值（位置索引）：\\n', s1[1:2])  # 位置索引是左闭右开区间\n",
        "print('索引下标切片取值（值索引）：\\n', s2['b':'c']) # 值索引是左右闭区间\n",
        "print('获取索引值列表：', s1.index, s2.index)"
      ]
    },
    {
      "cell_type": "markdown",
      "source": [
        "### 时间序列操作"
      ],
      "metadata": {
        "id": "qVkQuTI3ed4n"
      }
    },
    {
      "cell_type": "code",
      "source": [
        "ts_utc = pd.date_range(\"2020-01-01 00:00:00\", periods=4, freq=\"15s\")\n",
        "ts_cts = pd.date_range(\"2020-01-01 08:00:00\", periods=4, freq=\"15s\", tz='Asia/Shanghai')\n",
        "ts_convert = ts_utc.tz_localize('UTC').tz_convert('Asia/Shanghai')\n",
        "\n",
        "print('时区转换：', ts_cts == ts_convert, ts_cts.equals(ts_convert))\n",
        "print('时间戳转时间：', pd.Timestamp(1577808000, unit='s', tz='Asia/Shanghai'))\n",
        "print('生成时间序列索引： ', pd.date_range(\"2020-01-01 00:00:00\", periods=4, freq=\"15s\", tz='Asia/Shanghai'))"
      ],
      "metadata": {
        "colab": {
          "base_uri": "https://localhost:8080/"
        },
        "id": "Pnt9mcEYekKy",
        "outputId": "dbc5f16f-d251-44de-cd01-e6363e0d4195"
      },
      "execution_count": 73,
      "outputs": [
        {
          "output_type": "stream",
          "name": "stdout",
          "text": [
            "时区转换： [ True  True  True  True] True\n",
            "时间戳转时间： 2020-01-01 00:00:00+08:00\n",
            "生成时间序列索引：  DatetimeIndex(['2020-01-01 00:00:00+08:00', '2020-01-01 00:00:15+08:00',\n",
            "               '2020-01-01 00:00:30+08:00', '2020-01-01 00:00:45+08:00'],\n",
            "              dtype='datetime64[ns, Asia/Shanghai]', freq='15S')\n"
          ]
        }
      ]
    },
    {
      "cell_type": "markdown",
      "metadata": {
        "id": "30CpAO7ZfbYZ"
      },
      "source": [
        "## DataFrame"
      ]
    },
    {
      "cell_type": "markdown",
      "metadata": {
        "id": "Z3fnU6nbqSa8"
      },
      "source": [
        "### DataFrame初始化"
      ]
    },
    {
      "cell_type": "code",
      "execution_count": null,
      "metadata": {
        "colab": {
          "base_uri": "https://localhost:8080/"
        },
        "id": "06E6pr7vqWc8",
        "outputId": "16fdbb50-c2d7-4742-9fab-b5bbab48a514"
      },
      "outputs": [
        {
          "output_type": "stream",
          "name": "stdout",
          "text": [
            "直接初始化一个DataFrame：\n",
            "   name  age  score\n",
            "0    a    1    1.1\n",
            "1    b    2    2.2\n",
            "2    c    3    3.3\n"
          ]
        }
      ],
      "source": [
        "# 使用二维list进行初始化\n",
        "data = [['a',1,1.1], ['b',2,2.2], ['c',3,3.3]]\n",
        "columns = ['name', 'age', 'score']\n",
        "df = pd.DataFrame(data=data, columns=columns)\n",
        "print('直接初始化一个DataFrame：\\n', df)"
      ]
    },
    {
      "cell_type": "code",
      "execution_count": null,
      "metadata": {
        "colab": {
          "base_uri": "https://localhost:8080/"
        },
        "id": "c9Qc-vvHrOfE",
        "outputId": "44e9ad6a-e488-46ae-fa8f-d95df00ec4b3"
      },
      "outputs": [
        {
          "output_type": "stream",
          "name": "stdout",
          "text": [
            "使用字典初始化一个DataFrame：\n",
            "   name  age  score\n",
            "0    a    1    1.1\n",
            "1    b    2    2.2\n",
            "2    c    3    3.3\n"
          ]
        }
      ],
      "source": [
        "# 使用dict+list进行初始化\n",
        "data = {\n",
        "    'name': ['a', 'b', 'c'],\n",
        "    'age': [1, 2, 3],\n",
        "    'score': [1.1, 2.2, 3.3],\n",
        "}\n",
        "df = pd.DataFrame(data)\n",
        "print('使用字典初始化一个DataFrame：\\n', df)"
      ]
    },
    {
      "cell_type": "code",
      "execution_count": null,
      "metadata": {
        "colab": {
          "base_uri": "https://localhost:8080/"
        },
        "id": "wp6BH679rsIF",
        "outputId": "f8460318-d3aa-4661-b178-d0100490d2d1"
      },
      "outputs": [
        {
          "output_type": "stream",
          "name": "stdout",
          "text": [
            "使用字典数组初始化一个DataFrame：\n",
            "   name  age  score\n",
            "0    a    1    1.1\n",
            "1    b    2    2.2\n",
            "2    c    3    3.3\n"
          ]
        }
      ],
      "source": [
        "# 使用list+dict进行初始化（配合数据库的常用方式）\n",
        "data = [\n",
        "    {'name':'a', 'age':1, 'score':1.1},\n",
        "    {'name':'b', 'age':2, 'score':2.2},\n",
        "    {'name':'c', 'age':3, 'score':3.3},\n",
        "    ]\n",
        "df = pd.DataFrame(data)\n",
        "print('使用字典数组初始化一个DataFrame：\\n', df)"
      ]
    },
    {
      "cell_type": "code",
      "source": [
        "# 使用dict+Series进行初始化\n",
        "data = {\n",
        "    'c0': pd.Series(data=[1,2,3], index=['r0','r1','r2']),\n",
        "    'c1': pd.Series(data=[2,3,4], index=['r0','r1','r2']),\n",
        "    'c2': pd.Series(data=[3,4,5], index=['r0','r1','r2']),\n",
        "}\n",
        "df = pd.DataFrame(data)\n",
        "print('使用Series数组初始化一个DataFrame：\\n', df)"
      ],
      "metadata": {
        "colab": {
          "base_uri": "https://localhost:8080/"
        },
        "id": "ctDwLEgcMEsp",
        "outputId": "fc5d721a-1c9a-4e86-cfa7-29359615be0f"
      },
      "execution_count": null,
      "outputs": [
        {
          "output_type": "stream",
          "name": "stdout",
          "text": [
            "使用Series数组初始化一个DataFrame：\n",
            "     c0  c1  c2\n",
            "r0   1   2   3\n",
            "r1   2   3   4\n",
            "r2   3   4   5\n"
          ]
        }
      ]
    },
    {
      "cell_type": "markdown",
      "source": [
        "### DataFrame重要属性"
      ],
      "metadata": {
        "id": "pLkyip-6DhzL"
      }
    },
    {
      "cell_type": "code",
      "source": [
        "data = [['a',1,1.1], ['b',2,2.2], ['c',3,3.3]]\n",
        "columns = ['name', 'age', 'score']\n",
        "df = pd.DataFrame(data=data, columns=columns)\n",
        "\n",
        "print('df.values：', df.values)\n",
        "print('df.dtypes：', df.dtypes)\n",
        "print('df.index：', df.index)\n",
        "print('df.columns：', df.columns)\n",
        "print('df.T：', df.T)\n",
        "print('df.shape：', df.shape)\n",
        "print('df.info：', df.info)"
      ],
      "metadata": {
        "colab": {
          "base_uri": "https://localhost:8080/"
        },
        "id": "CQs1bJkrDnHS",
        "outputId": "acc258db-747d-461e-aa28-53f9fb813ea6"
      },
      "execution_count": null,
      "outputs": [
        {
          "output_type": "stream",
          "name": "stdout",
          "text": [
            "df.values： [['a' 1 1.1]\n",
            " ['b' 2 2.2]\n",
            " ['c' 3 3.3]]\n",
            "df.dtypes： name      object\n",
            "age        int64\n",
            "score    float64\n",
            "dtype: object\n",
            "df.index： RangeIndex(start=0, stop=3, step=1)\n",
            "df.columns： Index(['name', 'age', 'score'], dtype='object')\n",
            "df.T：          0    1    2\n",
            "name     a    b    c\n",
            "age      1    2    3\n",
            "score  1.1  2.2  3.3\n",
            "df.shape： (3, 3)\n",
            "df.info： <bound method DataFrame.info of   name  age  score\n",
            "0    a    1    1.1\n",
            "1    b    2    2.2\n",
            "2    c    3    3.3>\n"
          ]
        }
      ]
    },
    {
      "cell_type": "markdown",
      "source": [
        "### DataFrame重要函数"
      ],
      "metadata": {
        "id": "5oJgLX2lEY6z"
      }
    },
    {
      "cell_type": "code",
      "source": [
        "data = [['a',1,1.1], ['b',2,2.2], ['c',3,3.3]]\n",
        "columns = ['name', 'age', 'score']\n",
        "df = pd.DataFrame(data=data, columns=columns)\n",
        "\n",
        "print('df.describe()：', df.describe())\n",
        "print('df.count()：', df.count())\n",
        "print('df.sum()：', df.sum())\n",
        "print('df.min()：', df.min())\n",
        "print('df.max()：', df.max())"
      ],
      "metadata": {
        "colab": {
          "base_uri": "https://localhost:8080/"
        },
        "id": "ooDfGrXjEaK7",
        "outputId": "88678d7f-28ad-4f03-97c3-541a67d0dfaf"
      },
      "execution_count": null,
      "outputs": [
        {
          "output_type": "stream",
          "name": "stdout",
          "text": [
            "df.describe()：        age  score\n",
            "count  3.0   3.00\n",
            "mean   2.0   2.20\n",
            "std    1.0   1.10\n",
            "min    1.0   1.10\n",
            "25%    1.5   1.65\n",
            "50%    2.0   2.20\n",
            "75%    2.5   2.75\n",
            "max    3.0   3.30\n",
            "df.count()： name     3\n",
            "age      3\n",
            "score    3\n",
            "dtype: int64\n",
            "df.sum()： name     abc\n",
            "age        6\n",
            "score    6.6\n",
            "dtype: object\n",
            "df.min()： name       a\n",
            "age        1\n",
            "score    1.1\n",
            "dtype: object\n",
            "df.max()： name       c\n",
            "age        3\n",
            "score    3.3\n",
            "dtype: object\n"
          ]
        }
      ]
    },
    {
      "cell_type": "markdown",
      "metadata": {
        "id": "4cw9rnaSjGUo"
      },
      "source": [
        "# 常用库函数"
      ]
    },
    {
      "cell_type": "markdown",
      "source": [
        "## Series数据提取"
      ],
      "metadata": {
        "id": "UdSAA2fqtPWK"
      }
    },
    {
      "cell_type": "code",
      "source": [
        "s = pd.Series(np.arange(10), index=['s0','s1','s2','s3','s4','s5','s6','s7','s8','s9',])\n",
        "print('通过下标直接选取：', s[0])\n",
        "print('通过下标批量选取：\\n', s[[0,2,4,6]])\n",
        "print('通过下标选取切片：\\n', s[0:5])\n",
        "\n",
        "print('通过名字直接选取：', s['s0'])\n",
        "print('通过下标批量选取：\\n', s[['s0','s2','s4','s6']])\n",
        "print('通过下标选取切片：\\n', s['s0':'s5'])\n",
        "\n",
        "print('通过条件选取：\\n', s[s>5])"
      ],
      "metadata": {
        "colab": {
          "base_uri": "https://localhost:8080/"
        },
        "id": "knFhSnLutY3Q",
        "outputId": "2972e5ac-2f06-4f6c-86b1-5e1278fbc777"
      },
      "execution_count": null,
      "outputs": [
        {
          "output_type": "stream",
          "name": "stdout",
          "text": [
            "通过下标直接选取： 0\n",
            "通过下标批量选取：\n",
            " s0    0\n",
            "s2    2\n",
            "s4    4\n",
            "s6    6\n",
            "dtype: int64\n",
            "通过下标选取切片：\n",
            " s0    0\n",
            "s1    1\n",
            "s2    2\n",
            "s3    3\n",
            "s4    4\n",
            "dtype: int64\n",
            "通过名字直接选取： 0\n",
            "通过下标批量选取：\n",
            " s0    0\n",
            "s2    2\n",
            "s4    4\n",
            "s6    6\n",
            "dtype: int64\n",
            "通过下标选取切片：\n",
            " s0    0\n",
            "s1    1\n",
            "s2    2\n",
            "s3    3\n",
            "s4    4\n",
            "s5    5\n",
            "dtype: int64\n",
            "通过条件选取：\n",
            " s6    6\n",
            "s7    7\n",
            "s8    8\n",
            "s9    9\n",
            "dtype: int64\n"
          ]
        }
      ]
    },
    {
      "cell_type": "markdown",
      "source": [
        "## DataFrame数据提取"
      ],
      "metadata": {
        "id": "K31ZfMckKX8O"
      }
    },
    {
      "cell_type": "markdown",
      "source": [
        "### 按行提取"
      ],
      "metadata": {
        "id": "ws_5cLhHKoeN"
      }
    },
    {
      "cell_type": "code",
      "source": [
        "df = pd.DataFrame(np.arange(100).reshape(10,10), columns=['c0','c1','c2','c3','c4','c5','c6','c7','c8','c9'], index=['r0','r1','r2','r3','r4','r5','r6','r7','r8','r9'])\n",
        "\n",
        "print('使用下标提取切片：\\n', df['r0':'r2'])  # 不懂为什么只有切片设计成行提取\n",
        "print('使用下标提取切片（索引）：\\n', df[0:2])\n",
        "\n",
        "print('使用loc通过行名进行提取：\\n', df.loc['r0'])\n",
        "print('使用loc通过行名提取多行：\\n', df.loc[['r0','r2']])\n",
        "print('使用loc通过行名提取切片：\\n', df.loc['r0':'r2']) # 闭区间\n",
        "\n",
        "print('使用iloc通过行编号进行提取：\\n', df.iloc[0])\n",
        "print('使用iloc通过行编号提取多行：\\n', df.iloc[[0,2]])\n",
        "print('使用iloc通过行编号提取切片：\\n', df.iloc[0:2])  # 左闭右开区间"
      ],
      "metadata": {
        "colab": {
          "base_uri": "https://localhost:8080/"
        },
        "id": "Inyqao2_KazO",
        "outputId": "bae69f42-95bc-4486-bf33-6c946a9a61f9"
      },
      "execution_count": null,
      "outputs": [
        {
          "output_type": "stream",
          "name": "stdout",
          "text": [
            "使用下标提取切片：\n",
            "     c0  c1  c2  c3  c4  c5  c6  c7  c8  c9\n",
            "r0   0   1   2   3   4   5   6   7   8   9\n",
            "r1  10  11  12  13  14  15  16  17  18  19\n",
            "r2  20  21  22  23  24  25  26  27  28  29\n",
            "使用下标提取切片（索引）：\n",
            "     c0  c1  c2  c3  c4  c5  c6  c7  c8  c9\n",
            "r0   0   1   2   3   4   5   6   7   8   9\n",
            "r1  10  11  12  13  14  15  16  17  18  19\n",
            "使用loc通过行名进行提取：\n",
            " c0    0\n",
            "c1    1\n",
            "c2    2\n",
            "c3    3\n",
            "c4    4\n",
            "c5    5\n",
            "c6    6\n",
            "c7    7\n",
            "c8    8\n",
            "c9    9\n",
            "Name: r0, dtype: int64\n",
            "使用loc通过行名提取多行：\n",
            "     c0  c1  c2  c3  c4  c5  c6  c7  c8  c9\n",
            "r0   0   1   2   3   4   5   6   7   8   9\n",
            "r2  20  21  22  23  24  25  26  27  28  29\n",
            "使用loc通过行名提取切片：\n",
            "     c0  c1  c2  c3  c4  c5  c6  c7  c8  c9\n",
            "r0   0   1   2   3   4   5   6   7   8   9\n",
            "r1  10  11  12  13  14  15  16  17  18  19\n",
            "r2  20  21  22  23  24  25  26  27  28  29\n",
            "使用iloc通过行编号进行提取：\n",
            " c0    0\n",
            "c1    1\n",
            "c2    2\n",
            "c3    3\n",
            "c4    4\n",
            "c5    5\n",
            "c6    6\n",
            "c7    7\n",
            "c8    8\n",
            "c9    9\n",
            "Name: r0, dtype: int64\n",
            "使用iloc通过行编号提取多行：\n",
            "     c0  c1  c2  c3  c4  c5  c6  c7  c8  c9\n",
            "r0   0   1   2   3   4   5   6   7   8   9\n",
            "r2  20  21  22  23  24  25  26  27  28  29\n",
            "使用iloc通过行编号提取切片：\n",
            "     c0  c1  c2  c3  c4  c5  c6  c7  c8  c9\n",
            "r0   0   1   2   3   4   5   6   7   8   9\n",
            "r1  10  11  12  13  14  15  16  17  18  19\n"
          ]
        }
      ]
    },
    {
      "cell_type": "markdown",
      "source": [
        "### 按列提取"
      ],
      "metadata": {
        "id": "3gL5yPUHQCl5"
      }
    },
    {
      "cell_type": "code",
      "source": [
        "df = pd.DataFrame(np.arange(100).reshape(10,10), columns=['c0','c1','c2','c3','c4','c5','c6','c7','c8','c9'], index=['r0','r1','r2','r3','r4','r5','r6','r7','r8','r9'])\n",
        "print('使用成员变量方式提取：\\n', df.c0)\n",
        "print('使用下标提取列：\\n', df['c0'])\n",
        "print('提取行可以用下标和名字两种方式，而提取列只能用名字')\n",
        "print('使用下标提取多列：\\n', df[['c0','c1']])\n",
        "print('使用下标提取切片改成了行操作，有点匪夷所思')\n",
        "\n",
        "# df.loc[<行>,<列>] 通过逗号分割来表达行与列\n",
        "print('使用loc通过列名进列提取：\\n', df.loc[:,'c0'])\n",
        "print('使用loc通过列名提取多列：\\n', df.loc[:,['c0','c2']])\n",
        "print('使用loc通过列名提取切片：\\n', df.loc[:,'c0':'c2']) # 闭区间\n",
        "\n",
        "print('使用iloc通过列编号进列提取：\\n', df.iloc[:,0])\n",
        "print('使用iloc通过列编号提取多列：\\n', df.iloc[:,[0,2]])\n",
        "print('使用iloc通过列编号提取切片：\\n', df.iloc[:,0:2])  # 左闭右开区间"
      ],
      "metadata": {
        "colab": {
          "base_uri": "https://localhost:8080/"
        },
        "id": "iQl7huECQEXv",
        "outputId": "ef770c5b-bc41-452c-8407-8d6f5eb477c2"
      },
      "execution_count": null,
      "outputs": [
        {
          "output_type": "stream",
          "name": "stdout",
          "text": [
            "使用成员变量方式提取：\n",
            " r0     0\n",
            "r1    10\n",
            "r2    20\n",
            "r3    30\n",
            "r4    40\n",
            "r5    50\n",
            "r6    60\n",
            "r7    70\n",
            "r8    80\n",
            "r9    90\n",
            "Name: c0, dtype: int64\n",
            "使用下标提取列：\n",
            " r0     0\n",
            "r1    10\n",
            "r2    20\n",
            "r3    30\n",
            "r4    40\n",
            "r5    50\n",
            "r6    60\n",
            "r7    70\n",
            "r8    80\n",
            "r9    90\n",
            "Name: c0, dtype: int64\n",
            "提取行可以用下标和名字两种方式，而提取列只能用名字\n",
            "使用下标提取多列：\n",
            "     c0  c1\n",
            "r0   0   1\n",
            "r1  10  11\n",
            "r2  20  21\n",
            "r3  30  31\n",
            "r4  40  41\n",
            "r5  50  51\n",
            "r6  60  61\n",
            "r7  70  71\n",
            "r8  80  81\n",
            "r9  90  91\n",
            "使用下标提取切片改成了行操作，有点匪夷所思\n",
            "使用loc通过列名进列提取：\n",
            " r0     0\n",
            "r1    10\n",
            "r2    20\n",
            "r3    30\n",
            "r4    40\n",
            "r5    50\n",
            "r6    60\n",
            "r7    70\n",
            "r8    80\n",
            "r9    90\n",
            "Name: c0, dtype: int64\n",
            "使用loc通过列名提取多列：\n",
            "     c0  c2\n",
            "r0   0   2\n",
            "r1  10  12\n",
            "r2  20  22\n",
            "r3  30  32\n",
            "r4  40  42\n",
            "r5  50  52\n",
            "r6  60  62\n",
            "r7  70  72\n",
            "r8  80  82\n",
            "r9  90  92\n",
            "使用loc通过列名提取切片：\n",
            "     c0  c1  c2\n",
            "r0   0   1   2\n",
            "r1  10  11  12\n",
            "r2  20  21  22\n",
            "r3  30  31  32\n",
            "r4  40  41  42\n",
            "r5  50  51  52\n",
            "r6  60  61  62\n",
            "r7  70  71  72\n",
            "r8  80  81  82\n",
            "r9  90  91  92\n",
            "使用iloc通过列编号进列提取：\n",
            " r0     0\n",
            "r1    10\n",
            "r2    20\n",
            "r3    30\n",
            "r4    40\n",
            "r5    50\n",
            "r6    60\n",
            "r7    70\n",
            "r8    80\n",
            "r9    90\n",
            "Name: c0, dtype: int64\n",
            "使用iloc通过列编号提取多列：\n",
            "     c0  c2\n",
            "r0   0   2\n",
            "r1  10  12\n",
            "r2  20  22\n",
            "r3  30  32\n",
            "r4  40  42\n",
            "r5  50  52\n",
            "r6  60  62\n",
            "r7  70  72\n",
            "r8  80  82\n",
            "r9  90  92\n",
            "使用iloc通过列编号提取切片：\n",
            "     c0  c1\n",
            "r0   0   1\n",
            "r1  10  11\n",
            "r2  20  21\n",
            "r3  30  31\n",
            "r4  40  41\n",
            "r5  50  51\n",
            "r6  60  61\n",
            "r7  70  71\n",
            "r8  80  81\n",
            "r9  90  91\n"
          ]
        }
      ]
    },
    {
      "cell_type": "markdown",
      "source": [
        "### 区域提取"
      ],
      "metadata": {
        "id": "f1YVeyRrpCYF"
      }
    },
    {
      "cell_type": "code",
      "source": [
        "df = pd.DataFrame(np.arange(100).reshape(10,10), columns=['c0','c1','c2','c3','c4','c5','c6','c7','c8','c9'], index=['r0','r1','r2','r3','r4','r5','r6','r7','r8','r9'])\n",
        "print('直接下标提取：', df['c0']['r0'])\n",
        "print('使用连续下标访问时，要特别注意每一层的返回值到底时DataFrame还是Series')\n",
        "\n",
        "print('使用loc提取：', df.loc['r0','c0'])\n",
        "print('使用loc批量提取：\\n', df.loc[['r0','r2'],['c0','c2']])\n",
        "print('使用loc提取切片：\\n', df.loc['r0':'r2','c0':'c2'])\n",
        "\n",
        "print('使用iloc提取：', df.iloc[0,0])\n",
        "print('使用iloc批量提取：\\n', df.iloc[[0,2],[0,2]])\n",
        "print('使用iloc提取切片：\\n', df.iloc[0:2,0:2])"
      ],
      "metadata": {
        "colab": {
          "base_uri": "https://localhost:8080/"
        },
        "id": "l4YW67BapEJe",
        "outputId": "b80e0b43-2037-4e31-b28e-2500e90b7077"
      },
      "execution_count": null,
      "outputs": [
        {
          "output_type": "stream",
          "name": "stdout",
          "text": [
            "直接下标提取： 0\n",
            "使用连续下标访问时，要特别注意每一层的返回值到底时DataFrame还是Series\n",
            "使用loc提取： 0\n",
            "使用loc批量提取：\n",
            "     c0  c2\n",
            "r0   0   2\n",
            "r2  20  22\n",
            "使用loc提取切片：\n",
            "     c0  c1  c2\n",
            "r0   0   1   2\n",
            "r1  10  11  12\n",
            "r2  20  21  22\n",
            "使用iloc提取： 0\n",
            "使用iloc批量提取：\n",
            "     c0  c2\n",
            "r0   0   2\n",
            "r2  20  22\n",
            "使用iloc提取切片：\n",
            "     c0  c1\n",
            "r0   0   1\n",
            "r1  10  11\n"
          ]
        }
      ]
    },
    {
      "cell_type": "markdown",
      "source": [
        "### 指定条件提取"
      ],
      "metadata": {
        "id": "VsdeWZvuz5je"
      }
    },
    {
      "cell_type": "markdown",
      "source": [
        "## DataFrame的遍历"
      ],
      "metadata": {
        "id": "BFy2JT2czd1t"
      }
    },
    {
      "cell_type": "markdown",
      "source": [
        "### 按行遍历"
      ],
      "metadata": {
        "id": "_FqzDb4dzg2t"
      }
    },
    {
      "cell_type": "code",
      "source": [
        "df = pd.DataFrame(np.arange(9).reshape(3,3), columns=['c0','c1','c2'], index=['r0','r1','r2'])\n",
        "for index, row in df.iterrows():\n",
        "  print('按行遍历：', index, row)\n",
        "for row in df.itertuples(): # 相比iterrows效率更高\n",
        "  print('按行遍历（元祖形式）：', row)"
      ],
      "metadata": {
        "colab": {
          "base_uri": "https://localhost:8080/"
        },
        "id": "6YsGpYXlzmRk",
        "outputId": "452d015d-f8b9-4484-bc63-15eb3e7564ff"
      },
      "execution_count": null,
      "outputs": [
        {
          "output_type": "stream",
          "name": "stdout",
          "text": [
            "按行遍历： r0 c0    0\n",
            "c1    1\n",
            "c2    2\n",
            "Name: r0, dtype: int64\n",
            "按行遍历： r1 c0    3\n",
            "c1    4\n",
            "c2    5\n",
            "Name: r1, dtype: int64\n",
            "按行遍历： r2 c0    6\n",
            "c1    7\n",
            "c2    8\n",
            "Name: r2, dtype: int64\n",
            "按行遍历（元祖形式）： Pandas(Index='r0', c0=0, c1=1, c2=2)\n",
            "按行遍历（元祖形式）： Pandas(Index='r1', c0=3, c1=4, c2=5)\n",
            "按行遍历（元祖形式）： Pandas(Index='r2', c0=6, c1=7, c2=8)\n"
          ]
        }
      ]
    },
    {
      "cell_type": "markdown",
      "source": [
        "### 按列遍历"
      ],
      "metadata": {
        "id": "g3_Cxbsgzk44"
      }
    },
    {
      "cell_type": "code",
      "source": [
        "df = pd.DataFrame(np.arange(9).reshape(3,3), columns=['c0','c1','c2'], index=['r0','r1','r2'])\n",
        "for index, row in df.iteritems():\n",
        "  print('按列遍历：', index, row)\n",
        "for index, row in df.items():\n",
        "  print('按列遍历：', index, row)"
      ],
      "metadata": {
        "colab": {
          "base_uri": "https://localhost:8080/"
        },
        "id": "DjGjCH9Kzmum",
        "outputId": "fd501602-3e97-4d9a-bf72-80a24480a522"
      },
      "execution_count": null,
      "outputs": [
        {
          "output_type": "stream",
          "name": "stdout",
          "text": [
            "按列遍历： c0 r0    0\n",
            "r1    3\n",
            "r2    6\n",
            "Name: c0, dtype: int64\n",
            "按列遍历： c1 r0    1\n",
            "r1    4\n",
            "r2    7\n",
            "Name: c1, dtype: int64\n",
            "按列遍历： c2 r0    2\n",
            "r1    5\n",
            "r2    8\n",
            "Name: c2, dtype: int64\n",
            "按列遍历： c0 r0    0\n",
            "r1    3\n",
            "r2    6\n",
            "Name: c0, dtype: int64\n",
            "按列遍历： c1 r0    1\n",
            "r1    4\n",
            "r2    7\n",
            "Name: c1, dtype: int64\n",
            "按列遍历： c2 r0    2\n",
            "r1    5\n",
            "r2    8\n",
            "Name: c2, dtype: int64\n"
          ]
        },
        {
          "output_type": "stream",
          "name": "stderr",
          "text": [
            "<ipython-input-15-af2eb69f6c34>:2: FutureWarning: iteritems is deprecated and will be removed in a future version. Use .items instead.\n",
            "  for index, row in df.iteritems():\n"
          ]
        }
      ]
    },
    {
      "cell_type": "code",
      "source": [
        "# DataFrame的条件选取主要都是以列为条件（因为通常不同列的元素类型不同）\n",
        "# 如果想做针对行的选取，可以通过转置来进行\n",
        "df = pd.DataFrame(np.arange(100).reshape(10,10), columns=['c0','c1','c2','c3','c4','c5','c6','c7','c8','c9'], index=['r0','r1','r2','r3','r4','r5','r6','r7','r8','r9'])\n",
        "print('直接条件提取：\\n', df[df['c0']>50])\n",
        "print('组合条件提取：\\n', df.loc[(df['c0']>50)&(df['c2']//10%2==0)])"
      ],
      "metadata": {
        "colab": {
          "base_uri": "https://localhost:8080/"
        },
        "id": "5u5rGYu_z7nl",
        "outputId": "764b8422-11f1-417a-ae45-717f783625ae"
      },
      "execution_count": null,
      "outputs": [
        {
          "output_type": "stream",
          "name": "stdout",
          "text": [
            "直接条件提取：\n",
            "     c0  c1  c2  c3  c4  c5  c6  c7  c8  c9\n",
            "r6  60  61  62  63  64  65  66  67  68  69\n",
            "r7  70  71  72  73  74  75  76  77  78  79\n",
            "r8  80  81  82  83  84  85  86  87  88  89\n",
            "r9  90  91  92  93  94  95  96  97  98  99\n",
            "组合条件提取：\n",
            "     c0  c1  c2  c3  c4  c5  c6  c7  c8  c9\n",
            "r6  60  61  62  63  64  65  66  67  68  69\n",
            "r8  80  81  82  83  84  85  86  87  88  89\n"
          ]
        }
      ]
    },
    {
      "cell_type": "markdown",
      "source": [
        "## Series数据增删"
      ],
      "metadata": {
        "id": "wRldQLW3nfr2"
      }
    },
    {
      "cell_type": "code",
      "source": [
        "# Series数据追加\n",
        "s1 = pd.Series(np.arange(3), index=['s0','s1','s2'])\n",
        "s2 = pd.Series(np.arange(3), index=['s3','s4','s5'])\n",
        "print('Series数据追加(deprecated)\\n', s1.append(s2))\n",
        "print('Series数据追加 : \\n', pd.concat([s1,s2]))"
      ],
      "metadata": {
        "colab": {
          "base_uri": "https://localhost:8080/"
        },
        "id": "Bjz7d3adnj65",
        "outputId": "7bae770b-3813-4d77-f5c2-3959ed43d8c3"
      },
      "execution_count": null,
      "outputs": [
        {
          "output_type": "stream",
          "name": "stdout",
          "text": [
            "Series数据追加(deprecated)\n",
            " s0    0\n",
            "s1    1\n",
            "s2    2\n",
            "s3    0\n",
            "s4    1\n",
            "s5    2\n",
            "dtype: int64\n",
            "Series数据追加 : \n",
            " s0    0\n",
            "s1    1\n",
            "s2    2\n",
            "s3    0\n",
            "s4    1\n",
            "s5    2\n",
            "dtype: int64\n"
          ]
        },
        {
          "output_type": "stream",
          "name": "stderr",
          "text": [
            "<ipython-input-7-73cc6c9c3c10>:4: FutureWarning: The series.append method is deprecated and will be removed from pandas in a future version. Use pandas.concat instead.\n",
            "  print('Series数据追加(deprecated)\\n', s1.append(s2))\n"
          ]
        }
      ]
    },
    {
      "cell_type": "markdown",
      "source": [
        "## DataFrame数据增删"
      ],
      "metadata": {
        "id": "NYl1SGtB4w2v"
      }
    },
    {
      "cell_type": "markdown",
      "source": [
        "### 按行增加数据"
      ],
      "metadata": {
        "id": "Mn5v70st450X"
      }
    },
    {
      "cell_type": "code",
      "source": [
        "df = pd.DataFrame(np.arange(9).reshape(3,3), columns=['c0','c1','c2'], index=['r0','r1','r2'])\n",
        "\n",
        "df.loc['r4'] = [7,7,7]\n",
        "print('使用loc指定列的方式追加列：\\n', df)\n",
        "\n",
        "# append方法已不再被推荐使用，推荐使用concat方法\n",
        "print('使用append方法批量追加列：\\n', df.append(pd.DataFrame(np.zeros(9).reshape(3,3), columns=['c0','c1','c2']), ignore_index=True))"
      ],
      "metadata": {
        "colab": {
          "base_uri": "https://localhost:8080/"
        },
        "id": "VpHt5_Ml48FI",
        "outputId": "a832b1ec-5bde-4387-8eaa-b5e3c8f94d6c"
      },
      "execution_count": null,
      "outputs": [
        {
          "output_type": "stream",
          "name": "stdout",
          "text": [
            "使用loc指定列的方式追加列：\n",
            "     c0  c1  c2\n",
            "r0   0   1   2\n",
            "r1   3   4   5\n",
            "r2   6   7   8\n",
            "r4   7   7   7\n",
            "使用append方法批量追加列：\n",
            "     c0   c1   c2\n",
            "0  0.0  1.0  2.0\n",
            "1  3.0  4.0  5.0\n",
            "2  6.0  7.0  8.0\n",
            "3  7.0  7.0  7.0\n",
            "4  0.0  0.0  0.0\n",
            "5  0.0  0.0  0.0\n",
            "6  0.0  0.0  0.0\n"
          ]
        },
        {
          "output_type": "stream",
          "name": "stderr",
          "text": [
            "<ipython-input-17-67130c6c5c00>:7: FutureWarning: The frame.append method is deprecated and will be removed from pandas in a future version. Use pandas.concat instead.\n",
            "  print('使用append方法批量追加列：\\n', df.append(pd.DataFrame(np.zeros(9).reshape(3,3), columns=['c0','c1','c2']), ignore_index=True))\n"
          ]
        }
      ]
    },
    {
      "cell_type": "markdown",
      "source": [
        "### 按列增加数据"
      ],
      "metadata": {
        "id": "YryWSY2c5M6n"
      }
    },
    {
      "cell_type": "code",
      "source": [
        "df = pd.DataFrame(np.arange(9).reshape(3,3), columns=['c0','c1','c2'], index=['r0','r1','r2'])\n",
        "\n",
        "df['c3'] = [6,6,6]\n",
        "print('使用直接赋值的方式追加列：\\n', df)\n",
        "\n",
        "df.loc[:,'c4'] = [7,7,7]\n",
        "print('使用loc指定列的方式追加列：\\n', df)\n",
        "\n",
        "df.insert(4, 'c5', [8,8,8])\n",
        "print('使用insert方式插入列：\\n', df)"
      ],
      "metadata": {
        "colab": {
          "base_uri": "https://localhost:8080/"
        },
        "id": "nHAFa-Zd5P0G",
        "outputId": "4440d9c2-3440-4efa-998f-a574ec924d50"
      },
      "execution_count": null,
      "outputs": [
        {
          "output_type": "stream",
          "name": "stdout",
          "text": [
            "使用直接赋值的方式追加列：\n",
            "     c0  c1  c2  c3\n",
            "r0   0   1   2   6\n",
            "r1   3   4   5   6\n",
            "r2   6   7   8   6\n",
            "使用loc指定列的方式追加列：\n",
            "     c0  c1  c2  c3  c4\n",
            "r0   0   1   2   6   7\n",
            "r1   3   4   5   6   7\n",
            "r2   6   7   8   6   7\n",
            "使用insert方式插入列：\n",
            "     c0  c1  c2  c3  c5  c4\n",
            "r0   0   1   2   6   8   7\n",
            "r1   3   4   5   6   8   7\n",
            "r2   6   7   8   6   8   7\n"
          ]
        }
      ]
    },
    {
      "cell_type": "markdown",
      "source": [
        "### 批量增加数据"
      ],
      "metadata": {
        "id": "Nb3GUqoO7TIE"
      }
    },
    {
      "cell_type": "code",
      "source": [
        "df1 = pd.DataFrame(np.arange(9).reshape(3,3), columns=['c0','c1','c2'], index=['r0','r1','r2'])\n",
        "df2 = pd.DataFrame(np.zeros(9).reshape(3,3), columns=['c0','c1','c2'], index=['r0','r1','r2'])\n",
        "\n",
        "# 注意合并两个df的时候，只有行/列名称相同才能追加\n",
        "print('批量增加行：', pd.concat([df1,df2], axis=0, ignore_index=True))\n",
        "print('批量增加列：', pd.concat([df1,df2], axis=1, ignore_index=True))"
      ],
      "metadata": {
        "colab": {
          "base_uri": "https://localhost:8080/"
        },
        "id": "FT5WgEZI7FtE",
        "outputId": "9520ae6f-c5f1-47f9-c364-c79952d34a2d"
      },
      "execution_count": null,
      "outputs": [
        {
          "output_type": "stream",
          "name": "stdout",
          "text": [
            "批量增加行：     c0   c1   c2\n",
            "0  0.0  1.0  2.0\n",
            "1  3.0  4.0  5.0\n",
            "2  6.0  7.0  8.0\n",
            "3  0.0  0.0  0.0\n",
            "4  0.0  0.0  0.0\n",
            "5  0.0  0.0  0.0\n",
            "批量增加列：     0  1  2    3    4    5\n",
            "r0  0  1  2  0.0  0.0  0.0\n",
            "r1  3  4  5  0.0  0.0  0.0\n",
            "r2  6  7  8  0.0  0.0  0.0\n"
          ]
        }
      ]
    },
    {
      "cell_type": "markdown",
      "source": [
        "### 修改数据"
      ],
      "metadata": {
        "id": "FOwvzicG6AmV"
      }
    },
    {
      "cell_type": "markdown",
      "source": [
        "#### 修改标题"
      ],
      "metadata": {
        "id": "9J7acurV_XTy"
      }
    },
    {
      "cell_type": "code",
      "source": [
        "df = pd.DataFrame(np.arange(9).reshape(3,3), columns=['c0','c1','c2'], index=['r0','r1','r2'])\n",
        "\n",
        "df.index = ['x0', 'x1', 'x2']\n",
        "print('通过index成员修改行标题：\\n', df)\n",
        "df.columns = ['y0', 'y1', 'y2']\n",
        "print('通过columns成员修改列标题：\\n', df)"
      ],
      "metadata": {
        "colab": {
          "base_uri": "https://localhost:8080/"
        },
        "id": "gniNxvmT6HB-",
        "outputId": "0b43d38e-3922-4d8f-c641-00323f0f62b8"
      },
      "execution_count": null,
      "outputs": [
        {
          "output_type": "stream",
          "name": "stdout",
          "text": [
            "通过index成员修改行标题：\n",
            "     c0  c1  c2\n",
            "x0   0   1   2\n",
            "x1   3   4   5\n",
            "x2   6   7   8\n",
            "通过columns成员修改列标题：\n",
            "     y0  y1  y2\n",
            "x0   0   1   2\n",
            "x1   3   4   5\n",
            "x2   6   7   8\n"
          ]
        }
      ]
    },
    {
      "cell_type": "code",
      "source": [
        "df = pd.DataFrame(np.arange(9).reshape(3,3), columns=['c0','c1','c2'], index=['r0','r1','r2'])\n",
        "\n",
        "df.rename({'r0':'x0','r1':'x1','r2':'x2'}, inplace=True, axis=0)\n",
        "print('通过rename方法修改行标题：\\n', df)\n",
        "df.rename({'c0':'y0','c1':'y1','c2':'y2'}, inplace=True, axis=1)\n",
        "print('通过rename方法修改列标题：\\n', df)"
      ],
      "metadata": {
        "colab": {
          "base_uri": "https://localhost:8080/"
        },
        "id": "SNR_adwy_fuJ",
        "outputId": "6530b2ee-9fd9-465f-8fd9-713e9e7868cc"
      },
      "execution_count": null,
      "outputs": [
        {
          "output_type": "stream",
          "name": "stdout",
          "text": [
            "通过rename方法修改行标题：\n",
            "     c0  c1  c2\n",
            "x0   0   1   2\n",
            "x1   3   4   5\n",
            "x2   6   7   8\n",
            "通过rename方法修改列标题：\n",
            "     y0  y1  y2\n",
            "x0   0   1   2\n",
            "x1   3   4   5\n",
            "x2   6   7   8\n"
          ]
        }
      ]
    },
    {
      "cell_type": "code",
      "source": [
        "df = pd.DataFrame(np.arange(9).reshape(3,3), columns=['c0','c1','c2'], index=['r0','r1','r2'])\n",
        "\n",
        "df.rename(columns={'c0':'y0','c1':'y1','c2':'y2'}, index={'r0':'x0','r1':'x1','r2':'x2'}, inplace=True)\n",
        "print('通过rename方法同时修改行列标题：\\n', df)"
      ],
      "metadata": {
        "colab": {
          "base_uri": "https://localhost:8080/"
        },
        "id": "B5IC_5U3_oQR",
        "outputId": "8770117d-75c7-4a87-bae1-c5cc7e8df914"
      },
      "execution_count": null,
      "outputs": [
        {
          "output_type": "stream",
          "name": "stdout",
          "text": [
            "通过rename方法同时修改行列标题：\n",
            "     y0  y1  y2\n",
            "x0   0   1   2\n",
            "x1   3   4   5\n",
            "x2   6   7   8\n"
          ]
        }
      ]
    },
    {
      "cell_type": "markdown",
      "source": [
        "#### 修改内容"
      ],
      "metadata": {
        "id": "jJz7KCNv_aT5"
      }
    },
    {
      "cell_type": "code",
      "source": [
        "# 定点修改\n",
        "df = pd.DataFrame(np.arange(9).reshape(3,3), columns=['c0','c1','c2'], index=['r0','r1','r2'])\n",
        "\n",
        "df['c0']['r0'] = 10\n",
        "print('指定位置修改：\\n', df)"
      ],
      "metadata": {
        "colab": {
          "base_uri": "https://localhost:8080/"
        },
        "id": "UZkq1dDd_x9h",
        "outputId": "62dc363b-89a8-4409-994f-8deb81eb61b8"
      },
      "execution_count": null,
      "outputs": [
        {
          "output_type": "stream",
          "name": "stdout",
          "text": [
            "指定位置修改：\n",
            "     c0  c1  c2\n",
            "r0  10   1   2\n",
            "r1   3   4   5\n",
            "r2   6   7   8\n"
          ]
        }
      ]
    },
    {
      "cell_type": "code",
      "source": [
        "# 修改行\n",
        "df = pd.DataFrame(np.arange(9).reshape(3,3), columns=['c0','c1','c2'], index=['r0','r1','r2'])\n",
        "\n",
        "df.loc['r0'] = [6,6,6]\n",
        "print('通过loc整行修改：\\n', df)\n",
        "df.loc['r0',['c0','c2']] = [7,7]\n",
        "print('通过loc整行批量修改：\\n', df)\n",
        "df.iloc[0,1:] = [8,8]\n",
        "print('通过iloc切片修改：\\n', df)"
      ],
      "metadata": {
        "colab": {
          "base_uri": "https://localhost:8080/"
        },
        "id": "AiZt4r9zBPyg",
        "outputId": "807d4f98-346f-4107-9ace-d1bab5ff9cc0"
      },
      "execution_count": null,
      "outputs": [
        {
          "output_type": "stream",
          "name": "stdout",
          "text": [
            "通过loc整行修改：\n",
            "     c0  c1  c2\n",
            "r0   6   6   6\n",
            "r1   3   4   5\n",
            "r2   6   7   8\n",
            "通过loc整行批量修改：\n",
            "     c0  c1  c2\n",
            "r0   7   6   7\n",
            "r1   3   4   5\n",
            "r2   6   7   8\n",
            "通过iloc切片修改：\n",
            "     c0  c1  c2\n",
            "r0   7   8   8\n",
            "r1   3   4   5\n",
            "r2   6   7   8\n"
          ]
        }
      ]
    },
    {
      "cell_type": "code",
      "source": [
        "# 修改列\n",
        "df = pd.DataFrame(np.arange(9).reshape(3,3), columns=['c0','c1','c2'], index=['r0','r1','r2'])\n",
        "\n",
        "df.loc[:,'c0'] = [6,6,6]\n",
        "print('通过loc整列修改：\\n', df)\n",
        "df.loc[['r0','r2'],'c0'] = [7,7]\n",
        "print('通过loc整列批量修改：\\n', df)\n",
        "df.iloc[1:,0] = [8,8]\n",
        "print('通过iloc切片修改：\\n', df)"
      ],
      "metadata": {
        "colab": {
          "base_uri": "https://localhost:8080/"
        },
        "id": "LQVNGF9mBZrh",
        "outputId": "839ee2ce-e648-4929-d9bc-e9e30dfd17c0"
      },
      "execution_count": null,
      "outputs": [
        {
          "output_type": "stream",
          "name": "stdout",
          "text": [
            "通过loc整列修改：\n",
            "     c0  c1  c2\n",
            "r0   6   1   2\n",
            "r1   6   4   5\n",
            "r2   6   7   8\n",
            "通过loc整列批量修改：\n",
            "     c0  c1  c2\n",
            "r0   7   1   2\n",
            "r1   6   4   5\n",
            "r2   7   7   8\n",
            "通过iloc切片修改：\n",
            "     c0  c1  c2\n",
            "r0   7   1   2\n",
            "r1   8   4   5\n",
            "r2   8   7   8\n"
          ]
        }
      ]
    },
    {
      "cell_type": "code",
      "source": [
        "# 修改块\n",
        "df = pd.DataFrame(np.arange(9).reshape(3,3), columns=['c0','c1','c2'], index=['r0','r1','r2'])\n",
        "\n",
        "df.loc[['r0','r2'],['c0','c2']] = np.zeros([2,2], dtype=int)\n",
        "print('通过loc修改4个角：\\n', df)\n",
        "df.iloc[:2,:2] = np.ones([2,2], dtype=int)\n",
        "print('通过iloc整列左上角2x2数据：\\n', df)"
      ],
      "metadata": {
        "colab": {
          "base_uri": "https://localhost:8080/"
        },
        "id": "_UsCSu66CUdp",
        "outputId": "374d0a23-85ec-492c-80e6-48ac81ca4473"
      },
      "execution_count": null,
      "outputs": [
        {
          "output_type": "stream",
          "name": "stdout",
          "text": [
            "通过loc修改4个角：\n",
            "     c0  c1  c2\n",
            "r0   0   1   0\n",
            "r1   3   4   5\n",
            "r2   0   7   0\n",
            "通过iloc整列左上角2x2数据：\n",
            "     c0  c1  c2\n",
            "r0   1   1   0\n",
            "r1   1   1   5\n",
            "r2   0   7   0\n"
          ]
        }
      ]
    },
    {
      "cell_type": "markdown",
      "source": [
        "### 删除数据"
      ],
      "metadata": {
        "id": "Vv2IxU-Z6HRV"
      }
    },
    {
      "cell_type": "markdown",
      "source": [
        "#### 单行/列删除"
      ],
      "metadata": {
        "id": "k9Y7e1FgILOP"
      }
    },
    {
      "cell_type": "code",
      "source": [
        "df = pd.DataFrame(np.arange(100).reshape(10,10), columns=['c0','c1','c2','c3','c4','c5','c6','c7','c8','c9'], index=['r0','r1','r2','r3','r4','r5','r6','r7','r8','r9'])\n",
        "\n",
        "df.drop('r0', axis=0, inplace=True)\n",
        "print('通过标题删除整行：\\n', df)\n",
        "df.drop(['r1'], axis=0, inplace=True)\n",
        "print('通过标题删除整行（list形式）：\\n', df)\n",
        "\n",
        "# labels名可以省略\n",
        "df.drop(labels='c0', axis=1, inplace=True)\n",
        "print('通过标题删除整列：\\n', df)\n",
        "df.drop(labels=['c1'], axis=1, inplace=True)\n",
        "print('通过标题删除整列（list形式）：\\n', df)"
      ],
      "metadata": {
        "colab": {
          "base_uri": "https://localhost:8080/"
        },
        "id": "LwDBqa5O6I3t",
        "outputId": "e8c65f4a-9768-4f96-8935-4c3aec99dbb3"
      },
      "execution_count": null,
      "outputs": [
        {
          "output_type": "stream",
          "name": "stdout",
          "text": [
            "通过标题删除整行：\n",
            "     c0  c1  c2  c3  c4  c5  c6  c7  c8  c9\n",
            "r1  10  11  12  13  14  15  16  17  18  19\n",
            "r2  20  21  22  23  24  25  26  27  28  29\n",
            "r3  30  31  32  33  34  35  36  37  38  39\n",
            "r4  40  41  42  43  44  45  46  47  48  49\n",
            "r5  50  51  52  53  54  55  56  57  58  59\n",
            "r6  60  61  62  63  64  65  66  67  68  69\n",
            "r7  70  71  72  73  74  75  76  77  78  79\n",
            "r8  80  81  82  83  84  85  86  87  88  89\n",
            "r9  90  91  92  93  94  95  96  97  98  99\n",
            "通过标题删除整行（list形式）：\n",
            "     c0  c1  c2  c3  c4  c5  c6  c7  c8  c9\n",
            "r2  20  21  22  23  24  25  26  27  28  29\n",
            "r3  30  31  32  33  34  35  36  37  38  39\n",
            "r4  40  41  42  43  44  45  46  47  48  49\n",
            "r5  50  51  52  53  54  55  56  57  58  59\n",
            "r6  60  61  62  63  64  65  66  67  68  69\n",
            "r7  70  71  72  73  74  75  76  77  78  79\n",
            "r8  80  81  82  83  84  85  86  87  88  89\n",
            "r9  90  91  92  93  94  95  96  97  98  99\n",
            "通过标题删除整列：\n",
            "     c1  c2  c3  c4  c5  c6  c7  c8  c9\n",
            "r2  21  22  23  24  25  26  27  28  29\n",
            "r3  31  32  33  34  35  36  37  38  39\n",
            "r4  41  42  43  44  45  46  47  48  49\n",
            "r5  51  52  53  54  55  56  57  58  59\n",
            "r6  61  62  63  64  65  66  67  68  69\n",
            "r7  71  72  73  74  75  76  77  78  79\n",
            "r8  81  82  83  84  85  86  87  88  89\n",
            "r9  91  92  93  94  95  96  97  98  99\n",
            "通过标题删除整列（list形式）：\n",
            "     c2  c3  c4  c5  c6  c7  c8  c9\n",
            "r2  22  23  24  25  26  27  28  29\n",
            "r3  32  33  34  35  36  37  38  39\n",
            "r4  42  43  44  45  46  47  48  49\n",
            "r5  52  53  54  55  56  57  58  59\n",
            "r6  62  63  64  65  66  67  68  69\n",
            "r7  72  73  74  75  76  77  78  79\n",
            "r8  82  83  84  85  86  87  88  89\n",
            "r9  92  93  94  95  96  97  98  99\n"
          ]
        }
      ]
    },
    {
      "cell_type": "markdown",
      "source": [
        "#### 批量删除"
      ],
      "metadata": {
        "id": "YOc4WcCbIRt3"
      }
    },
    {
      "cell_type": "code",
      "source": [
        "df = pd.DataFrame(np.arange(100).reshape(10,10), columns=['c0','c1','c2','c3','c4','c5','c6','c7','c8','c9'], index=['r0','r1','r2','r3','r4','r5','r6','r7','r8','r9'])\n",
        "\n",
        "df.drop(index=['r0','r2','r4','r6','r8'], inplace=True)\n",
        "print('删除整行：', df)\n",
        "df.drop(columns=['c0','c2','c4','c6','c8'], inplace=True)\n",
        "print('删除整列：', df)"
      ],
      "metadata": {
        "colab": {
          "base_uri": "https://localhost:8080/"
        },
        "id": "3_WnV9bDEH3C",
        "outputId": "abb819b7-a6c2-4416-b099-5a4cd7f06b16"
      },
      "execution_count": null,
      "outputs": [
        {
          "output_type": "stream",
          "name": "stdout",
          "text": [
            "删除整行：     c0  c1  c2  c3  c4  c5  c6  c7  c8  c9\n",
            "r1  10  11  12  13  14  15  16  17  18  19\n",
            "r3  30  31  32  33  34  35  36  37  38  39\n",
            "r5  50  51  52  53  54  55  56  57  58  59\n",
            "r7  70  71  72  73  74  75  76  77  78  79\n",
            "r9  90  91  92  93  94  95  96  97  98  99\n",
            "删除整列：     c1  c3  c5  c7  c9\n",
            "r1  11  13  15  17  19\n",
            "r3  31  33  35  37  39\n",
            "r5  51  53  55  57  59\n",
            "r7  71  73  75  77  79\n",
            "r9  91  93  95  97  99\n"
          ]
        }
      ]
    },
    {
      "cell_type": "markdown",
      "source": [
        "#### 切片（块）删除"
      ],
      "metadata": {
        "id": "ZSPa8V6UIYOf"
      }
    },
    {
      "cell_type": "code",
      "source": [
        "# 切片删除的本质，其实就是利用iloc做切片选取，然后再通过批量删除给定list的方法进行删除\n",
        "df = pd.DataFrame(np.arange(100).reshape(10,10), columns=['c0','c1','c2','c3','c4','c5','c6','c7','c8','c9'], index=['r0','r1','r2','r3','r4','r5','r6','r7','r8','r9'])\n",
        "\n",
        "df.drop(df.iloc[6:10].index, axis=0, inplace=True)\n",
        "print('按切片删除多行：', df)\n",
        "\n",
        "df.drop(df.iloc[:,6:10].columns, axis=1, inplace=True)\n",
        "print('按切片删除多列：', df)\n",
        "\n",
        "df.drop(columns=df.iloc[:,0:3].columns, index=df.iloc[0:3].index, inplace=True)\n",
        "print('按切片删除块：', df)"
      ],
      "metadata": {
        "colab": {
          "base_uri": "https://localhost:8080/"
        },
        "id": "sfRKymo_GNr4",
        "outputId": "4592d405-7c0f-48b4-c9e7-acde68fdfa5d"
      },
      "execution_count": null,
      "outputs": [
        {
          "output_type": "stream",
          "name": "stdout",
          "text": [
            "按切片删除多行：     c0  c1  c2  c3  c4  c5  c6  c7  c8  c9\n",
            "r0   0   1   2   3   4   5   6   7   8   9\n",
            "r1  10  11  12  13  14  15  16  17  18  19\n",
            "r2  20  21  22  23  24  25  26  27  28  29\n",
            "r3  30  31  32  33  34  35  36  37  38  39\n",
            "r4  40  41  42  43  44  45  46  47  48  49\n",
            "r5  50  51  52  53  54  55  56  57  58  59\n",
            "按切片删除多列：     c0  c1  c2  c3  c4  c5\n",
            "r0   0   1   2   3   4   5\n",
            "r1  10  11  12  13  14  15\n",
            "r2  20  21  22  23  24  25\n",
            "r3  30  31  32  33  34  35\n",
            "r4  40  41  42  43  44  45\n",
            "r5  50  51  52  53  54  55\n",
            "按切片删除块：     c3  c4  c5\n",
            "r3  33  34  35\n",
            "r4  43  44  45\n",
            "r5  53  54  55\n"
          ]
        }
      ]
    },
    {
      "cell_type": "markdown",
      "source": [
        "#### 条件删除"
      ],
      "metadata": {
        "id": "ypY_LFcbIcaG"
      }
    },
    {
      "cell_type": "code",
      "source": [
        "# 条件删除的本质，还是利用批量删除的方式，只不过用条件选取的方法获取需要删除的行/列标题数组\n",
        "df = pd.DataFrame(np.arange(100).reshape(10,10), columns=['c0','c1','c2','c3','c4','c5','c6','c7','c8','c9'], index=['r0','r1','r2','r3','r4','r5','r6','r7','r8','r9'])\n",
        "\n",
        "df.drop(df[df['c0']>50].index, inplace=True)\n",
        "print('指定条件删除：\\n', df)"
      ],
      "metadata": {
        "colab": {
          "base_uri": "https://localhost:8080/"
        },
        "id": "KdHWhusHGJiq",
        "outputId": "ee6c8f48-cd74-49e6-a38a-0f20cc27a3ea"
      },
      "execution_count": null,
      "outputs": [
        {
          "output_type": "stream",
          "name": "stdout",
          "text": [
            "指定条件删除：\n",
            "     c0  c1  c2  c3  c4  c5  c6  c7  c8  c9\n",
            "r0   0   1   2   3   4   5   6   7   8   9\n",
            "r1  10  11  12  13  14  15  16  17  18  19\n",
            "r2  20  21  22  23  24  25  26  27  28  29\n",
            "r3  30  31  32  33  34  35  36  37  38  39\n",
            "r4  40  41  42  43  44  45  46  47  48  49\n",
            "r5  50  51  52  53  54  55  56  57  58  59\n"
          ]
        }
      ]
    },
    {
      "cell_type": "markdown",
      "source": [
        "### 数据清洗"
      ],
      "metadata": {
        "id": "fj8lK--JJvza"
      }
    },
    {
      "cell_type": "code",
      "source": [
        "data = [\n",
        "    {'name':'a', 'age':1, 'score':1.1},\n",
        "    {'name':'b', 'age':None, 'score':2.2},\n",
        "    {'name':'c', 'age':3, 'score':None},\n",
        "    {'name':'a', 'age':1, 'score':1.1},\n",
        "    ]"
      ],
      "metadata": {
        "id": "10SZCEPaKS0W"
      },
      "execution_count": null,
      "outputs": []
    },
    {
      "cell_type": "markdown",
      "source": [
        "#### 删除缺失值"
      ],
      "metadata": {
        "id": "cgdBVXDrJ6SD"
      }
    },
    {
      "cell_type": "code",
      "source": [
        "df = pd.DataFrame(data)\n",
        "\n",
        "print('删除有缺失值的数据：\\n', df.dropna())\n",
        "print('提取指定列没有缺失值的数据：\\n', df[df['age'].notnull()])"
      ],
      "metadata": {
        "colab": {
          "base_uri": "https://localhost:8080/"
        },
        "id": "5Af1v83bKIgn",
        "outputId": "51d4a471-fe58-4700-f69c-48b487ddda17"
      },
      "execution_count": null,
      "outputs": [
        {
          "output_type": "stream",
          "name": "stdout",
          "text": [
            "删除有缺失值的数据：\n",
            "   name  age  score\n",
            "0    a  1.0    1.1\n",
            "3    a  1.0    1.1\n",
            "提取指定列没有缺失值的数据：\n",
            "   name  age  score\n",
            "0    a  1.0    1.1\n",
            "2    c  3.0    NaN\n",
            "3    a  1.0    1.1\n"
          ]
        }
      ]
    },
    {
      "cell_type": "markdown",
      "source": [
        "#### 填充缺失值"
      ],
      "metadata": {
        "id": "A_8zHCDfJ9dn"
      }
    },
    {
      "cell_type": "code",
      "source": [
        "df = pd.DataFrame(data)\n",
        "\n",
        "df['score'].fillna(0., inplace=True)\n",
        "print('使用固定值填充缺失数据：\\n', df.dropna())"
      ],
      "metadata": {
        "colab": {
          "base_uri": "https://localhost:8080/"
        },
        "id": "GIW8PCwgL6yv",
        "outputId": "dc4f0039-c1ce-4f89-fa1b-1336bce1bd8c"
      },
      "execution_count": null,
      "outputs": [
        {
          "output_type": "stream",
          "name": "stdout",
          "text": [
            "使用固定值填充缺失数据：\n",
            "   name  age  score\n",
            "0    a  1.0    1.1\n",
            "2    c  3.0    0.0\n",
            "3    a  1.0    1.1\n"
          ]
        }
      ]
    },
    {
      "cell_type": "code",
      "source": [
        "df = pd.DataFrame(data)\n",
        "\n",
        "df.fillna(df.mean(), inplace=True)  # 这里只要使用一个Series作为参数，填充任意数据都是可以的\n",
        "print('使用统计值填充缺失数据：\\n', df.dropna())"
      ],
      "metadata": {
        "colab": {
          "base_uri": "https://localhost:8080/"
        },
        "id": "I-mGjvIOOOHw",
        "outputId": "47880d79-bf29-41de-d762-84a6fa1ae612"
      },
      "execution_count": null,
      "outputs": [
        {
          "output_type": "stream",
          "name": "stdout",
          "text": [
            "使用统计值填充缺失数据：\n",
            "   name       age     score\n",
            "0    a  1.000000  1.100000\n",
            "1    b  1.666667  2.200000\n",
            "2    c  3.000000  1.466667\n",
            "3    a  1.000000  1.100000\n"
          ]
        },
        {
          "output_type": "stream",
          "name": "stderr",
          "text": [
            "<ipython-input-34-a5a7f2d827bc>:3: FutureWarning: The default value of numeric_only in DataFrame.mean is deprecated. In a future version, it will default to False. In addition, specifying 'numeric_only=None' is deprecated. Select only valid columns or specify the value of numeric_only to silence this warning.\n",
            "  df.fillna(df.mean(), inplace=True)  # 这里只要使用一个Series作为参数，填充任意数据都是可以的\n"
          ]
        }
      ]
    },
    {
      "cell_type": "markdown",
      "source": [
        "#### 删除重复数据"
      ],
      "metadata": {
        "id": "KUfU0S74KFU_"
      }
    },
    {
      "cell_type": "code",
      "source": [
        "df = pd.DataFrame(data)\n",
        "\n",
        "# 只有所有列全都相同的数据，才会被认定为重复数据\n",
        "print('判断是否有重复数据：\\n', df.duplicated())\n",
        "\n",
        "print('删除重复数据：\\n', df.drop_duplicates())\n",
        "print('删除指定列的重复数据：\\n', df.drop_duplicates(['name']))\n",
        "print('删除指定列的重复数据，保留最后一条：\\n', df.drop_duplicates(['name'], keep='last'))"
      ],
      "metadata": {
        "colab": {
          "base_uri": "https://localhost:8080/"
        },
        "id": "8fgbgU68JyUJ",
        "outputId": "264ee544-bc6a-49b3-8425-ffaaa3be6e2a"
      },
      "execution_count": null,
      "outputs": [
        {
          "output_type": "stream",
          "name": "stdout",
          "text": [
            "判断是否有重复数据：\n",
            " 0    False\n",
            "1    False\n",
            "2    False\n",
            "3     True\n",
            "dtype: bool\n",
            "删除重复数据：\n",
            "   name  age  score\n",
            "0    a  1.0    1.1\n",
            "1    b  NaN    2.2\n",
            "2    c  3.0    NaN\n",
            "删除指定列的重复数据：\n",
            "   name  age  score\n",
            "0    a  1.0    1.1\n",
            "1    b  NaN    2.2\n",
            "2    c  3.0    NaN\n",
            "删除指定列的重复数据，保留最后一条：\n",
            "   name  age  score\n",
            "1    b  NaN    2.2\n",
            "2    c  3.0    NaN\n",
            "3    a  1.0    1.1\n"
          ]
        }
      ]
    },
    {
      "cell_type": "markdown",
      "source": [
        "## 索引的使用"
      ],
      "metadata": {
        "id": "BwVaPnkIPPw_"
      }
    },
    {
      "cell_type": "markdown",
      "source": [
        "### 设置索引"
      ],
      "metadata": {
        "id": "4WYAETiBUAUB"
      }
    },
    {
      "cell_type": "code",
      "source": [
        "df = pd.DataFrame(np.arange(9).reshape(3,3), columns=['c0','c1','c2'], index=['r0','r1','r2'])\n",
        "\n",
        "print('将指定列设置为索引：\\n', df.set_index('c0'))\n",
        "print('将索引重置为默认值：\\n', df.reset_index(drop=True))"
      ],
      "metadata": {
        "colab": {
          "base_uri": "https://localhost:8080/"
        },
        "id": "IpRfgWjGUJoA",
        "outputId": "45e0c549-0e61-4ce5-cc02-722e5777c485"
      },
      "execution_count": null,
      "outputs": [
        {
          "output_type": "stream",
          "name": "stdout",
          "text": [
            "将指定列设置为索引：\n",
            "     c1  c2\n",
            "c0        \n",
            "0    1   2\n",
            "3    4   5\n",
            "6    7   8\n",
            "将索引重置为默认值：\n",
            "    c0  c1  c2\n",
            "0   0   1   2\n",
            "1   3   4   5\n",
            "2   6   7   8\n"
          ]
        }
      ]
    },
    {
      "cell_type": "markdown",
      "source": [
        "### 重置索引"
      ],
      "metadata": {
        "id": "8euLMYjoT83K"
      }
    },
    {
      "cell_type": "code",
      "source": [
        "df = pd.DataFrame(np.arange(9).reshape(3,3), columns=['c0','c1','c2'], index=['r0','r1','r2'])\n",
        "s = pd.Series([11,22,33])\n",
        "\n",
        "# reindex不是rename，新索引值会被置Nan，未包含原索引时，未包含的索引项会被删除\n",
        "print('Series重置索引：\\n', s.reindex(range(4), fill_value=0))\n",
        "print('DataFrame重置索引：\\n', df.reindex(columns=['c0','c1','c2','c3'], index=['r0','r1','r2','r4'], method='ffill'))"
      ],
      "metadata": {
        "colab": {
          "base_uri": "https://localhost:8080/"
        },
        "id": "8zSYVAUJPSRP",
        "outputId": "52a9788a-b404-4c57-ab66-1bbe2323f0cf"
      },
      "execution_count": null,
      "outputs": [
        {
          "output_type": "stream",
          "name": "stdout",
          "text": [
            "Series重置索引：\n",
            " 0    11\n",
            "1    22\n",
            "2    33\n",
            "3     0\n",
            "dtype: int64\n",
            "DataFrame重置索引：\n",
            "     c0  c1  c2  c3\n",
            "r0   0   1   2   2\n",
            "r1   3   4   5   5\n",
            "r2   6   7   8   8\n",
            "r4   6   7   8   8\n"
          ]
        }
      ]
    },
    {
      "cell_type": "markdown",
      "source": [
        "## 数据处理"
      ],
      "metadata": {
        "id": "MUv6rXuFbaUP"
      }
    },
    {
      "cell_type": "markdown",
      "source": [
        "### 数据排序"
      ],
      "metadata": {
        "id": "jvXfllS_VW2Z"
      }
    },
    {
      "cell_type": "code",
      "source": [
        "# 数据排序\n",
        "df = pd.DataFrame(np.random.randint(0,10,100).reshape(10,10))\n",
        "print('按指定列进行排序：\\n', df.sort_values(by=0))  # by可以省略\n",
        "print('按多列进行排序：\\n', df.sort_values(by=[1,0]))"
      ],
      "metadata": {
        "colab": {
          "base_uri": "https://localhost:8080/"
        },
        "id": "HEw3msYqVYxR",
        "outputId": "9791ebdb-6c91-4633-f50c-5694c4a7b530"
      },
      "execution_count": null,
      "outputs": [
        {
          "output_type": "stream",
          "name": "stdout",
          "text": [
            "按指定列进行排序：\n",
            "    0  1  2  3  4  5  6  7  8  9\n",
            "2  0  6  9  1  7  1  0  0  5  5\n",
            "8  0  6  0  4  1  1  6  8  9  0\n",
            "0  1  2  3  4  9  3  5  4  0  9\n",
            "1  2  7  2  1  6  9  5  8  7  2\n",
            "3  2  9  5  8  7  0  0  2  1  1\n",
            "5  2  8  2  9  6  2  7  7  7  3\n",
            "7  2  9  8  5  6  7  0  6  4  7\n",
            "9  3  0  4  3  5  7  4  1  6  8\n",
            "6  4  4  0  3  1  4  9  6  1  3\n",
            "4  5  1  6  4  6  5  7  1  7  7\n",
            "按多列进行排序：\n",
            "    0  1  2  3  4  5  6  7  8  9\n",
            "9  3  0  4  3  5  7  4  1  6  8\n",
            "4  5  1  6  4  6  5  7  1  7  7\n",
            "0  1  2  3  4  9  3  5  4  0  9\n",
            "6  4  4  0  3  1  4  9  6  1  3\n",
            "2  0  6  9  1  7  1  0  0  5  5\n",
            "8  0  6  0  4  1  1  6  8  9  0\n",
            "1  2  7  2  1  6  9  5  8  7  2\n",
            "5  2  8  2  9  6  2  7  7  7  3\n",
            "3  2  9  5  8  7  0  0  2  1  1\n",
            "7  2  9  8  5  6  7  0  6  4  7\n"
          ]
        }
      ]
    },
    {
      "cell_type": "code",
      "source": [
        "# 数据排名（需要先排序）\n",
        "df = pd.DataFrame(np.random.randint(0,10,100).reshape(10,10))\n",
        "df.sort_values(0, inplace=True)\n",
        "df['rank'] = df[0].rank(method='min')\n",
        "print('计算排名：', df)"
      ],
      "metadata": {
        "colab": {
          "base_uri": "https://localhost:8080/"
        },
        "id": "Fj0p0RhrXC7q",
        "outputId": "ae0785f4-015d-4dab-f3b3-3e8ff08585af"
      },
      "execution_count": null,
      "outputs": [
        {
          "output_type": "stream",
          "name": "stdout",
          "text": [
            "计算排名：    0  1  2  3  4  5  6  7  8  9  rank\n",
            "2  1  4  2  3  1  3  4  1  2  5   1.0\n",
            "1  2  4  0  9  7  3  5  9  2  4   2.0\n",
            "6  2  8  1  4  2  9  4  6  9  1   2.0\n",
            "0  4  6  9  4  5  4  5  5  0  6   4.0\n",
            "5  5  1  3  7  0  9  0  9  1  5   5.0\n",
            "3  7  7  8  1  9  0  0  3  8  8   6.0\n",
            "8  7  7  0  8  8  7  4  4  3  7   6.0\n",
            "7  8  0  7  9  6  9  1  5  0  4   8.0\n",
            "4  9  0  6  0  6  1  3  5  0  5   9.0\n",
            "9  9  8  5  8  5  2  9  1  5  3   9.0\n"
          ]
        }
      ]
    },
    {
      "cell_type": "markdown",
      "source": [
        "### 数据计算"
      ],
      "metadata": {
        "id": "mc21lEhAYXJ6"
      }
    },
    {
      "cell_type": "code",
      "source": [
        "df = pd.DataFrame(np.random.randint(0,100,100).reshape(10,10), columns=['c0','c1','c2','c3','c4','c5','c6','c7','c8','c9'], index=['r0','r1','r2','r3','r4','r5','r6','r7','r8','r9'])\n",
        "print('求和：', df.sum().tolist())\n",
        "print('求均值：', df.mean().tolist())\n",
        "print('最大值：', df.max().tolist())\n",
        "print('最小值：', df.min().tolist())\n",
        "print('中位数：', df.median().tolist())\n",
        "print('方差：', df.var().tolist())\n",
        "print('标准差：', df.std().tolist())\n",
        "print('分位值：', df.quantile(0.5).tolist())\n",
        "print('众数：\\n', df.mode())"
      ],
      "metadata": {
        "colab": {
          "base_uri": "https://localhost:8080/"
        },
        "id": "kfVrr7F2YeSS",
        "outputId": "c36949be-41df-48a3-cb13-2c119e4d7b54"
      },
      "execution_count": null,
      "outputs": [
        {
          "output_type": "stream",
          "name": "stdout",
          "text": [
            "求和： [448, 588, 585, 478, 591, 504, 586, 495, 554, 647]\n",
            "求均值： [44.8, 58.8, 58.5, 47.8, 59.1, 50.4, 58.6, 49.5, 55.4, 64.7]\n",
            "最大值： [87, 98, 99, 89, 91, 82, 92, 97, 98, 91]\n",
            "最小值： [1, 6, 9, 9, 18, 2, 3, 5, 6, 10]\n",
            "中位数： [41.0, 60.5, 62.0, 44.5, 62.0, 59.0, 68.0, 44.5, 56.5, 76.0]\n",
            "方差： [827.9555555555556, 805.5111111111112, 1022.0555555555555, 662.6222222222223, 748.7666666666665, 615.8222222222222, 928.4888888888888, 895.8333333333334, 1316.2666666666669, 830.9000000000001]\n",
            "标准差： [28.774216853905088, 28.3815276387849, 31.969603618993393, 25.741449497303414, 27.363601127531926, 24.815765598147927, 30.471115648904107, 29.93047499344662, 36.28038956056931, 28.82533607783264]\n",
            "分位值： [41.0, 60.5, 62.0, 44.5, 62.0, 59.0, 68.0, 44.5, 56.5, 76.0]\n",
            "众数：\n",
            "    c0  c1    c2  c3  c4  c5  c6  c7  c8  c9\n",
            "0   1   6  92.0   9  18   2   3   5   6  10\n",
            "1  11  25   NaN  17  24  21  15  12  15  26\n",
            "2  24  46   NaN  29  38  31  39  31  17  43\n",
            "3  36  50   NaN  43  46  53  56  38  32  63\n",
            "4  38  55   NaN  44  48  58  62  40  51  73\n",
            "5  44  66   NaN  45  76  60  74  49  62  79\n",
            "6  55  76   NaN  54  81  61  79  73  85  85\n",
            "7  75  81   NaN  73  83  62  82  74  91  87\n",
            "8  77  85   NaN  75  86  74  84  76  97  90\n",
            "9  87  98   NaN  89  91  82  92  97  98  91\n"
          ]
        }
      ]
    },
    {
      "cell_type": "markdown",
      "source": [
        "### 数据格式化"
      ],
      "metadata": {
        "id": "RfYP_QY6beTj"
      }
    },
    {
      "cell_type": "code",
      "source": [
        "df = pd.DataFrame(np.random.randn(9).reshape(3,3), columns=['c0','c1','c2'], index=['r0','r1','r2'])\n",
        "\n",
        "print('保留3位小数：\\n', df.round(3))\n",
        "print('不同列保留不同位数：\\n', df.round({'c0':1,'c1':2,'c2':3}))\n",
        "print('使用自定义函数设置保留位数：\\n', df.applymap(lambda x: '{:.2f}'.format(x)))\n",
        "# applymap可以依次应用到DataFrame的每个元素上\n",
        "print('使用自定义函数设置百分比：\\n', df.applymap(lambda x: format(x,'.2%')))\n",
        "# apply既可以用于DataFrame也可以用于Series，但apply做能作用于整行或整列\n",
        "print('使用自定义函数设置百分比：\\n', df['c0'].apply(lambda x: format(x,'.2%')))\n",
        "# map只能用于Series\n",
        "print('使用自定义函数设置百分比：\\n', df['c0'].map(lambda x: format(x,'.2%')))"
      ],
      "metadata": {
        "colab": {
          "base_uri": "https://localhost:8080/"
        },
        "id": "4JBc85Z_bfj2",
        "outputId": "8beb73f1-e872-445c-c97c-a54c9aa29c63"
      },
      "execution_count": null,
      "outputs": [
        {
          "output_type": "stream",
          "name": "stdout",
          "text": [
            "保留3位小数：\n",
            "        c0     c1     c2\n",
            "r0 -0.199  0.362  1.491\n",
            "r1 -0.521 -0.636  0.072\n",
            "r2 -0.437  0.060 -0.338\n",
            "不同列保留不同位数：\n",
            "      c0    c1     c2\n",
            "r0 -0.2  0.36  1.491\n",
            "r1 -0.5 -0.64  0.072\n",
            "r2 -0.4  0.06 -0.338\n",
            "使用自定义函数设置保留位数：\n",
            "        c0     c1     c2\n",
            "r0  -0.20   0.36   1.49\n",
            "r1  -0.52  -0.64   0.07\n",
            "r2  -0.44   0.06  -0.34\n",
            "使用自定义函数设置百分比：\n",
            "          c0       c1       c2\n",
            "r0  -19.92%   36.21%  149.08%\n",
            "r1  -52.06%  -63.56%    7.23%\n",
            "r2  -43.73%    5.96%  -33.85%\n",
            "使用自定义函数设置百分比：\n",
            " r0    -19.92%\n",
            "r1    -52.06%\n",
            "r2    -43.73%\n",
            "Name: c0, dtype: object\n",
            "使用自定义函数设置百分比：\n",
            " r0    -19.92%\n",
            "r1    -52.06%\n",
            "r2    -43.73%\n",
            "Name: c0, dtype: object\n"
          ]
        }
      ]
    },
    {
      "cell_type": "markdown",
      "source": [
        "### 数据分组"
      ],
      "metadata": {
        "id": "2XVgrE1hgnJU"
      }
    },
    {
      "cell_type": "code",
      "source": [
        "data = [\n",
        "    {'name':'a', 'count':1, 'score':1.1},\n",
        "    {'name':'b', 'count':2, 'score':2.2},\n",
        "    {'name':'c', 'count':3, 'score':3.3},\n",
        "    {'name':'a', 'count':4, 'score':4.4},\n",
        "    {'name':'b', 'count':5, 'score':5.5},\n",
        "    {'name':'c', 'count':6, 'score':6.6},\n",
        "    {'name':'a', 'count':7, 'score':7.7},\n",
        "    ]\n",
        "df = pd.DataFrame(data)\n",
        "\n",
        "# by即可以是单列，也可以是多列的数组\n",
        "print('对数据进行分组聚合：\\n', df.groupby(by='name').sum())  # by可以省略\n",
        "print('对数据进行分组聚合（只聚合指定列）：\\n', df.groupby(by='name')['count'].sum())\n",
        "print('对数据进行分组聚合（自定义聚合方法）：\\n', df.groupby(by='name').agg(['sum','mean']))\n",
        "print('对数据进行分组聚合（不同列不同聚合方法）：\\n', df.groupby(by='name').agg({'count':['sum'], 'score':['mean']}))\n",
        "print('数据分组是可迭代的')\n",
        "for name, df in df.groupby(by='name'):\n",
        "  print('数据分组：', name, type(df))\n",
        "\n",
        "# 使用字段或Series对进行二次映射的分组统计\n",
        "df.set_index('name',inplace=True)\n",
        "dict = {'a':'x', 'b':'y', 'c':'y'}  # 将name字段进行二次映射\n",
        "print('对数据进行二次映射分组聚合：\\n', df.groupby(by=pd.Series(dict)).sum()) # 这里直接用dict也是可以的\n",
        "\n",
        "# 使用自定义聚合函数\n",
        "df = pd.DataFrame(data)\n",
        "diy = lambda x: x.value_counts().index[0] # 这里的x表示一个Series\n",
        "diy.__name__ = 'diy'\n",
        "print('对数据进行分组聚合（自定义聚合方法）：\\n', df.agg({'name':[diy]}))"
      ],
      "metadata": {
        "colab": {
          "base_uri": "https://localhost:8080/"
        },
        "id": "zjHReeq6go20",
        "outputId": "b54b0d69-493b-462a-8a66-169505a1784f"
      },
      "execution_count": null,
      "outputs": [
        {
          "output_type": "stream",
          "name": "stdout",
          "text": [
            "对数据进行分组聚合：\n",
            "       count  score\n",
            "name              \n",
            "a        12   13.2\n",
            "b         7    7.7\n",
            "c         9    9.9\n",
            "对数据进行分组聚合（只聚合指定列）：\n",
            " name\n",
            "a    12\n",
            "b     7\n",
            "c     9\n",
            "Name: count, dtype: int64\n",
            "对数据进行分组聚合（自定义聚合方法）：\n",
            "      count      score      \n",
            "       sum mean   sum  mean\n",
            "name                       \n",
            "a       12  4.0  13.2  4.40\n",
            "b        7  3.5   7.7  3.85\n",
            "c        9  4.5   9.9  4.95\n",
            "对数据进行分组聚合（不同列不同聚合方法）：\n",
            "      count score\n",
            "       sum  mean\n",
            "name            \n",
            "a       12  4.40\n",
            "b        7  3.85\n",
            "c        9  4.95\n",
            "数据分组是可迭代的\n",
            "数据分组： a <class 'pandas.core.frame.DataFrame'>\n",
            "数据分组： b <class 'pandas.core.frame.DataFrame'>\n",
            "数据分组： c <class 'pandas.core.frame.DataFrame'>\n",
            "对数据进行二次映射分组聚合：\n",
            "    count  score\n",
            "y      9    9.9\n",
            "对数据进行分组聚合（自定义聚合方法）：\n",
            "     name\n",
            "diy    a\n"
          ]
        }
      ]
    },
    {
      "cell_type": "markdown",
      "source": [
        "### 数据移位\n",
        "\n",
        "freq取值别名详见：https://pandas.pydata.org/pandas-docs/stable/user_guide/timeseries.html#offset-aliases"
      ],
      "metadata": {
        "id": "6eMmNmk_r84P"
      }
    },
    {
      "cell_type": "code",
      "source": [
        "# 数据移位最常用的场景，就是做同环比的比较\n",
        "data = {\n",
        "    \"c1\": np.random.randint(0,100,10),\n",
        "    \"c2\": np.random.randint(0,100,10),\n",
        "    \"c3\": np.random.randint(0,100,10)\n",
        "}\n",
        "index=pd.date_range(\"2020-01-01\", \"2020-1-10\")\n",
        "df = pd.DataFrame(data=data, index=index)\n",
        "print('通过shift可以对数据进行下移：\\n', df.shift())  # 默认下移1行\n",
        "print('通过shift可以对数据进行上移：\\n', df.shift(periods=-1, fill_value=0))  # periods可省略\n",
        "\n",
        "print('对时序数据，以天为粒度前移1天：\\n', df.shift(periods=-1, freq=\"D\"))\n",
        "print('对时序数据，以周为粒度前移1周：\\n', df.shift(periods=-1, freq=\"W\"))\n",
        "print('对时序数据，以月为粒度前移1月：\\n', df.shift(periods=-1, freq=\"MS\"))\n",
        "print('对时序数据，以年为粒度前移1年：\\n', df.shift(periods=-1, freq=\"YS\"))"
      ],
      "metadata": {
        "colab": {
          "base_uri": "https://localhost:8080/"
        },
        "id": "mxQu4HxTr_wf",
        "outputId": "a213f0fe-1412-41f9-94c1-af8d266c0a77"
      },
      "execution_count": null,
      "outputs": [
        {
          "output_type": "stream",
          "name": "stdout",
          "text": [
            "通过shift可以对数据进行下移：\n",
            "               c1    c2    c3\n",
            "2020-01-01   NaN   NaN   NaN\n",
            "2020-01-02  24.0  90.0  16.0\n",
            "2020-01-03  97.0  30.0  91.0\n",
            "2020-01-04   4.0  57.0  76.0\n",
            "2020-01-05  27.0  48.0  88.0\n",
            "2020-01-06   9.0  84.0  14.0\n",
            "2020-01-07  39.0  17.0  38.0\n",
            "2020-01-08  64.0  33.0  30.0\n",
            "2020-01-09  40.0  23.0  81.0\n",
            "2020-01-10  72.0  69.0  58.0\n",
            "通过shift可以对数据进行上移：\n",
            "             c1  c2  c3\n",
            "2020-01-01  97  30  91\n",
            "2020-01-02   4  57  76\n",
            "2020-01-03  27  48  88\n",
            "2020-01-04   9  84  14\n",
            "2020-01-05  39  17  38\n",
            "2020-01-06  64  33  30\n",
            "2020-01-07  40  23  81\n",
            "2020-01-08  72  69  58\n",
            "2020-01-09   5  40  87\n",
            "2020-01-10   0   0   0\n",
            "对时序数据，以天为粒度前移1天：\n",
            "             c1  c2  c3\n",
            "2019-12-31  24  90  16\n",
            "2020-01-01  97  30  91\n",
            "2020-01-02   4  57  76\n",
            "2020-01-03  27  48  88\n",
            "2020-01-04   9  84  14\n",
            "2020-01-05  39  17  38\n",
            "2020-01-06  64  33  30\n",
            "2020-01-07  40  23  81\n",
            "2020-01-08  72  69  58\n",
            "2020-01-09   5  40  87\n",
            "对时序数据，以周为粒度前移1周：\n",
            "             c1  c2  c3\n",
            "2019-12-29  24  90  16\n",
            "2019-12-29  97  30  91\n",
            "2019-12-29   4  57  76\n",
            "2019-12-29  27  48  88\n",
            "2019-12-29   9  84  14\n",
            "2020-01-05  39  17  38\n",
            "2020-01-05  64  33  30\n",
            "2020-01-05  40  23  81\n",
            "2020-01-05  72  69  58\n",
            "2020-01-05   5  40  87\n",
            "对时序数据，以月为粒度前移1月：\n",
            "             c1  c2  c3\n",
            "2019-12-01  24  90  16\n",
            "2020-01-01  97  30  91\n",
            "2020-01-01   4  57  76\n",
            "2020-01-01  27  48  88\n",
            "2020-01-01   9  84  14\n",
            "2020-01-01  39  17  38\n",
            "2020-01-01  64  33  30\n",
            "2020-01-01  40  23  81\n",
            "2020-01-01  72  69  58\n",
            "2020-01-01   5  40  87\n",
            "对时序数据，以年为粒度前移1年：\n",
            "             c1  c2  c3\n",
            "2019-01-01  24  90  16\n",
            "2020-01-01  97  30  91\n",
            "2020-01-01   4  57  76\n",
            "2020-01-01  27  48  88\n",
            "2020-01-01   9  84  14\n",
            "2020-01-01  39  17  38\n",
            "2020-01-01  64  33  30\n",
            "2020-01-01  40  23  81\n",
            "2020-01-01  72  69  58\n",
            "2020-01-01   5  40  87\n"
          ]
        }
      ]
    },
    {
      "cell_type": "markdown",
      "source": [
        "### 行列转换"
      ],
      "metadata": {
        "id": "ZYN2YYdp1OI8"
      }
    },
    {
      "cell_type": "markdown",
      "source": [
        "#### stack/unstack方法\n",
        "stack方法主要用于将列堆叠到索引上，从而生成多级索引，unstack行为则反之\n",
        "\n",
        "比较形象直观的理解，就是stack将列转到行上，unstack将行转到列上\n",
        "\n",
        "有一篇技术blog用图形的方式，描述了stack/unstack的行为：https://blog.csdn.net/upluck/article/details/126156348\n",
        "\n",
        "特别注意：经过stack/unstack方法后，Dataframe对象很有可能会变成Series对象"
      ],
      "metadata": {
        "id": "ymTxKjcUZoO8"
      }
    },
    {
      "cell_type": "code",
      "source": [
        "# stack方法\n",
        "\n",
        "df_sig=pd.DataFrame(np.arange(12).reshape((3,4))+100,\n",
        "                  index=pd.Index(['idx1','idx2','idx3']),\n",
        "                  columns=pd.Index(['col1','col2','col3','col4'])\n",
        "                  )\n",
        "\n",
        "# index和columns不仅可以是单值，也可以是多值（tuple），只不过多值的情况并不是很常见\n",
        "df_mul=pd.DataFrame(np.arange(12).reshape((3,4))+100,\n",
        "                  index=pd.Index([('ig1', 'idx1'),('ig2', 'idx2'),('ig1', 'idx3')]),\n",
        "                  columns=pd.Index([('cg1', 'col1'),('cg2', 'col2'),('cg1', 'col3'),('cg2', 'col4')])\n",
        "                  )\n",
        "print('默认堆叠：\\n', df_sig.stack()) # 通常用于列是单值而不是tuple的常见情况\n",
        "print('堆叠指定层级：\\n', df_mul.stack(0)) # 通常用于列是单值而不是tuple的常见情况\n",
        "print('堆叠多个层级：\\n', df_mul.stack([0,1])) # 通常用于列是单值而不是tuple的常见情况"
      ],
      "metadata": {
        "colab": {
          "base_uri": "https://localhost:8080/"
        },
        "id": "-EhhJ7Km1QS7",
        "outputId": "86df595d-27da-49cf-e470-378b7a304aee"
      },
      "execution_count": null,
      "outputs": [
        {
          "output_type": "stream",
          "name": "stdout",
          "text": [
            "默认堆叠：\n",
            " idx1  col1    100\n",
            "      col2    101\n",
            "      col3    102\n",
            "      col4    103\n",
            "idx2  col1    104\n",
            "      col2    105\n",
            "      col3    106\n",
            "      col4    107\n",
            "idx3  col1    108\n",
            "      col2    109\n",
            "      col3    110\n",
            "      col4    111\n",
            "dtype: int64\n",
            "堆叠指定层级：\n",
            "                col1   col2   col3   col4\n",
            "ig1 idx1 cg1  100.0    NaN  102.0    NaN\n",
            "         cg2    NaN  101.0    NaN  103.0\n",
            "ig2 idx2 cg1  104.0    NaN  106.0    NaN\n",
            "         cg2    NaN  105.0    NaN  107.0\n",
            "ig1 idx3 cg1  108.0    NaN  110.0    NaN\n",
            "         cg2    NaN  109.0    NaN  111.0\n",
            "堆叠多个层级：\n",
            " ig1  idx1  cg1  col1    100.0\n",
            "                col3    102.0\n",
            "           cg2  col2    101.0\n",
            "                col4    103.0\n",
            "ig2  idx2  cg1  col1    104.0\n",
            "                col3    106.0\n",
            "           cg2  col2    105.0\n",
            "                col4    107.0\n",
            "ig1  idx3  cg1  col1    108.0\n",
            "                col3    110.0\n",
            "           cg2  col2    109.0\n",
            "                col4    111.0\n",
            "dtype: float64\n"
          ]
        }
      ]
    },
    {
      "cell_type": "code",
      "source": [
        "# unstack方法\n",
        "\n",
        "df_sig=pd.DataFrame(np.arange(12).reshape((3,4))+100,\n",
        "                  index=pd.Index(['idx1','idx2','idx3']),\n",
        "                  columns=pd.Index(['col1','col2','col3','col4'])\n",
        "                  )\n",
        "\n",
        "# index和columns不仅可以是单值，也可以是多值（tuple），只不过多值的情况并不是很常见\n",
        "df_mul=pd.DataFrame(np.arange(12).reshape((3,4))+100,\n",
        "                  index=pd.Index([('ig1', 'idx1'),('ig2', 'idx2'),('ig1', 'idx3')]),\n",
        "                  columns=pd.Index([('cg1', 'col1'),('cg2', 'col2'),('cg1', 'col3'),('cg2', 'col4')])\n",
        "                  )\n",
        "print('默认反堆叠：\\n', df_sig.unstack()) # 通常用于列是单值而不是tuple的常见情况\n",
        "print('反堆叠指定层级：\\n', df_mul.unstack(0)) # 通常用于列是单值而不是tuple的常见情况\n",
        "print('反堆叠多个层级：\\n', df_mul.unstack([0,1])) # 通常用于列是单值而不是tuple的常见情况"
      ],
      "metadata": {
        "colab": {
          "base_uri": "https://localhost:8080/"
        },
        "id": "OeL2I4bnkpRe",
        "outputId": "3286c04a-dc4b-400e-d7db-388b4b89e0d8"
      },
      "execution_count": null,
      "outputs": [
        {
          "output_type": "stream",
          "name": "stdout",
          "text": [
            "默认反堆叠：\n",
            " col1  idx1    100\n",
            "      idx2    104\n",
            "      idx3    108\n",
            "col2  idx1    101\n",
            "      idx2    105\n",
            "      idx3    109\n",
            "col3  idx1    102\n",
            "      idx2    106\n",
            "      idx3    110\n",
            "col4  idx1    103\n",
            "      idx2    107\n",
            "      idx3    111\n",
            "dtype: int64\n",
            "反堆叠指定层级：\n",
            "         cg1           cg2           cg1           cg2       \n",
            "       col1          col2          col3          col4       \n",
            "        ig1    ig2    ig1    ig2    ig1    ig2    ig1    ig2\n",
            "idx1  100.0    NaN  101.0    NaN  102.0    NaN  103.0    NaN\n",
            "idx2    NaN  104.0    NaN  105.0    NaN  106.0    NaN  107.0\n",
            "idx3  108.0    NaN  109.0    NaN  110.0    NaN  111.0    NaN\n",
            "反堆叠多个层级：\n",
            " cg1  col1  ig1  idx1    100.0\n",
            "                idx2      NaN\n",
            "                idx3    108.0\n",
            "           ig2  idx1      NaN\n",
            "                idx2    104.0\n",
            "                idx3      NaN\n",
            "cg2  col2  ig1  idx1    101.0\n",
            "                idx2      NaN\n",
            "                idx3    109.0\n",
            "           ig2  idx1      NaN\n",
            "                idx2    105.0\n",
            "                idx3      NaN\n",
            "cg1  col3  ig1  idx1    102.0\n",
            "                idx2      NaN\n",
            "                idx3    110.0\n",
            "           ig2  idx1      NaN\n",
            "                idx2    106.0\n",
            "                idx3      NaN\n",
            "cg2  col4  ig1  idx1    103.0\n",
            "                idx2      NaN\n",
            "                idx3    111.0\n",
            "           ig2  idx1      NaN\n",
            "                idx2    107.0\n",
            "                idx3      NaN\n",
            "dtype: float64\n"
          ]
        }
      ]
    },
    {
      "cell_type": "markdown",
      "source": [
        "#### pivot方法\n",
        "\n",
        "pivot方法，相比stack/unstack方法，更加直观，便于理解\n",
        "\n",
        "它并没有堆叠、索引之类的概念，也不要求DataFrame必须有索引\n",
        "\n",
        "而是直接通过\n",
        "\n",
        "* columns(required)\n",
        "* index(optional)\n",
        "* values(optional)\n",
        "\n",
        "这三个参数，对DataFrame进行重新排版"
      ],
      "metadata": {
        "id": "0Asjj7AGZkgX"
      }
    },
    {
      "cell_type": "code",
      "source": [
        "df = pd.DataFrame({'country': ['USA', 'Canada', 'Mexico', 'Brazil'],\n",
        "                   'year': [2020, 2020, 2020, 2021],\n",
        "                   'value': [100, 200, 300, 400]})\n",
        "data = [\n",
        "    {'country':'USA', 'year':2020, 'value':100},\n",
        "    {'country':'Canada', 'year':2020, 'value':200},\n",
        "    {'country':'Mexico', 'year':2020, 'value':300},\n",
        "    {'country':'Brazil', 'year':2021, 'value':400},\n",
        "    ]\n",
        "df = pd.DataFrame(data)\n",
        "pd.pivot(df, index=['year'], columns='country', values='value') # 所有的参数，既可以是单值，也可以是list"
      ],
      "metadata": {
        "colab": {
          "base_uri": "https://localhost:8080/",
          "height": 143
        },
        "id": "zod_r1XSY2YJ",
        "outputId": "87710a58-5352-4926-ba63-bbfcd469045a"
      },
      "execution_count": null,
      "outputs": [
        {
          "output_type": "execute_result",
          "data": {
            "text/plain": [
              "country  Brazil  Canada  Mexico    USA\n",
              "year                                  \n",
              "2020        NaN   200.0   300.0  100.0\n",
              "2021      400.0     NaN     NaN    NaN"
            ],
            "text/html": [
              "\n",
              "\n",
              "  <div id=\"df-03ddea78-4bc4-4308-bea9-2f6782490a4c\">\n",
              "    <div class=\"colab-df-container\">\n",
              "      <div>\n",
              "<style scoped>\n",
              "    .dataframe tbody tr th:only-of-type {\n",
              "        vertical-align: middle;\n",
              "    }\n",
              "\n",
              "    .dataframe tbody tr th {\n",
              "        vertical-align: top;\n",
              "    }\n",
              "\n",
              "    .dataframe thead th {\n",
              "        text-align: right;\n",
              "    }\n",
              "</style>\n",
              "<table border=\"1\" class=\"dataframe\">\n",
              "  <thead>\n",
              "    <tr style=\"text-align: right;\">\n",
              "      <th>country</th>\n",
              "      <th>Brazil</th>\n",
              "      <th>Canada</th>\n",
              "      <th>Mexico</th>\n",
              "      <th>USA</th>\n",
              "    </tr>\n",
              "    <tr>\n",
              "      <th>year</th>\n",
              "      <th></th>\n",
              "      <th></th>\n",
              "      <th></th>\n",
              "      <th></th>\n",
              "    </tr>\n",
              "  </thead>\n",
              "  <tbody>\n",
              "    <tr>\n",
              "      <th>2020</th>\n",
              "      <td>NaN</td>\n",
              "      <td>200.0</td>\n",
              "      <td>300.0</td>\n",
              "      <td>100.0</td>\n",
              "    </tr>\n",
              "    <tr>\n",
              "      <th>2021</th>\n",
              "      <td>400.0</td>\n",
              "      <td>NaN</td>\n",
              "      <td>NaN</td>\n",
              "      <td>NaN</td>\n",
              "    </tr>\n",
              "  </tbody>\n",
              "</table>\n",
              "</div>\n",
              "      <button class=\"colab-df-convert\" onclick=\"convertToInteractive('df-03ddea78-4bc4-4308-bea9-2f6782490a4c')\"\n",
              "              title=\"Convert this dataframe to an interactive table.\"\n",
              "              style=\"display:none;\">\n",
              "\n",
              "  <svg xmlns=\"http://www.w3.org/2000/svg\" height=\"24px\"viewBox=\"0 0 24 24\"\n",
              "       width=\"24px\">\n",
              "    <path d=\"M0 0h24v24H0V0z\" fill=\"none\"/>\n",
              "    <path d=\"M18.56 5.44l.94 2.06.94-2.06 2.06-.94-2.06-.94-.94-2.06-.94 2.06-2.06.94zm-11 1L8.5 8.5l.94-2.06 2.06-.94-2.06-.94L8.5 2.5l-.94 2.06-2.06.94zm10 10l.94 2.06.94-2.06 2.06-.94-2.06-.94-.94-2.06-.94 2.06-2.06.94z\"/><path d=\"M17.41 7.96l-1.37-1.37c-.4-.4-.92-.59-1.43-.59-.52 0-1.04.2-1.43.59L10.3 9.45l-7.72 7.72c-.78.78-.78 2.05 0 2.83L4 21.41c.39.39.9.59 1.41.59.51 0 1.02-.2 1.41-.59l7.78-7.78 2.81-2.81c.8-.78.8-2.07 0-2.86zM5.41 20L4 18.59l7.72-7.72 1.47 1.35L5.41 20z\"/>\n",
              "  </svg>\n",
              "      </button>\n",
              "\n",
              "\n",
              "\n",
              "    <div id=\"df-a2ea27be-3d9a-46c0-a96c-f5b75b1b05b8\">\n",
              "      <button class=\"colab-df-quickchart\" onclick=\"quickchart('df-a2ea27be-3d9a-46c0-a96c-f5b75b1b05b8')\"\n",
              "              title=\"Suggest charts.\"\n",
              "              style=\"display:none;\">\n",
              "\n",
              "<svg xmlns=\"http://www.w3.org/2000/svg\" height=\"24px\"viewBox=\"0 0 24 24\"\n",
              "     width=\"24px\">\n",
              "    <g>\n",
              "        <path d=\"M19 3H5c-1.1 0-2 .9-2 2v14c0 1.1.9 2 2 2h14c1.1 0 2-.9 2-2V5c0-1.1-.9-2-2-2zM9 17H7v-7h2v7zm4 0h-2V7h2v10zm4 0h-2v-4h2v4z\"/>\n",
              "    </g>\n",
              "</svg>\n",
              "      </button>\n",
              "    </div>\n",
              "\n",
              "<style>\n",
              "  .colab-df-quickchart {\n",
              "    background-color: #E8F0FE;\n",
              "    border: none;\n",
              "    border-radius: 50%;\n",
              "    cursor: pointer;\n",
              "    display: none;\n",
              "    fill: #1967D2;\n",
              "    height: 32px;\n",
              "    padding: 0 0 0 0;\n",
              "    width: 32px;\n",
              "  }\n",
              "\n",
              "  .colab-df-quickchart:hover {\n",
              "    background-color: #E2EBFA;\n",
              "    box-shadow: 0px 1px 2px rgba(60, 64, 67, 0.3), 0px 1px 3px 1px rgba(60, 64, 67, 0.15);\n",
              "    fill: #174EA6;\n",
              "  }\n",
              "\n",
              "  [theme=dark] .colab-df-quickchart {\n",
              "    background-color: #3B4455;\n",
              "    fill: #D2E3FC;\n",
              "  }\n",
              "\n",
              "  [theme=dark] .colab-df-quickchart:hover {\n",
              "    background-color: #434B5C;\n",
              "    box-shadow: 0px 1px 3px 1px rgba(0, 0, 0, 0.15);\n",
              "    filter: drop-shadow(0px 1px 2px rgba(0, 0, 0, 0.3));\n",
              "    fill: #FFFFFF;\n",
              "  }\n",
              "</style>\n",
              "\n",
              "    <script>\n",
              "      async function quickchart(key) {\n",
              "        const containerElement = document.querySelector('#' + key);\n",
              "        const charts = await google.colab.kernel.invokeFunction(\n",
              "            'suggestCharts', [key], {});\n",
              "      }\n",
              "    </script>\n",
              "\n",
              "      <script>\n",
              "\n",
              "function displayQuickchartButton(domScope) {\n",
              "  let quickchartButtonEl =\n",
              "    domScope.querySelector('#df-a2ea27be-3d9a-46c0-a96c-f5b75b1b05b8 button.colab-df-quickchart');\n",
              "  quickchartButtonEl.style.display =\n",
              "    google.colab.kernel.accessAllowed ? 'block' : 'none';\n",
              "}\n",
              "\n",
              "        displayQuickchartButton(document);\n",
              "      </script>\n",
              "      <style>\n",
              "    .colab-df-container {\n",
              "      display:flex;\n",
              "      flex-wrap:wrap;\n",
              "      gap: 12px;\n",
              "    }\n",
              "\n",
              "    .colab-df-convert {\n",
              "      background-color: #E8F0FE;\n",
              "      border: none;\n",
              "      border-radius: 50%;\n",
              "      cursor: pointer;\n",
              "      display: none;\n",
              "      fill: #1967D2;\n",
              "      height: 32px;\n",
              "      padding: 0 0 0 0;\n",
              "      width: 32px;\n",
              "    }\n",
              "\n",
              "    .colab-df-convert:hover {\n",
              "      background-color: #E2EBFA;\n",
              "      box-shadow: 0px 1px 2px rgba(60, 64, 67, 0.3), 0px 1px 3px 1px rgba(60, 64, 67, 0.15);\n",
              "      fill: #174EA6;\n",
              "    }\n",
              "\n",
              "    [theme=dark] .colab-df-convert {\n",
              "      background-color: #3B4455;\n",
              "      fill: #D2E3FC;\n",
              "    }\n",
              "\n",
              "    [theme=dark] .colab-df-convert:hover {\n",
              "      background-color: #434B5C;\n",
              "      box-shadow: 0px 1px 3px 1px rgba(0, 0, 0, 0.15);\n",
              "      filter: drop-shadow(0px 1px 2px rgba(0, 0, 0, 0.3));\n",
              "      fill: #FFFFFF;\n",
              "    }\n",
              "  </style>\n",
              "\n",
              "      <script>\n",
              "        const buttonEl =\n",
              "          document.querySelector('#df-03ddea78-4bc4-4308-bea9-2f6782490a4c button.colab-df-convert');\n",
              "        buttonEl.style.display =\n",
              "          google.colab.kernel.accessAllowed ? 'block' : 'none';\n",
              "\n",
              "        async function convertToInteractive(key) {\n",
              "          const element = document.querySelector('#df-03ddea78-4bc4-4308-bea9-2f6782490a4c');\n",
              "          const dataTable =\n",
              "            await google.colab.kernel.invokeFunction('convertToInteractive',\n",
              "                                                     [key], {});\n",
              "          if (!dataTable) return;\n",
              "\n",
              "          const docLinkHtml = 'Like what you see? Visit the ' +\n",
              "            '<a target=\"_blank\" href=https://colab.research.google.com/notebooks/data_table.ipynb>data table notebook</a>'\n",
              "            + ' to learn more about interactive tables.';\n",
              "          element.innerHTML = '';\n",
              "          dataTable['output_type'] = 'display_data';\n",
              "          await google.colab.output.renderOutput(dataTable, element);\n",
              "          const docLink = document.createElement('div');\n",
              "          docLink.innerHTML = docLinkHtml;\n",
              "          element.appendChild(docLink);\n",
              "        }\n",
              "      </script>\n",
              "    </div>\n",
              "  </div>\n"
            ]
          },
          "metadata": {},
          "execution_count": 46
        }
      ]
    },
    {
      "cell_type": "code",
      "source": [],
      "metadata": {
        "id": "E-__cwR9nfT-"
      },
      "execution_count": null,
      "outputs": []
    },
    {
      "cell_type": "markdown",
      "source": [
        "### 列拆分"
      ],
      "metadata": {
        "id": "CSo3rPY24sJk"
      }
    },
    {
      "cell_type": "code",
      "source": [
        "s = pd.Series(\n",
        "    [\n",
        "        \"this is a cat\",\n",
        "        \"this is a dog\"\n",
        "    ]\n",
        ")\n",
        "print('将一列根据分隔符拆成数组：\\n', s.str.split())  # 依然是Series\n",
        "print('将一列根据分隔符拆成多列：\\n', s.str.split(expand=True)) # 数据结构变成了DataFrame"
      ],
      "metadata": {
        "colab": {
          "base_uri": "https://localhost:8080/"
        },
        "id": "3Yz-AflH4t_0",
        "outputId": "12aff6f0-f42b-48cb-9c41-537fc3c5925b"
      },
      "execution_count": null,
      "outputs": [
        {
          "output_type": "stream",
          "name": "stdout",
          "text": [
            "将一列根据分隔符拆成数组：\n",
            " 0    [this, is, a, cat]\n",
            "1    [this, is, a, dog]\n",
            "dtype: object\n",
            "将一列根据分隔符拆成多列：\n",
            "       0   1  2    3\n",
            "0  this  is  a  cat\n",
            "1  this  is  a  dog\n"
          ]
        }
      ]
    },
    {
      "cell_type": "markdown",
      "metadata": {
        "id": "dw1L4NlEjJM3"
      },
      "source": [
        "# 高级用法"
      ]
    },
    {
      "cell_type": "markdown",
      "metadata": {
        "id": "xmh9zP0Cp4rk"
      },
      "source": [
        "## 从csv文件中导入数据"
      ]
    },
    {
      "cell_type": "code",
      "execution_count": null,
      "metadata": {
        "colab": {
          "base_uri": "https://localhost:8080/"
        },
        "id": "OXxUoRiw0Axf",
        "outputId": "55071d8f-49b1-4acd-edbe-cd1131d82ed8"
      },
      "outputs": [
        {
          "output_type": "stream",
          "name": "stdout",
          "text": [
            "  name  age  score\n",
            "0    a    1    1.1\n",
            "1    b    2    2.2\n",
            "2    c    3    3.3\n",
            "从csv中初始化DataFrame：\n",
            "   name  age  score\n",
            "0    a    1    1.1\n",
            "1    b    2    2.2\n",
            "2    c    3    3.3\n"
          ]
        }
      ],
      "source": [
        "data = [['a',1,1.1], ['b',2,2.2], ['c',3,3.3]]\n",
        "columns = ['name', 'age', 'score']\n",
        "df = pd.DataFrame(data=data, columns=columns)\n",
        "print(df)\n",
        "df.to_csv('df.csv', index=False)\n",
        "df = pd.read_csv('df.csv', )\n",
        "print('从csv中初始化DataFrame：\\n', df)"
      ]
    },
    {
      "cell_type": "markdown",
      "metadata": {
        "id": "HDibyMt5115I"
      },
      "source": [
        "## 从excel文件中导入数据"
      ]
    },
    {
      "cell_type": "code",
      "execution_count": null,
      "metadata": {
        "colab": {
          "base_uri": "https://localhost:8080/"
        },
        "id": "5VSH-COX2Ybw",
        "outputId": "7681d8d6-88c3-4a40-bcf6-c791e629c698"
      },
      "outputs": [
        {
          "output_type": "stream",
          "name": "stdout",
          "text": [
            "  name  age  score\n",
            "0    a    1    1.1\n",
            "1    b    2    2.2\n",
            "2    c    3    3.3\n",
            "从excel中初始化DataFrame：\n",
            "   name  age  score\n",
            "0    a    1    1.1\n",
            "1    b    2    2.2\n",
            "2    c    3    3.3\n"
          ]
        }
      ],
      "source": [
        "# 简单用法\n",
        "data = [['a',1,1.1], ['b',2,2.2], ['c',3,3.3]]\n",
        "columns = ['name', 'age', 'score']\n",
        "df = pd.DataFrame(data=data, columns=columns)\n",
        "print(df)\n",
        "df.to_excel('df.xlsx', sheet_name='df', index=False)  # sheet_name默认值为'Sheet1'\n",
        "df = pd.read_excel('df.xlsx', sheet_name='df')  # sheet_name为空，则默认取第一个sheet\n",
        "print('从excel中初始化DataFrame：\\n', df)"
      ]
    },
    {
      "cell_type": "code",
      "execution_count": null,
      "metadata": {
        "colab": {
          "base_uri": "https://localhost:8080/"
        },
        "id": "XQdjjc2215Gf",
        "outputId": "b286e694-ee71-4be4-89e6-facc05a9ef0d"
      },
      "outputs": [
        {
          "output_type": "stream",
          "name": "stdout",
          "text": [
            "  name  age  score\n",
            "0    a    1    1.1\n",
            "1    b    2    2.2\n",
            "2    c    3    3.3\n",
            "  name  age  score\n",
            "0    d    4    4.4\n",
            "1    e    5    5.5\n",
            "2    f    6    6.6\n",
            "从excel指定sheet中初始化DataFrame：\n",
            "   name  age  score\n",
            "0    a    1    1.1\n",
            "1    b    2    2.2\n",
            "2    c    3    3.3\n",
            "从excel指定sheet中初始化DataFrame：\n",
            "   name  age  score\n",
            "0    d    4    4.4\n",
            "1    e    5    5.5\n",
            "2    f    6    6.6\n",
            "遍历excel中的所有sheet：\n",
            "  name  age  score\n",
            "0    a    1    1.1\n",
            "1    b    2    2.2\n",
            "2    c    3    3.3\n",
            "  name  age  score\n",
            "0    d    4    4.4\n",
            "1    e    5    5.5\n",
            "2    f    6    6.6\n"
          ]
        }
      ],
      "source": [
        "# 分sheet用法\n",
        "columns = ['name', 'age', 'score']\n",
        "data1 = [['a',1,1.1], ['b',2,2.2], ['c',3,3.3]]\n",
        "df1 = pd.DataFrame(data=data1, columns=columns)\n",
        "print(df1)\n",
        "data2 = [['d',4,4.4], ['e',5,5.5], ['f',6,6.6]]\n",
        "df2 = pd.DataFrame(data=data2, columns=columns)\n",
        "print(df2)\n",
        "\n",
        "with pd.ExcelWriter(\"df.xlsx\") as writer:\n",
        "    df1.to_excel(writer, sheet_name=\"df1\", index=False)\n",
        "    df2.to_excel(writer, sheet_name=\"df2\", index=False)\n",
        "# 读取指定sheet的方式\n",
        "df = pd.read_excel('df.xlsx', sheet_name='df1')\n",
        "print('从excel指定sheet中初始化DataFrame：\\n', df)\n",
        "df = pd.read_excel('df.xlsx', sheet_name='df2')\n",
        "print('从excel指定sheet中初始化DataFrame：\\n', df)\n",
        "# 遍历所有sheet的方式\n",
        "xlsx = pd.ExcelFile('df.xlsx')\n",
        "print('遍历excel中的所有sheet：')\n",
        "for name in xlsx.sheet_names:\n",
        "  print(pd.read_excel(xlsx, name))"
      ]
    },
    {
      "cell_type": "markdown",
      "metadata": {
        "id": "RlCh8JU-p7sj"
      },
      "source": [
        "## 从数据库中导入数据"
      ]
    },
    {
      "cell_type": "code",
      "execution_count": null,
      "metadata": {
        "id": "8evEHbY01jJ5"
      },
      "outputs": [],
      "source": [
        "import sqlite3\n",
        "conn = sqlite3.connect('test.db')\n",
        "c = conn.cursor()\n",
        "c.execute('DROP TABLE IF EXISTS df_table;')\n",
        "c.execute('''\n",
        "  CREATE TABLE IF NOT EXISTS df_table (\n",
        "    id INTEGER PRIMARY KEY AUTOINCREMENT,\n",
        "    name CHAR(32) NOT NULL,\n",
        "    value INTEGER NOT NULL,\n",
        "    message TEXT\n",
        "  );\n",
        "''')\n",
        "c.execute('CREATE INDEX df_index ON df_table (name ASC);')\n",
        "for i in range(10):\n",
        "  c.execute('INSERT INTO df_table (name, value) VALUES (\"n%d\", %d);' % (i, i))\n",
        "conn.commit()\n",
        "conn.close()"
      ]
    },
    {
      "cell_type": "code",
      "source": [
        "conn = sqlite3.connect('test.db')\n",
        "c = conn.cursor()\n",
        "res = c.execute('select * from df_table;')\n",
        "conn.commit()\n",
        "df = pd.DataFrame(res, columns=list(map(lambda x: x[0], res.description)))\n",
        "print('使用corser返回结果初始化DataFrame：\\n', df)\n",
        "\n",
        "df = pd.read_sql('select * from df_table;', conn)\n",
        "print('使用read_sql直接初始化DataFrame：\\n', df)\n",
        "conn.close()"
      ],
      "metadata": {
        "colab": {
          "base_uri": "https://localhost:8080/"
        },
        "id": "sD_lBErf_I76",
        "outputId": "52dbe45e-6604-4e04-faf3-aac71bed5fee"
      },
      "execution_count": null,
      "outputs": [
        {
          "output_type": "stream",
          "name": "stdout",
          "text": [
            "使用corser返回结果初始化DataFrame：\n",
            "    id name  value message\n",
            "0   1   n0      0    None\n",
            "1   2   n1      1    None\n",
            "2   3   n2      2    None\n",
            "3   4   n3      3    None\n",
            "4   5   n4      4    None\n",
            "5   6   n5      5    None\n",
            "6   7   n6      6    None\n",
            "7   8   n7      7    None\n",
            "8   9   n8      8    None\n",
            "9  10   n9      9    None\n",
            "使用read_sql直接初始化DataFrame：\n",
            "    id name  value message\n",
            "0   1   n0      0    None\n",
            "1   2   n1      1    None\n",
            "2   3   n2      2    None\n",
            "3   4   n3      3    None\n",
            "4   5   n4      4    None\n",
            "5   6   n5      5    None\n",
            "6   7   n6      6    None\n",
            "7   8   n7      7    None\n",
            "8   9   n8      8    None\n",
            "9  10   n9      9    None\n"
          ]
        }
      ]
    },
    {
      "cell_type": "markdown",
      "source": [
        "## 从网页中导入数据"
      ],
      "metadata": {
        "id": "dy-OHdUnH6S1"
      }
    },
    {
      "cell_type": "code",
      "source": [
        "# read_html只能读取table标签\n",
        "baike_uri = 'https://baike.baidu.com/item/%E5%8F%B2%E8%92%82%E6%96%87%C2%B7%E6%96%AF%E7%9A%AE%E5%B0%94%E4%BC%AF%E6%A0%BC/26768'\n",
        "wiki_uri = 'https://en.wikipedia.org/wiki/Steven_Spielberg'\n",
        "uri = baike_uri\n",
        "df = pd.read_html(uri)[0] # [0]表示读取页面内的第一个table\n",
        "print(df.columns)"
      ],
      "metadata": {
        "colab": {
          "base_uri": "https://localhost:8080/"
        },
        "id": "dcaXBLKPH5hd",
        "outputId": "3a5491c9-db1a-43ac-b6f9-71eb17850728"
      },
      "execution_count": null,
      "outputs": [
        {
          "output_type": "stream",
          "name": "stdout",
          "text": [
            "Index(['上映时间', '名称', '主演'], dtype='object')\n"
          ]
        }
      ]
    },
    {
      "cell_type": "markdown",
      "source": [
        "## 压缩与解压缩"
      ],
      "metadata": {
        "id": "4QRiV4WXfijj"
      }
    },
    {
      "cell_type": "code",
      "source": [
        "# Series的压缩与解压缩\n",
        "import zlib\n",
        "s1 = pd.Series(range(4), index=pd.date_range(\"2020-01-01\", periods=4, freq=\"15s\", tz='Asia/Shanghai'))\n",
        "compressed_data = zlib.compress(s1.to_json(date_unit = 's').encode('utf-8'))\n",
        "s2 = pd.read_json(zlib.decompress(compressed_data).decode('utf-8'), typ='series')\n",
        "s2.index = s2.index.tz_localize('UTC').tz_convert('Asia/Shanghai')  # json无法保存时区信息，所以对于时序数据需要进行时区转换\n",
        "s1 == s2"
      ],
      "metadata": {
        "colab": {
          "base_uri": "https://localhost:8080/"
        },
        "id": "3mbB0tVHfmZG",
        "outputId": "27acd2fc-d011-4814-ee63-17c5a21b2ec6"
      },
      "execution_count": 33,
      "outputs": [
        {
          "output_type": "execute_result",
          "data": {
            "text/plain": [
              "2020-01-01 00:00:00+08:00    True\n",
              "2020-01-01 00:00:15+08:00    True\n",
              "2020-01-01 00:00:30+08:00    True\n",
              "2020-01-01 00:00:45+08:00    True\n",
              "Freq: 15S, dtype: bool"
            ]
          },
          "metadata": {},
          "execution_count": 33
        }
      ]
    },
    {
      "cell_type": "code",
      "source": [
        "# DataFrame的压缩与解压缩\n",
        "from io import StringIO, BytesIO\n",
        "imf =  BytesIO()\n",
        "df1 = pd.DataFrame(np.arange(9).reshape(3,3), columns=['c0','c1','c2'], index=['r0','r1','r2'])\n",
        "df1.to_parquet(imf)\n",
        "imf.seek(0)\n",
        "compressed_data = imf.read()\n",
        "df2 = pd.read_parquet(BytesIO(compressed_data))\n",
        "df1 == df2"
      ],
      "metadata": {
        "colab": {
          "base_uri": "https://localhost:8080/",
          "height": 143
        },
        "id": "KT2AWBVzfyaw",
        "outputId": "2dae088a-f1ff-4aef-939e-a15ba786dbb6"
      },
      "execution_count": 32,
      "outputs": [
        {
          "output_type": "execute_result",
          "data": {
            "text/plain": [
              "      c0    c1    c2\n",
              "r0  True  True  True\n",
              "r1  True  True  True\n",
              "r2  True  True  True"
            ],
            "text/html": [
              "\n",
              "  <div id=\"df-e359d6ce-a68c-47a8-a652-3c2a63acbb93\" class=\"colab-df-container\">\n",
              "    <div>\n",
              "<style scoped>\n",
              "    .dataframe tbody tr th:only-of-type {\n",
              "        vertical-align: middle;\n",
              "    }\n",
              "\n",
              "    .dataframe tbody tr th {\n",
              "        vertical-align: top;\n",
              "    }\n",
              "\n",
              "    .dataframe thead th {\n",
              "        text-align: right;\n",
              "    }\n",
              "</style>\n",
              "<table border=\"1\" class=\"dataframe\">\n",
              "  <thead>\n",
              "    <tr style=\"text-align: right;\">\n",
              "      <th></th>\n",
              "      <th>c0</th>\n",
              "      <th>c1</th>\n",
              "      <th>c2</th>\n",
              "    </tr>\n",
              "  </thead>\n",
              "  <tbody>\n",
              "    <tr>\n",
              "      <th>r0</th>\n",
              "      <td>True</td>\n",
              "      <td>True</td>\n",
              "      <td>True</td>\n",
              "    </tr>\n",
              "    <tr>\n",
              "      <th>r1</th>\n",
              "      <td>True</td>\n",
              "      <td>True</td>\n",
              "      <td>True</td>\n",
              "    </tr>\n",
              "    <tr>\n",
              "      <th>r2</th>\n",
              "      <td>True</td>\n",
              "      <td>True</td>\n",
              "      <td>True</td>\n",
              "    </tr>\n",
              "  </tbody>\n",
              "</table>\n",
              "</div>\n",
              "    <div class=\"colab-df-buttons\">\n",
              "\n",
              "  <div class=\"colab-df-container\">\n",
              "    <button class=\"colab-df-convert\" onclick=\"convertToInteractive('df-e359d6ce-a68c-47a8-a652-3c2a63acbb93')\"\n",
              "            title=\"Convert this dataframe to an interactive table.\"\n",
              "            style=\"display:none;\">\n",
              "\n",
              "  <svg xmlns=\"http://www.w3.org/2000/svg\" height=\"24px\" viewBox=\"0 -960 960 960\">\n",
              "    <path d=\"M120-120v-720h720v720H120Zm60-500h600v-160H180v160Zm220 220h160v-160H400v160Zm0 220h160v-160H400v160ZM180-400h160v-160H180v160Zm440 0h160v-160H620v160ZM180-180h160v-160H180v160Zm440 0h160v-160H620v160Z\"/>\n",
              "  </svg>\n",
              "    </button>\n",
              "\n",
              "  <style>\n",
              "    .colab-df-container {\n",
              "      display:flex;\n",
              "      gap: 12px;\n",
              "    }\n",
              "\n",
              "    .colab-df-convert {\n",
              "      background-color: #E8F0FE;\n",
              "      border: none;\n",
              "      border-radius: 50%;\n",
              "      cursor: pointer;\n",
              "      display: none;\n",
              "      fill: #1967D2;\n",
              "      height: 32px;\n",
              "      padding: 0 0 0 0;\n",
              "      width: 32px;\n",
              "    }\n",
              "\n",
              "    .colab-df-convert:hover {\n",
              "      background-color: #E2EBFA;\n",
              "      box-shadow: 0px 1px 2px rgba(60, 64, 67, 0.3), 0px 1px 3px 1px rgba(60, 64, 67, 0.15);\n",
              "      fill: #174EA6;\n",
              "    }\n",
              "\n",
              "    .colab-df-buttons div {\n",
              "      margin-bottom: 4px;\n",
              "    }\n",
              "\n",
              "    [theme=dark] .colab-df-convert {\n",
              "      background-color: #3B4455;\n",
              "      fill: #D2E3FC;\n",
              "    }\n",
              "\n",
              "    [theme=dark] .colab-df-convert:hover {\n",
              "      background-color: #434B5C;\n",
              "      box-shadow: 0px 1px 3px 1px rgba(0, 0, 0, 0.15);\n",
              "      filter: drop-shadow(0px 1px 2px rgba(0, 0, 0, 0.3));\n",
              "      fill: #FFFFFF;\n",
              "    }\n",
              "  </style>\n",
              "\n",
              "    <script>\n",
              "      const buttonEl =\n",
              "        document.querySelector('#df-e359d6ce-a68c-47a8-a652-3c2a63acbb93 button.colab-df-convert');\n",
              "      buttonEl.style.display =\n",
              "        google.colab.kernel.accessAllowed ? 'block' : 'none';\n",
              "\n",
              "      async function convertToInteractive(key) {\n",
              "        const element = document.querySelector('#df-e359d6ce-a68c-47a8-a652-3c2a63acbb93');\n",
              "        const dataTable =\n",
              "          await google.colab.kernel.invokeFunction('convertToInteractive',\n",
              "                                                    [key], {});\n",
              "        if (!dataTable) return;\n",
              "\n",
              "        const docLinkHtml = 'Like what you see? Visit the ' +\n",
              "          '<a target=\"_blank\" href=https://colab.research.google.com/notebooks/data_table.ipynb>data table notebook</a>'\n",
              "          + ' to learn more about interactive tables.';\n",
              "        element.innerHTML = '';\n",
              "        dataTable['output_type'] = 'display_data';\n",
              "        await google.colab.output.renderOutput(dataTable, element);\n",
              "        const docLink = document.createElement('div');\n",
              "        docLink.innerHTML = docLinkHtml;\n",
              "        element.appendChild(docLink);\n",
              "      }\n",
              "    </script>\n",
              "  </div>\n",
              "\n",
              "\n",
              "<div id=\"df-9aaa8127-78e8-421e-b432-4914812adeb9\">\n",
              "  <button class=\"colab-df-quickchart\" onclick=\"quickchart('df-9aaa8127-78e8-421e-b432-4914812adeb9')\"\n",
              "            title=\"Suggest charts.\"\n",
              "            style=\"display:none;\">\n",
              "\n",
              "<svg xmlns=\"http://www.w3.org/2000/svg\" height=\"24px\"viewBox=\"0 0 24 24\"\n",
              "     width=\"24px\">\n",
              "    <g>\n",
              "        <path d=\"M19 3H5c-1.1 0-2 .9-2 2v14c0 1.1.9 2 2 2h14c1.1 0 2-.9 2-2V5c0-1.1-.9-2-2-2zM9 17H7v-7h2v7zm4 0h-2V7h2v10zm4 0h-2v-4h2v4z\"/>\n",
              "    </g>\n",
              "</svg>\n",
              "  </button>\n",
              "\n",
              "<style>\n",
              "  .colab-df-quickchart {\n",
              "    background-color: #E8F0FE;\n",
              "    border: none;\n",
              "    border-radius: 50%;\n",
              "    cursor: pointer;\n",
              "    display: none;\n",
              "    fill: #1967D2;\n",
              "    height: 32px;\n",
              "    padding: 0 0 0 0;\n",
              "    width: 32px;\n",
              "  }\n",
              "\n",
              "  .colab-df-quickchart:hover {\n",
              "    background-color: #E2EBFA;\n",
              "    box-shadow: 0px 1px 2px rgba(60, 64, 67, 0.3), 0px 1px 3px 1px rgba(60, 64, 67, 0.15);\n",
              "    fill: #174EA6;\n",
              "  }\n",
              "\n",
              "  [theme=dark] .colab-df-quickchart {\n",
              "    background-color: #3B4455;\n",
              "    fill: #D2E3FC;\n",
              "  }\n",
              "\n",
              "  [theme=dark] .colab-df-quickchart:hover {\n",
              "    background-color: #434B5C;\n",
              "    box-shadow: 0px 1px 3px 1px rgba(0, 0, 0, 0.15);\n",
              "    filter: drop-shadow(0px 1px 2px rgba(0, 0, 0, 0.3));\n",
              "    fill: #FFFFFF;\n",
              "  }\n",
              "</style>\n",
              "\n",
              "  <script>\n",
              "    async function quickchart(key) {\n",
              "      const charts = await google.colab.kernel.invokeFunction(\n",
              "          'suggestCharts', [key], {});\n",
              "    }\n",
              "    (() => {\n",
              "      let quickchartButtonEl =\n",
              "        document.querySelector('#df-9aaa8127-78e8-421e-b432-4914812adeb9 button');\n",
              "      quickchartButtonEl.style.display =\n",
              "        google.colab.kernel.accessAllowed ? 'block' : 'none';\n",
              "    })();\n",
              "  </script>\n",
              "</div>\n",
              "    </div>\n",
              "  </div>\n"
            ]
          },
          "metadata": {},
          "execution_count": 32
        }
      ]
    },
    {
      "cell_type": "markdown",
      "metadata": {
        "id": "OsTzOYR6p-Sc"
      },
      "source": [
        "## 时序数据处理"
      ]
    },
    {
      "cell_type": "code",
      "source": [
        "# 平滑曲线（moving average）\n",
        "s = pd.Series(np.random.randint(0, 1000000, 100))\n",
        "plt.plot(s.index, s.values)\n",
        "r = s.rolling(7, center=True).mean()\n",
        "plt.plot(r.index, r.values)"
      ],
      "metadata": {
        "colab": {
          "base_uri": "https://localhost:8080/",
          "height": 463
        },
        "id": "5GIy16TCBHwa",
        "outputId": "d0051df5-c79a-4be3-a5cf-c94c93b7d965"
      },
      "execution_count": null,
      "outputs": [
        {
          "output_type": "execute_result",
          "data": {
            "text/plain": [
              "[<matplotlib.lines.Line2D at 0x7df3579fbb80>]"
            ]
          },
          "metadata": {},
          "execution_count": 54
        },
        {
          "output_type": "display_data",
          "data": {
            "text/plain": [
              "<Figure size 640x480 with 1 Axes>"
            ],
            "image/png": "[encoded data removed]"
          },
          "metadata": {}
        }
      ]
    }
  ],
  "metadata": {
    "colab": {
      "toc_visible": true,
      "provenance": [],
      "authorship_tag": "ABX9TyMKpFV/IQ7czbwe2H7pvVwH",
      "include_colab_link": true
    },
    "kernelspec": {
      "display_name": "Python 3",
      "name": "python3"
    },
    "language_info": {
      "name": "python"
    }
  },
  "nbformat": 4,
  "nbformat_minor": 0
}