{
  "cells": [
    {
      "cell_type": "markdown",
      "metadata": {
        "id": "view-in-github",
        "colab_type": "text"
      },
      "source": [
        "<a href=\"https://colab.research.google.com/github/ElwinGao4444/colab/blob/main/Pandas.ipynb\" target=\"_parent\"><img src=\"https://colab.research.google.com/assets/colab-badge.svg\" alt=\"Open In Colab\"/></a>"
      ]
    },
    {
      "cell_type": "markdown",
      "metadata": {
        "id": "2NZCIVRKhJFM"
      },
      "source": [
        "# Pandas介绍\n",
        "(官方文档：https://pandas.pydata.org/docs/)"
      ]
    },
    {
      "cell_type": "code",
      "execution_count": null,
      "metadata": {
        "id": "4QJ1t0MkhGlL"
      },
      "outputs": [],
      "source": [
        "import numpy as np\n",
        "import pandas as pd\n",
        "import matplotlib.pyplot as plt"
      ]
    },
    {
      "cell_type": "markdown",
      "metadata": {
        "id": "SXywvSnMjCFB"
      },
      "source": [
        "# 基础数据结构与用法"
      ]
    },
    {
      "cell_type": "markdown",
      "metadata": {
        "id": "Wgq9qzjKfcsh"
      },
      "source": [
        "## Series"
      ]
    },
    {
      "cell_type": "markdown",
      "metadata": {
        "id": "T7ESyrermNT6"
      },
      "source": [
        "### Series初始化"
      ]
    },
    {
      "cell_type": "code",
      "execution_count": null,
      "metadata": {
        "colab": {
          "base_uri": "https://localhost:8080/"
        },
        "id": "gk-FNIVcmP-a",
        "outputId": "4d0e5f0e-b4ce-41ea-f2ec-a89d71dbf445"
      },
      "outputs": [
        {
          "name": "stdout",
          "output_type": "stream",
          "text": [
            "使用list初始化：\n",
            " 0    a\n",
            "1    b\n",
            "2    c\n",
            "dtype: object\n",
            "使用ndarray初始化：\n",
            " 0    a\n",
            "1    b\n",
            "2    c\n",
            "dtype: object\n",
            "初始化并指定索引：\n",
            " 1    a\n",
            "2    b\n",
            "3    c\n",
            "dtype: object\n",
            "索引可以是任意类型：\n",
            " a    1\n",
            "b    2\n",
            "c    3\n",
            "dtype: int64\n"
          ]
        }
      ],
      "source": [
        "print('使用list初始化：\\n', pd.Series(['a','b','c']))\n",
        "print('使用ndarray初始化：\\n', pd.Series(data=np.array(['a','b','c'])))\n",
        "print('初始化并指定索引：\\n', pd.Series(data=['a','b','c'], index=[1,2,3]))\n",
        "print('索引可以是任意类型：\\n', pd.Series(data=[1,2,3], index=['a','b','c']))"
      ]
    },
    {
      "cell_type": "markdown",
      "metadata": {
        "id": "Fbf_bg-nnglj"
      },
      "source": [
        "### Series索引操作"
      ]
    },
    {
      "cell_type": "code",
      "execution_count": null,
      "metadata": {
        "colab": {
          "base_uri": "https://localhost:8080/"
        },
        "id": "Wf-Tyi6RnjEq",
        "outputId": "f885dbfb-d9b3-4bdd-d556-1991cba4e5be"
      },
      "outputs": [
        {
          "name": "stdout",
          "output_type": "stream",
          "text": [
            "索引下标取值： a\n",
            "索引下标批量取值：\n",
            " 0    a\n",
            "2    c\n",
            "dtype: object\n",
            "索引下标切片取值（位置索引）：\n",
            " 1    b\n",
            "dtype: object\n",
            "索引下标切片取值（值索引）：\n",
            " b    2\n",
            "c    3\n",
            "dtype: int64\n",
            "获取索引值列表： RangeIndex(start=0, stop=3, step=1) Index(['a', 'b', 'c'], dtype='object')\n"
          ]
        }
      ],
      "source": [
        "s1 = pd.Series(['a','b','c'])\n",
        "s2 = pd.Series(data=[1,2,3], index=['a','b','c'])\n",
        "print('索引下标取值：', s1[0])\n",
        "print('索引下标批量取值：\\n', s1[[0,2]]) # 类似numpy的用法\n",
        "print('索引下标切片取值（位置索引）：\\n', s1[1:2])  # 位置索引是左闭右开区间\n",
        "print('索引下标切片取值（值索引）：\\n', s2['b':'c']) # 值索引是左右闭区间\n",
        "print('获取索引值列表：', s1.index, s2.index)"
      ]
    },
    {
      "cell_type": "markdown",
      "metadata": {
        "id": "30CpAO7ZfbYZ"
      },
      "source": [
        "## DataFrame"
      ]
    },
    {
      "cell_type": "markdown",
      "metadata": {
        "id": "Z3fnU6nbqSa8"
      },
      "source": [
        "### DataFrame初始化"
      ]
    },
    {
      "cell_type": "code",
      "execution_count": null,
      "metadata": {
        "colab": {
          "base_uri": "https://localhost:8080/"
        },
        "id": "06E6pr7vqWc8",
        "outputId": "9c89083f-f9b7-42e2-e279-2e612dc60886"
      },
      "outputs": [
        {
          "name": "stdout",
          "output_type": "stream",
          "text": [
            "直接初始化一个DataFrame：\n",
            "   name  age  score\n",
            "0    a    1    1.1\n",
            "1    b    2    2.2\n",
            "2    c    3    3.3\n"
          ]
        }
      ],
      "source": [
        "# 直接初始化\n",
        "data = [['a',1,1.1], ['b',2,2.2], ['c',3,3.3]]\n",
        "columns = ['name', 'age', 'score']\n",
        "df = pd.DataFrame(data=data, columns=columns)\n",
        "print('直接初始化一个DataFrame：\\n', df)"
      ]
    },
    {
      "cell_type": "code",
      "execution_count": null,
      "metadata": {
        "colab": {
          "base_uri": "https://localhost:8080/"
        },
        "id": "c9Qc-vvHrOfE",
        "outputId": "ffb7436c-0bf7-48eb-d2bf-396f0757b391"
      },
      "outputs": [
        {
          "name": "stdout",
          "output_type": "stream",
          "text": [
            "使用字典初始化一个DataFrame：\n",
            "   name  age  score\n",
            "0    a    1    1.1\n",
            "1    b    2    2.2\n",
            "2    c    3    3.3\n"
          ]
        }
      ],
      "source": [
        "# 使用字典进行初始化\n",
        "data = {\n",
        "    'name': ['a', 'b', 'c'],\n",
        "    'age': [1, 2, 3],\n",
        "    'score': [1.1, 2.2, 3.3],\n",
        "}\n",
        "df = pd.DataFrame(data)\n",
        "print('使用字典初始化一个DataFrame：\\n', df)"
      ]
    },
    {
      "cell_type": "code",
      "execution_count": null,
      "metadata": {
        "colab": {
          "base_uri": "https://localhost:8080/"
        },
        "id": "wp6BH679rsIF",
        "outputId": "f4b44ff4-abce-47cb-ce5d-84da7afa3544"
      },
      "outputs": [
        {
          "name": "stdout",
          "output_type": "stream",
          "text": [
            "使用字典数组初始化一个DataFrame：\n",
            "   name  age  score\n",
            "0    a    1    1.1\n",
            "1    b    2    2.2\n",
            "2    c    3    3.3\n"
          ]
        }
      ],
      "source": [
        "# 使用字典进行初始化（配合数据库的常用方式）\n",
        "data = [\n",
        "    {'name':'a', 'age':1, 'score':1.1},\n",
        "    {'name':'b', 'age':2, 'score':2.2},\n",
        "    {'name':'c', 'age':3, 'score':3.3},\n",
        "    ]\n",
        "df = pd.DataFrame(data)\n",
        "print('使用字典数组初始化一个DataFrame：\\n', df)"
      ]
    },
    {
      "cell_type": "markdown",
      "source": [
        "### DataFrame重要属性"
      ],
      "metadata": {
        "id": "pLkyip-6DhzL"
      }
    },
    {
      "cell_type": "code",
      "source": [
        "data = [['a',1,1.1], ['b',2,2.2], ['c',3,3.3]]\n",
        "columns = ['name', 'age', 'score']\n",
        "df = pd.DataFrame(data=data, columns=columns)\n",
        "\n",
        "print('df.values：', df.values)\n",
        "print('df.dtypes：', df.dtypes)\n",
        "print('df.index：', df.index)\n",
        "print('df.columns：', df.columns)\n",
        "print('df.T：', df.T)\n",
        "print('df.shape：', df.shape)\n",
        "print('df.info：', df.info)"
      ],
      "metadata": {
        "colab": {
          "base_uri": "https://localhost:8080/"
        },
        "id": "CQs1bJkrDnHS",
        "outputId": "7c597156-62a3-45d8-bd2a-a2cdd58635d7"
      },
      "execution_count": null,
      "outputs": [
        {
          "output_type": "stream",
          "name": "stdout",
          "text": [
            "df.values： [['a' 1 1.1]\n",
            " ['b' 2 2.2]\n",
            " ['c' 3 3.3]]\n",
            "df.dtypes： name      object\n",
            "age        int64\n",
            "score    float64\n",
            "dtype: object\n",
            "df.index： RangeIndex(start=0, stop=3, step=1)\n",
            "df.columns： Index(['name', 'age', 'score'], dtype='object')\n",
            "df.T：          0    1    2\n",
            "name     a    b    c\n",
            "age      1    2    3\n",
            "score  1.1  2.2  3.3\n",
            "df.shape： (3, 3)\n",
            "df.info： <bound method DataFrame.info of   name  age  score\n",
            "0    a    1    1.1\n",
            "1    b    2    2.2\n",
            "2    c    3    3.3>\n"
          ]
        }
      ]
    },
    {
      "cell_type": "markdown",
      "source": [
        "### DataFrame重要函数"
      ],
      "metadata": {
        "id": "5oJgLX2lEY6z"
      }
    },
    {
      "cell_type": "code",
      "source": [
        "data = [['a',1,1.1], ['b',2,2.2], ['c',3,3.3]]\n",
        "columns = ['name', 'age', 'score']\n",
        "df = pd.DataFrame(data=data, columns=columns)\n",
        "\n",
        "print('df.describe()：', df.describe())\n",
        "print('df.count()：', df.count())\n",
        "print('df.sum()：', df.sum())\n",
        "print('df.min()：', df.min())\n",
        "print('df.max()：', df.max())"
      ],
      "metadata": {
        "colab": {
          "base_uri": "https://localhost:8080/"
        },
        "id": "ooDfGrXjEaK7",
        "outputId": "3e4b141c-740f-4452-af40-2f3339c530f8"
      },
      "execution_count": null,
      "outputs": [
        {
          "output_type": "stream",
          "name": "stdout",
          "text": [
            "df.describe()：        age  score\n",
            "count  3.0   3.00\n",
            "mean   2.0   2.20\n",
            "std    1.0   1.10\n",
            "min    1.0   1.10\n",
            "25%    1.5   1.65\n",
            "50%    2.0   2.20\n",
            "75%    2.5   2.75\n",
            "max    3.0   3.30\n",
            "df.count()： name     3\n",
            "age      3\n",
            "score    3\n",
            "dtype: int64\n",
            "df.sum()： name     abc\n",
            "age        6\n",
            "score    6.6\n",
            "dtype: object\n",
            "df.min()： name       a\n",
            "age        1\n",
            "score    1.1\n",
            "dtype: object\n",
            "df.max()： name       c\n",
            "age        3\n",
            "score    3.3\n",
            "dtype: object\n"
          ]
        }
      ]
    },
    {
      "cell_type": "markdown",
      "metadata": {
        "id": "4cw9rnaSjGUo"
      },
      "source": [
        "# 常用库函数"
      ]
    },
    {
      "cell_type": "markdown",
      "source": [
        "## Series数据提取"
      ],
      "metadata": {
        "id": "UdSAA2fqtPWK"
      }
    },
    {
      "cell_type": "code",
      "source": [
        "s = pd.Series(np.arange(10), index=['s0','s1','s2','s3','s4','s5','s6','s7','s8','s9',])\n",
        "print('通过下标直接选取：', s[0])\n",
        "print('通过下标批量选取：\\n', s[[0,2,4,6]])\n",
        "print('通过下标选取切片：\\n', s[0:5])\n",
        "\n",
        "print('通过名字直接选取：', s['s0'])\n",
        "print('通过下标批量选取：\\n', s[['s0','s2','s4','s6']])\n",
        "print('通过下标选取切片：\\n', s['s0':'s5'])\n",
        "\n",
        "print('通过条件选取：\\n', s[s>5])"
      ],
      "metadata": {
        "colab": {
          "base_uri": "https://localhost:8080/"
        },
        "id": "knFhSnLutY3Q",
        "outputId": "a209854a-e93e-4bea-c3ec-25eb1c368305"
      },
      "execution_count": null,
      "outputs": [
        {
          "output_type": "stream",
          "name": "stdout",
          "text": [
            "通过下标直接选取： 0\n",
            "通过下标批量选取：\n",
            " s0    0\n",
            "s2    2\n",
            "s4    4\n",
            "s6    6\n",
            "dtype: int64\n",
            "通过下标选取切片：\n",
            " s0    0\n",
            "s1    1\n",
            "s2    2\n",
            "s3    3\n",
            "s4    4\n",
            "dtype: int64\n",
            "通过名字直接选取： 0\n",
            "通过下标批量选取：\n",
            " s0    0\n",
            "s2    2\n",
            "s4    4\n",
            "s6    6\n",
            "dtype: int64\n",
            "通过下标选取切片：\n",
            " s0    0\n",
            "s1    1\n",
            "s2    2\n",
            "s3    3\n",
            "s4    4\n",
            "s5    5\n",
            "dtype: int64\n",
            "通过条件选取：\n",
            " s6    6\n",
            "s7    7\n",
            "s8    8\n",
            "s9    9\n",
            "dtype: int64\n"
          ]
        }
      ]
    },
    {
      "cell_type": "markdown",
      "source": [
        "## DataFrame数据提取"
      ],
      "metadata": {
        "id": "K31ZfMckKX8O"
      }
    },
    {
      "cell_type": "markdown",
      "source": [
        "### 按行提取"
      ],
      "metadata": {
        "id": "ws_5cLhHKoeN"
      }
    },
    {
      "cell_type": "code",
      "source": [
        "df = pd.DataFrame(np.arange(100).reshape(10,10), columns=['c0','c1','c2','c3','c4','c5','c6','c7','c8','c9'], index=['r0','r1','r2','r3','r4','r5','r6','r7','r8','r9'])\n",
        "\n",
        "print('使用下标提取切片：\\n', df['r0':'r2'])  # 不懂为什么只有切片设计成行提取\n",
        "print('使用下标提取切片（索引）：\\n', df[0:2])\n",
        "\n",
        "print('使用loc通过行名进行提取：\\n', df.loc['r0'])\n",
        "print('使用loc通过行名提取多行：\\n', df.loc[['r0','r2']])\n",
        "print('使用loc通过行名提取切片：\\n', df.loc['r0':'r2']) # 闭区间\n",
        "\n",
        "print('使用iloc通过行编号进行提取：\\n', df.iloc[0])\n",
        "print('使用iloc通过行编号提取多行：\\n', df.iloc[[0,2]])\n",
        "print('使用iloc通过行编号提取切片：\\n', df.iloc[0:2])  # 左闭右开区间"
      ],
      "metadata": {
        "colab": {
          "base_uri": "https://localhost:8080/"
        },
        "id": "Inyqao2_KazO",
        "outputId": "77edaed7-f0d6-4801-d969-c0cd460e2c5a"
      },
      "execution_count": null,
      "outputs": [
        {
          "output_type": "stream",
          "name": "stdout",
          "text": [
            "使用下标提取切片：\n",
            "     c0  c1  c2  c3  c4  c5  c6  c7  c8  c9\n",
            "r0   0   1   2   3   4   5   6   7   8   9\n",
            "r1  10  11  12  13  14  15  16  17  18  19\n",
            "r2  20  21  22  23  24  25  26  27  28  29\n",
            "使用下标提取切片（索引）：\n",
            "     c0  c1  c2  c3  c4  c5  c6  c7  c8  c9\n",
            "r0   0   1   2   3   4   5   6   7   8   9\n",
            "r1  10  11  12  13  14  15  16  17  18  19\n",
            "使用loc通过行名进行提取：\n",
            " c0    0\n",
            "c1    1\n",
            "c2    2\n",
            "c3    3\n",
            "c4    4\n",
            "c5    5\n",
            "c6    6\n",
            "c7    7\n",
            "c8    8\n",
            "c9    9\n",
            "Name: r0, dtype: int64\n",
            "使用loc通过行名提取多行：\n",
            "     c0  c1  c2  c3  c4  c5  c6  c7  c8  c9\n",
            "r0   0   1   2   3   4   5   6   7   8   9\n",
            "r2  20  21  22  23  24  25  26  27  28  29\n",
            "使用loc通过行名提取切片：\n",
            "     c0  c1  c2  c3  c4  c5  c6  c7  c8  c9\n",
            "r0   0   1   2   3   4   5   6   7   8   9\n",
            "r1  10  11  12  13  14  15  16  17  18  19\n",
            "r2  20  21  22  23  24  25  26  27  28  29\n",
            "使用iloc通过行编号进行提取：\n",
            " c0    0\n",
            "c1    1\n",
            "c2    2\n",
            "c3    3\n",
            "c4    4\n",
            "c5    5\n",
            "c6    6\n",
            "c7    7\n",
            "c8    8\n",
            "c9    9\n",
            "Name: r0, dtype: int64\n",
            "使用iloc通过行编号提取多行：\n",
            "     c0  c1  c2  c3  c4  c5  c6  c7  c8  c9\n",
            "r0   0   1   2   3   4   5   6   7   8   9\n",
            "r2  20  21  22  23  24  25  26  27  28  29\n",
            "使用iloc通过行编号提取切片：\n",
            "     c0  c1  c2  c3  c4  c5  c6  c7  c8  c9\n",
            "r0   0   1   2   3   4   5   6   7   8   9\n",
            "r1  10  11  12  13  14  15  16  17  18  19\n"
          ]
        }
      ]
    },
    {
      "cell_type": "markdown",
      "source": [
        "### 按列提取"
      ],
      "metadata": {
        "id": "3gL5yPUHQCl5"
      }
    },
    {
      "cell_type": "code",
      "source": [
        "df = pd.DataFrame(np.arange(100).reshape(10,10), columns=['c0','c1','c2','c3','c4','c5','c6','c7','c8','c9'], index=['r0','r1','r2','r3','r4','r5','r6','r7','r8','r9'])\n",
        "print('使用下标提取列：\\n', df['c0'])\n",
        "print('提取行可以用下标和名字两种方式，而提取列只能用名字')\n",
        "print('使用下标提取多列：\\n', df[['c0','c1']])\n",
        "print('使用下标提取切片改成了行操作，有点匪夷所思')\n",
        "\n",
        "# df.loc[<行>,<列>] 通过逗号分割来表达行与列\n",
        "print('使用loc通过列名进列提取：\\n', df.loc[:,'c0'])\n",
        "print('使用loc通过列名提取多列：\\n', df.loc[:,['c0','c2']])\n",
        "print('使用loc通过列名提取切片：\\n', df.loc[:,'c0':'c2']) # 闭区间\n",
        "\n",
        "print('使用iloc通过列编号进列提取：\\n', df.iloc[:,0])\n",
        "print('使用iloc通过列编号提取多列：\\n', df.iloc[:,[0,2]])\n",
        "print('使用iloc通过列编号提取切片：\\n', df.iloc[:,0:2])  # 左闭右开区间"
      ],
      "metadata": {
        "colab": {
          "base_uri": "https://localhost:8080/"
        },
        "id": "iQl7huECQEXv",
        "outputId": "7867fe26-7089-4d40-d344-86b15e6194f7"
      },
      "execution_count": null,
      "outputs": [
        {
          "output_type": "stream",
          "name": "stdout",
          "text": [
            "使用下标提取列：\n",
            " r0     0\n",
            "r1    10\n",
            "r2    20\n",
            "r3    30\n",
            "r4    40\n",
            "r5    50\n",
            "r6    60\n",
            "r7    70\n",
            "r8    80\n",
            "r9    90\n",
            "Name: c0, dtype: int64\n",
            "提取行可以用下标和名字两种方式，而提取列只能用名字\n",
            "使用下标提取多列：\n",
            "     c0  c1\n",
            "r0   0   1\n",
            "r1  10  11\n",
            "r2  20  21\n",
            "r3  30  31\n",
            "r4  40  41\n",
            "r5  50  51\n",
            "r6  60  61\n",
            "r7  70  71\n",
            "r8  80  81\n",
            "r9  90  91\n",
            "使用下标提取切片改成了行操作，有点匪夷所思\n",
            "使用loc通过列名进列提取：\n",
            " r0     0\n",
            "r1    10\n",
            "r2    20\n",
            "r3    30\n",
            "r4    40\n",
            "r5    50\n",
            "r6    60\n",
            "r7    70\n",
            "r8    80\n",
            "r9    90\n",
            "Name: c0, dtype: int64\n",
            "使用loc通过列名提取多列：\n",
            "     c0  c2\n",
            "r0   0   2\n",
            "r1  10  12\n",
            "r2  20  22\n",
            "r3  30  32\n",
            "r4  40  42\n",
            "r5  50  52\n",
            "r6  60  62\n",
            "r7  70  72\n",
            "r8  80  82\n",
            "r9  90  92\n",
            "使用loc通过列名提取切片：\n",
            "     c0  c1  c2\n",
            "r0   0   1   2\n",
            "r1  10  11  12\n",
            "r2  20  21  22\n",
            "r3  30  31  32\n",
            "r4  40  41  42\n",
            "r5  50  51  52\n",
            "r6  60  61  62\n",
            "r7  70  71  72\n",
            "r8  80  81  82\n",
            "r9  90  91  92\n",
            "使用iloc通过列编号进列提取：\n",
            " r0     0\n",
            "r1    10\n",
            "r2    20\n",
            "r3    30\n",
            "r4    40\n",
            "r5    50\n",
            "r6    60\n",
            "r7    70\n",
            "r8    80\n",
            "r9    90\n",
            "Name: c0, dtype: int64\n",
            "使用iloc通过列编号提取多列：\n",
            "     c0  c2\n",
            "r0   0   2\n",
            "r1  10  12\n",
            "r2  20  22\n",
            "r3  30  32\n",
            "r4  40  42\n",
            "r5  50  52\n",
            "r6  60  62\n",
            "r7  70  72\n",
            "r8  80  82\n",
            "r9  90  92\n",
            "使用iloc通过列编号提取切片：\n",
            "     c0  c1\n",
            "r0   0   1\n",
            "r1  10  11\n",
            "r2  20  21\n",
            "r3  30  31\n",
            "r4  40  41\n",
            "r5  50  51\n",
            "r6  60  61\n",
            "r7  70  71\n",
            "r8  80  81\n",
            "r9  90  91\n"
          ]
        }
      ]
    },
    {
      "cell_type": "markdown",
      "source": [
        "### 区域提取"
      ],
      "metadata": {
        "id": "f1YVeyRrpCYF"
      }
    },
    {
      "cell_type": "code",
      "source": [
        "df = pd.DataFrame(np.arange(100).reshape(10,10), columns=['c0','c1','c2','c3','c4','c5','c6','c7','c8','c9'], index=['r0','r1','r2','r3','r4','r5','r6','r7','r8','r9'])\n",
        "print('直接下标提取：', df['c0']['r0'])\n",
        "print('使用连续下标访问时，要特别注意每一层的返回值到底时DataFrame还是Series')\n",
        "\n",
        "print('使用loc提取：', df.loc['r0','c0'])\n",
        "print('使用loc批量提取：\\n', df.loc[['r0','r2'],['c0','c2']])\n",
        "print('使用loc提取切片：\\n', df.loc['r0':'r2','c0':'c2'])\n",
        "\n",
        "print('使用iloc提取：', df.iloc[0,0])\n",
        "print('使用iloc批量提取：\\n', df.iloc[[0,2],[0,2]])\n",
        "print('使用iloc提取切片：\\n', df.iloc[0:2,0:2])"
      ],
      "metadata": {
        "colab": {
          "base_uri": "https://localhost:8080/"
        },
        "id": "l4YW67BapEJe",
        "outputId": "77cd7010-133a-4fe4-e86c-f06fd5f96e97"
      },
      "execution_count": null,
      "outputs": [
        {
          "output_type": "stream",
          "name": "stdout",
          "text": [
            "直接下标提取： 0\n",
            "使用loc提取： 0\n",
            "使用loc批量提取：\n",
            "     c0  c2\n",
            "r0   0   2\n",
            "r2  20  22\n",
            "使用loc提取切片：\n",
            "     c0  c1  c2\n",
            "r0   0   1   2\n",
            "r1  10  11  12\n",
            "r2  20  21  22\n",
            "使用iloc提取： 0\n",
            "使用iloc批量提取：\n",
            "     c0  c2\n",
            "r0   0   2\n",
            "r2  20  22\n",
            "使用iloc提取切片：\n",
            "     c0  c1\n",
            "r0   0   1\n",
            "r1  10  11\n"
          ]
        }
      ]
    },
    {
      "cell_type": "markdown",
      "source": [
        "### 指定条件提取"
      ],
      "metadata": {
        "id": "VsdeWZvuz5je"
      }
    },
    {
      "cell_type": "code",
      "source": [
        "# DataFrame的条件选取主要都是以列为条件（因为通常不同列的元素类型不同）\n",
        "# 如果想做针对行的选取，可以通过转置来进行\n",
        "df = pd.DataFrame(np.arange(100).reshape(10,10), columns=['c0','c1','c2','c3','c4','c5','c6','c7','c8','c9'], index=['r0','r1','r2','r3','r4','r5','r6','r7','r8','r9'])\n",
        "print('直接条件提取：\\n', df[df['c0']>50])\n",
        "print('组合条件提取：\\n', df.loc[(df['c0']>50)&(df['c2']//10%2==0)])"
      ],
      "metadata": {
        "colab": {
          "base_uri": "https://localhost:8080/"
        },
        "id": "5u5rGYu_z7nl",
        "outputId": "034bc1ce-2afb-4b4a-f1de-02ae7f0798f3"
      },
      "execution_count": null,
      "outputs": [
        {
          "output_type": "stream",
          "name": "stdout",
          "text": [
            "直接条件提取：\n",
            "     c0  c1  c2  c3  c4  c5  c6  c7  c8  c9\n",
            "r6  60  61  62  63  64  65  66  67  68  69\n",
            "r7  70  71  72  73  74  75  76  77  78  79\n",
            "r8  80  81  82  83  84  85  86  87  88  89\n",
            "r9  90  91  92  93  94  95  96  97  98  99\n",
            "直接条件提取：\n",
            "     c0  c1  c2  c3  c4  c5  c6  c7  c8  c9\n",
            "r6  60  61  62  63  64  65  66  67  68  69\n",
            "r8  80  81  82  83  84  85  86  87  88  89\n"
          ]
        }
      ]
    },
    {
      "cell_type": "markdown",
      "source": [
        "## DataFrame数据增删"
      ],
      "metadata": {
        "id": "NYl1SGtB4w2v"
      }
    },
    {
      "cell_type": "markdown",
      "source": [
        "### 按行增加数据"
      ],
      "metadata": {
        "id": "Mn5v70st450X"
      }
    },
    {
      "cell_type": "code",
      "source": [
        "df = pd.DataFrame(np.arange(9).reshape(3,3), columns=['c0','c1','c2'], index=['r0','r1','r2'])\n",
        "\n",
        "df.loc['r4'] = [7,7,7]\n",
        "print('使用loc指定列的方式追加列：\\n', df)\n",
        "\n",
        "# append方法已不再被推荐使用，推荐使用concat方法\n",
        "print('使用append方法批量追加列：\\n', df.append(pd.DataFrame(np.zeros(9).reshape(3,3), columns=['c0','c1','c2']), ignore_index=True))"
      ],
      "metadata": {
        "colab": {
          "base_uri": "https://localhost:8080/"
        },
        "id": "VpHt5_Ml48FI",
        "outputId": "fd612e21-dfbb-41ca-b864-40d22144d79a"
      },
      "execution_count": null,
      "outputs": [
        {
          "output_type": "stream",
          "name": "stdout",
          "text": [
            "使用loc指定列的方式追加列：\n",
            "     c0  c1  c2\n",
            "r0   0   1   2\n",
            "r1   3   4   5\n",
            "r2   6   7   8\n",
            "r4   7   7   7\n",
            "使用append方法批量追加列：\n",
            "     c0   c1   c2\n",
            "0  0.0  1.0  2.0\n",
            "1  3.0  4.0  5.0\n",
            "2  6.0  7.0  8.0\n",
            "3  7.0  7.0  7.0\n",
            "4  0.0  0.0  0.0\n",
            "5  0.0  0.0  0.0\n",
            "6  0.0  0.0  0.0\n"
          ]
        },
        {
          "output_type": "stream",
          "name": "stderr",
          "text": [
            "<ipython-input-207-5a85763301d5>:6: FutureWarning: The frame.append method is deprecated and will be removed from pandas in a future version. Use pandas.concat instead.\n",
            "  print('使用append方法批量追加列：\\n', df.append(pd.DataFrame(np.zeros(9).reshape(3,3), columns=['c0','c1','c2']), ignore_index=True))\n"
          ]
        }
      ]
    },
    {
      "cell_type": "markdown",
      "source": [
        "### 按列增加数据"
      ],
      "metadata": {
        "id": "YryWSY2c5M6n"
      }
    },
    {
      "cell_type": "code",
      "source": [
        "df = pd.DataFrame(np.arange(9).reshape(3,3), columns=['c0','c1','c2'], index=['r0','r1','r2'])\n",
        "\n",
        "df['c3'] = [6,6,6]\n",
        "print('使用直接赋值的方式追加列：\\n', df)\n",
        "\n",
        "df.loc[:,'c4'] = [7,7,7]\n",
        "print('使用loc指定列的方式追加列：\\n', df)\n",
        "\n",
        "df.insert(4, 'c5', [8,8,8])\n",
        "print('使用insert方式插入列：\\n', df)"
      ],
      "metadata": {
        "colab": {
          "base_uri": "https://localhost:8080/"
        },
        "id": "nHAFa-Zd5P0G",
        "outputId": "71ab790a-41b1-478f-a08c-2fc0317781d8"
      },
      "execution_count": null,
      "outputs": [
        {
          "output_type": "stream",
          "name": "stdout",
          "text": [
            "使用直接赋值的方式追加列：\n",
            "     c0  c1  c2  c3\n",
            "r0   0   1   2   6\n",
            "r1   3   4   5   6\n",
            "r2   6   7   8   6\n",
            "使用loc指定列的方式追加列：\n",
            "     c0  c1  c2  c3  c4\n",
            "r0   0   1   2   6   7\n",
            "r1   3   4   5   6   7\n",
            "r2   6   7   8   6   7\n",
            "使用insert方式插入列：\n",
            "     c0  c1  c2  c3  c5  c4\n",
            "r0   0   1   2   6   8   7\n",
            "r1   3   4   5   6   8   7\n",
            "r2   6   7   8   6   8   7\n"
          ]
        }
      ]
    },
    {
      "cell_type": "markdown",
      "source": [
        "### 批量增加数据"
      ],
      "metadata": {
        "id": "Nb3GUqoO7TIE"
      }
    },
    {
      "cell_type": "code",
      "source": [
        "df1 = pd.DataFrame(np.arange(9).reshape(3,3), columns=['c0','c1','c2'], index=['r0','r1','r2'])\n",
        "df2 = pd.DataFrame(np.zeros(9).reshape(3,3), columns=['c0','c1','c2'], index=['r0','r1','r2'])\n",
        "\n",
        "# 注意合并两个df的时候，只有行/列名称相同才能追加\n",
        "print('批量增加行：', pd.concat([df1,df2], axis=0, ignore_index=True))\n",
        "print('批量增加列：', pd.concat([df1,df2], axis=1, ignore_index=True))"
      ],
      "metadata": {
        "colab": {
          "base_uri": "https://localhost:8080/"
        },
        "id": "FT5WgEZI7FtE",
        "outputId": "e6d3ee49-e74a-469c-efc0-528d21a23a2b"
      },
      "execution_count": null,
      "outputs": [
        {
          "output_type": "stream",
          "name": "stdout",
          "text": [
            "批量增加行：     c0   c1   c2\n",
            "0  0.0  1.0  2.0\n",
            "1  3.0  4.0  5.0\n",
            "2  6.0  7.0  8.0\n",
            "3  0.0  0.0  0.0\n",
            "4  0.0  0.0  0.0\n",
            "5  0.0  0.0  0.0\n",
            "批量增加列：     0  1  2    3    4    5\n",
            "r0  0  1  2  0.0  0.0  0.0\n",
            "r1  3  4  5  0.0  0.0  0.0\n",
            "r2  6  7  8  0.0  0.0  0.0\n"
          ]
        }
      ]
    },
    {
      "cell_type": "markdown",
      "source": [
        "### 修改数据"
      ],
      "metadata": {
        "id": "FOwvzicG6AmV"
      }
    },
    {
      "cell_type": "markdown",
      "source": [
        "#### 修改标题"
      ],
      "metadata": {
        "id": "9J7acurV_XTy"
      }
    },
    {
      "cell_type": "code",
      "source": [
        "df = pd.DataFrame(np.arange(9).reshape(3,3), columns=['c0','c1','c2'], index=['r0','r1','r2'])\n",
        "\n",
        "df.index = ['x0', 'x1', 'x2']\n",
        "print('通过index成员修改行标题：\\n', df)\n",
        "df.columns = ['y0', 'y1', 'y2']\n",
        "print('通过columns成员修改列标题：\\n', df)"
      ],
      "metadata": {
        "colab": {
          "base_uri": "https://localhost:8080/"
        },
        "id": "gniNxvmT6HB-",
        "outputId": "964475f8-3443-4ba7-ae7b-54ccc0592cce"
      },
      "execution_count": null,
      "outputs": [
        {
          "output_type": "stream",
          "name": "stdout",
          "text": [
            "通过index成员修改行标题：\n",
            "     c0  c1  c2\n",
            "x0   0   1   2\n",
            "x1   3   4   5\n",
            "x2   6   7   8\n",
            "通过columns成员修改列标题：\n",
            "     y0  y1  y2\n",
            "x0   0   1   2\n",
            "x1   3   4   5\n",
            "x2   6   7   8\n"
          ]
        }
      ]
    },
    {
      "cell_type": "code",
      "source": [
        "df = pd.DataFrame(np.arange(9).reshape(3,3), columns=['c0','c1','c2'], index=['r0','r1','r2'])\n",
        "\n",
        "df.rename({'r0':'x0','r1':'x1','r2':'x2'}, inplace=True, axis=0)\n",
        "print('通过rename方法修改行标题：\\n', df)\n",
        "df.rename({'c0':'y0','c1':'y1','c2':'y2'}, inplace=True, axis=1)\n",
        "print('通过rename方法修改列标题：\\n', df)"
      ],
      "metadata": {
        "colab": {
          "base_uri": "https://localhost:8080/"
        },
        "id": "SNR_adwy_fuJ",
        "outputId": "bee21f48-4a20-4a36-cc99-ff46c89cfcad"
      },
      "execution_count": null,
      "outputs": [
        {
          "output_type": "stream",
          "name": "stdout",
          "text": [
            "通过rename方法修改行标题：\n",
            "     c0  c1  c2\n",
            "x0   0   1   2\n",
            "x1   3   4   5\n",
            "x2   6   7   8\n",
            "通过rename方法修改行标题：\n",
            "     y0  y1  y2\n",
            "x0   0   1   2\n",
            "x1   3   4   5\n",
            "x2   6   7   8\n"
          ]
        }
      ]
    },
    {
      "cell_type": "code",
      "source": [
        "df = pd.DataFrame(np.arange(9).reshape(3,3), columns=['c0','c1','c2'], index=['r0','r1','r2'])\n",
        "\n",
        "df.rename(columns={'c0':'y0','c1':'y1','c2':'y2'}, index={'r0':'x0','r1':'x1','r2':'x2'}, inplace=True)\n",
        "print('通过rename方法同时修改行列标题：\\n', df)"
      ],
      "metadata": {
        "colab": {
          "base_uri": "https://localhost:8080/"
        },
        "id": "B5IC_5U3_oQR",
        "outputId": "b502716a-0414-4cb6-98f4-fd5e97937e55"
      },
      "execution_count": null,
      "outputs": [
        {
          "output_type": "stream",
          "name": "stdout",
          "text": [
            "通过rename方法同时修改行列标题：\n",
            "     y0  y1  y2\n",
            "x0   0   1   2\n",
            "x1   3   4   5\n",
            "x2   6   7   8\n"
          ]
        }
      ]
    },
    {
      "cell_type": "markdown",
      "source": [
        "#### 修改内容"
      ],
      "metadata": {
        "id": "jJz7KCNv_aT5"
      }
    },
    {
      "cell_type": "code",
      "source": [
        "# 定点修改\n",
        "df = pd.DataFrame(np.arange(9).reshape(3,3), columns=['c0','c1','c2'], index=['r0','r1','r2'])\n",
        "\n",
        "df['c0']['r0'] = 10\n",
        "print('指定位置修改：\\n', df)"
      ],
      "metadata": {
        "colab": {
          "base_uri": "https://localhost:8080/"
        },
        "id": "UZkq1dDd_x9h",
        "outputId": "5df0c9b7-1ec9-459c-8681-59226cbaab56"
      },
      "execution_count": null,
      "outputs": [
        {
          "output_type": "stream",
          "name": "stdout",
          "text": [
            "指定位置修改：\n",
            "     c0  c1  c2\n",
            "r0  10   1   2\n",
            "r1   3   4   5\n",
            "r2   6   7   8\n"
          ]
        }
      ]
    },
    {
      "cell_type": "code",
      "source": [
        "# 修改行\n",
        "df = pd.DataFrame(np.arange(9).reshape(3,3), columns=['c0','c1','c2'], index=['r0','r1','r2'])\n",
        "\n",
        "df.loc['r0'] = [6,6,6]\n",
        "print('通过loc整行修改：\\n', df)\n",
        "df.loc['r0',['c0','c2']] = [7,7]\n",
        "print('通过loc整行批量修改：\\n', df)\n",
        "df.iloc[0,1:] = [8,8]\n",
        "print('通过iloc切片修改：\\n', df)"
      ],
      "metadata": {
        "colab": {
          "base_uri": "https://localhost:8080/"
        },
        "id": "AiZt4r9zBPyg",
        "outputId": "da75c057-80d2-4304-d07c-c769999b7122"
      },
      "execution_count": null,
      "outputs": [
        {
          "output_type": "stream",
          "name": "stdout",
          "text": [
            "通过loc整行修改：\n",
            "     c0  c1  c2\n",
            "r0   6   6   6\n",
            "r1   3   4   5\n",
            "r2   6   7   8\n",
            "通过loc整行批量修改：\n",
            "     c0  c1  c2\n",
            "r0   7   6   7\n",
            "r1   3   4   5\n",
            "r2   6   7   8\n",
            "通过iloc切片修改：\n",
            "     c0  c1  c2\n",
            "r0   7   8   8\n",
            "r1   3   4   5\n",
            "r2   6   7   8\n"
          ]
        }
      ]
    },
    {
      "cell_type": "code",
      "source": [
        "# 修改列\n",
        "df = pd.DataFrame(np.arange(9).reshape(3,3), columns=['c0','c1','c2'], index=['r0','r1','r2'])\n",
        "\n",
        "df.loc[:,'c0'] = [6,6,6]\n",
        "print('通过loc整列修改：\\n', df)\n",
        "df.loc[['r0','r2'],'c0'] = [7,7]\n",
        "print('通过loc整列批量修改：\\n', df)\n",
        "df.iloc[1:,0] = [8,8]\n",
        "print('通过iloc切片修改：\\n', df)"
      ],
      "metadata": {
        "colab": {
          "base_uri": "https://localhost:8080/"
        },
        "id": "LQVNGF9mBZrh",
        "outputId": "2efa8714-99aa-493e-90b5-41b8a964599b"
      },
      "execution_count": null,
      "outputs": [
        {
          "output_type": "stream",
          "name": "stdout",
          "text": [
            "通过loc整列修改：\n",
            "     c0  c1  c2\n",
            "r0   6   1   2\n",
            "r1   6   4   5\n",
            "r2   6   7   8\n",
            "通过loc整列批量修改：\n",
            "     c0  c1  c2\n",
            "r0   7   1   2\n",
            "r1   6   4   5\n",
            "r2   7   7   8\n",
            "通过iloc切片修改：\n",
            "     c0  c1  c2\n",
            "r0   7   1   2\n",
            "r1   8   4   5\n",
            "r2   8   7   8\n"
          ]
        }
      ]
    },
    {
      "cell_type": "code",
      "source": [
        "# 修改块\n",
        "df = pd.DataFrame(np.arange(9).reshape(3,3), columns=['c0','c1','c2'], index=['r0','r1','r2'])\n",
        "\n",
        "df.loc[['r0','r2'],['c0','c2']] = np.zeros([2,2], dtype=int)\n",
        "print('通过loc修改4个角：\\n', df)\n",
        "df.iloc[:2,:2] = np.ones([2,2], dtype=int)\n",
        "print('通过iloc整列左上角2x2数据：\\n', df)"
      ],
      "metadata": {
        "colab": {
          "base_uri": "https://localhost:8080/"
        },
        "id": "_UsCSu66CUdp",
        "outputId": "32a93be1-108f-404c-dcf9-3ce2378ba667"
      },
      "execution_count": null,
      "outputs": [
        {
          "output_type": "stream",
          "name": "stdout",
          "text": [
            "通过loc修改4个角：\n",
            "     c0  c1  c2\n",
            "r0   0   1   0\n",
            "r1   3   4   5\n",
            "r2   0   7   0\n",
            "通过iloc整列左上角2x2数据：\n",
            "     c0  c1  c2\n",
            "r0   1   1   0\n",
            "r1   1   1   5\n",
            "r2   0   7   0\n"
          ]
        }
      ]
    },
    {
      "cell_type": "markdown",
      "source": [
        "### 删除数据"
      ],
      "metadata": {
        "id": "Vv2IxU-Z6HRV"
      }
    },
    {
      "cell_type": "markdown",
      "source": [
        "#### 单行/列删除"
      ],
      "metadata": {
        "id": "k9Y7e1FgILOP"
      }
    },
    {
      "cell_type": "code",
      "source": [
        "df = pd.DataFrame(np.arange(100).reshape(10,10), columns=['c0','c1','c2','c3','c4','c5','c6','c7','c8','c9'], index=['r0','r1','r2','r3','r4','r5','r6','r7','r8','r9'])\n",
        "\n",
        "df.drop('r0', axis=0, inplace=True)\n",
        "print('通过标题删除整行：\\n', df)\n",
        "df.drop(['r1'], axis=0, inplace=True)\n",
        "print('通过标题删除整行（list形式）：\\n', df)\n",
        "\n",
        "# labels名可以省略\n",
        "df.drop(labels='c0', axis=1, inplace=True)\n",
        "print('通过标题删除整列：\\n', df)\n",
        "df.drop(labels=['c1'], axis=1, inplace=True)\n",
        "print('通过标题删除整列（list形式）：\\n', df)"
      ],
      "metadata": {
        "colab": {
          "base_uri": "https://localhost:8080/"
        },
        "id": "LwDBqa5O6I3t",
        "outputId": "cc127ac7-2655-4345-a116-dff7b049f609"
      },
      "execution_count": null,
      "outputs": [
        {
          "output_type": "stream",
          "name": "stdout",
          "text": [
            "通过标题删除整行：\n",
            "     c0  c1  c2  c3  c4  c5  c6  c7  c8  c9\n",
            "r1  10  11  12  13  14  15  16  17  18  19\n",
            "r2  20  21  22  23  24  25  26  27  28  29\n",
            "r3  30  31  32  33  34  35  36  37  38  39\n",
            "r4  40  41  42  43  44  45  46  47  48  49\n",
            "r5  50  51  52  53  54  55  56  57  58  59\n",
            "r6  60  61  62  63  64  65  66  67  68  69\n",
            "r7  70  71  72  73  74  75  76  77  78  79\n",
            "r8  80  81  82  83  84  85  86  87  88  89\n",
            "r9  90  91  92  93  94  95  96  97  98  99\n",
            "通过标题删除整行（list形式）：\n",
            "     c0  c1  c2  c3  c4  c5  c6  c7  c8  c9\n",
            "r2  20  21  22  23  24  25  26  27  28  29\n",
            "r3  30  31  32  33  34  35  36  37  38  39\n",
            "r4  40  41  42  43  44  45  46  47  48  49\n",
            "r5  50  51  52  53  54  55  56  57  58  59\n",
            "r6  60  61  62  63  64  65  66  67  68  69\n",
            "r7  70  71  72  73  74  75  76  77  78  79\n",
            "r8  80  81  82  83  84  85  86  87  88  89\n",
            "r9  90  91  92  93  94  95  96  97  98  99\n",
            "通过标题删除整列：\n",
            "     c1  c2  c3  c4  c5  c6  c7  c8  c9\n",
            "r2  21  22  23  24  25  26  27  28  29\n",
            "r3  31  32  33  34  35  36  37  38  39\n",
            "r4  41  42  43  44  45  46  47  48  49\n",
            "r5  51  52  53  54  55  56  57  58  59\n",
            "r6  61  62  63  64  65  66  67  68  69\n",
            "r7  71  72  73  74  75  76  77  78  79\n",
            "r8  81  82  83  84  85  86  87  88  89\n",
            "r9  91  92  93  94  95  96  97  98  99\n",
            "通过标题删除整列（list形式）：\n",
            "     c2  c3  c4  c5  c6  c7  c8  c9\n",
            "r2  22  23  24  25  26  27  28  29\n",
            "r3  32  33  34  35  36  37  38  39\n",
            "r4  42  43  44  45  46  47  48  49\n",
            "r5  52  53  54  55  56  57  58  59\n",
            "r6  62  63  64  65  66  67  68  69\n",
            "r7  72  73  74  75  76  77  78  79\n",
            "r8  82  83  84  85  86  87  88  89\n",
            "r9  92  93  94  95  96  97  98  99\n"
          ]
        }
      ]
    },
    {
      "cell_type": "markdown",
      "source": [
        "#### 批量删除"
      ],
      "metadata": {
        "id": "YOc4WcCbIRt3"
      }
    },
    {
      "cell_type": "code",
      "source": [
        "df = pd.DataFrame(np.arange(100).reshape(10,10), columns=['c0','c1','c2','c3','c4','c5','c6','c7','c8','c9'], index=['r0','r1','r2','r3','r4','r5','r6','r7','r8','r9'])\n",
        "\n",
        "df.drop(index=['r0','r2','r4','r6','r8'], inplace=True)\n",
        "print('删除整行：', df)\n",
        "df.drop(columns=['c0','c2','c4','c6','c8'], inplace=True)\n",
        "print('删除整列：', df)"
      ],
      "metadata": {
        "colab": {
          "base_uri": "https://localhost:8080/"
        },
        "id": "3_WnV9bDEH3C",
        "outputId": "59a13d88-7e28-49c4-fd36-c9726502b55d"
      },
      "execution_count": null,
      "outputs": [
        {
          "output_type": "stream",
          "name": "stdout",
          "text": [
            "删除整行：     c0  c1  c2  c3  c4  c5  c6  c7  c8  c9\n",
            "r1  10  11  12  13  14  15  16  17  18  19\n",
            "r3  30  31  32  33  34  35  36  37  38  39\n",
            "r5  50  51  52  53  54  55  56  57  58  59\n",
            "r7  70  71  72  73  74  75  76  77  78  79\n",
            "r9  90  91  92  93  94  95  96  97  98  99\n",
            "删除整列：     c1  c3  c5  c7  c9\n",
            "r1  11  13  15  17  19\n",
            "r3  31  33  35  37  39\n",
            "r5  51  53  55  57  59\n",
            "r7  71  73  75  77  79\n",
            "r9  91  93  95  97  99\n"
          ]
        }
      ]
    },
    {
      "cell_type": "markdown",
      "source": [
        "#### 切片（块）删除"
      ],
      "metadata": {
        "id": "ZSPa8V6UIYOf"
      }
    },
    {
      "cell_type": "code",
      "source": [
        "# 切片删除的本质，其实就是利用iloc做切片选取，然后再通过批量删除给定list的方法进行删除\n",
        "df = pd.DataFrame(np.arange(100).reshape(10,10), columns=['c0','c1','c2','c3','c4','c5','c6','c7','c8','c9'], index=['r0','r1','r2','r3','r4','r5','r6','r7','r8','r9'])\n",
        "\n",
        "df.drop(df.iloc[6:10].index, axis=0, inplace=True)\n",
        "print('按切片删除多行：', df)\n",
        "\n",
        "df.drop(df.iloc[:,6:10].columns, axis=1, inplace=True)\n",
        "print('按切片删除多列：', df)\n",
        "\n",
        "df.drop(columns=df.iloc[:,0:3].columns, index=df.iloc[0:3].index, inplace=True)\n",
        "print('按切片删除块：', df)"
      ],
      "metadata": {
        "colab": {
          "base_uri": "https://localhost:8080/"
        },
        "id": "sfRKymo_GNr4",
        "outputId": "b5528ca4-1480-4b5b-f7be-7fcba9ce9ee0"
      },
      "execution_count": null,
      "outputs": [
        {
          "output_type": "stream",
          "name": "stdout",
          "text": [
            "按切片删除多行：     c0  c1  c2  c3  c4  c5  c6  c7  c8  c9\n",
            "r0   0   1   2   3   4   5   6   7   8   9\n",
            "r1  10  11  12  13  14  15  16  17  18  19\n",
            "r2  20  21  22  23  24  25  26  27  28  29\n",
            "r3  30  31  32  33  34  35  36  37  38  39\n",
            "r4  40  41  42  43  44  45  46  47  48  49\n",
            "r5  50  51  52  53  54  55  56  57  58  59\n",
            "按切片删除多列：     c0  c1  c2  c3  c4  c5\n",
            "r0   0   1   2   3   4   5\n",
            "r1  10  11  12  13  14  15\n",
            "r2  20  21  22  23  24  25\n",
            "r3  30  31  32  33  34  35\n",
            "r4  40  41  42  43  44  45\n",
            "r5  50  51  52  53  54  55\n",
            "按切片删除块：     c3  c4  c5\n",
            "r3  33  34  35\n",
            "r4  43  44  45\n",
            "r5  53  54  55\n"
          ]
        }
      ]
    },
    {
      "cell_type": "markdown",
      "source": [
        "#### 条件删除"
      ],
      "metadata": {
        "id": "ypY_LFcbIcaG"
      }
    },
    {
      "cell_type": "code",
      "source": [
        "# 条件删除的本质，还是利用批量删除的方式，只不过用条件选取的方法获取需要删除的行/列标题数组\n",
        "df = pd.DataFrame(np.arange(100).reshape(10,10), columns=['c0','c1','c2','c3','c4','c5','c6','c7','c8','c9'], index=['r0','r1','r2','r3','r4','r5','r6','r7','r8','r9'])\n",
        "\n",
        "df.drop(df[df['c0']>50].index, inplace=True)\n",
        "print('指定条件删除：\\n', df)"
      ],
      "metadata": {
        "colab": {
          "base_uri": "https://localhost:8080/"
        },
        "id": "KdHWhusHGJiq",
        "outputId": "99573813-0975-41a5-c634-385d1f945421"
      },
      "execution_count": null,
      "outputs": [
        {
          "output_type": "stream",
          "name": "stdout",
          "text": [
            "指定条件删除：\n",
            "     c0  c1  c2  c3  c4  c5  c6  c7  c8  c9\n",
            "r0   0   1   2   3   4   5   6   7   8   9\n",
            "r1  10  11  12  13  14  15  16  17  18  19\n",
            "r2  20  21  22  23  24  25  26  27  28  29\n",
            "r3  30  31  32  33  34  35  36  37  38  39\n",
            "r4  40  41  42  43  44  45  46  47  48  49\n",
            "r5  50  51  52  53  54  55  56  57  58  59\n"
          ]
        }
      ]
    },
    {
      "cell_type": "markdown",
      "source": [
        "### 数据清洗"
      ],
      "metadata": {
        "id": "fj8lK--JJvza"
      }
    },
    {
      "cell_type": "code",
      "source": [
        "data = [\n",
        "    {'name':'a', 'age':1, 'score':1.1},\n",
        "    {'name':'b', 'age':None, 'score':2.2},\n",
        "    {'name':'c', 'age':3, 'score':None},\n",
        "    {'name':'a', 'age':1, 'score':1.1},\n",
        "    ]"
      ],
      "metadata": {
        "id": "10SZCEPaKS0W"
      },
      "execution_count": null,
      "outputs": []
    },
    {
      "cell_type": "markdown",
      "source": [
        "#### 删除缺失值"
      ],
      "metadata": {
        "id": "cgdBVXDrJ6SD"
      }
    },
    {
      "cell_type": "code",
      "source": [
        "df = pd.DataFrame(data)\n",
        "\n",
        "print('删除有缺失值的数据：\\n', df.dropna())\n",
        "print('提取指定列没有缺失值的数据：\\n', df[df['age'].notnull()])"
      ],
      "metadata": {
        "colab": {
          "base_uri": "https://localhost:8080/"
        },
        "id": "5Af1v83bKIgn",
        "outputId": "6ac1f701-c142-41a0-8df1-a8cc28962eca"
      },
      "execution_count": null,
      "outputs": [
        {
          "output_type": "stream",
          "name": "stdout",
          "text": [
            "删除有缺失值的数据：\n",
            "   name  age  score\n",
            "0    a  1.0    1.1\n",
            "3    a  1.0    1.1\n",
            "提取指定列没有缺失值的数据：\n",
            "   name  age  score\n",
            "0    a  1.0    1.1\n",
            "2    c  3.0    NaN\n",
            "3    a  1.0    1.1\n"
          ]
        }
      ]
    },
    {
      "cell_type": "markdown",
      "source": [
        "#### 填充缺失值"
      ],
      "metadata": {
        "id": "A_8zHCDfJ9dn"
      }
    },
    {
      "cell_type": "code",
      "source": [
        "df = pd.DataFrame(data)\n",
        "\n",
        "df['score'].fillna(0., inplace=True)\n",
        "print('使用固定值填充缺失数据：\\n', df.dropna())"
      ],
      "metadata": {
        "colab": {
          "base_uri": "https://localhost:8080/"
        },
        "id": "GIW8PCwgL6yv",
        "outputId": "2caf3649-7f50-491c-9a01-b9642876ebb3"
      },
      "execution_count": null,
      "outputs": [
        {
          "output_type": "stream",
          "name": "stdout",
          "text": [
            "使用固定值填充缺失数据：\n",
            "   name  age  score\n",
            "0    a  1.0    1.1\n",
            "2    c  3.0    0.0\n",
            "3    a  1.0    1.1\n"
          ]
        }
      ]
    },
    {
      "cell_type": "code",
      "source": [
        "df = pd.DataFrame(data)\n",
        "\n",
        "df.fillna(df.mean(), inplace=True)  # 这里只要使用一个Series作为参数，填充任意数据都是可以的\n",
        "print('使用统计值填充缺失数据：\\n', df.dropna())"
      ],
      "metadata": {
        "colab": {
          "base_uri": "https://localhost:8080/"
        },
        "id": "I-mGjvIOOOHw",
        "outputId": "ec7c0979-8644-4a29-bd68-b7fd5b95d3f1"
      },
      "execution_count": null,
      "outputs": [
        {
          "output_type": "stream",
          "name": "stdout",
          "text": [
            "使用统计值填充缺失数据：\n",
            "   name       age     score\n",
            "0    a  1.000000  1.100000\n",
            "1    b  1.666667  2.200000\n",
            "2    c  3.000000  1.466667\n",
            "3    a  1.000000  1.100000\n"
          ]
        },
        {
          "output_type": "stream",
          "name": "stderr",
          "text": [
            "<ipython-input-306-a5a7f2d827bc>:3: FutureWarning: The default value of numeric_only in DataFrame.mean is deprecated. In a future version, it will default to False. In addition, specifying 'numeric_only=None' is deprecated. Select only valid columns or specify the value of numeric_only to silence this warning.\n",
            "  df.fillna(df.mean(), inplace=True)  # 这里只要使用一个Series作为参数，填充任意数据都是可以的\n"
          ]
        }
      ]
    },
    {
      "cell_type": "markdown",
      "source": [
        "#### 删除重复数据"
      ],
      "metadata": {
        "id": "KUfU0S74KFU_"
      }
    },
    {
      "cell_type": "code",
      "source": [
        "df = pd.DataFrame(data)\n",
        "\n",
        "# 只有所有列全都相同的数据，才会被认定为重复数据\n",
        "print('判断是否有重复数据：\\n', df.duplicated())\n",
        "\n",
        "print('删除重复数据：\\n', df.drop_duplicates())\n",
        "print('删除指定列的重复数据：\\n', df.drop_duplicates(['name']))\n",
        "print('删除指定列的重复数据，保留最后一条：\\n', df.drop_duplicates(['name'], keep='last'))"
      ],
      "metadata": {
        "colab": {
          "base_uri": "https://localhost:8080/"
        },
        "id": "8fgbgU68JyUJ",
        "outputId": "bbab787d-8383-411f-e14f-87f980d0b05b"
      },
      "execution_count": null,
      "outputs": [
        {
          "output_type": "stream",
          "name": "stdout",
          "text": [
            "判断是否有重复数据：\n",
            " 0    False\n",
            "1    False\n",
            "2    False\n",
            "3     True\n",
            "dtype: bool\n",
            "删除重复数据：\n",
            "   name  age  score\n",
            "0    a  1.0    1.1\n",
            "1    b  NaN    2.2\n",
            "2    c  3.0    NaN\n",
            "删除指定列的重复数据：\n",
            "   name  age  score\n",
            "0    a  1.0    1.1\n",
            "1    b  NaN    2.2\n",
            "2    c  3.0    NaN\n",
            "删除指定列的重复数据，保留最后一跳：\n",
            "   name  age  score\n",
            "1    b  NaN    2.2\n",
            "2    c  3.0    NaN\n",
            "3    a  1.0    1.1\n"
          ]
        }
      ]
    },
    {
      "cell_type": "markdown",
      "source": [
        "## 索引的使用"
      ],
      "metadata": {
        "id": "BwVaPnkIPPw_"
      }
    },
    {
      "cell_type": "markdown",
      "source": [
        "### 设置索引"
      ],
      "metadata": {
        "id": "4WYAETiBUAUB"
      }
    },
    {
      "cell_type": "code",
      "source": [
        "df = pd.DataFrame(np.arange(9).reshape(3,3), columns=['c0','c1','c2'], index=['r0','r1','r2'])\n",
        "\n",
        "print('将指定列设置为索引：\\n', df.set_index('c0'))\n",
        "print('将索引重置为默认值：\\n', df.reset_index(drop=True))"
      ],
      "metadata": {
        "colab": {
          "base_uri": "https://localhost:8080/"
        },
        "id": "IpRfgWjGUJoA",
        "outputId": "d9a5f313-f2d4-4fff-8e41-90136d48e65b"
      },
      "execution_count": null,
      "outputs": [
        {
          "output_type": "stream",
          "name": "stdout",
          "text": [
            "将指定列设置为索引：\n",
            "     c1  c2\n",
            "c0        \n",
            "0    1   2\n",
            "3    4   5\n",
            "6    7   8\n",
            "将指定列设置为索引：\n",
            "    c0  c1  c2\n",
            "0   0   1   2\n",
            "1   3   4   5\n",
            "2   6   7   8\n"
          ]
        }
      ]
    },
    {
      "cell_type": "markdown",
      "source": [
        "### 重置索引"
      ],
      "metadata": {
        "id": "8euLMYjoT83K"
      }
    },
    {
      "cell_type": "code",
      "source": [
        "df = pd.DataFrame(np.arange(9).reshape(3,3), columns=['c0','c1','c2'], index=['r0','r1','r2'])\n",
        "s = pd.Series([11,22,33])\n",
        "\n",
        "# reindex不是rename，新索引值会被置Nan，未包含原索引时，未包含的索引项会被删除\n",
        "print('Series重置索引：\\n', s.reindex(range(4), fill_value=0))\n",
        "print('DataFrame重置索引：\\n', df.reindex(columns=['c0','c1','c2','c3'], index=['r0','r1','r2','r4'], method='ffill'))"
      ],
      "metadata": {
        "colab": {
          "base_uri": "https://localhost:8080/"
        },
        "id": "8zSYVAUJPSRP",
        "outputId": "d284fab8-4971-4a80-bf6a-744ba229c4b5"
      },
      "execution_count": null,
      "outputs": [
        {
          "output_type": "stream",
          "name": "stdout",
          "text": [
            "Series重置索引：\n",
            " 0    11\n",
            "1    22\n",
            "2    33\n",
            "3     0\n",
            "dtype: int64\n",
            "DataFrame重置索引：\n",
            "     c0  c1  c2  c3\n",
            "r0   0   1   2   2\n",
            "r1   3   4   5   5\n",
            "r2   6   7   8   8\n",
            "r4   6   7   8   8\n"
          ]
        }
      ]
    },
    {
      "cell_type": "markdown",
      "source": [
        "## 数据处理"
      ],
      "metadata": {
        "id": "MUv6rXuFbaUP"
      }
    },
    {
      "cell_type": "markdown",
      "source": [
        "### 数据排序"
      ],
      "metadata": {
        "id": "jvXfllS_VW2Z"
      }
    },
    {
      "cell_type": "code",
      "source": [
        "# 数据排序\n",
        "df = pd.DataFrame(np.random.randint(0,10,100).reshape(10,10))\n",
        "print('按指定列进行排序：\\n', df.sort_values(by=0))  # by可以省略\n",
        "print('按多列进行排序：\\n', df.sort_values(by=[1,0]))"
      ],
      "metadata": {
        "colab": {
          "base_uri": "https://localhost:8080/"
        },
        "id": "HEw3msYqVYxR",
        "outputId": "ed29648c-fb28-4f19-f567-f034894e2186"
      },
      "execution_count": null,
      "outputs": [
        {
          "output_type": "stream",
          "name": "stdout",
          "text": [
            "按指定列进行排序：\n",
            "    0  1  2  3  4  5  6  7  8  9\n",
            "2  0  0  4  4  8  0  3  8  0  6\n",
            "0  1  3  7  1  1  0  7  4  2  3\n",
            "1  1  5  7  7  1  7  3  8  2  3\n",
            "5  2  5  3  6  5  4  0  2  2  3\n",
            "7  3  0  2  7  2  3  2  5  2  5\n",
            "8  3  9  4  4  5  1  0  6  2  2\n",
            "4  4  0  0  8  8  0  8  5  7  0\n",
            "3  7  3  5  6  7  7  4  3  1  8\n",
            "6  7  7  6  2  0  9  3  6  8  2\n",
            "9  9  0  1  5  3  6  9  8  0  5\n",
            "按多列进行排序：\n",
            "    0  1  2  3  4  5  6  7  8  9\n",
            "2  0  0  4  4  8  0  3  8  0  6\n",
            "7  3  0  2  7  2  3  2  5  2  5\n",
            "4  4  0  0  8  8  0  8  5  7  0\n",
            "9  9  0  1  5  3  6  9  8  0  5\n",
            "0  1  3  7  1  1  0  7  4  2  3\n",
            "3  7  3  5  6  7  7  4  3  1  8\n",
            "1  1  5  7  7  1  7  3  8  2  3\n",
            "5  2  5  3  6  5  4  0  2  2  3\n",
            "6  7  7  6  2  0  9  3  6  8  2\n",
            "8  3  9  4  4  5  1  0  6  2  2\n"
          ]
        }
      ]
    },
    {
      "cell_type": "code",
      "source": [
        "# 数据排名（需要先排序）\n",
        "df = pd.DataFrame(np.random.randint(0,10,100).reshape(10,10))\n",
        "df.sort_values(0, inplace=True)\n",
        "df['rank'] = df[0].rank(method='min')\n",
        "print('计算排名：', df)"
      ],
      "metadata": {
        "colab": {
          "base_uri": "https://localhost:8080/"
        },
        "id": "Fj0p0RhrXC7q",
        "outputId": "0485e880-4655-4880-895c-959131573add"
      },
      "execution_count": null,
      "outputs": [
        {
          "output_type": "stream",
          "name": "stdout",
          "text": [
            "计算排名：    0  1  2  3  4  5  6  7  8  9  rank\n",
            "5  0  2  0  6  2  1  5  2  7  2   1.0\n",
            "3  1  1  6  6  6  4  3  1  1  0   2.0\n",
            "6  1  6  2  5  0  2  9  2  8  5   2.0\n",
            "1  2  6  9  4  5  1  4  2  5  4   4.0\n",
            "2  2  5  1  6  9  8  0  5  2  4   4.0\n",
            "8  2  1  1  3  3  7  1  1  7  5   4.0\n",
            "4  3  2  5  1  2  6  5  7  9  2   7.0\n",
            "0  6  4  8  8  1  8  6  3  3  0   8.0\n",
            "7  7  8  3  2  2  1  2  4  3  4   9.0\n",
            "9  7  0  7  6  7  8  1  1  8  9   9.0\n"
          ]
        }
      ]
    },
    {
      "cell_type": "markdown",
      "source": [
        "### 数据计算"
      ],
      "metadata": {
        "id": "mc21lEhAYXJ6"
      }
    },
    {
      "cell_type": "code",
      "source": [
        "df = pd.DataFrame(np.random.randint(0,100,100).reshape(10,10), columns=['c0','c1','c2','c3','c4','c5','c6','c7','c8','c9'], index=['r0','r1','r2','r3','r4','r5','r6','r7','r8','r9'])\n",
        "print('求和：', df.sum().tolist())\n",
        "print('求均值：', df.mean().tolist())\n",
        "print('最大值：', df.max().tolist())\n",
        "print('最小值：', df.min().tolist())\n",
        "print('中位数：', df.median().tolist())\n",
        "print('方差：', df.var().tolist())\n",
        "print('标准差：', df.std().tolist())\n",
        "print('分位值：', df.quantile(0.5).tolist())\n",
        "print('众数：\\n', df.mode())"
      ],
      "metadata": {
        "colab": {
          "base_uri": "https://localhost:8080/"
        },
        "id": "kfVrr7F2YeSS",
        "outputId": "604fc777-38c2-4d3b-ac24-a6a5fd6a6cbd"
      },
      "execution_count": null,
      "outputs": [
        {
          "output_type": "stream",
          "name": "stdout",
          "text": [
            "求和： [402, 497, 422, 452, 482, 493, 540, 409, 424, 520]\n",
            "求均值： [40.2, 49.7, 42.2, 45.2, 48.2, 49.3, 54.0, 40.9, 42.4, 52.0]\n",
            "最大值： [99, 99, 94, 75, 87, 83, 94, 89, 82, 92]\n",
            "最小值： [3, 4, 2, 6, 10, 8, 5, 5, 8, 12]\n",
            "中位数： [31.5, 40.5, 40.5, 43.5, 49.0, 52.5, 55.0, 40.0, 42.5, 48.5]\n",
            "方差： [921.9555555555554, 1248.0111111111112, 983.7333333333333, 609.2888888888889, 813.0666666666667, 702.6777777777778, 1015.3333333333334, 744.5444444444444, 601.6, 658.2222222222222]\n",
            "标准差： [30.36372104264488, 35.327200725660546, 31.364523483281765, 24.683777848799583, 28.514323885841424, 26.50807005003906, 31.864295588218067, 27.28634171970373, 24.52753554680943, 25.655841873191807]\n",
            "分位值： [31.5, 40.5, 40.5, 43.5, 49.0, 52.5, 55.0, 40.0, 42.5, 48.5]\n",
            "众数：\n",
            "    c0  c1  c2  c3  c4  c5  c6    c7  c8  c9\n",
            "0   3   4   2   6  10   8   5  36.0   8  12\n",
            "1  15  14   6  21  20  21  15   NaN  11  25\n",
            "2  22  22  15  25  23  26  26   NaN  24  36\n",
            "3  28  25  30  31  25  33  43   NaN  33  40\n",
            "4  31  32  37  38  39  44  46   NaN  40  42\n",
            "5  32  49  44  49  59  61  64   NaN  45  55\n",
            "6  33  72  46  61  60  64  73   NaN  50  61\n",
            "7  55  89  62  72  73  74  85   NaN  58  78\n",
            "8  84  91  86  74  86  79  89   NaN  73  79\n",
            "9  99  99  94  75  87  83  94   NaN  82  92\n"
          ]
        }
      ]
    },
    {
      "cell_type": "markdown",
      "source": [
        "### 数据格式化"
      ],
      "metadata": {
        "id": "RfYP_QY6beTj"
      }
    },
    {
      "cell_type": "code",
      "source": [
        "df = pd.DataFrame(np.random.randn(9).reshape(3,3), columns=['c0','c1','c2'], index=['r0','r1','r2'])\n",
        "\n",
        "print('保留3位小数：\\n', df.round(3))\n",
        "print('不同列保留不同位数：\\n', df.round({'c0':1,'c1':2,'c2':3}))\n",
        "print('使用自定义函数设置保留位数：\\n', df.applymap(lambda x: '{:.2f}'.format(x)))\n",
        "# applymap可以依次应用到DataFrame的每个元素上\n",
        "print('使用自定义函数设置百分比：\\n', df.applymap(lambda x: format(x,'.2%')))\n",
        "# apply既可以用于DataFrame也可以用于Series，但apply做能作用于整行或整列\n",
        "print('使用自定义函数设置百分比：\\n', df['c0'].apply(lambda x: format(x,'.2%')))\n",
        "# map只能用于Series\n",
        "print('使用自定义函数设置百分比：\\n', df['c0'].map(lambda x: format(x,'.2%')))"
      ],
      "metadata": {
        "colab": {
          "base_uri": "https://localhost:8080/"
        },
        "id": "4JBc85Z_bfj2",
        "outputId": "649cb5d6-d68d-4f0b-837e-e842ae1c5dc7"
      },
      "execution_count": null,
      "outputs": [
        {
          "output_type": "stream",
          "name": "stdout",
          "text": [
            "保留3位小数：\n",
            "        c0     c1     c2\n",
            "r0  1.376 -0.241 -0.121\n",
            "r1 -1.582 -0.448  0.319\n",
            "r2 -0.103 -0.558 -0.069\n",
            "不同列保留不同位数：\n",
            "      c0    c1     c2\n",
            "r0  1.4 -0.24 -0.121\n",
            "r1 -1.6 -0.45  0.319\n",
            "r2 -0.1 -0.56 -0.069\n",
            "使用自定义函数设置保留位数：\n",
            "        c0     c1     c2\n",
            "r0   1.38  -0.24  -0.12\n",
            "r1  -1.58  -0.45   0.32\n",
            "r2  -0.10  -0.56  -0.07\n",
            "使用自定义函数设置百分比：\n",
            "           c0       c1       c2\n",
            "r0   137.58%  -24.13%  -12.07%\n",
            "r1  -158.23%  -44.85%   31.86%\n",
            "r2   -10.26%  -55.78%   -6.89%\n",
            "使用自定义函数设置百分比：\n",
            " r0     137.58%\n",
            "r1    -158.23%\n",
            "r2     -10.26%\n",
            "Name: c0, dtype: object\n",
            "使用自定义函数设置百分比：\n",
            " r0     137.58%\n",
            "r1    -158.23%\n",
            "r2     -10.26%\n",
            "Name: c0, dtype: object\n"
          ]
        }
      ]
    },
    {
      "cell_type": "markdown",
      "source": [
        "### 数据分组"
      ],
      "metadata": {
        "id": "2XVgrE1hgnJU"
      }
    },
    {
      "cell_type": "code",
      "source": [
        "data = [\n",
        "    {'name':'a', 'count':1, 'score':1.1},\n",
        "    {'name':'b', 'count':2, 'score':2.2},\n",
        "    {'name':'c', 'count':3, 'score':3.3},\n",
        "    {'name':'a', 'count':4, 'score':4.4},\n",
        "    {'name':'b', 'count':5, 'score':5.5},\n",
        "    {'name':'c', 'count':6, 'score':6.6},\n",
        "    {'name':'a', 'count':7, 'score':7.7},\n",
        "    ]\n",
        "df = pd.DataFrame(data)\n",
        "\n",
        "# by即可以是单列，也可以是多列的数组\n",
        "print('对数据进行分组聚合：\\n', df.groupby(by='name').sum())  # by可以省略\n",
        "print('对数据进行分组聚合（只聚合指定列）：\\n', df.groupby(by='name')['count'].sum())\n",
        "print('对数据进行分组聚合（自定义聚合方法）：\\n', df.groupby(by='name').agg(['sum','mean']))\n",
        "print('对数据进行分组聚合（不同列不同聚合方法）：\\n', df.groupby(by='name').agg({'count':['sum'], 'score':['mean']}))\n",
        "print('数据分组是可迭代的')\n",
        "for name, df in df.groupby(by='name'):\n",
        "  print('数据分组：', name, type(df))\n",
        "\n",
        "# 使用字段或Series对进行二次映射的分组统计\n",
        "df.set_index('name',inplace=True)\n",
        "dict = {'a':'x', 'b':'y', 'c':'y'}  # 将name字段进行二次映射\n",
        "print('对数据进行二次映射分组聚合：\\n', df.groupby(by=pd.Series(dict)).sum()) # 这里直接用dict也是可以的\n",
        "\n",
        "# 使用自定义聚合函数\n",
        "df = pd.DataFrame(data)\n",
        "diy = lambda x: x.value_counts().index[0] # 这里的x表示一个Series\n",
        "diy.__name__ = 'diy'\n",
        "print('对数据进行分组聚合（自定义聚合方法）：\\n', df.agg({'name':[diy]}))"
      ],
      "metadata": {
        "colab": {
          "base_uri": "https://localhost:8080/"
        },
        "id": "zjHReeq6go20",
        "outputId": "d8622217-ee9e-4f07-8d7e-340caa9bebb2"
      },
      "execution_count": null,
      "outputs": [
        {
          "output_type": "stream",
          "name": "stdout",
          "text": [
            "对数据进行分组聚合：\n",
            "       count  score\n",
            "name              \n",
            "a        12   13.2\n",
            "b         7    7.7\n",
            "c         9    9.9\n",
            "对数据进行分组聚合（只聚合指定列）：\n",
            " name\n",
            "a    12\n",
            "b     7\n",
            "c     9\n",
            "Name: count, dtype: int64\n",
            "对数据进行分组聚合（自定义聚合方法）：\n",
            "      count      score      \n",
            "       sum mean   sum  mean\n",
            "name                       \n",
            "a       12  4.0  13.2  4.40\n",
            "b        7  3.5   7.7  3.85\n",
            "c        9  4.5   9.9  4.95\n",
            "对数据进行分组聚合（不同列不同聚合方法）：\n",
            "      count score\n",
            "       sum  mean\n",
            "name            \n",
            "a       12  4.40\n",
            "b        7  3.85\n",
            "c        9  4.95\n",
            "数据分组是可迭代的\n",
            "数据分组： a <class 'pandas.core.frame.DataFrame'>\n",
            "数据分组： b <class 'pandas.core.frame.DataFrame'>\n",
            "数据分组： c <class 'pandas.core.frame.DataFrame'>\n",
            "对数据进行二次映射分组聚合：\n",
            "    count  score\n",
            "y      9    9.9\n",
            "对数据进行分组聚合（自定义聚合方法）：\n",
            "     name\n",
            "diy    a\n"
          ]
        }
      ]
    },
    {
      "cell_type": "markdown",
      "source": [
        "### 数据移位\n",
        "\n",
        "freq取值别名详见：https://pandas.pydata.org/pandas-docs/stable/user_guide/timeseries.html#offset-aliases"
      ],
      "metadata": {
        "id": "6eMmNmk_r84P"
      }
    },
    {
      "cell_type": "code",
      "source": [
        "# 数据移位最常用的场景，就是做同环比的比较\n",
        "data = {\n",
        "    \"c1\": np.random.randint(0,100,10),\n",
        "    \"c2\": np.random.randint(0,100,10),\n",
        "    \"c3\": np.random.randint(0,100,10)\n",
        "}\n",
        "index=pd.date_range(\"2020-01-01\", \"2020-1-10\")\n",
        "df = pd.DataFrame(data=data, index=index)\n",
        "print('通过shift可以对数据进行下移：\\n', df.shift())  # 默认下移1行\n",
        "print('通过shift可以对数据进行上移：\\n', df.shift(periods=-1, fill_value=0))  # periods可省略\n",
        "\n",
        "print('对时序数据，以天为粒度前移1天：\\n', df.shift(periods=-1, freq=\"D\"))\n",
        "print('对时序数据，以周为粒度前移1周：\\n', df.shift(periods=-1, freq=\"W\"))\n",
        "print('对时序数据，以月为粒度前移1月：\\n', df.shift(periods=-1, freq=\"MS\"))\n",
        "print('对时序数据，以年为粒度前移1年：\\n', df.shift(periods=-1, freq=\"YS\"))"
      ],
      "metadata": {
        "colab": {
          "base_uri": "https://localhost:8080/"
        },
        "id": "mxQu4HxTr_wf",
        "outputId": "777cbf2b-a22f-4398-b9ce-f9e5f92461dc"
      },
      "execution_count": null,
      "outputs": [
        {
          "output_type": "stream",
          "name": "stdout",
          "text": [
            "通过shift可以对数据进行下移：\n",
            "               c1    c2    c3\n",
            "2020-01-01   NaN   NaN   NaN\n",
            "2020-01-02  93.0  18.0  45.0\n",
            "2020-01-03  69.0  14.0  27.0\n",
            "2020-01-04  50.0  81.0  38.0\n",
            "2020-01-05  44.0  91.0  44.0\n",
            "2020-01-06  66.0  99.0  22.0\n",
            "2020-01-07  74.0   7.0  76.0\n",
            "2020-01-08  94.0  18.0  34.0\n",
            "2020-01-09  93.0   3.0  85.0\n",
            "2020-01-10  12.0  15.0  29.0\n",
            "通过shift可以对数据进行上移：\n",
            "             c1  c2  c3\n",
            "2020-01-01  69  14  27\n",
            "2020-01-02  50  81  38\n",
            "2020-01-03  44  91  44\n",
            "2020-01-04  66  99  22\n",
            "2020-01-05  74   7  76\n",
            "2020-01-06  94  18  34\n",
            "2020-01-07  93   3  85\n",
            "2020-01-08  12  15  29\n",
            "2020-01-09  61  21  17\n",
            "2020-01-10   0   0   0\n",
            "对时序数据，以天为粒度前移1天：\n",
            "             c1  c2  c3\n",
            "2019-12-31  93  18  45\n",
            "2020-01-01  69  14  27\n",
            "2020-01-02  50  81  38\n",
            "2020-01-03  44  91  44\n",
            "2020-01-04  66  99  22\n",
            "2020-01-05  74   7  76\n",
            "2020-01-06  94  18  34\n",
            "2020-01-07  93   3  85\n",
            "2020-01-08  12  15  29\n",
            "2020-01-09  61  21  17\n",
            "对时序数据，以周为粒度前移1周：\n",
            "             c1  c2  c3\n",
            "2019-12-29  93  18  45\n",
            "2019-12-29  69  14  27\n",
            "2019-12-29  50  81  38\n",
            "2019-12-29  44  91  44\n",
            "2019-12-29  66  99  22\n",
            "2020-01-05  74   7  76\n",
            "2020-01-05  94  18  34\n",
            "2020-01-05  93   3  85\n",
            "2020-01-05  12  15  29\n",
            "2020-01-05  61  21  17\n",
            "对时序数据，以月为粒度前移1月：\n",
            "             c1  c2  c3\n",
            "2019-12-01  93  18  45\n",
            "2020-01-01  69  14  27\n",
            "2020-01-01  50  81  38\n",
            "2020-01-01  44  91  44\n",
            "2020-01-01  66  99  22\n",
            "2020-01-01  74   7  76\n",
            "2020-01-01  94  18  34\n",
            "2020-01-01  93   3  85\n",
            "2020-01-01  12  15  29\n",
            "2020-01-01  61  21  17\n",
            "对时序数据，以年为粒度前移1年：\n",
            "             c1  c2  c3\n",
            "2019-01-01  93  18  45\n",
            "2020-01-01  69  14  27\n",
            "2020-01-01  50  81  38\n",
            "2020-01-01  44  91  44\n",
            "2020-01-01  66  99  22\n",
            "2020-01-01  74   7  76\n",
            "2020-01-01  94  18  34\n",
            "2020-01-01  93   3  85\n",
            "2020-01-01  12  15  29\n",
            "2020-01-01  61  21  17\n"
          ]
        }
      ]
    },
    {
      "cell_type": "markdown",
      "source": [
        "### 行转列"
      ],
      "metadata": {
        "id": "ZYN2YYdp1OI8"
      }
    },
    {
      "cell_type": "code",
      "source": [
        "data = [\n",
        "    {'group':1, 'name':'a', 'score':1.1},\n",
        "    {'group':1, 'name':'b', 'score':2.2},\n",
        "    {'group':1, 'name':'c', 'score':3.3},\n",
        "    {'group':2, 'name':'a', 'score':4.4},\n",
        "    {'group':2, 'name':'b', 'score':5.5},\n",
        "    {'group':2, 'name':'c', 'score':6.6},\n",
        "    ]\n",
        "df = pd.DataFrame(data)\n",
        "# 要想使用unstack，必须要设置MultiIndex才行\n",
        "df.set_index(['group','name'], inplace=True)\n",
        "print('行转列：\\n', df.unstack())"
      ],
      "metadata": {
        "colab": {
          "base_uri": "https://localhost:8080/"
        },
        "id": "-EhhJ7Km1QS7",
        "outputId": "6727e172-c9ea-4473-fa27-f26dc7418d23"
      },
      "execution_count": null,
      "outputs": [
        {
          "output_type": "stream",
          "name": "stdout",
          "text": [
            "行转列：\n",
            "       score          \n",
            "name      a    b    c\n",
            "group                \n",
            "1       1.1  2.2  3.3\n",
            "2       4.4  5.5  6.6\n"
          ]
        }
      ]
    },
    {
      "cell_type": "markdown",
      "source": [
        "### 列拆分"
      ],
      "metadata": {
        "id": "CSo3rPY24sJk"
      }
    },
    {
      "cell_type": "code",
      "source": [
        "s = pd.Series(\n",
        "    [\n",
        "        \"this is a cat\",\n",
        "        \"this is a dog\"\n",
        "    ]\n",
        ")\n",
        "print('将一列根据分隔符拆成数组：\\n', s.str.split())  # 依然是Series\n",
        "print('将一列根据分隔符拆成多列：\\n', s.str.split(expand=True)) # 数据结构变成了DataFrame"
      ],
      "metadata": {
        "colab": {
          "base_uri": "https://localhost:8080/"
        },
        "id": "3Yz-AflH4t_0",
        "outputId": "88c5612b-79dc-4d61-ecc8-93dbc2832e75"
      },
      "execution_count": null,
      "outputs": [
        {
          "output_type": "stream",
          "name": "stdout",
          "text": [
            "将一列根据分隔符拆成数组：\n",
            " 0    [this, is, a, cat]\n",
            "1    [this, is, a, dog]\n",
            "dtype: object\n",
            "将一列根据分隔符拆成多列：\n",
            "       0   1  2    3\n",
            "0  this  is  a  cat\n",
            "1  this  is  a  dog\n"
          ]
        }
      ]
    },
    {
      "cell_type": "markdown",
      "metadata": {
        "id": "dw1L4NlEjJM3"
      },
      "source": [
        "# 高级用法"
      ]
    },
    {
      "cell_type": "markdown",
      "metadata": {
        "id": "xmh9zP0Cp4rk"
      },
      "source": [
        "## 从csv文件中导入数据"
      ]
    },
    {
      "cell_type": "code",
      "execution_count": null,
      "metadata": {
        "colab": {
          "base_uri": "https://localhost:8080/"
        },
        "id": "OXxUoRiw0Axf",
        "outputId": "06ecc787-b04e-4d38-a927-17656671a272"
      },
      "outputs": [
        {
          "name": "stdout",
          "output_type": "stream",
          "text": [
            "  name  age  score\n",
            "0    a    1    1.1\n",
            "1    b    2    2.2\n",
            "2    c    3    3.3\n",
            "从csv中初始化DataFrame：\n",
            "   name  age  score\n",
            "0    a    1    1.1\n",
            "1    b    2    2.2\n",
            "2    c    3    3.3\n"
          ]
        }
      ],
      "source": [
        "data = [['a',1,1.1], ['b',2,2.2], ['c',3,3.3]]\n",
        "columns = ['name', 'age', 'score']\n",
        "df = pd.DataFrame(data=data, columns=columns)\n",
        "print(df)\n",
        "df.to_csv('df.csv', index=False)\n",
        "df = pd.read_csv('df.csv', )\n",
        "print('从csv中初始化DataFrame：\\n', df)"
      ]
    },
    {
      "cell_type": "markdown",
      "metadata": {
        "id": "HDibyMt5115I"
      },
      "source": [
        "## 从excel文件中导入数据"
      ]
    },
    {
      "cell_type": "code",
      "execution_count": null,
      "metadata": {
        "colab": {
          "base_uri": "https://localhost:8080/"
        },
        "id": "5VSH-COX2Ybw",
        "outputId": "b496c8ea-1cdd-4df3-9036-d4a31987a52e"
      },
      "outputs": [
        {
          "name": "stdout",
          "output_type": "stream",
          "text": [
            "  name  age  score\n",
            "0    a    1    1.1\n",
            "1    b    2    2.2\n",
            "2    c    3    3.3\n",
            "从excel中初始化DataFrame：\n",
            "   name  age  score\n",
            "0    a    1    1.1\n",
            "1    b    2    2.2\n",
            "2    c    3    3.3\n"
          ]
        }
      ],
      "source": [
        "# 简单用法\n",
        "data = [['a',1,1.1], ['b',2,2.2], ['c',3,3.3]]\n",
        "columns = ['name', 'age', 'score']\n",
        "df = pd.DataFrame(data=data, columns=columns)\n",
        "print(df)\n",
        "df.to_excel('df.xlsx', sheet_name='df', index=False)  # sheet_name默认值为'Sheet1'\n",
        "df = pd.read_excel('df.xlsx', sheet_name='df')  # sheet_name为空，则默认取第一个sheet\n",
        "print('从excel中初始化DataFrame：\\n', df)"
      ]
    },
    {
      "cell_type": "code",
      "execution_count": null,
      "metadata": {
        "colab": {
          "base_uri": "https://localhost:8080/"
        },
        "id": "XQdjjc2215Gf",
        "outputId": "e39c4453-f987-467b-f583-966c31f96c35"
      },
      "outputs": [
        {
          "name": "stdout",
          "output_type": "stream",
          "text": [
            "  name  age  score\n",
            "0    a    1    1.1\n",
            "1    b    2    2.2\n",
            "2    c    3    3.3\n",
            "  name  age  score\n",
            "0    d    4    4.4\n",
            "1    e    5    5.5\n",
            "2    f    6    6.6\n",
            "从excel指定sheet中初始化DataFrame：\n",
            "   name  age  score\n",
            "0    a    1    1.1\n",
            "1    b    2    2.2\n",
            "2    c    3    3.3\n",
            "从excel指定sheet中初始化DataFrame：\n",
            "   name  age  score\n",
            "0    d    4    4.4\n",
            "1    e    5    5.5\n",
            "2    f    6    6.6\n",
            "遍历excel中的所有sheet：\n",
            "  name  age  score\n",
            "0    a    1    1.1\n",
            "1    b    2    2.2\n",
            "2    c    3    3.3\n",
            "  name  age  score\n",
            "0    d    4    4.4\n",
            "1    e    5    5.5\n",
            "2    f    6    6.6\n"
          ]
        }
      ],
      "source": [
        "# 分sheet用法\n",
        "columns = ['name', 'age', 'score']\n",
        "data1 = [['a',1,1.1], ['b',2,2.2], ['c',3,3.3]]\n",
        "df1 = pd.DataFrame(data=data1, columns=columns)\n",
        "print(df1)\n",
        "data2 = [['d',4,4.4], ['e',5,5.5], ['f',6,6.6]]\n",
        "df2 = pd.DataFrame(data=data2, columns=columns)\n",
        "print(df2)\n",
        "\n",
        "with pd.ExcelWriter(\"df.xlsx\") as writer:\n",
        "    df1.to_excel(writer, sheet_name=\"df1\", index=False)\n",
        "    df2.to_excel(writer, sheet_name=\"df2\", index=False)\n",
        "# 读取指定sheet的方式\n",
        "df = pd.read_excel('df.xlsx', sheet_name='df1')\n",
        "print('从excel指定sheet中初始化DataFrame：\\n', df)\n",
        "df = pd.read_excel('df.xlsx', sheet_name='df2')\n",
        "print('从excel指定sheet中初始化DataFrame：\\n', df)\n",
        "# 遍历所有sheet的方式\n",
        "xlsx = pd.ExcelFile('df.xlsx')\n",
        "print('遍历excel中的所有sheet：')\n",
        "for name in xlsx.sheet_names:\n",
        "  print(pd.read_excel(xlsx, name))"
      ]
    },
    {
      "cell_type": "markdown",
      "metadata": {
        "id": "RlCh8JU-p7sj"
      },
      "source": [
        "## 从数据库中导入数据"
      ]
    },
    {
      "cell_type": "code",
      "execution_count": null,
      "metadata": {
        "id": "8evEHbY01jJ5"
      },
      "outputs": [],
      "source": [
        "import sqlite3\n",
        "conn = sqlite3.connect('test.db')\n",
        "c = conn.cursor()\n",
        "c.execute('DROP TABLE IF EXISTS df_table;')\n",
        "c.execute('''\n",
        "  CREATE TABLE IF NOT EXISTS df_table (\n",
        "    id INTEGER PRIMARY KEY AUTOINCREMENT,\n",
        "    name CHAR(32) NOT NULL,\n",
        "    value INTEGER NOT NULL,\n",
        "    message TEXT\n",
        "  );\n",
        "''')\n",
        "c.execute('CREATE INDEX df_index ON df_table (name ASC);')\n",
        "for i in range(10):\n",
        "  c.execute('INSERT INTO df_table (name, value) VALUES (\"n%d\", %d);' % (i, i))\n",
        "conn.commit()\n",
        "conn.close()"
      ]
    },
    {
      "cell_type": "code",
      "source": [
        "conn = sqlite3.connect('test.db')\n",
        "c = conn.cursor()\n",
        "res = c.execute('select * from df_table;')\n",
        "conn.commit()\n",
        "df = pd.DataFrame(res, columns=list(map(lambda x: x[0], res.description)))\n",
        "print('使用corser返回结果初始化DataFrame：\\n', df)\n",
        "\n",
        "df = pd.read_sql('select * from df_table;', conn)\n",
        "print('使用read_sql直接初始化DataFrame：\\n', df)\n",
        "conn.close()"
      ],
      "metadata": {
        "colab": {
          "base_uri": "https://localhost:8080/"
        },
        "id": "sD_lBErf_I76",
        "outputId": "38185243-b037-4c83-93b4-85e0563b24ee"
      },
      "execution_count": null,
      "outputs": [
        {
          "output_type": "stream",
          "name": "stdout",
          "text": [
            "使用corser返回结果初始化DataFrame：\n",
            "    id name  value message\n",
            "0   1   n0      0    None\n",
            "1   2   n1      1    None\n",
            "2   3   n2      2    None\n",
            "3   4   n3      3    None\n",
            "4   5   n4      4    None\n",
            "5   6   n5      5    None\n",
            "6   7   n6      6    None\n",
            "7   8   n7      7    None\n",
            "8   9   n8      8    None\n",
            "9  10   n9      9    None\n",
            "使用read_sql直接初始化DataFrame：\n",
            "    id name  value message\n",
            "0   1   n0      0    None\n",
            "1   2   n1      1    None\n",
            "2   3   n2      2    None\n",
            "3   4   n3      3    None\n",
            "4   5   n4      4    None\n",
            "5   6   n5      5    None\n",
            "6   7   n6      6    None\n",
            "7   8   n7      7    None\n",
            "8   9   n8      8    None\n",
            "9  10   n9      9    None\n"
          ]
        }
      ]
    },
    {
      "cell_type": "markdown",
      "source": [
        "## 从网页中导入数据"
      ],
      "metadata": {
        "id": "dy-OHdUnH6S1"
      }
    },
    {
      "cell_type": "code",
      "source": [
        "# read_html只能读取table标签\n",
        "baike_uri = 'https://baike.baidu.com/item/%E5%8F%B2%E8%92%82%E6%96%87%C2%B7%E6%96%AF%E7%9A%AE%E5%B0%94%E4%BC%AF%E6%A0%BC/26768'\n",
        "wiki_uri = 'https://en.wikipedia.org/wiki/Steven_Spielberg'\n",
        "uri = baike_uri\n",
        "df = pd.read_html(uri)[0] # [0]表示读取页面内的第一个table\n",
        "print(df.columns)"
      ],
      "metadata": {
        "colab": {
          "base_uri": "https://localhost:8080/"
        },
        "id": "dcaXBLKPH5hd",
        "outputId": "795d39fd-95dc-42f4-d445-45741bc89169"
      },
      "execution_count": null,
      "outputs": [
        {
          "output_type": "stream",
          "name": "stdout",
          "text": [
            "Index(['上映时间', '名称', '主演'], dtype='object')\n"
          ]
        }
      ]
    },
    {
      "cell_type": "markdown",
      "metadata": {
        "id": "OsTzOYR6p-Sc"
      },
      "source": [
        "## 时序数据处理"
      ]
    },
    {
      "cell_type": "code",
      "source": [
        "# 平滑曲线（moving average）\n",
        "s = pd.Series(np.random.randint(0, 1000000, 100))\n",
        "plt.plot(s.index, s.values)\n",
        "r = s.rolling(7, center=True).mean()\n",
        "plt.plot(r.index, r.values)"
      ],
      "metadata": {
        "colab": {
          "base_uri": "https://localhost:8080/",
          "height": 463
        },
        "id": "5GIy16TCBHwa",
        "outputId": "39f4bdc8-ac34-43d7-fc89-2490650d1b7a"
      },
      "execution_count": null,
      "outputs": [
        {
          "output_type": "execute_result",
          "data": {
            "text/plain": [
              "[<matplotlib.lines.Line2D at 0x79413364d120>]"
            ]
          },
          "metadata": {},
          "execution_count": 52
        },
        {
          "output_type": "display_data",
          "data": {
            "text/plain": [
              "<Figure size 640x480 with 1 Axes>"
            ],
            "image/png": "[encoded data removed]"
          },
          "metadata": {}
        }
      ]
    }
  ],
  "metadata": {
    "colab": {
      "toc_visible": true,
      "provenance": [],
      "authorship_tag": "ABX9TyOsTpnPwBzsy67UiCNOmlxg",
      "include_colab_link": true
    },
    "kernelspec": {
      "display_name": "Python 3",
      "name": "python3"
    },
    "language_info": {
      "name": "python"
    }
  },
  "nbformat": 4,
  "nbformat_minor": 0
}